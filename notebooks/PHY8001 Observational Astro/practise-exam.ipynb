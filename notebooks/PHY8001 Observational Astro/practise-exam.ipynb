{
 "cells": [
  {
   "cell_type": "code",
   "execution_count": 1,
   "id": "85ba982d-9a5c-472f-8056-bd36246e1c08",
   "metadata": {},
   "outputs": [],
   "source": [
    "import sys\n",
    "import math\n",
    "from datetime import datetime \n",
    "if \"../\" not in sys.path:\n",
    "    sys.path.append(\"../\")\n",
    "import astro_util"
   ]
  },
  {
   "cell_type": "markdown",
   "id": "756db99f-a886-4cf4-b8e7-d66c00241388",
   "metadata": {},
   "source": [
    "# Q1 A"
   ]
  },
  {
   "cell_type": "code",
   "execution_count": 2,
   "id": "56f59891-39ee-4c85-b4b9-57610aeec6dc",
   "metadata": {},
   "outputs": [
    {
     "data": {
      "text/plain": [
       "137328564.90120485"
      ]
     },
     "execution_count": 2,
     "metadata": {},
     "output_type": "execute_result"
    }
   ],
   "source": [
    "seconds = math.sqrt((4 * math.pi**2 * (2.6657 * 1.495978707E+11)**3) / (6.67408E-11 * 1.9891E+30) )\n",
    "seconds"
   ]
  },
  {
   "cell_type": "code",
   "execution_count": 3,
   "id": "68d0643b-eb0d-4961-be2a-26f3517faea2",
   "metadata": {},
   "outputs": [
    {
     "data": {
      "text/plain": [
       "1589.4509826528338"
      ]
     },
     "execution_count": 3,
     "metadata": {},
     "output_type": "execute_result"
    }
   ],
   "source": [
    "days = seconds / 60 / 60 / 24\n",
    "days"
   ]
  },
  {
   "cell_type": "markdown",
   "id": "38b4aa2d-3aa6-4e40-867e-db20207a2e60",
   "metadata": {},
   "source": [
    "# Q3 B"
   ]
  },
  {
   "cell_type": "code",
   "execution_count": 4,
   "id": "18be10fc-574b-43c7-a744-663121ae965c",
   "metadata": {},
   "outputs": [],
   "source": [
    "c = 299792458\n",
    "v_1 = 0.6\n",
    "v_2 = -0.6"
   ]
  },
  {
   "cell_type": "code",
   "execution_count": 5,
   "id": "e70eca67-909d-43f3-ace5-ee700cce0467",
   "metadata": {},
   "outputs": [
    {
     "data": {
      "text/plain": [
       "1.2"
      ]
     },
     "execution_count": 5,
     "metadata": {},
     "output_type": "execute_result"
    }
   ],
   "source": [
    "(v_1 - v_2) / ( 1 - ((v_1*v_2) / c**2) )"
   ]
  },
  {
   "cell_type": "code",
   "execution_count": 6,
   "id": "d99cb3f9-9059-4cfd-8e58-5b6f3750e01f",
   "metadata": {},
   "outputs": [
    {
     "data": {
      "text/plain": [
       "(217.42895833333333, -62.67947222222222, 0.021333333333333336)"
      ]
     },
     "execution_count": 6,
     "metadata": {},
     "output_type": "execute_result"
    }
   ],
   "source": [
    "t = 2000.0\n",
    "ra_h = 14\n",
    "ra_m = 29\n",
    "ra_s = 42.95\n",
    "\n",
    "dec_d = 62\n",
    "dec_m = 40\n",
    "dec_s = 46.1\n",
    "\n",
    "ra_1 = astro_util.hms2dec(ra_h, ra_m, ra_s)\n",
    "\n",
    "proper_motion = astro_util.dms2dec(0, 0, 3.84) * 20\n",
    "\n",
    "# account for negative DEC\n",
    "dec_1 = - astro_util.dms2dec(dec_d, dec_m, dec_s)\n",
    "\n",
    "ra_1, dec_1, proper_motion"
   ]
  },
  {
   "cell_type": "code",
   "execution_count": 7,
   "id": "cc4483f6-e25b-4c0e-b8d1-fb2dd94639d3",
   "metadata": {},
   "outputs": [
    {
     "data": {
      "text/plain": [
       "-0.045465377813651404"
      ]
     },
     "execution_count": 7,
     "metadata": {},
     "output_type": "execute_result"
    }
   ],
   "source": [
    "# DELTA RA\n",
    "ra_delta = proper_motion * (math.sin(math.radians(282)) / math.cos(math.radians(dec_1)) )\n",
    "ra_delta"
   ]
  },
  {
   "cell_type": "code",
   "execution_count": 8,
   "id": "04379a13-379c-4038-a30a-3188042f2b7d",
   "metadata": {},
   "outputs": [
    {
     "data": {
      "text/plain": [
       "(0, 0, -10.911690675276336)"
      ]
     },
     "execution_count": 8,
     "metadata": {},
     "output_type": "execute_result"
    }
   ],
   "source": [
    "h,m,s = astro_util.dec2hms(ra_delta)\n",
    "h,m,s"
   ]
  },
  {
   "cell_type": "code",
   "execution_count": 13,
   "id": "6f6a91f4-9e25-4c1c-a7e3-cae3ba64d614",
   "metadata": {},
   "outputs": [
    {
     "data": {
      "text/plain": [
       "(14, 29, 58.91761785480393)"
      ]
     },
     "execution_count": 13,
     "metadata": {},
     "output_type": "execute_result"
    }
   ],
   "source": [
    "ra_h + h, ra_m + m, ra_s + s"
   ]
  },
  {
   "cell_type": "code",
   "execution_count": 14,
   "id": "4e484b7b-6211-4430-a396-82936cf70360",
   "metadata": {},
   "outputs": [
    {
     "data": {
      "text/plain": [
       "0.004435449404112201"
      ]
     },
     "execution_count": 14,
     "metadata": {},
     "output_type": "execute_result"
    }
   ],
   "source": [
    "# DELTA DEC\n",
    "dec_delta = proper_motion * math.cos(math.radians(282))\n",
    "dec_delta"
   ]
  },
  {
   "cell_type": "code",
   "execution_count": 15,
   "id": "d9867409-c1f7-45d7-9974-b5c906741b8d",
   "metadata": {},
   "outputs": [
    {
     "data": {
      "text/plain": [
       "(0, 0, 15.967617854803924)"
      ]
     },
     "execution_count": 15,
     "metadata": {},
     "output_type": "execute_result"
    }
   ],
   "source": [
    "d,m,s = astro_util.dec2dms(dec_delta)\n",
    "d,m,s"
   ]
  },
  {
   "cell_type": "code",
   "execution_count": 16,
   "id": "056c9c7e-7ed7-4be8-b12b-f837bbff2c22",
   "metadata": {},
   "outputs": [
    {
     "data": {
      "text/plain": [
       "(62, 40, 62.06761785480393)"
      ]
     },
     "execution_count": 16,
     "metadata": {},
     "output_type": "execute_result"
    }
   ],
   "source": [
    "dec_d + d, dec_m + m, dec_s + s"
   ]
  },
  {
   "cell_type": "code",
   "execution_count": null,
   "id": "fb5d6a7e-8ee6-4e75-8981-32a9f5abbe5e",
   "metadata": {},
   "outputs": [],
   "source": []
  },
  {
   "cell_type": "code",
   "execution_count": null,
   "id": "97b5d4c6-c772-4381-b660-006b2d35b862",
   "metadata": {},
   "outputs": [],
   "source": []
  }
 ],
 "metadata": {
  "kernelspec": {
   "display_name": "Python 3 (ipykernel)",
   "language": "python",
   "name": "python3"
  },
  "language_info": {
   "codemirror_mode": {
    "name": "ipython",
    "version": 3
   },
   "file_extension": ".py",
   "mimetype": "text/x-python",
   "name": "python",
   "nbconvert_exporter": "python",
   "pygments_lexer": "ipython3",
   "version": "3.7.11"
  }
 },
 "nbformat": 4,
 "nbformat_minor": 5
}
