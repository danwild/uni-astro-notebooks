{
 "cells": [
  {
   "cell_type": "markdown",
   "id": "a6c5b37e-5d0b-4910-b840-2b1ef6166ae8",
   "metadata": {},
   "source": [
    "# Astropy coords\n",
    "\n",
    "- https://docs.astropy.org/en/stable/coordinates/index.html\n",
    "- https://docs.astropy.org/en/stable/coordinates/transforming.html\n",
    "\n",
    "Ask a question: https://community.openastronomy.org/c/astropy/8"
   ]
  },
  {
   "cell_type": "code",
   "execution_count": 131,
   "id": "64bba9da-de52-4e1d-971d-1f30745032af",
   "metadata": {},
   "outputs": [],
   "source": [
    "from astropy import units as u\n",
    "from astropy.time import Time\n",
    "from astropy.coordinates import SkyCoord, FK5, Angle"
   ]
  },
  {
   "cell_type": "markdown",
   "id": "0b252d3e-423d-46a3-a4d2-fc7024f6cca9",
   "metadata": {},
   "source": [
    "## Transform coords to another Equinox / Epoch"
   ]
  },
  {
   "cell_type": "code",
   "execution_count": 126,
   "id": "3e89aa60-7a68-40fc-8947-f0685714ada2",
   "metadata": {},
   "outputs": [
    {
     "data": {
      "text/plain": [
       "(<Angle 297.69583333 deg>, <Angle 8.86833333 deg>)"
      ]
     },
     "execution_count": 126,
     "metadata": {},
     "output_type": "execute_result"
    }
   ],
   "source": [
    "# my own decial degree conversions, \n",
    "# (which are known to be correct)\n",
    "# ra = 297.6958333333333\n",
    "# dec = 8.868333333333334\n",
    "\n",
    "ra = Angle('19d50m47s') * 15 # relation of time to RA measure\n",
    "dec = Angle('08:52:06.0 degrees')\n",
    "\n",
    "ra, dec"
   ]
  },
  {
   "cell_type": "code",
   "execution_count": 132,
   "id": "f39ac391-9f84-48da-9312-c448cf2fb18a",
   "metadata": {},
   "outputs": [
    {
     "data": {
      "text/plain": [
       "<FK5 Coordinate (equinox=J2000.000): (ra, dec) in deg\n",
       "    (297.69583333, 8.86833333)>"
      ]
     },
     "execution_count": 132,
     "metadata": {},
     "output_type": "execute_result"
    }
   ],
   "source": [
    "equinox_1 = Time('J2000.0')\n",
    "equinox_2 = Time('J2005.575')\n",
    "\n",
    "coord_1 = FK5(\n",
    "    ra=ra.deg*u.degree, \n",
    "    dec=dec.deg*u.degree, \n",
    "    equinox=equinox_1\n",
    ")\n",
    "coord_1"
   ]
  },
  {
   "cell_type": "code",
   "execution_count": 136,
   "id": "7197cfce-9069-4b0f-a0b7-ef3092563f6c",
   "metadata": {},
   "outputs": [
    {
     "data": {
      "text/plain": [
       "<FK5 Coordinate (equinox=J2005.575): (ra, dec) in deg\n",
       "    (297.76296895, 8.88277498)>"
      ]
     },
     "execution_count": 136,
     "metadata": {},
     "output_type": "execute_result"
    }
   ],
   "source": [
    "coord_2 = coord_1.transform_to(FK5(equinox=equinox_2))  \n",
    "coord_2"
   ]
  },
  {
   "cell_type": "code",
   "execution_count": 137,
   "id": "1d602bb8-6969-495b-b959-220e07ba747e",
   "metadata": {},
   "outputs": [
    {
     "data": {
      "text/latex": [
       "$19^\\circ51{}^\\prime03.1125473{}^{\\prime\\prime}$"
      ],
      "text/plain": [
       "<Angle 19.8508646 deg>"
      ]
     },
     "execution_count": 137,
     "metadata": {},
     "output_type": "execute_result"
    }
   ],
   "source": [
    "coord_2.ra / 15 # relation of time to RA measure"
   ]
  },
  {
   "cell_type": "code",
   "execution_count": 138,
   "id": "d51278b1-127a-47d3-9e31-6f1119a2c4d4",
   "metadata": {},
   "outputs": [
    {
     "data": {
      "text/latex": [
       "$8^\\circ52{}^\\prime57.98992584{}^{\\prime\\prime}$"
      ],
      "text/plain": [
       "<Latitude 8.88277498 deg>"
      ]
     },
     "execution_count": 138,
     "metadata": {},
     "output_type": "execute_result"
    }
   ],
   "source": [
    "coord_2.dec"
   ]
  },
  {
   "cell_type": "code",
   "execution_count": null,
   "id": "bb5f741d-044e-4e3c-a22b-4d184fa5e651",
   "metadata": {},
   "outputs": [],
   "source": []
  },
  {
   "cell_type": "code",
   "execution_count": 124,
   "id": "53631fe5-9a70-4c85-875d-d9259e9c4a0a",
   "metadata": {},
   "outputs": [
    {
     "data": {
      "text/plain": [
       "0.08899999999999864"
      ]
     },
     "execution_count": 124,
     "metadata": {},
     "output_type": "execute_result"
    }
   ],
   "source": [
    "57.989 - 57.9"
   ]
  },
  {
   "cell_type": "code",
   "execution_count": null,
   "id": "ff96a531-d1ef-46d7-b8f5-1a612a1136b7",
   "metadata": {},
   "outputs": [],
   "source": []
  }
 ],
 "metadata": {
  "kernelspec": {
   "display_name": "Python 3 (ipykernel)",
   "language": "python",
   "name": "python3"
  },
  "language_info": {
   "codemirror_mode": {
    "name": "ipython",
    "version": 3
   },
   "file_extension": ".py",
   "mimetype": "text/x-python",
   "name": "python",
   "nbconvert_exporter": "python",
   "pygments_lexer": "ipython3",
   "version": "3.7.11"
  }
 },
 "nbformat": 4,
 "nbformat_minor": 5
}
