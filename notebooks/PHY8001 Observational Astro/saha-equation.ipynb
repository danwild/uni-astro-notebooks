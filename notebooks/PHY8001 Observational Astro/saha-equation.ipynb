{
 "cells": [
  {
   "cell_type": "markdown",
   "id": "19977a65-e446-4228-b67c-b045b6a097c4",
   "metadata": {},
   "source": [
    "# Saha Equation (with number density of free electrons $n_e$)\n",
    "\n",
    "Chapter 8, Caroll and Ostlie.\n",
    "\n",
    "$$\n",
    "\\frac{N_{i+1}}{N_i} = \\frac{2Z_{i+1}}{n_e Z_i} (\\frac{2\\pi m_e kT}{h^2})^{3/2} e^{-\\chi_i/kT}\n",
    "$$\n",
    "\n",
    "# Saha Equation (with electron pressure $P_e$)\n",
    "\n",
    "$$\n",
    "\\frac{N_{i+1}}{N_i} = \\frac{2kT Z_{i+1}}{P_e Z_i} (\\frac{2\\pi m_e kT}{h^2})^{3/2} e^{-\\chi_i/kT}\n",
    "$$\n",
    "\n",
    "## Partition function (Z)\n",
    "\n",
    "$$\n",
    "Z = \\sum^{\\infty}_{j=1} g_j e^{-(E_j-E_1)/kT}\n",
    "$$\n",
    "\n",
    "$k$ = Boltzman constant\n",
    "\n",
    "$E_a,E_b$ are energies (typically eV)\n",
    "\n",
    "$g_a,g_b$ are number of degenerate states (i.e. how many different quantum states are there which have the same energy) , e.g.  for hydrogen:\n",
    "\n",
    "> $g_b = 2n^2$\n"
   ]
  },
  {
   "cell_type": "code",
   "execution_count": 1,
   "id": "c6d88b1a-b084-4e81-8526-7e1f1e0a373c",
   "metadata": {},
   "outputs": [],
   "source": [
    "import math"
   ]
  },
  {
   "cell_type": "code",
   "execution_count": 51,
   "id": "bd116a1f-b028-4d04-9800-51a615ac8d16",
   "metadata": {},
   "outputs": [],
   "source": [
    "def saha_equation_pressure(Z_1, Z_2, k, T, P_e, m_e, chi_i, h):\n",
    "    return \\\n",
    "    ((2 * k * T * Z_2) / (P_e * Z_1)) * \\\n",
    "    ((2 * math.pi * m_e * k * T) / h**2)**(3/2) * \\\n",
    "    math.e ** (-chi_i / (k*T))"
   ]
  },
  {
   "cell_type": "code",
   "execution_count": 46,
   "id": "82115ac5-3328-4709-b857-b22ba18ce541",
   "metadata": {},
   "outputs": [],
   "source": [
    "def partition_function_j(j, E_j, E_1, k, T):\n",
    "    \"\"\"\n",
    "    Calculate the value for one partition (j), of the partition function Z.\n",
    "    Eq (8.7), Caroll and Ostlie p214.\n",
    "    \"\"\"\n",
    "    return 2*(j**2) * math.e ** (-(E_j - E_1) / (k*T)) "
   ]
  },
  {
   "cell_type": "markdown",
   "id": "7bb9f3b1-db4d-4144-aa50-43806763b54d",
   "metadata": {},
   "source": [
    "# Problem 8.7"
   ]
  },
  {
   "cell_type": "code",
   "execution_count": 47,
   "id": "e15c82aa-82f3-4084-8eaa-ef2f281c3fc1",
   "metadata": {},
   "outputs": [
    {
     "name": "stdout",
     "output_type": "stream",
     "text": [
      "Z_1: 2.0\n"
     ]
    }
   ],
   "source": [
    "j = 1\n",
    "E_j = -13.6\n",
    "E_1 = -13.6\n",
    "k = 8.6173E-16\n",
    "T = 10000\n",
    "\n",
    "# j = 1\n",
    "Z_1 = partition_function_j(j, E_j, E_1, k, T)\n",
    "\n",
    "# j = 2\n",
    "# E_j = -3.4\n",
    "# Z_2 = partition_function(j, E_j, E_1, k, T)\n",
    "\n",
    "print('Z_1: %s' % Z_1)\n",
    "# print('Z_2: %s' % Z_2)"
   ]
  },
  {
   "cell_type": "code",
   "execution_count": 43,
   "id": "a0bc9221-13d3-44b1-a686-04fa8b0b346a",
   "metadata": {},
   "outputs": [
    {
     "data": {
      "text/plain": [
       "-0.0"
      ]
     },
     "execution_count": 43,
     "metadata": {},
     "output_type": "execute_result"
    }
   ],
   "source": [
    "-(E_j - E_1)"
   ]
  },
  {
   "cell_type": "code",
   "execution_count": 42,
   "id": "447ca949-73cc-4a73-8d88-2bba2e343f55",
   "metadata": {},
   "outputs": [
    {
     "data": {
      "text/plain": [
       "-0.0"
      ]
     },
     "execution_count": 42,
     "metadata": {},
     "output_type": "execute_result"
    }
   ],
   "source": [
    "(-(E_j - E_1) / (k*T)) "
   ]
  },
  {
   "cell_type": "code",
   "execution_count": 41,
   "id": "940c8937-3508-4c55-84b1-6bdf97e8bd06",
   "metadata": {},
   "outputs": [
    {
     "data": {
      "text/plain": [
       "1.0"
      ]
     },
     "execution_count": 41,
     "metadata": {},
     "output_type": "execute_result"
    }
   ],
   "source": [
    " math.e ** (-(E_j - E_1) / (k*T)) "
   ]
  },
  {
   "cell_type": "markdown",
   "id": "b3ce566c-f270-485a-b359-3fea60fc1872",
   "metadata": {},
   "source": [
    "# Problem 8.10\n",
    "\n",
    "In this problem, you will follow a procedure similar to that of Example 8.1.4 for the case of a\n",
    "stellar atmosphere composed of pure helium to find the temperature at the middle of the He I\n",
    "partial ionization zone, where half of the He I atoms have been ionized. (Such an atmosphere would be found on a white dwarf of spectral type DB; see Section 16.1) \n",
    "\n",
    "The ionization energies of neutral helium and singly ionized helium are $$\\chi_I = 24.6 eV$$ and $$\\chi_{II} = 54.4 eV$$, respectively.\n",
    "\n",
    "The partition functions are $$Z_I = 1, Z_{II} = 2, Z_{III} = 1$$ (as expected for any completely ionized atom). Use $$P_e = 20 N m^{-2}$$ for the electron pressure.\n",
    "\n",
    "(a) Use Eq. (8.9) to find $$N_{II}/N_I$$ and $$N_{III}/N_{II}$$ for temperatures of 5000 K, 15,000 K, and 25,000K\n",
    "How do they compare?"
   ]
  },
  {
   "cell_type": "code",
   "execution_count": 52,
   "id": "4b30f12a-9b89-4b9b-b756-e230dffed611",
   "metadata": {},
   "outputs": [
    {
     "data": {
      "text/plain": [
       "1.8828399241602656e-18"
      ]
     },
     "execution_count": 52,
     "metadata": {},
     "output_type": "execute_result"
    }
   ],
   "source": [
    "k = 1.3806E-23\n",
    "T = 5000\n",
    "Z_1 = 1\n",
    "Z_2 = 2\n",
    "Z_3 = 1\n",
    "P_e = 20\n",
    "\n",
    "chi_1_ev = 24.6\n",
    "chi_1 = 3.94135e-18\n",
    "\n",
    "chi_2_ev = 54.4\n",
    "chi_2 = 8.71584e-18\n",
    "\n",
    "m_e = 9.1093837E-31 # electron mass kg\n",
    "h = 6.626E-34  # plank constant J\n",
    "\n",
    "saha_equation_pressure(Z_1, Z_2, k, T, P_e, m_e, chi_1, h)"
   ]
  },
  {
   "cell_type": "code",
   "execution_count": null,
   "id": "865aa4dd-ab0a-4b1b-8feb-4fcf3d9472e1",
   "metadata": {},
   "outputs": [],
   "source": []
  }
 ],
 "metadata": {
  "kernelspec": {
   "display_name": "Python 3 (ipykernel)",
   "language": "python",
   "name": "python3"
  },
  "language_info": {
   "codemirror_mode": {
    "name": "ipython",
    "version": 3
   },
   "file_extension": ".py",
   "mimetype": "text/x-python",
   "name": "python",
   "nbconvert_exporter": "python",
   "pygments_lexer": "ipython3",
   "version": "3.7.11"
  }
 },
 "nbformat": 4,
 "nbformat_minor": 5
}
