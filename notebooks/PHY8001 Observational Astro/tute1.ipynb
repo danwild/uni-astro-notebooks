{
 "cells": [
  {
   "cell_type": "code",
   "execution_count": 1,
   "id": "9201880e-131f-4afc-a67e-6481122d210f",
   "metadata": {},
   "outputs": [],
   "source": [
    "import sys\n",
    "import math\n",
    "from datetime import datetime \n",
    "if \"../\" not in sys.path:\n",
    "    sys.path.append(\"../\")\n",
    "import astro_util"
   ]
  },
  {
   "cell_type": "markdown",
   "id": "d4f71745-bf1b-481e-8897-ea2dc10cc113",
   "metadata": {
    "tags": []
   },
   "source": [
    "# Tute 1\n",
    "\n",
    "## Q1.9 a) \n",
    "Using the information in Problem 1.8, precess the coordinates of Proxima Centauri to epoch J2010.0.\n",
    "\n",
    "Proxima Centauri:\n",
    "\n",
    "Epoch J2000 coords (alpha, delta) = (14h 29m 42.95s, -62º 40’46.1”)\n",
    "\n",
    "`RA|alpha` = 14h 29m 42.95s (H:m:s)\n",
    "\n",
    "`DEC|delta` = -62º 40’46.1” (D:m:s)\n",
    "\n",
    "eqs `1.2, 1.3` Caroll and Ostlie, p13:\n",
    "\n",
    "$$\\Delta \\alpha = M + N sin(\\alpha) * tan(\\delta)$$\n",
    "\n",
    "$$\\Delta \\delta =  N cos (\\alpha)$$\n",
    "\n",
    "Where:\n",
    "\n",
    "$$M = 1.2812323T + 0.0003879T^2 + 0.0000101T^3$$\n",
    "\n",
    "$$N = 0.5567530T - 0.0001185T^2 - 0.0000116T^3$$"
   ]
  },
  {
   "cell_type": "code",
   "execution_count": 47,
   "id": "658e0c8c-9f2c-4c28-bbce-e5f4889b440c",
   "metadata": {},
   "outputs": [],
   "source": [
    "import math\n",
    "if \"../\" not in sys.path:\n",
    "    sys.path.append(\"../\")\n",
    "import astro_util"
   ]
  },
  {
   "cell_type": "markdown",
   "id": "b234f98a-8deb-47cb-88f1-41b095d37523",
   "metadata": {},
   "source": [
    "### Convert `ra` and `dec` to decimal degrees"
   ]
  },
  {
   "cell_type": "code",
   "execution_count": 74,
   "id": "718cf61f-36f1-42e0-8ab8-614dff6114f4",
   "metadata": {},
   "outputs": [
    {
     "data": {
      "text/plain": [
       "(217.42895833333333, -62.67947222222222)"
      ]
     },
     "execution_count": 74,
     "metadata": {},
     "output_type": "execute_result"
    }
   ],
   "source": [
    "# Textbook example 1.3.1, page 13.\n",
    "# t = 2005.575\n",
    "# ra_h = 19\n",
    "# ra_m = 50\n",
    "# ra_s = 47\n",
    "# dec_d = 8\n",
    "# dec_m = 52\n",
    "# dec_s = 6\n",
    "\n",
    "t = 2010.0\n",
    "ra_h = 14\n",
    "ra_m = 29\n",
    "ra_s = 42.95\n",
    "\n",
    "dec_d = 62\n",
    "dec_m = 40\n",
    "dec_s = 46.1\n",
    "\n",
    "ra_1 = astro_util.hms2dec(ra_h, ra_m, ra_s)\n",
    "\n",
    "# account for negative DEC\n",
    "dec_1 = - astro_util.dms2dec(dec_d, dec_m, dec_s)\n",
    "\n",
    "ra_1, dec_1"
   ]
  },
  {
   "cell_type": "markdown",
   "id": "269e266b-2bd3-4f89-8cfa-596f6b27622e",
   "metadata": {},
   "source": [
    "### Time, M, N"
   ]
  },
  {
   "cell_type": "code",
   "execution_count": 75,
   "id": "8bca7dad-afb9-49cc-8073-fed6fdb9a591",
   "metadata": {},
   "outputs": [],
   "source": [
    "T = (t - 2000.0) / 100"
   ]
  },
  {
   "cell_type": "code",
   "execution_count": 76,
   "id": "59003208-d802-4236-be27-941e375f63c9",
   "metadata": {},
   "outputs": [
    {
     "data": {
      "text/plain": [
       "0.12812711910000002"
      ]
     },
     "execution_count": 76,
     "metadata": {},
     "output_type": "execute_result"
    }
   ],
   "source": [
    "M = (1.2812323 * T) + (0.0003879 * T**2) + (0.0000101 * T**3)\n",
    "M"
   ]
  },
  {
   "cell_type": "code",
   "execution_count": 77,
   "id": "fc74a87e-6b52-4602-bf3f-3d369fdabd9f",
   "metadata": {},
   "outputs": [
    {
     "data": {
      "text/plain": [
       "0.05567410340000001"
      ]
     },
     "execution_count": 77,
     "metadata": {},
     "output_type": "execute_result"
    }
   ],
   "source": [
    "N = (0.5567530 * T) - (0.0001185 * T**2) - (0.0000116 * T**3)\n",
    "N"
   ]
  },
  {
   "cell_type": "markdown",
   "id": "bf04d758-de30-49e7-80ce-66c67865a1e0",
   "metadata": {},
   "source": [
    "### Compute the differences"
   ]
  },
  {
   "cell_type": "code",
   "execution_count": 78,
   "id": "6aacb938-549e-4283-849c-69e7523579f6",
   "metadata": {},
   "outputs": [
    {
     "data": {
      "text/plain": [
       "0.19362839585229755"
      ]
     },
     "execution_count": 78,
     "metadata": {},
     "output_type": "execute_result"
    }
   ],
   "source": [
    "Delta_ra = M + N * math.sin(math.radians(ra_1)) * math.tan(math.radians(dec_1))\n",
    "Delta_ra"
   ]
  },
  {
   "cell_type": "code",
   "execution_count": 79,
   "id": "5bf0b755-a631-436b-a6b0-73be341e53e1",
   "metadata": {},
   "outputs": [
    {
     "data": {
      "text/plain": [
       "-0.04421122530610801"
      ]
     },
     "execution_count": 79,
     "metadata": {},
     "output_type": "execute_result"
    }
   ],
   "source": [
    "Delta_dec = N * math.cos(math.radians(ra_1))\n",
    "Delta_dec"
   ]
  },
  {
   "cell_type": "markdown",
   "id": "7879e0f4-f235-4eb7-9ebd-afdcf035af42",
   "metadata": {},
   "source": [
    "### Combine for final `ra` and `dec`"
   ]
  },
  {
   "cell_type": "code",
   "execution_count": 10,
   "id": "49eb092e-1b04-4df2-8a51-e95bfff535db",
   "metadata": {},
   "outputs": [
    {
     "data": {
      "text/plain": [
       "297.77155131574193"
      ]
     },
     "execution_count": 10,
     "metadata": {},
     "output_type": "execute_result"
    }
   ],
   "source": [
    "ra_2 = ra_1 + Delta_ra\n",
    "ra_2"
   ]
  },
  {
   "cell_type": "code",
   "execution_count": 11,
   "id": "097a60da-23af-4bd8-8e9a-cac0aab3e655",
   "metadata": {},
   "outputs": [
    {
     "data": {
      "text/plain": [
       "(19, 51, 5.172315778065126)"
      ]
     },
     "execution_count": 11,
     "metadata": {},
     "output_type": "execute_result"
    }
   ],
   "source": [
    "astro_util.dec2hms(ra_2) # 14h 30m 29.39s"
   ]
  },
  {
   "cell_type": "code",
   "execution_count": 12,
   "id": "64a32207-dc42-49fc-aad1-70df9aefa575",
   "metadata": {},
   "outputs": [
    {
     "data": {
      "text/plain": [
       "-8.853907281168308"
      ]
     },
     "execution_count": 12,
     "metadata": {},
     "output_type": "execute_result"
    }
   ],
   "source": [
    "dec_2 = dec_1 + Delta_dec\n",
    "dec_2"
   ]
  },
  {
   "cell_type": "code",
   "execution_count": 13,
   "id": "2383d726-e4d3-4cc3-9907-45aa13e4956a",
   "metadata": {},
   "outputs": [
    {
     "data": {
      "text/plain": [
       "(-8, -51, -14.066212205907869)"
      ]
     },
     "execution_count": 13,
     "metadata": {},
     "output_type": "execute_result"
    }
   ],
   "source": [
    "astro_util.dec2dms(dec_2) # -62º 43' 25.3\""
   ]
  },
  {
   "cell_type": "markdown",
   "id": "17bc7b42-2bf1-4656-87b4-4ca775263a44",
   "metadata": {},
   "source": [
    "## Q1.9 b) \n",
    "The **proper motion** of Proxima Centauri is 3.84\" yr^-1 with the **position angle** 282°. Calculate\n",
    "the change in RA and DEC due to proper motion between 2000.0 and 2010.0.\n",
    "\n",
    "### Formulas\n",
    "\n",
    "`eq1.5` (Carroll and Ostlie, p17) relates stars **proper motion** ($\\mu$) to its **transverse/tangential velocity** ($v_{\\theta}$), where r = distance from the observer:\n",
    "\n",
    "$$\n",
    "\\mu = \\frac{d \\theta}{dt} = \\frac{v_{\\theta}}{r}\n",
    "$$\n",
    "\n",
    "Which we can simplify to:\n",
    "$$\n",
    "\\Delta \\theta = \\mu \\Delta t\n",
    "$$\n",
    "\n",
    "`eq1.6` (Carroll and Ostlie, p18) relates proper motion across the celestial sphere to change in `ra`:\n",
    "\n",
    "$$\n",
    "\\Delta \\alpha = \\Delta \\theta \\frac{sin(\\phi)}{cos(\\delta)}\n",
    "$$\n",
    "\n",
    "`eq1.7` (Carroll and Ostlie, p19) relates proper motion across the celestial sphere to change in `dec`:\n",
    "\n",
    "$$\n",
    "\\Delta \\delta = \\Delta \\theta cos(\\phi)\n",
    "$$"
   ]
  },
  {
   "cell_type": "code",
   "execution_count": 14,
   "id": "f869709b-fbe9-42ed-8da1-1b33a4782259",
   "metadata": {},
   "outputs": [
    {
     "data": {
      "text/plain": [
       "(217.42895833333333, -8.868333333333334)"
      ]
     },
     "execution_count": 14,
     "metadata": {},
     "output_type": "execute_result"
    }
   ],
   "source": [
    "# what we know..\n",
    "t_1 = 2000.0\n",
    "t_2 = 2010.0\n",
    "delta_t = t_2 - t_1\n",
    "\n",
    "position_angle = 282 # phi (degrees)\n",
    "proper_motion = 3.84 # mu  (seconds/yr^-1)\n",
    "\n",
    "delta_theta = proper_motion * delta_t\n",
    "\n",
    "ra_h = 14\n",
    "ra_m = 29\n",
    "ra_s = 42.95\n",
    "delta_h = 62\n",
    "delta_m = 40\n",
    "delta_s = 46.1\n",
    "ra_1 = hms2dec(ra_h, ra_m, ra_s)\n",
    "dec_1 = - dms2dec(dec_d, dec_m, dec_s)\n",
    "\n",
    "ra_1, dec_1"
   ]
  },
  {
   "cell_type": "code",
   "execution_count": null,
   "id": "f9cdf287-2f40-4c77-b6b2-2a1587f2d597",
   "metadata": {},
   "outputs": [],
   "source": [
    "# delta_angular_distance = 38.4 # delta theta\n",
    "delta_angular_distance = dms2dec(0, 0, delta_theta) # delta theta"
   ]
  },
  {
   "cell_type": "code",
   "execution_count": 16,
   "id": "e2085064-20e4-4974-a03a-7b90fe1d6d1f",
   "metadata": {},
   "outputs": [
    {
     "data": {
      "text/plain": [
       "-0.010559814654247811"
      ]
     },
     "execution_count": 16,
     "metadata": {},
     "output_type": "execute_result"
    }
   ],
   "source": [
    "delta_ra = delta_angular_distance * (math.sin(math.radians(position_angle)) / math.cos(math.radians(dec_1)))\n",
    "delta_ra"
   ]
  },
  {
   "cell_type": "code",
   "execution_count": 17,
   "id": "f9266aba-4bb4-4502-b6b3-fccdfd3c5d1b",
   "metadata": {},
   "outputs": [
    {
     "data": {
      "text/plain": [
       "(0, 0, -2.5343555170194745)"
      ]
     },
     "execution_count": 17,
     "metadata": {},
     "output_type": "execute_result"
    }
   ],
   "source": [
    "astro_util.dec2hms(delta_ra)"
   ]
  },
  {
   "cell_type": "code",
   "execution_count": 18,
   "id": "48682f0c-0421-467a-a8ee-b112e801e3ba",
   "metadata": {},
   "outputs": [
    {
     "data": {
      "text/plain": [
       "0.0022177247020561007"
      ]
     },
     "execution_count": 18,
     "metadata": {},
     "output_type": "execute_result"
    }
   ],
   "source": [
    "delta_dec = delta_angular_distance * math.cos(math.radians(position_angle))\n",
    "delta_dec # 0.002218◦"
   ]
  },
  {
   "cell_type": "code",
   "execution_count": 19,
   "id": "e08d1e04-f13e-4ff7-9445-185f24a8daa3",
   "metadata": {},
   "outputs": [
    {
     "data": {
      "text/plain": [
       "(0, 0, 7.983808927401962)"
      ]
     },
     "execution_count": 19,
     "metadata": {},
     "output_type": "execute_result"
    }
   ],
   "source": [
    "astro_util.dec2dms(delta_dec)"
   ]
  },
  {
   "cell_type": "markdown",
   "id": "871a394c-b4d9-4352-827e-f900146ea5de",
   "metadata": {
    "tags": []
   },
   "source": [
    "## Q1.9 c) \n",
    "Which effect makes the largest contribution to changes in the coordinates of Proxima Centauri: precession or proper motion?\n",
    "\n",
    "**Answer** - Looking at the values of A) and B), we can see that precession was the greatest change."
   ]
  },
  {
   "cell_type": "code",
   "execution_count": null,
   "id": "f3b6f860-8fbc-4fe4-8926-83386a8b6d3b",
   "metadata": {},
   "outputs": [],
   "source": []
  },
  {
   "cell_type": "code",
   "execution_count": null,
   "id": "ae9531a2-202a-4c88-a49c-1fc36bc1ccea",
   "metadata": {},
   "outputs": [],
   "source": []
  },
  {
   "cell_type": "code",
   "execution_count": null,
   "id": "65653582-c3e9-4707-9b72-f5291b37d806",
   "metadata": {},
   "outputs": [],
   "source": []
  },
  {
   "cell_type": "code",
   "execution_count": null,
   "id": "74447f90-b202-4758-9c63-a7aa2019d40c",
   "metadata": {},
   "outputs": [],
   "source": []
  },
  {
   "cell_type": "code",
   "execution_count": 20,
   "id": "e283c328-3eac-42a7-ab70-a9e85a72ff8d",
   "metadata": {},
   "outputs": [
    {
     "data": {
      "text/plain": [
       "2593.3176"
      ]
     },
     "execution_count": 20,
     "metadata": {},
     "output_type": "execute_result"
    }
   ],
   "source": [
    "7.1 * 365.256"
   ]
  },
  {
   "cell_type": "code",
   "execution_count": 21,
   "id": "e3073c65-bf85-4c0a-bed4-cb1207513054",
   "metadata": {},
   "outputs": [
    {
     "data": {
      "text/plain": [
       "59958491.6"
      ]
     },
     "execution_count": 21,
     "metadata": {},
     "output_type": "execute_result"
    }
   ],
   "source": [
    "299792458 * 0.2"
   ]
  },
  {
   "cell_type": "code",
   "execution_count": 22,
   "id": "d25c4fca-4ca1-461e-b8a9-c5278719edf0",
   "metadata": {},
   "outputs": [],
   "source": [
    "proper = (4.01755* 10**16) / (59958491.6)"
   ]
  },
  {
   "cell_type": "code",
   "execution_count": 23,
   "id": "b7fe7bcb-23c0-4063-8643-622468db8359",
   "metadata": {},
   "outputs": [
    {
     "data": {
      "text/plain": [
       "749144505.0799344"
      ]
     },
     "execution_count": 23,
     "metadata": {},
     "output_type": "execute_result"
    }
   ],
   "source": [
    "proper / math.sqrt(1-0.2)"
   ]
  },
  {
   "cell_type": "code",
   "execution_count": null,
   "id": "9fcddfdf-0306-49ad-aed1-fd4365860b4b",
   "metadata": {},
   "outputs": [],
   "source": []
  }
 ],
 "metadata": {
  "kernelspec": {
   "display_name": "Python 3 (ipykernel)",
   "language": "python",
   "name": "python3"
  },
  "language_info": {
   "codemirror_mode": {
    "name": "ipython",
    "version": 3
   },
   "file_extension": ".py",
   "mimetype": "text/x-python",
   "name": "python",
   "nbconvert_exporter": "python",
   "pygments_lexer": "ipython3",
   "version": "3.7.11"
  }
 },
 "nbformat": 4,
 "nbformat_minor": 5
}
