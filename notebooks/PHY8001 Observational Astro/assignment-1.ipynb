{
 "cells": [
  {
   "cell_type": "markdown",
   "id": "797de8ec-a668-48f6-8e1c-d3acf8e2445d",
   "metadata": {},
   "source": [
    "# Assignment 1"
   ]
  },
  {
   "cell_type": "code",
   "execution_count": 1,
   "id": "70b286e7-cead-4590-8cc2-97eb70d10168",
   "metadata": {},
   "outputs": [],
   "source": [
    "import sys\n",
    "import math\n",
    "from datetime import datetime \n",
    "if \"../\" not in sys.path:\n",
    "    sys.path.append(\"../\")\n",
    "import astro_util"
   ]
  },
  {
   "cell_type": "markdown",
   "id": "52238d25-5ca7-4ba9-95bd-aefb59300f24",
   "metadata": {
    "tags": []
   },
   "source": [
    "## Q3\n",
    "\n",
    "https://astronomy.stackexchange.com/questions/31987/calculating-the-range-of-visible-right-ascension-and-declination-from-specific-l?newreg=59e1b2728d2c4f7eace20e8ce83738cb\n",
    "\n",
    "The Gran Telescopio Canarias (GTC) is one of the largest optical telescopes in the world with a diameter of 10.4 m. \n",
    "\n",
    "The CTC is located at the Roque de los Muchachos Observatory on the island of La Palma, Spain at an altitude of 2,267 m. \n",
    "\n",
    "The observatory is located at a latitude of 28◦ 45′ 24′′ N and a longitude of 17◦ 53′ 31′′ W. \n",
    "\n",
    "The largest optical telescope in Australia is the Anglo-Australian Telescope (AAT) with a 3.9 m diameter. \n",
    "\n",
    "The AAT is located in NSW near Coonabarabran at a latitude of 31◦ 16′ 31′′ S and a longitude of 149◦ 04′ 01′′ E and an altitude of 1,100 m.\n",
    "\n",
    "_Assume you cannot start observing until 1 hour after sunset and only until 1 hour before sunrise. Determine the approximate range of RAs that will cross the meridian during this time. Only calculate an approximate range and do not try to do a detailed calculation._\n",
    "\n",
    "**a)** What would be the approximate range of values of right ascension that would be best for viewing on the GTC on the night of 20th of March 2022?\n",
    "\n",
    "\n",
    "- what time is obs start/end?\n",
    "  - https://www.timeanddate.com/sun/spain/las-palmas?month=3&year=2022\n",
    "  \n",
    "  \n",
    "\n",
    " #### Local sidereal time?? \n",
    " \n",
    " https://squarewidget.com/astronomical-calculations-sidereal-time/ \n",
    " https://astronomy.stackexchange.com/questions/24859/local-sidereal-time\n",
    "\n",
    " \n",
    " 𝐿𝑆𝑇=𝐺𝑀𝑆𝑇+𝐿\n",
    " \n",
    " \n",
    " \n",
    " ## Practice question + answer\n",
    " - http://star-www.st-and.ac.uk/~fv/webnotes/chapter6.htm\n",
    " - http://star-www.st-and.ac.uk/~fv/webnotes/answer6.htm\n",
    " "
   ]
  },
  {
   "cell_type": "code",
   "execution_count": 2,
   "id": "b76fe3c8-5cd1-4157-ab87-1b46e7e40f0c",
   "metadata": {},
   "outputs": [],
   "source": [
    "# what time is obs start/end?\n",
    "# https://www.timeanddate.com/sun/spain/las-palmas?month=3&year=2022\n",
    "# 7:05 am ↑ (90°)\t7:13 pm ↑ (271°)\n",
    "# date = '2022-03-20'\n",
    "# t_start = '07:05'\n",
    "# t_end = '19:13'\n",
    "\n",
    "# start = datetime.fromisoformat(date + 'T' + t_start)\n",
    "# end = datetime.fromisoformat(date + 'T' + t_end)\n",
    "# t_delta = end - start\n",
    "# t_delta_hours = t_delta.seconds / 60 / 60\n",
    "\n",
    "# 15 degrees per hour\n",
    "start_long = 90\n",
    "end_long = 271"
   ]
  },
  {
   "cell_type": "code",
   "execution_count": 3,
   "id": "ccdcefe9-055b-4845-9aea-0b1befc0ed3c",
   "metadata": {},
   "outputs": [
    {
     "name": "stdout",
     "output_type": "stream",
     "text": [
      "Start RA: (6, 0, 0.0), End: (18, 3, 59.99999999999915)\n"
     ]
    }
   ],
   "source": [
    "start_ra = astro_util.dec2hms(start_long)\n",
    "end_ra = astro_util.dec2hms(end_long)\n",
    "\n",
    "print('Start RA: %s, End: %s' % (start_ra, end_ra))"
   ]
  },
  {
   "cell_type": "code",
   "execution_count": null,
   "id": "c2c9d8ca-0969-458c-b387-f73f88d7e18e",
   "metadata": {},
   "outputs": [],
   "source": []
  },
  {
   "cell_type": "code",
   "execution_count": 4,
   "id": "485f1403-22ea-49d0-936b-e92e9989579f",
   "metadata": {},
   "outputs": [],
   "source": [
    "lat_h = 28\n",
    "lat_m = 45\n",
    "lat_s = 24\n",
    "\n",
    "lon_h = 17\n",
    "lon_m = 53\n",
    "lon_s = 31\n",
    "\n",
    "altitude = 2267\n",
    "\n",
    "# astro_util.hms2dec(lon_h, lon_m, lon_s)"
   ]
  },
  {
   "cell_type": "code",
   "execution_count": null,
   "id": "c6159520-6323-4467-81be-0875290f0d2f",
   "metadata": {},
   "outputs": [],
   "source": []
  },
  {
   "cell_type": "code",
   "execution_count": null,
   "id": "b60b6d93-a5fd-4f3c-8144-9bae6cc1b980",
   "metadata": {},
   "outputs": [],
   "source": []
  },
  {
   "cell_type": "markdown",
   "id": "1d5f27de-afc5-4f0e-95ff-0dec176f1e5a",
   "metadata": {},
   "source": [
    "**b)** What about observing from the AAT on the same date?"
   ]
  },
  {
   "cell_type": "markdown",
   "id": "ee564f7b-c3ef-484a-9561-c529114c3388",
   "metadata": {},
   "source": [
    "## Q4\n",
    "\n",
    "$$\\delta_{fov} = \\phi \\pm 90$$\n",
    "\n",
    "The orbital information for the four Galilean moons of Jupiter can be found in Appendix C: Solar System Data of the textbook. Using this information determine the following:\n",
    "\n",
    "**a)** Assuming you are standing on Europa what would the synodic period of Ganymede be? \n"
   ]
  },
  {
   "cell_type": "markdown",
   "id": "56dc2af3-ba4e-4ab9-81b7-21e6cf32e95c",
   "metadata": {},
   "source": [
    "### Formulas\n",
    "\n",
    "Inferior objects (e.g. Mars, Venus):\n",
    "\n",
    "$$\\frac{1}{P_P} = \\frac{1}{P_E} + \\frac{1}{S_P}$$\n",
    "\n",
    "Superior objects (e.g. Mars, Jupiter):\n",
    "\n",
    "$$\\frac{1}{P_P} = \\frac{1}{P_E} - \\frac{1}{S_P}$$\n"
   ]
  },
  {
   "cell_type": "code",
   "execution_count": 5,
   "id": "c147904b-173a-4bde-af5d-6f4813ab7375",
   "metadata": {},
   "outputs": [],
   "source": [
    "P_E = 3.551 # period of Europa\n",
    "P_P = 7.155 # period of Ganymede (SUPERIOR)"
   ]
  },
  {
   "cell_type": "markdown",
   "id": "b9de9174-c122-409e-a4d2-b098fc0589f0",
   "metadata": {},
   "source": [
    "Find synodic period of Ganymede, $S_P$:\n",
    "\n",
    "$$\n",
    "\\frac{1}{S_P} = \\frac{1}{P_E} + \\frac{1}{P_P}\n",
    "$$\n",
    "\n",
    "$$\n",
    "\\frac{1}{S_P} = \\frac{P_P + P_E}{P_E P_P}\n",
    "$$"
   ]
  },
  {
   "cell_type": "code",
   "execution_count": 6,
   "id": "a53a5723-ec20-4259-b7e3-007fbee87448",
   "metadata": {},
   "outputs": [
    {
     "data": {
      "text/plain": [
       "7.049779411764706"
      ]
     },
     "execution_count": 6,
     "metadata": {},
     "output_type": "execute_result"
    }
   ],
   "source": [
    "S_P = 1 / ((P_P - P_E) / (P_E * P_P))\n",
    "S_P"
   ]
  },
  {
   "cell_type": "markdown",
   "id": "dd3b19c3-2e3a-4fc0-b1fc-fd23d87b4c29",
   "metadata": {},
   "source": [
    "**b)** Again assuming you are standing on Europa what would the synodic period of Io be?\n",
    "\n",
    "\n",
    "\n",
    "_You will need to slightly adjust Equation 1.1 from the textbook to account for the fact that you are in a new system (not the solar system standing on Earth)._"
   ]
  },
  {
   "cell_type": "code",
   "execution_count": 7,
   "id": "830a8a73-7a73-4b73-848f-447110c41d66",
   "metadata": {},
   "outputs": [
    {
     "data": {
      "text/plain": [
       "-3.525094837261504"
      ]
     },
     "execution_count": 7,
     "metadata": {},
     "output_type": "execute_result"
    }
   ],
   "source": [
    "P_P = 1.769 # period of Io (INFERIOR)\n",
    "\n",
    "1 / ((P_P - P_E) / (P_E * P_P))"
   ]
  },
  {
   "cell_type": "markdown",
   "id": "92f52f62-75d5-4fe9-8465-b93f93067cbd",
   "metadata": {},
   "source": [
    "## Q5\n",
    "\n",
    "Gamma Crucis is the top most star of the Southern Cross (when facing South). \n",
    "\n",
    "Data for Gamma Crucis is given in the table on the next page. Using this data, calculate the change in RA and Dec due to just precession from J2000.0 to J2022.0."
   ]
  },
  {
   "cell_type": "code",
   "execution_count": 8,
   "id": "8d34d9d1-fabf-4bf9-9203-9300d14ceb99",
   "metadata": {},
   "outputs": [
    {
     "data": {
      "text/plain": [
       "8.868333333333334"
      ]
     },
     "execution_count": 8,
     "metadata": {},
     "output_type": "execute_result"
    }
   ],
   "source": [
    "# RA test known -> 297.696º\n",
    "# Carroll and Ostlie p14\n",
    "# astro_util.hms2dec(19,50,47)\n",
    "\n",
    "# DEC test known -> 8.86833º\n",
    "astro_util.dms2dec(8,52,6)\n",
    "# astro_util.dms2dec(57,6,47.6)"
   ]
  },
  {
   "cell_type": "code",
   "execution_count": 9,
   "id": "3b03026f-453b-4500-b15c-cc54dd65a703",
   "metadata": {},
   "outputs": [
    {
     "data": {
      "text/plain": [
       "(0, 0, 51.9336)"
      ]
     },
     "execution_count": 9,
     "metadata": {},
     "output_type": "execute_result"
    }
   ],
   "source": [
    "# DEC test known -> 51.93\"\n",
    "astro_util.dec2dms(0.014426)"
   ]
  },
  {
   "cell_type": "code",
   "execution_count": 27,
   "id": "9fbf8276-7ee3-44b2-b525-42191014a954",
   "metadata": {},
   "outputs": [
    {
     "data": {
      "text/plain": [
       "(101.28716666666666, -16.699444444444445)"
      ]
     },
     "execution_count": 27,
     "metadata": {},
     "output_type": "execute_result"
    }
   ],
   "source": [
    "e_1 = 2000.0\n",
    "e_2 = 2022.0\n",
    "\n",
    "# ASSIGNMENT\n",
    "ra_h = 6\n",
    "ra_m = 45\n",
    "ra_s = 8.92\n",
    "\n",
    "dec_d = 16\n",
    "dec_m = 41\n",
    "dec_s = 58\n",
    "\n",
    "# EXAMPLE CARROLL OSTLIE p13/14\n",
    "# ra_h = 12\n",
    "# ra_m = 31\n",
    "# ra_s = 9.96\n",
    "\n",
    "# dec_d = 57\n",
    "# dec_m = 6\n",
    "# dec_s = 47.6\n",
    "\n",
    "\n",
    "ra_1 = astro_util.hms2dec(ra_h, ra_m, ra_s)\n",
    "\n",
    "# account for negative DEC\n",
    "dec_1 = - astro_util.dms2dec(dec_d, dec_m, dec_s)\n",
    "\n",
    "ra_1, dec_1"
   ]
  },
  {
   "cell_type": "markdown",
   "id": "42f68dfa-3322-4e1d-809c-bef2af5dc1d6",
   "metadata": {},
   "source": [
    "### Time, M, N"
   ]
  },
  {
   "cell_type": "code",
   "execution_count": 28,
   "id": "2000fd10-25cf-42c4-95ae-c543a1a10e81",
   "metadata": {},
   "outputs": [
    {
     "data": {
      "text/plain": [
       "0.22"
      ]
     },
     "execution_count": 28,
     "metadata": {},
     "output_type": "execute_result"
    }
   ],
   "source": [
    "T = (e_2 - e_1) / 100\n",
    "T"
   ]
  },
  {
   "cell_type": "code",
   "execution_count": 29,
   "id": "cf0b7c3d-804c-4e20-aff4-f63b184d103b",
   "metadata": {},
   "outputs": [
    {
     "data": {
      "text/plain": [
       "0.2818899879048"
      ]
     },
     "execution_count": 29,
     "metadata": {},
     "output_type": "execute_result"
    }
   ],
   "source": [
    "M = (1.2812323 * T) + (0.0003879 * T**2) + (0.0000101 * T**3)\n",
    "M"
   ]
  },
  {
   "cell_type": "code",
   "execution_count": 30,
   "id": "d795590d-48be-4aaa-95e3-7686bdbaf637",
   "metadata": {},
   "outputs": [
    {
     "data": {
      "text/plain": [
       "0.12247980108320002"
      ]
     },
     "execution_count": 30,
     "metadata": {},
     "output_type": "execute_result"
    }
   ],
   "source": [
    "N = (0.5567530 * T) - (0.0001185 * T**2) - (0.0000116 * T**3)\n",
    "N"
   ]
  },
  {
   "cell_type": "markdown",
   "id": "648770e8-d51f-4688-8d7b-376e81bbdb61",
   "metadata": {},
   "source": [
    "### Compute the differences"
   ]
  },
  {
   "cell_type": "code",
   "execution_count": 31,
   "id": "fa057955-1429-4388-a74b-5bac07267a18",
   "metadata": {},
   "outputs": [
    {
     "data": {
      "text/plain": [
       "0.24585627218501074"
      ]
     },
     "execution_count": 31,
     "metadata": {},
     "output_type": "execute_result"
    }
   ],
   "source": [
    "Delta_ra = M + N * math.sin(math.radians(ra_1)) * math.tan(math.radians(dec_1))\n",
    "Delta_ra # 0.25621"
   ]
  },
  {
   "cell_type": "code",
   "execution_count": 44,
   "id": "4d68330b-cc81-4994-aa0f-de88735ee4dd",
   "metadata": {},
   "outputs": [
    {
     "data": {
      "text/plain": [
       "(0, 0, -0.8342088)"
      ]
     },
     "execution_count": 44,
     "metadata": {},
     "output_type": "execute_result"
    }
   ],
   "source": [
    "# astro_util.dec2hms(Delta_ra)\n",
    "astro_util.dec2hms(-0.00347587)"
   ]
  },
  {
   "cell_type": "code",
   "execution_count": 33,
   "id": "14015680-ad69-40e4-8d7d-ef599382cc89",
   "metadata": {},
   "outputs": [
    {
     "data": {
      "text/plain": [
       "-0.023972542469889106"
      ]
     },
     "execution_count": 33,
     "metadata": {},
     "output_type": "execute_result"
    }
   ],
   "source": [
    "Delta_dec = N * math.cos(math.radians(ra_1))\n",
    "Delta_dec"
   ]
  },
  {
   "cell_type": "code",
   "execution_count": 42,
   "id": "7e748bec-e66e-4b80-87cb-ab6e70a3b6dd",
   "metadata": {},
   "outputs": [
    {
     "data": {
      "text/plain": [
       "(0, 0, 26.919648)"
      ]
     },
     "execution_count": 42,
     "metadata": {},
     "output_type": "execute_result"
    }
   ],
   "source": [
    "# astro_util.dec2dms(Delta_dec)\n",
    "astro_util.dec2dms(0.00747768)"
   ]
  },
  {
   "cell_type": "markdown",
   "id": "d46df771-c615-478d-8c67-ef9a664ef58f",
   "metadata": {},
   "source": [
    "# A1-P3-4\n",
    "\n",
    "Vega is one of six stars that was used to set the UBV photometric system and as such has U-B = B-V = 0.0. Vega is a bright (V = +0.03) blue-white star with a surface temperature of 9600 K.\n",
    "\n",
    "a) Use the value of CU−B found in Example 3.6.2 (Pages 77 to 79 of the textbook) to estimate the colour index U-B for Vega. Compare your answers with the value above.\n",
    "b) The parallax for Vega is 0.130′′. Determine the absolute visual magnitude of the star.\n",
    "\n",
    "See Example 3.6.2 (Pages 77 to 79 of the textbook) for how to simplify Equation 3.33. We assume that the filters can be represented by square-functions with S(λ) = 1 inside the filter and S(λ) = 0 outside the filter. The central wavelengths and effective bandpasses of the 3 filters are given on Page 75 of the textbook."
   ]
  },
  {
   "cell_type": "code",
   "execution_count": 39,
   "id": "ed033026-d32a-4a4c-9fe0-35d3b6eedeef",
   "metadata": {},
   "outputs": [],
   "source": [
    "\n",
    "\n",
    "def plank(lambd, T):\n",
    "    h = 6.62607004E-34\n",
    "    c = 299792458\n",
    "    k = 1.3806503E-23   \n",
    "    return ( \n",
    "        ((2 * h * c**2) / lambd**5) / \n",
    "        (math.e**((h*c) / (lambd * k * T)) - 1) \n",
    "    )"
   ]
  },
  {
   "cell_type": "code",
   "execution_count": 41,
   "id": "958cc89e-506d-4de9-9335-0d745faea977",
   "metadata": {},
   "outputs": [
    {
     "data": {
      "text/plain": [
       "183481019065467.1"
      ]
     },
     "execution_count": 41,
     "metadata": {},
     "output_type": "execute_result"
    }
   ],
   "source": [
    "# plank(440e-9, 9940)\n",
    "plank(550e-9, 9940)"
   ]
  },
  {
   "cell_type": "code",
   "execution_count": 19,
   "id": "d3ae4aa7-0719-42fd-92c0-4af0b943506a",
   "metadata": {},
   "outputs": [],
   "source": [
    "# T = 42000\n",
    "T = 9600"
   ]
  },
  {
   "cell_type": "code",
   "execution_count": 20,
   "id": "d94e5a19-27f8-4143-ac3c-3ea4455e6695",
   "metadata": {},
   "outputs": [
    {
     "data": {
      "text/plain": [
       "0.16079317475525384"
      ]
     },
     "execution_count": 20,
     "metadata": {},
     "output_type": "execute_result"
    }
   ],
   "source": [
    "answ = -2.5 * math.log10( (plank(365E-9, T) * 68E-9) / (plank(440E-9, T) * 98E-9) )\n",
    "answ"
   ]
  },
  {
   "cell_type": "markdown",
   "id": "367ae094-5a0f-436b-b65c-e417f654e77d",
   "metadata": {},
   "source": [
    "$$U-B = ANSWER + C_{U-B}$$"
   ]
  },
  {
   "cell_type": "code",
   "execution_count": 21,
   "id": "8071f438-848c-4b84-b3a5-229919955119",
   "metadata": {},
   "outputs": [
    {
     "data": {
      "text/plain": [
       "-0.7092068252447461"
      ]
     },
     "execution_count": 21,
     "metadata": {},
     "output_type": "execute_result"
    }
   ],
   "source": [
    "C_ub = -0.87\n",
    "answ + C_ub"
   ]
  },
  {
   "cell_type": "markdown",
   "id": "6b64c413-8569-4e3d-8f42-ee898a0d021b",
   "metadata": {},
   "source": [
    "# A1-P4-4\n",
    "\n",
    "Lorentz transformations:\n",
    "\n",
    "$$(\\Delta s)^2  \\equiv (c\\Delta t)^2 - (\\Delta x)^2 - (\\Delta y)^2 - (\\Delta z)^2 $$"
   ]
  },
  {
   "cell_type": "code",
   "execution_count": 22,
   "id": "b9cc4076-9b6e-4ff2-b430-006f0966a116",
   "metadata": {},
   "outputs": [],
   "source": [
    "c = 299792458\n",
    "t = 0\n",
    "x = 0\n",
    "y = 0\n",
    "z = 0"
   ]
  },
  {
   "cell_type": "code",
   "execution_count": 23,
   "id": "e46344ce-863f-4535-9249-99cba267f27b",
   "metadata": {},
   "outputs": [],
   "source": [
    "# B)\n",
    "# t = 1.513E+10\n",
    "# x = 4.536E+18\n",
    "\n",
    "# C)\n",
    "t = 2.05E+10\n",
    "x = 8.17691E+18\n",
    "\n",
    "# D)\n",
    "# t = 2.0000E+6\n",
    "# x = 5.88E+11"
   ]
  },
  {
   "cell_type": "code",
   "execution_count": 24,
   "id": "29dcf2db-a891-4b0a-af69-793a55123527",
   "metadata": {},
   "outputs": [
    {
     "data": {
      "text/plain": [
       "-2.909167076168525e+37"
      ]
     },
     "execution_count": 24,
     "metadata": {},
     "output_type": "execute_result"
    }
   ],
   "source": [
    "# If (∆s)2 > 0 the interval is timelike \n",
    "# if (∆s)2 = 0 the interval is lightlike \n",
    "# if (∆s)2 < 0 the interval is spacelike\n",
    "# WAT-like? -> https://physics.stackexchange.com/a/415000/275852\n",
    "((c*t)**2) - (x)**2 - (y)**2 - (z)**2"
   ]
  },
  {
   "cell_type": "code",
   "execution_count": null,
   "id": "8b27cc2f-a0cf-4b7d-9470-f2e1333127e9",
   "metadata": {},
   "outputs": [],
   "source": []
  },
  {
   "cell_type": "code",
   "execution_count": null,
   "id": "220ed100-dc56-411e-8542-ff1922af4670",
   "metadata": {},
   "outputs": [],
   "source": []
  }
 ],
 "metadata": {
  "kernelspec": {
   "display_name": "Python 3 (ipykernel)",
   "language": "python",
   "name": "python3"
  },
  "language_info": {
   "codemirror_mode": {
    "name": "ipython",
    "version": 3
   },
   "file_extension": ".py",
   "mimetype": "text/x-python",
   "name": "python",
   "nbconvert_exporter": "python",
   "pygments_lexer": "ipython3",
   "version": "3.7.11"
  }
 },
 "nbformat": 4,
 "nbformat_minor": 5
}
