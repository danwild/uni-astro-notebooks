{
 "cells": [
  {
   "cell_type": "markdown",
   "id": "1b361df4-72f1-41c8-8dce-75a621b83a4a",
   "metadata": {},
   "source": [
    "# Daniel Wild (u1127587)\n",
    "\n",
    "PHY8004 - Final Exam"
   ]
  },
  {
   "cell_type": "code",
   "execution_count": 1,
   "id": "5ded8258-6de5-4c14-875e-12175dffc6e9",
   "metadata": {},
   "outputs": [],
   "source": [
    "# imports & commonly used constants\n",
    "import math\n",
    "AU = 1.4959787066E+11\n",
    "M_sun = 1.9891E+30\n",
    "L_sun = 3.839E+26\n",
    "R_sun = 6.95508E+8\n",
    "G_sun = 274\n",
    "M_bol_sun = 4.74\n",
    "M_earth = 5.9736E+24\n",
    "R_earth = 6.378136E+6\n",
    "c = 299792458\n",
    "G = 6.67428E-11\n",
    "sigma = 5.670400E-8\n",
    "u = 1.660538782E-27     # kg per atomic mass\n",
    "ev = 1.602176487E-19\n",
    "m_e = 9.1093821E-31     # electron mass kg\n",
    "m_n = 1.67492711E-27    # neutron mass kg\n",
    "m_H = 1.673532499E-27   # hydrogen mass kg\n",
    "k = 1.3806504E-23       # J\n",
    "k_ev = 8.617343E-5      # eV\n",
    "h = 6.62606896E-34\n",
    "h_bar = h/(2 * math.pi)\n",
    "mu_0 = 4 * math.pi * (10**-7)"
   ]
  },
  {
   "cell_type": "markdown",
   "id": "0d1a0ee1-f58d-480c-8027-fe600f47e8e9",
   "metadata": {},
   "source": [
    "# Q1"
   ]
  },
  {
   "cell_type": "code",
   "execution_count": null,
   "id": "86f497e1-7d65-417f-b806-49ce955c6055",
   "metadata": {},
   "outputs": [],
   "source": []
  },
  {
   "cell_type": "code",
   "execution_count": null,
   "id": "73c605ae-b99c-4e22-8d4e-10d70bd24ca2",
   "metadata": {},
   "outputs": [],
   "source": []
  },
  {
   "cell_type": "markdown",
   "id": "43810b02-20a6-4e0c-8d39-3d3aadaceb02",
   "metadata": {},
   "source": [
    "# Q2"
   ]
  },
  {
   "cell_type": "code",
   "execution_count": null,
   "id": "b64129a3-5a28-487a-b297-9eb595aa0f30",
   "metadata": {},
   "outputs": [],
   "source": []
  },
  {
   "cell_type": "code",
   "execution_count": null,
   "id": "3233dda7-9609-456c-bad5-f50bd39dd224",
   "metadata": {},
   "outputs": [],
   "source": []
  },
  {
   "cell_type": "markdown",
   "id": "b732e33b-7c99-4221-bd13-0c9588b91dc5",
   "metadata": {},
   "source": [
    "# Q3"
   ]
  },
  {
   "cell_type": "code",
   "execution_count": null,
   "id": "2ddc3026-7491-486a-aafb-e04230a36ab3",
   "metadata": {},
   "outputs": [],
   "source": []
  },
  {
   "cell_type": "code",
   "execution_count": null,
   "id": "662f6b1e-c21f-4273-bf4f-f08d603605f6",
   "metadata": {},
   "outputs": [],
   "source": []
  },
  {
   "cell_type": "markdown",
   "id": "e4f594f6-f8a7-4b19-8adf-bda26c191516",
   "metadata": {},
   "source": [
    "# Q4"
   ]
  },
  {
   "cell_type": "code",
   "execution_count": null,
   "id": "7fe4229c-18ba-4f96-ad81-87647d2c1d61",
   "metadata": {},
   "outputs": [],
   "source": []
  },
  {
   "cell_type": "code",
   "execution_count": null,
   "id": "3921d582-4202-4131-8fd3-87399425be40",
   "metadata": {},
   "outputs": [],
   "source": []
  },
  {
   "cell_type": "markdown",
   "id": "5df305aa-dd4f-49c9-bdd9-6845cc152608",
   "metadata": {},
   "source": [
    "# Q5"
   ]
  },
  {
   "cell_type": "code",
   "execution_count": null,
   "id": "553d26cf-335c-4190-a1b1-7e24a2471152",
   "metadata": {},
   "outputs": [],
   "source": []
  },
  {
   "cell_type": "code",
   "execution_count": null,
   "id": "24bea2dd-98a0-4d26-ad39-7b54a4340b68",
   "metadata": {},
   "outputs": [],
   "source": []
  },
  {
   "cell_type": "markdown",
   "id": "7dd64ec3-9ab6-4785-a2d3-e92fe1122aa8",
   "metadata": {},
   "source": [
    "# Q6"
   ]
  },
  {
   "cell_type": "code",
   "execution_count": null,
   "id": "7bddbbcc-41d4-4e98-b519-f0a0df7d8580",
   "metadata": {},
   "outputs": [],
   "source": []
  },
  {
   "cell_type": "code",
   "execution_count": null,
   "id": "4549a14e-953e-402e-a8e6-63ac20bb4fb5",
   "metadata": {},
   "outputs": [],
   "source": []
  },
  {
   "cell_type": "markdown",
   "id": "9dafdc00-a211-4f75-bfa8-6ab2d64733c0",
   "metadata": {},
   "source": [
    "# Q7"
   ]
  },
  {
   "cell_type": "code",
   "execution_count": null,
   "id": "a741696f-3db5-4851-9bc4-1f011c592073",
   "metadata": {},
   "outputs": [],
   "source": []
  },
  {
   "cell_type": "code",
   "execution_count": null,
   "id": "344a5e6e-b852-439a-bf97-c5bdbaba9015",
   "metadata": {},
   "outputs": [],
   "source": []
  },
  {
   "cell_type": "markdown",
   "id": "84b2d25c-dea1-44cc-8a02-f42e5f1772bd",
   "metadata": {},
   "source": [
    "# Q8"
   ]
  },
  {
   "cell_type": "code",
   "execution_count": null,
   "id": "a03be9df-0574-4364-b0cc-67bd1c01f174",
   "metadata": {},
   "outputs": [],
   "source": []
  },
  {
   "cell_type": "code",
   "execution_count": null,
   "id": "9f27e06b-2760-4714-85fd-4e3928591df7",
   "metadata": {},
   "outputs": [],
   "source": []
  },
  {
   "cell_type": "markdown",
   "id": "78631698-17ad-48a0-a332-59eef77c6b47",
   "metadata": {},
   "source": [
    "# Q9"
   ]
  },
  {
   "cell_type": "code",
   "execution_count": null,
   "id": "26c929e5-069a-4d0b-9998-9ce46c21d0d2",
   "metadata": {},
   "outputs": [],
   "source": []
  },
  {
   "cell_type": "code",
   "execution_count": null,
   "id": "470b91ef-72e2-40a2-bed9-7aaa5fd9e293",
   "metadata": {},
   "outputs": [],
   "source": []
  },
  {
   "cell_type": "markdown",
   "id": "baf4531c-c05f-4e42-8e18-bbaa18334f2e",
   "metadata": {},
   "source": [
    "# Q10"
   ]
  },
  {
   "cell_type": "code",
   "execution_count": null,
   "id": "091d03ac-9bdd-4925-b08c-062d97838c83",
   "metadata": {},
   "outputs": [],
   "source": []
  },
  {
   "cell_type": "code",
   "execution_count": null,
   "id": "4e46a7d2-0a8b-48da-a485-9cf5271528b3",
   "metadata": {},
   "outputs": [],
   "source": []
  },
  {
   "cell_type": "markdown",
   "id": "d4df1d68-64ae-4e1d-9534-473b5e69e1de",
   "metadata": {},
   "source": [
    "# Q11"
   ]
  },
  {
   "cell_type": "code",
   "execution_count": null,
   "id": "fd1396c1-ea3f-4c60-838d-616c2136e7ab",
   "metadata": {},
   "outputs": [],
   "source": []
  },
  {
   "cell_type": "code",
   "execution_count": null,
   "id": "924948e2-cd71-4502-b485-226ad39799b4",
   "metadata": {},
   "outputs": [],
   "source": []
  },
  {
   "cell_type": "markdown",
   "id": "62e719a5-39cb-42cd-b204-e9dc82ea3380",
   "metadata": {},
   "source": [
    "# Q12"
   ]
  },
  {
   "cell_type": "code",
   "execution_count": null,
   "id": "6b55ea3b-2aa0-42bc-9d0f-bf034424136e",
   "metadata": {},
   "outputs": [],
   "source": []
  },
  {
   "cell_type": "code",
   "execution_count": null,
   "id": "325be54e-7f45-4ab7-a333-ebfdc96efb5d",
   "metadata": {},
   "outputs": [],
   "source": []
  },
  {
   "cell_type": "code",
   "execution_count": null,
   "id": "c2e968d3-b77f-4f35-863b-ff3ebb20763b",
   "metadata": {},
   "outputs": [],
   "source": []
  }
 ],
 "metadata": {
  "kernelspec": {
   "display_name": "Python 3 (ipykernel)",
   "language": "python",
   "name": "python3"
  },
  "language_info": {
   "codemirror_mode": {
    "name": "ipython",
    "version": 3
   },
   "file_extension": ".py",
   "mimetype": "text/x-python",
   "name": "python",
   "nbconvert_exporter": "python",
   "pygments_lexer": "ipython3",
   "version": "3.7.11"
  }
 },
 "nbformat": 4,
 "nbformat_minor": 5
}
