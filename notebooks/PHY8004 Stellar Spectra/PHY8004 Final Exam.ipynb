{
 "cells": [
  {
   "cell_type": "markdown",
   "id": "1b361df4-72f1-41c8-8dce-75a621b83a4a",
   "metadata": {},
   "source": [
    "# Daniel Wild (u1127587)\n",
    "\n",
    "PHY8004 - Final Exam"
   ]
  },
  {
   "cell_type": "code",
   "execution_count": 1,
   "id": "5ded8258-6de5-4c14-875e-12175dffc6e9",
   "metadata": {},
   "outputs": [],
   "source": [
    "# imports & constants\n",
    "import math\n",
    "AU = 1.4959787066E+11\n",
    "M_sun = 1.9891E+30\n",
    "L_sun = 3.839E+26\n",
    "R_sun = 6.95508E+8\n",
    "G_sun = 274\n",
    "M_bol_sun = 4.74\n",
    "M_earth = 5.9736E+24\n",
    "R_earth = 6.378136E+6\n",
    "c = 299792458\n",
    "G = 6.67428E-11\n",
    "sigma = 5.670400E-8\n",
    "u = 1.660538782E-27     # kg per atomic mass\n",
    "ev = 1.602176487E-19\n",
    "m_e = 9.1093821E-31     # electron mass kg\n",
    "m_n = 1.67492711E-27    # neutron mass kg\n",
    "m_H = 1.673532499E-27   # hydrogen mass kg\n",
    "k = 1.3806504E-23       # J\n",
    "k_ev = 8.617343E-5      # eV\n",
    "h = 6.62606896E-34\n",
    "h_bar = h/(2 * math.pi)\n",
    "mu_0 = 4 * math.pi * (10**-7)"
   ]
  },
  {
   "cell_type": "markdown",
   "id": "0d1a0ee1-f58d-480c-8027-fe600f47e8e9",
   "metadata": {},
   "source": [
    "# Q1\n",
    "\n",
    "$x = 2.8 * 10^6pc = 8.64 * 10^{22}m$\n",
    "\n",
    "$t = 7.3 * 10^6 years = 2.30 * 10^{14}s$\n",
    "\n",
    "Use spacetime interval to check if events are _timelike_ (i.e., light has time to travel between 2 events where $(\\Delta s)^2 > 0$):\n",
    "\n",
    "$$(\\Delta s)^2 = (ct)^2 - (\\Delta x)^2 - (\\Delta y)^2 - (\\Delta z)^2$$\n",
    "\n",
    "$$(\\Delta s)^2 = (c * 2.30 * 10^{14}s)^2 - (8.64 * 10^{22}m)^2 = -2.70 *10^{45}m^2$$\n",
    "\n",
    "$\\Delta s^2 < 0$ = Elsewhere"
   ]
  },
  {
   "cell_type": "code",
   "execution_count": 3,
   "id": "86f497e1-7d65-417f-b806-49ce955c6055",
   "metadata": {},
   "outputs": [
    {
     "data": {
      "text/plain": [
       "(8.6408e+22, 230370480000000.0)"
      ]
     },
     "execution_count": 3,
     "metadata": {},
     "output_type": "execute_result"
    }
   ],
   "source": [
    "x = 2.8E+6 * 3.086e+16\n",
    "t = 7.3E+6 * 365.25 * 24 * 60 * 60\n",
    "\n",
    "x, t"
   ]
  },
  {
   "cell_type": "code",
   "execution_count": 4,
   "id": "73c605ae-b99c-4e22-8d4e-10d70bd24ca2",
   "metadata": {},
   "outputs": [
    {
     "data": {
      "text/plain": [
       "-2.6965985749228983e+45"
      ]
     },
     "execution_count": 4,
     "metadata": {},
     "output_type": "execute_result"
    }
   ],
   "source": [
    "((c * t) ** 2) - (x**2)"
   ]
  },
  {
   "cell_type": "markdown",
   "id": "43810b02-20a6-4e0c-8d39-3d3aadaceb02",
   "metadata": {},
   "source": [
    "# Q2\n",
    "\n",
    "$M = 2.5M_{\\odot} = 4.97 * 10^{30}kg$\n",
    "\n",
    "$R = 10km = 10,000m$\n",
    "\n",
    "Gravitational binding energy is the inverse of gravitational potential energy, which is given by:\n",
    "\n",
    "$$\n",
    "U_g = - \\frac{3}{5} \\frac{GM^2}{R} = \\frac{3}{5} \\frac{G (4.97 * 10^{30}kg)^2}{10,000m} = -9.90 * 10^{46} J\n",
    "$$\n",
    "\n",
    "So, gravitational binding energy is $9.90 * 10^{46} J$"
   ]
  },
  {
   "cell_type": "code",
   "execution_count": 6,
   "id": "b64129a3-5a28-487a-b297-9eb595aa0f30",
   "metadata": {},
   "outputs": [
    {
     "data": {
      "text/plain": [
       "4.97275e+30"
      ]
     },
     "execution_count": 6,
     "metadata": {},
     "output_type": "execute_result"
    }
   ],
   "source": [
    "m = 2.5 * M_sun\n",
    "r = 10000\n",
    "m"
   ]
  },
  {
   "cell_type": "code",
   "execution_count": 7,
   "id": "3233dda7-9609-456c-bad5-f50bd39dd224",
   "metadata": {},
   "outputs": [
    {
     "data": {
      "text/plain": [
       "-9.902592886202549e+46"
      ]
     },
     "execution_count": 7,
     "metadata": {},
     "output_type": "execute_result"
    }
   ],
   "source": [
    "- (3/5) * ((G * m ** 2) / (r))"
   ]
  },
  {
   "cell_type": "markdown",
   "id": "b732e33b-7c99-4221-bd13-0c9588b91dc5",
   "metadata": {},
   "source": [
    "# Q3\n",
    "\n",
    "- Neon-20 19.9924u\n",
    "- Neon-21 is 20.9938u\n",
    "- Proton 1.00727647u\n",
    "- Neutron 1.00866u\n",
    "\n",
    "$$\n",
    "^{20}_{10}Ne + p^+ \\rightarrow ^{21}_{10}Ne + \\gamma\n",
    "$$\n",
    "\n",
    "Energy given by $Q = mc^2$, we convert energy from AMU to MeV using:\n",
    "\n",
    "$$\n",
    "\\frac{1u c}{1MeV} = 931.5\n",
    "$$\n",
    "\n",
    "Energy:\n",
    "\n",
    "$$\n",
    "((19.9924u + 1.00727647u) - 20.9938u) * 931.5 = 5.47MeV\n",
    "$$\n",
    "\n",
    "Exothermic."
   ]
  },
  {
   "cell_type": "code",
   "execution_count": 10,
   "id": "2ddc3026-7491-486a-aafb-e04230a36ab3",
   "metadata": {},
   "outputs": [
    {
     "data": {
      "text/plain": [
       "5.473931805000435"
      ]
     },
     "execution_count": 10,
     "metadata": {},
     "output_type": "execute_result"
    }
   ],
   "source": [
    "factor = 931.5\n",
    "((19.9924 + 1.00727647) - 20.9938) * factor"
   ]
  },
  {
   "cell_type": "code",
   "execution_count": null,
   "id": "662f6b1e-c21f-4273-bf4f-f08d603605f6",
   "metadata": {},
   "outputs": [],
   "source": []
  },
  {
   "cell_type": "markdown",
   "id": "e4f594f6-f8a7-4b19-8adf-bda26c191516",
   "metadata": {},
   "source": [
    "# Q4\n",
    "\n",
    "$vs_1 = 52km/s$\n",
    "\n",
    "$vs_2 = 26km/s$\n",
    "\n",
    "Assume $i = 90º$\n",
    "\n",
    "**a)**\n",
    "\n",
    "Ratio is:\n",
    "\n",
    "$$\n",
    "\\frac{m_1}{m_2} = \\frac{vs_2}{vs_1} = \\frac{26km/s}{52km/s} = 2.15\n",
    "$$\n",
    "\n",
    "Combined mass:\n",
    "$$\n",
    "m_1 + m_2 = \\frac{P}{2\\pi G} \\frac{(vs_1 + vs_2)^3}{sin^3 i}\n",
    "$$\n",
    "\n",
    "Rearragn for P:\n",
    "\n",
    "$$\n",
    "P = 2\\pi G (vs_1 + vs_2)^3 = 2\\pi G (52,000m + 26,000m)^3 = 2.31 * 10^5s = 2.68 days\n",
    "$$\n"
   ]
  },
  {
   "cell_type": "code",
   "execution_count": 42,
   "id": "7fe4229c-18ba-4f96-ad81-87647d2c1d61",
   "metadata": {},
   "outputs": [
    {
     "data": {
      "text/plain": [
       "82000"
      ]
     },
     "execution_count": 42,
     "metadata": {},
     "output_type": "execute_result"
    }
   ],
   "source": [
    "vs_1 = 26000\n",
    "vs_2 = 56000\n",
    "vs_2 + vs_1"
   ]
  },
  {
   "cell_type": "code",
   "execution_count": 38,
   "id": "c44a601d-ca44-4107-a47a-4d3b3440cca5",
   "metadata": {},
   "outputs": [
    {
     "data": {
      "text/plain": [
       "(231220.2400722919, 2.6761601860218973)"
      ]
     },
     "execution_count": 38,
     "metadata": {},
     "output_type": "execute_result"
    }
   ],
   "source": [
    "P = 2 * math.pi * G * (vs_1 + vs_2)**3\n",
    "P, P / 60 / 60 / 24"
   ]
  },
  {
   "cell_type": "code",
   "execution_count": 40,
   "id": "697bdece-4023-4d99-85c5-b6850e6f19ce",
   "metadata": {},
   "outputs": [
    {
     "data": {
      "text/plain": [
       "3.04006671424e+29"
      ]
     },
     "execution_count": 40,
     "metadata": {},
     "output_type": "execute_result"
    }
   ],
   "source": [
    "m1_m2 = (P / (2 * math.pi * G)) * (vs_1 + vs_2)**3\n",
    "m1_m2"
   ]
  },
  {
   "cell_type": "markdown",
   "id": "439e76fa-f7a7-48c6-9033-ca5e8aef8d5c",
   "metadata": {},
   "source": [
    "**b)**\n",
    "\n",
    "$t_a = 0.5days$\n",
    "\n",
    "$t_b = 0.6days$\n",
    "\n",
    "$t_c = 0.7days$\n",
    "\n",
    "$$\n",
    "r = \\frac{v}{2}(t_b - t_a)\n",
    "$$\n",
    "\n",
    "Let $v$ equal the relative velocity of the two stars, $v = vs_1 + vs_1 = 82km/s$\n",
    "\n",
    "Radius of smaller star:\n",
    "\n",
    "$$\n",
    "r = \\frac{v}{2}(t_b - t_a) = \\frac{82,000m}{2}(51840 - 43200) = 3.54*10^8m = 0.51 R_{\\odot}\n",
    "$$\n",
    "\n",
    "Radius of larger star:\n",
    "\n",
    "$$\n",
    "r = \\frac{v}{2}(t_c - t_a) = \\frac{82,000m}{2}(60480 - 43200) = 7.09*10^8m = 1.02 R_{\\odot}\n",
    "$$"
   ]
  },
  {
   "cell_type": "code",
   "execution_count": 44,
   "id": "f51e9a64-fb66-4d64-9010-95587ad24dca",
   "metadata": {},
   "outputs": [
    {
     "data": {
      "text/plain": [
       "(43200.0, 51839.99999999999, 60479.999999999985)"
      ]
     },
     "execution_count": 44,
     "metadata": {},
     "output_type": "execute_result"
    }
   ],
   "source": [
    "t_a = 0.5 * 24 * 60 * 60\n",
    "t_b = 0.6 * 24 * 60 * 60\n",
    "t_c = 0.7 * 24 * 60 * 60\n",
    "v = vs_2 + vs_1\n",
    "\n",
    "t_a, t_b, t_c"
   ]
  },
  {
   "cell_type": "code",
   "execution_count": 45,
   "id": "ddf45358-2f58-4334-9801-8d2bc9d30244",
   "metadata": {},
   "outputs": [
    {
     "name": "stdout",
     "output_type": "stream",
     "text": [
      "meters: (354239999.9999997, 708479999.9999994) \n",
      "solar radii: (0.5093255577218374, 1.0186511154436748) \n"
     ]
    }
   ],
   "source": [
    "r_1 = (v/2) * (t_b - t_a)\n",
    "r_2 = (v/2) * (t_c - t_a)\n",
    "\n",
    "print('meters: %s ' % str((r_1, r_2)))\n",
    "print('solar radii: %s ' % str((r_1/R_sun, r_2/R_sun)))"
   ]
  },
  {
   "cell_type": "markdown",
   "id": "ad1c9905-e90d-4e09-a92b-0b48bbea3a47",
   "metadata": {},
   "source": [
    "**C)**\n",
    "\n",
    "$$\n",
    "\\frac{B_p}{B_0} = 100^{(m_{bol,0} - m_{bol,p})/5} = 0.16\n",
    "$$\n",
    "\n",
    "$$\n",
    "\\frac{B_s}{B_0} = 100^{(m_{bol,0} - m_{bol,s})/5} = 0.42\n",
    "$$\n",
    "\n",
    "$$\n",
    "\\frac{F_s}{F_p} = \\frac{1 - B_p/B_0}{1 - B_s/B_0} = 1.44\n",
    "$$\n",
    "\n",
    "$$\n",
    "\\frac{T_s}{T_p} = (\\frac{F_s}{F_p})^{1/4} = 1.10\n",
    "$$"
   ]
  },
  {
   "cell_type": "code",
   "execution_count": 46,
   "id": "61ae2f5f-a420-4721-88dc-3c34e6783592",
   "metadata": {},
   "outputs": [
    {
     "name": "stdout",
     "output_type": "stream",
     "text": [
      " B_p/B_0: 0.15848931924611134\n",
      " B_s/B_0: 0.41686938347033536\n",
      " F_s/F_p: 1.443091233593426\n",
      " T_s/T_p: 1.0960325376084952\n"
     ]
    }
   ],
   "source": [
    "m_bol_0 = 5.35\n",
    "m_bol_p = 7.35\n",
    "m_bol_s = 6.3\n",
    "\n",
    "B_p_B_0 = 100**((m_bol_0 - m_bol_p)/5)\n",
    "B_s_B_0 = 100**((m_bol_0 - m_bol_s)/5)\n",
    "F_s_F_p = (1 - B_p_B_0) / (1 - B_s_B_0)\n",
    "T_s_T_p = F_s_F_p**(1/4)\n",
    "\n",
    "print(' B_p/B_0: %s\\n B_s/B_0: %s\\n F_s/F_p: %s\\n T_s/T_p: %s' % (B_p_B_0, B_s_B_0, F_s_F_p, T_s_T_p))"
   ]
  },
  {
   "cell_type": "code",
   "execution_count": null,
   "id": "eb1540fc-573d-418f-a46e-30b3a0258f39",
   "metadata": {},
   "outputs": [],
   "source": []
  },
  {
   "cell_type": "markdown",
   "id": "5df305aa-dd4f-49c9-bdd9-6845cc152608",
   "metadata": {},
   "source": [
    "# Q5\n",
    "\n",
    "**a)**\n",
    "\n",
    "Assume start of main sequence...\n",
    "\n",
    "- ZAMS / Hydrogen fusion begins\n",
    "- SGB Moves onto sub giant branch when Hydogen fusion stalls (although shell of H at core continues to fuse)\n",
    "- RGB - Continues to first dredge up phase, envelope expansion, Red giant branch\n",
    "- E_AGB early asymptotic giant branch\n",
    "- TP-AGB thermal pulse asymptotic giant branch -> Helium shell flash\n",
    "- Planetary nebulae formation\n",
    "\n",
    "\n",
    "**b)**\n",
    "\n",
    "How long does a 9 MSun star spend on the horizontal branch (blueward and redward portions) in Myr and as a fraction of their main-sequence lifetime.\n",
    "\n",
    "total 29.2294Myr\n",
    "\n",
    "p3 = 26.3886\n",
    "\n",
    "p5 = 26.4580\n",
    "\n",
    "$$\n",
    "((p5 - p3) / total_ms) * 100 = 0.069Myr = 0.24\\%\n",
    "$$"
   ]
  },
  {
   "cell_type": "code",
   "execution_count": 14,
   "id": "553d26cf-335c-4190-a1b1-7e24a2471152",
   "metadata": {},
   "outputs": [
    {
     "data": {
      "text/plain": [
       "(0.06939999999999813, 0.2374321744544812)"
      ]
     },
     "execution_count": 14,
     "metadata": {},
     "output_type": "execute_result"
    }
   ],
   "source": [
    "total_ms = 29.2294\n",
    "\n",
    "p3 = 26.3886\n",
    "p5 = 26.4580\n",
    "\n",
    "p5 - p3, ((p5 - p3) / total_ms) * 100"
   ]
  },
  {
   "cell_type": "code",
   "execution_count": null,
   "id": "24bea2dd-98a0-4d26-ad39-7b54a4340b68",
   "metadata": {},
   "outputs": [],
   "source": []
  },
  {
   "cell_type": "markdown",
   "id": "7dd64ec3-9ab6-4785-a2d3-e92fe1122aa8",
   "metadata": {},
   "source": [
    "# Q6\n",
    "\n",
    "**Answer**\n",
    "\n",
    "$B = 0.3T$\n",
    "\n",
    "Zeeman effect equation 5.22 from p134:\n",
    "\n",
    "$$\n",
    "\\Delta v \\pm \\frac{eB}{4\\pi \\mu} = \\frac{ev 0.3T}{4\\pi m_e} = 4.20 * 10^9 Hz\n",
    "$$"
   ]
  },
  {
   "cell_type": "code",
   "execution_count": 20,
   "id": "7bddbbcc-41d4-4e98-b519-f0a0df7d8580",
   "metadata": {},
   "outputs": [
    {
     "data": {
      "text/plain": [
       "4198873833.796989"
      ]
     },
     "execution_count": 20,
     "metadata": {},
     "output_type": "execute_result"
    }
   ],
   "source": [
    "B = 0.3\n",
    "\n",
    "v_0 = (ev * B) / (4 * math.pi * m_e)\n",
    "v_0"
   ]
  },
  {
   "cell_type": "markdown",
   "id": "9dafdc00-a211-4f75-bfa8-6ab2d64733c0",
   "metadata": {},
   "source": [
    "# Q7\n",
    "\n",
    "Schwarzschild Radius:\n",
    "\n",
    "$$R_S = 2GM/c^2$$\n",
    "\n",
    "e.g. for a $3M_{\\odot}$ BH:\n",
    "\n",
    "$$\n",
    "RS_3 = 2G 3M_{\\odot}/c^2 = 8863m\n",
    "$$\n",
    "\n",
    "$$\n",
    "V_3 = (4/3) \\pi RS_3^3 = 2.92 * 10^{11}m^3\n",
    "$$\n",
    "\n",
    "$$\n",
    "\\rho_3 = \\frac{M}{V} = \\frac{3M_{\\odot}}{2.92 * 10^{11}m^3} = 2.05 * 10^{18} kg/m^3\n",
    "$$\n",
    "\n",
    "and for a $5M_{\\odot}$ BH:\n",
    "\n",
    "$$\n",
    "RS_5 = 2G 5M_{\\odot}/c^2 = 8863m\n",
    "$$\n",
    "\n",
    "$$\n",
    "V_5 = (4/3) \\pi RS_5^3 = 1.35 * 10^{12}m^3\n",
    "$$\n",
    "\n",
    "$$\n",
    "\\rho_5 = \\frac{M}{V} = \\frac{5M_{\\odot}}{1.35 * 10^{12}m^3} = 4.42 * 10^{17} kg/m^3\n",
    "$$\n",
    "\n",
    "Shows density is grrater for a 5M black hole than a 3M."
   ]
  },
  {
   "cell_type": "code",
   "execution_count": 23,
   "id": "a741696f-3db5-4851-9bc4-1f011c592073",
   "metadata": {},
   "outputs": [
    {
     "data": {
      "text/plain": [
       "(8862.798676715644, 14771.331127859405)"
      ]
     },
     "execution_count": 23,
     "metadata": {},
     "output_type": "execute_result"
    }
   ],
   "source": [
    "RS_3 = (2 * G * 3 * M_sun) / c**2\n",
    "RS_5 = (2 * G * 5 * M_sun) / c**2\n",
    "\n",
    "RS_3, RS_5"
   ]
  },
  {
   "cell_type": "code",
   "execution_count": 25,
   "id": "344a5e6e-b852-439a-bf97-c5bdbaba9015",
   "metadata": {},
   "outputs": [
    {
     "data": {
      "text/plain": [
       "(2916092271241.86,\n",
       " 13500427181675.275,\n",
       " 2.0463344246163853e+18,\n",
       " 4.420082357171393e+17)"
      ]
     },
     "execution_count": 25,
     "metadata": {},
     "output_type": "execute_result"
    }
   ],
   "source": [
    "V_3 = (4/3) * math.pi * RS_3 ** 3\n",
    "rho_3 = (3 * M_sun) / V_3\n",
    "\n",
    "V_5 = (4/3) * math.pi * RS_5 ** 3\n",
    "rho_5 = (3 * M_sun) / V_5\n",
    "\n",
    "V_3, V_5, rho_3, rho_5"
   ]
  },
  {
   "cell_type": "markdown",
   "id": "84b2d25c-dea1-44cc-8a02-f42e5f1772bd",
   "metadata": {},
   "source": [
    "# Q8\n",
    "\n",
    "- A star\n",
    "- strong Balmer lines\n",
    "- K and H lines around 4000Å\n",
    "- Lack of Helium lines are present at 453nm and 468nm, would only be disernable for O and early B stars."
   ]
  },
  {
   "cell_type": "markdown",
   "id": "78631698-17ad-48a0-a332-59eef77c6b47",
   "metadata": {},
   "source": [
    "# Q9\n",
    "\n",
    "The Suns 'interior' is roughly comprised of:\n",
    "\n",
    "- Core - where the thermonuclear reactions take place\n",
    "- Radiative zone - this is where energy from the core is _slowly_ radiated outwards\n",
    "- Convection zone - energy moves via convective currents caused by heating and cooling with rise and fall to 'surface'\n",
    "\n",
    "The suns atmosphere is roughly comprised of:\n",
    "\n",
    "- photosphere - this is where observed photons originate\n",
    "- chromosphere - area of the atmosphere above the photosphere, lower density but much hotter!\n",
    "- corona - highly ionized (and low density, which greatly reduces opportunity for recombination)"
   ]
  },
  {
   "cell_type": "code",
   "execution_count": null,
   "id": "26c929e5-069a-4d0b-9998-9ce46c21d0d2",
   "metadata": {},
   "outputs": [],
   "source": []
  },
  {
   "cell_type": "markdown",
   "id": "baf4531c-c05f-4e42-8e18-bbaa18334f2e",
   "metadata": {},
   "source": [
    "# Q10\n",
    "\n",
    "### Radial velocity\n",
    "\n",
    "The radial velocity technique focusses on indentifying changes in the velocity of the host star. \n",
    "\n",
    "Because it looks for tiny 'wobbles', this technique is biased towards systems which are quite close or have massive planets (e.g. Hot Jupiters).\n",
    "\n",
    "This issue also favours systems where planets orbit around a relatively bright star, and if the planet reflects/emits light well.\n",
    "\n",
    "### Transit method\n",
    "\n",
    "Uses the dimming of light from a star when an exoplanet passes between observers on Earth and the star.\n",
    "\n",
    "This approach is biased towards planet's with orbit which happen to be perfectly aligned with the observer (also need to ensure the transit was 'complete' and not just a 'graze' and that it was a single object!).\n",
    "\n",
    "\n",
    "### Other methods \n",
    "Direct imaging, gravitational lensing, and astrometry."
   ]
  },
  {
   "cell_type": "code",
   "execution_count": null,
   "id": "4e46a7d2-0a8b-48da-a485-9cf5271528b3",
   "metadata": {},
   "outputs": [],
   "source": []
  },
  {
   "cell_type": "markdown",
   "id": "d4df1d68-64ae-4e1d-9534-473b5e69e1de",
   "metadata": {},
   "source": [
    "# Q11\n",
    "\n",
    "A suitably massive star may progress from Hydrogen fusion onto  the fusion of progressivly heavier elements, e.g.\n",
    "\n",
    "H → He → C → O → Si → Fe\n",
    "\n",
    "Earlier stages are exothermic, which balance the gravitational force trying to collapse the star.\n",
    "Iron fusion is highly endothermic, once this starts in the core the trouble begins, gravity can start to overcome the star!\n",
    "\n",
    "At this stage Photodisintegration occurs (where high energy photons destroy heavy nuclei in the star to produce lighter atoms)\n",
    "\n",
    "The core then undergoes homologous (same rate) free-fall collapse, subsonic speeds, separates from the outercore.\n",
    "The core rebounds when it hits Pauli exclusion principal, creates a shockwave, and this shockwave radiates out - ejecting the stars envelope.\n",
    "\n",
    "During this collapse, the remnant increases rotational speed due to conservation of angular momentum.\n",
    "This rapid rotation during the collapse may allow energy to be released along the rotational axis at relativistic speeds, forming gamma ray bursts (GRBs)."
   ]
  },
  {
   "cell_type": "code",
   "execution_count": null,
   "id": "924948e2-cd71-4502-b485-226ad39799b4",
   "metadata": {},
   "outputs": [],
   "source": []
  },
  {
   "cell_type": "markdown",
   "id": "62e719a5-39cb-42cd-b204-e9dc82ea3380",
   "metadata": {},
   "source": [
    "# Q12\n",
    "\n",
    "Will get birght emission lines instead of absorption. Why?\n",
    "\n",
    "For a typical star, higher regions will be _cooler_, so the intensity of radiation on the surface (i.e. at $\\tau_{2/3}$) will be at the lowest energy wavelengths with the greatest opacity, i.e. the distance $s$ will be small:\n",
    "\n",
    "$$\n",
    "\\tau_{2/3} = \\int^s_0 \\kappa_{\\lambda} \\rho ds\n",
    "$$\n",
    "\n",
    "This creates the situation to create the absorption lines we observe.\n",
    "\n",
    "When the opposite is true (higher regions are _hotter_), the intensity of radiation on the surface will increase for the wavelengths with the _highest_ energy, resulting in emission lines instead of absorption."
   ]
  },
  {
   "cell_type": "code",
   "execution_count": null,
   "id": "c2e968d3-b77f-4f35-863b-ff3ebb20763b",
   "metadata": {},
   "outputs": [],
   "source": []
  }
 ],
 "metadata": {
  "kernelspec": {
   "display_name": "Python 3 (ipykernel)",
   "language": "python",
   "name": "python3"
  },
  "language_info": {
   "codemirror_mode": {
    "name": "ipython",
    "version": 3
   },
   "file_extension": ".py",
   "mimetype": "text/x-python",
   "name": "python",
   "nbconvert_exporter": "python",
   "pygments_lexer": "ipython3",
   "version": "3.7.11"
  }
 },
 "nbformat": 4,
 "nbformat_minor": 5
}
