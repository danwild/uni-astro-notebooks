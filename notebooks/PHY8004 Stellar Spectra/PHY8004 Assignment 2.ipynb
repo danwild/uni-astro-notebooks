{
 "cells": [
  {
   "cell_type": "markdown",
   "id": "17ec7638-0209-4974-81e6-fe6588b13cdf",
   "metadata": {},
   "source": [
    "# Daniel Wild (u1127587)\n",
    "\n",
    "PHY8004 - Assignment 2"
   ]
  },
  {
   "cell_type": "code",
   "execution_count": 1,
   "id": "d286c44f-42c4-4d77-85c5-e6e66be448ed",
   "metadata": {
    "tags": []
   },
   "outputs": [],
   "source": [
    "# imports & constants\n",
    "import math\n",
    "M_sun = 1.9891E+30\n",
    "L_sun = 3.839E+26\n",
    "R_sun = 6.95508E+8\n",
    "c = 299792458\n",
    "G = 6.67428E-11\n",
    "sigma = 5.670400E-8"
   ]
  },
  {
   "cell_type": "code",
   "execution_count": null,
   "id": "0cfa2b2f-ab4c-47a2-ac9d-87a4e22b05b2",
   "metadata": {},
   "outputs": [],
   "source": []
  }
 ],
 "metadata": {
  "kernelspec": {
   "display_name": "Python 3 (ipykernel)",
   "language": "python",
   "name": "python3"
  },
  "language_info": {
   "codemirror_mode": {
    "name": "ipython",
    "version": 3
   },
   "file_extension": ".py",
   "mimetype": "text/x-python",
   "name": "python",
   "nbconvert_exporter": "python",
   "pygments_lexer": "ipython3",
   "version": "3.7.11"
  }
 },
 "nbformat": 4,
 "nbformat_minor": 5
}
