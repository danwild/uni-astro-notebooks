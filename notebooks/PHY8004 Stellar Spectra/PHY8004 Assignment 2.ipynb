{
 "cells": [
  {
   "cell_type": "markdown",
   "id": "17ec7638-0209-4974-81e6-fe6588b13cdf",
   "metadata": {},
   "source": [
    "# Daniel Wild (u1127587)\n",
    "\n",
    "PHY8004 - Assignment 2"
   ]
  },
  {
   "cell_type": "code",
   "execution_count": 6,
   "id": "d286c44f-42c4-4d77-85c5-e6e66be448ed",
   "metadata": {
    "tags": []
   },
   "outputs": [],
   "source": [
    "# imports & constants\n",
    "import math\n",
    "M_sun = 1.9891E+30\n",
    "L_sun = 3.839E+26\n",
    "R_sun = 6.95508E+8\n",
    "R_earth = 6.378136E+6\n",
    "c = 299792458\n",
    "G = 6.67428E-11\n",
    "sigma = 5.670400E-8\n",
    "mu_0 = 4 * math.pi * (10**-7)"
   ]
  },
  {
   "cell_type": "markdown",
   "id": "09649012-9a63-4a8a-a8fa-75224d817fd1",
   "metadata": {},
   "source": [
    "# Question A2-P01-1 (2 marks)\n",
    "The Blue Snowball (NGC 7662) is a planetary nebula at a distance of about 2500 light years from Earth. Given that it has a diameter of 0.4 light years and is expanding at around 30 km/s, \n",
    "\n",
    "_Hint: Give the answer to part (a) in arcseconds. For part (b) assume that the nebula is expanding with a constant velocity._\n",
    "\n",
    "**a) what is the angular diameter of the nebula?**\n",
    "\n",
    "$D = 2500ly$\n",
    "\n",
    "$d = 0.4ly$\n",
    "\n",
    "$$\n",
    "\\alpha = 2 arctan(\\frac{d}{2D}) = 2 arctan(\\frac{0.4}{2 * 2500}) = 33.0\"\n",
    "$$"
   ]
  },
  {
   "cell_type": "code",
   "execution_count": 2,
   "id": "36d1e6d1-59d6-4d22-940e-1727370b7992",
   "metadata": {},
   "outputs": [
    {
     "data": {
      "text/plain": [
       "33.00236892913037"
      ]
     },
     "execution_count": 2,
     "metadata": {},
     "output_type": "execute_result"
    }
   ],
   "source": [
    "rad = 2 * math.atan( (0.4 / (2 * 2500)) )\n",
    "rad * (3600 * 180) / math.pi "
   ]
  },
  {
   "cell_type": "markdown",
   "id": "f5047557-90be-4b2a-999a-1ceaa37f268a",
   "metadata": {},
   "source": [
    "**b) estimate the age of the nebula.**\n",
    "\n",
    "$v = 30000m/s$\n",
    "\n",
    "$r = d/2 = 0.2ly = 1.892 * 10^{15}m$\n",
    "\n",
    "$$\n",
    "t = \\frac{r}{v} = \\frac{1.892*10^{15}m}{30000m/s} = 6.306 *10^{10}s = 1998 years\n",
    "$$"
   ]
  },
  {
   "cell_type": "code",
   "execution_count": 3,
   "id": "6af0894d-b743-410f-9a64-dc4eb4cf4872",
   "metadata": {},
   "outputs": [
    {
     "data": {
      "text/plain": [
       "1998.4620714714258"
      ]
     },
     "execution_count": 3,
     "metadata": {},
     "output_type": "execute_result"
    }
   ],
   "source": [
    "v = 30000\n",
    "r = 1.892E+15\n",
    "t = r/v\n",
    "t / 60 / 60 / 24 / 365.25"
   ]
  },
  {
   "cell_type": "markdown",
   "id": "fcb9ea74-5939-4457-937b-c1f603cd9dd9",
   "metadata": {},
   "source": [
    "# Question A2-P01-2 (2 marks)\n",
    "For a solar-mass star on the subgiant branch, what will the Kelvin-Helholtz timescale be? Compare your result with the amount of time the star spends between points 4 and 5 in Figure 13.1 and Table 13.1 (Pages 448 and 449) in the textbook.\n",
    "\n",
    "_Hint: You will need to use an equation from Chapter 3 of the textbook to solve this Question_\n",
    "\n",
    "**Answer**\n",
    "\n",
    "Estimating $L = 10^{0.3}L_{\\odot}$, and $T = 10^{3.74}K$ from Figure 13.1 of textbook.\n",
    "\n",
    "Calculate radius:\n",
    "\n",
    "$$\n",
    "R = \\sqrt{\\frac{L}{4\\pi \\sigma T^4}} = \\sqrt{\\frac{7.66*10^{26}W}{4\\pi \\sigma (10^{3.74}K)^4}} = 1.09*10^{9}m\n",
    "$$\n",
    "\n",
    "Calculate energy:\n",
    "\n",
    "$$\n",
    "\\Delta E = 0.3 \\frac{GM^2}{R} = 0.3 \\frac{6.67428*10^{-11}N m^2 kg^{-2} (1.9891*10^{30}kg)^2}{1.09*10^{9}m} = 7.297 * 10^{40} J\n",
    "$$\n",
    "\n",
    "Kelvin-Helholtz timescale:\n",
    "\n",
    "$$\n",
    "t_{KH} = \\frac{\\Delta E}{L} = \\frac{7.297 * 10^{40} J}{7.66*10^{26}W} = 3.02*10^6 years = 3.02Myr\n",
    "$$\n",
    "\n",
    "Table 13.1 times:\n",
    "\n",
    "$1M_{\\odot}$ star at point 4 = 11386.0Myr\n",
    "\n",
    "$1M_{\\odot}$ star at point 5 = 11635.8Myr\n",
    "\n",
    "$$\n",
    "\\Delta t = 11635.8Myr - 11386.0Myr = 249.8Myr\n",
    "$$\n",
    "\n",
    "The Kelvin-Helholtz timescale we estimated is approx 80 times less than this value.\n",
    "\n",
    "This variance is likely due to a number of assumptions (e.g. constant density), and because the collapse is only for the Helium core, not the entire star."
   ]
  },
  {
   "cell_type": "code",
   "execution_count": 4,
   "id": "6783670d-05cb-4d69-aa9e-532569799c71",
   "metadata": {},
   "outputs": [
    {
     "data": {
      "text/plain": [
       "(7.659812027165529e+26,\n",
       " 1085668597.2121654,\n",
       " 7.29695445673269e+40,\n",
       " 95262839751863.84,\n",
       " 3018697.2314708293)"
      ]
     },
     "execution_count": 4,
     "metadata": {},
     "output_type": "execute_result"
    }
   ],
   "source": [
    "L = (10**0.3) * L_sun\n",
    "T = 10**3.74\n",
    "R = math.sqrt(L / (4 * math.pi * sigma * (T**4)) )\n",
    "E = 0.3 * ((G * M_sun**2) / R)\n",
    "t = E / L\n",
    "L, R, E, t, t/60/60/24/365.25"
   ]
  },
  {
   "cell_type": "code",
   "execution_count": 5,
   "id": "b9296bb1-0e66-4ff9-81f2-b62b3669416c",
   "metadata": {},
   "outputs": [
    {
     "data": {
      "text/plain": [
       "(249.79999999999927, 82.71523178807922)"
      ]
     },
     "execution_count": 5,
     "metadata": {},
     "output_type": "execute_result"
    }
   ],
   "source": [
    "delta_t = 11635.8 - 11386.0\n",
    "delta_t, delta_t/3.02"
   ]
  },
  {
   "cell_type": "markdown",
   "id": "397b5e7c-b7bd-4354-8cdd-6043e72f41ac",
   "metadata": {},
   "source": [
    "# Question A2-P01-3 (2 marks)\n",
    "Estimate the distance to M67 (also known as NGC 2682), an old globular cluster, using the technique of main-sequence fitting. A colour-magnitude diagram of M67 is given in Figure 1 (next page). Figure 2 (also on next page) is a composite colour-magnitude diagram for a set of Population I galactic clusters.\n",
    "\n",
    "_Hint: Assume an interstellar extinction of 0.059 mags._\n",
    "\n",
    "**Answer**\n",
    "\n",
    "$A_{\\lambda} = 0.059$\n",
    "\n",
    "Let apparent magnitude $m = 13.2$, using the approx turn off point on Figure 1.\n",
    "\n",
    "Let absolute magnitude $M = 3.9$, using the approx turn off point of M67 on Figure 2.\n",
    "\n",
    "$$\n",
    "d = 10^{\\frac{(m - M + 5 - A_{\\lambda})}{5}} = 10^{\\frac{(13 - 3.2 + 5 - 0.059)}{5}} = 705pc\n",
    "$$\n",
    "\n",
    "Known values of M67 typically range from 800–900pc (Wikipedia, 2022), so our error ranges from:\n",
    "\n",
    "$$\n",
    "\\frac{800 - 705}{800} = 12\\%\n",
    "$$\n",
    "\n",
    "to \n",
    "\n",
    "$$\n",
    "\\frac{900 - 705}{900} = 22\\%\n",
    "$$"
   ]
  },
  {
   "cell_type": "code",
   "execution_count": 6,
   "id": "814bc4d5-637a-49d3-9343-98f17e1f5ee8",
   "metadata": {},
   "outputs": [
    {
     "data": {
      "text/plain": [
       "705.0176668539835"
      ]
     },
     "execution_count": 6,
     "metadata": {},
     "output_type": "execute_result"
    }
   ],
   "source": [
    "m = 13.2\n",
    "M = 3.9\n",
    "d = 10**( (m - M + 5 - 0.059) / 5 )\n",
    "d "
   ]
  },
  {
   "cell_type": "code",
   "execution_count": 7,
   "id": "59ecc147-f0f4-47c0-bebf-718bb1e614dd",
   "metadata": {},
   "outputs": [
    {
     "data": {
      "text/plain": [
       "(0.11872791643252058, 0.21664703682890718)"
      ]
     },
     "execution_count": 7,
     "metadata": {},
     "output_type": "execute_result"
    }
   ],
   "source": [
    "# error\n",
    "((800 - d) / 800), ((900 - d) / 900)"
   ]
  },
  {
   "cell_type": "markdown",
   "id": "1e293038-46c8-46a1-bdab-766ee7e0af9c",
   "metadata": {
    "tags": []
   },
   "source": [
    "# Question A2-P02-1 (2 marks)\n",
    "If a 1.5 M⊙ star with an average radius of 1.4 R⊙ were to pulsate radially what would the pulsation period be?\n",
    "\n",
    "_Hint: Assume that the ratio of specific heats is 5/3._\n",
    "\n",
    "**Answer**\n",
    "\n",
    "$M = 1.5M_{\\odot} = 2.98365 * 10^{30}kg$\n",
    "\n",
    "$R = 1.4R_{\\odot} = 9.73711 * 10^8m$\n",
    "\n",
    "$\\gamma = 5/3$ (monotomic)\n",
    "\n",
    "$$\n",
    "\\rho = \\frac{M}{(4/3)\\pi R^3} = \\frac{2.98365 * 10^{30}kg}{(4/3)\\pi (9.73711 * 10^8m)^3} = 771.5 kg/m^3 \n",
    "$$\n",
    "\n",
    "Pulsation period is roughly:\n",
    "\n",
    "$$\n",
    "\\Pi \\approx \\sqrt{ \\frac{3\\pi}{2\\gamma G \\rho} } \\approx \\sqrt{ \\frac{3\\pi}{2 (5/3) G * 771.5 kg/m^3 } } \\approx 7409s\n",
    "$$\n",
    "\n",
    "Or about 2 hours."
   ]
  },
  {
   "cell_type": "code",
   "execution_count": 8,
   "id": "af94ae17-ec38-4f4c-acf6-c678fbf08852",
   "metadata": {},
   "outputs": [
    {
     "data": {
      "text/plain": [
       "(2.98365e+30, 973711199.9999999, 771.5583413053145)"
      ]
     },
     "execution_count": 8,
     "metadata": {},
     "output_type": "execute_result"
    }
   ],
   "source": [
    "M = 1.5 * M_sun\n",
    "R = 1.4 * R_sun\n",
    "rho = M / ( (4/3) * math.pi * R**3 )\n",
    "M, R, rho"
   ]
  },
  {
   "cell_type": "code",
   "execution_count": 9,
   "id": "99fc4af0-433b-421e-8066-8d6263f6bc14",
   "metadata": {},
   "outputs": [
    {
     "data": {
      "text/plain": [
       "7409.853037762852"
      ]
     },
     "execution_count": 9,
     "metadata": {},
     "output_type": "execute_result"
    }
   ],
   "source": [
    "gamma = 5/3\n",
    "math.sqrt( (3*math.pi) / (2 * gamma * G * rho) ) # hours / 60 / 60"
   ]
  },
  {
   "cell_type": "markdown",
   "id": "c8ff7223-178c-418e-b919-3b2b80410a13",
   "metadata": {},
   "source": [
    "# Question A2-P02-2 (2 marks)\n",
    "If you did PHY8001 you will have studied the pulsation period of the variable star EH Lib. An example of the light curve, in the V-band, of EH Lib, taken at USQs Mount Kent observatory, is given in Figure 1 (next page). \n",
    "\n",
    "Estimate the ratio of EH Lib’s luminosity when it is brightest and dimmest. \n",
    "\n",
    "Given that the brightest magnitude of EH Lib is V = 9.35 `how much more luminous would it have to get` (above its luminosity at maximum brightness) to be seen with the naked eye?\n",
    "\n",
    "_Hint: You will need to use an equation from Chapter 3 of the textbook to solve this question. Assume stars with V = 6.0 can be seen with the naked eye._\n",
    "\n",
    "**Answer**\n",
    "\n",
    "\n",
    "\n",
    "Min flux: (trough 1, trough 2): -0.27, -0.255 => mean min flux: $(-0.27 + -0.255) / 2 = -0.2625mag$\n",
    "\n",
    "Max flux: (peak 1, peak 2): 0.243, 0.273 => mean max flux: $(0.243 + 0.273) / 2 = 0.258mag$\n",
    "\n",
    "Ratio of brightest / dimmest luminosity (i.e. flux ratio):\n",
    "\n",
    "$$\n",
    "\\frac{|-0.2625mag| + 0.258mag}{0.258mag} = 2.017\n",
    "$$\n",
    "\n",
    "So, EH Lb is twice as luminous at maxima than at minima.\n",
    "\n",
    "\n",
    "Now, to determine required luminosity increase, let:\n",
    "\n",
    "$m_1 = 9.35$\n",
    "\n",
    "$m_2 = 6$ (naked eye)\n",
    "\n",
    "$$\n",
    "100^{(m_1 - m_2)/5} = \\frac{F_2}{F_1} = 100^{(9.35 - 6)/5} = 21.88\n",
    "$$\n",
    "\n",
    "EH Lib would need to be 21.88 times more luminous to be visible with naked eye."
   ]
  },
  {
   "cell_type": "code",
   "execution_count": 10,
   "id": "982c2485-6d54-45ee-a7dc-516b1c913634",
   "metadata": {},
   "outputs": [
    {
     "data": {
      "text/plain": [
       "(-0.2625, 0.258, 2.017441860465116)"
      ]
     },
     "execution_count": 10,
     "metadata": {},
     "output_type": "execute_result"
    }
   ],
   "source": [
    "min1 = -0.27\n",
    "min2 = -0.255\n",
    "max1 = 0.243\n",
    "max2 = 0.273\n",
    "max_mag = (min1 + min2) / 2 \n",
    "min_mag = (max1 + max2) / 2 \n",
    "max_mag, min_mag, (abs(max_mag) + min_mag) / min_mag"
   ]
  },
  {
   "cell_type": "code",
   "execution_count": 11,
   "id": "83076473-da48-45b5-92db-105c22db97fb",
   "metadata": {},
   "outputs": [
    {
     "data": {
      "text/plain": [
       "21.87761623949552"
      ]
     },
     "execution_count": 11,
     "metadata": {},
     "output_type": "execute_result"
    }
   ],
   "source": [
    "m_1 = 9.35\n",
    "m_2 = 6\n",
    "100**((m_1 - m_2)/5)"
   ]
  },
  {
   "cell_type": "markdown",
   "id": "453e0761-9aab-4dee-9d6f-b7c346093905",
   "metadata": {},
   "source": [
    "# Question A2-P02-3 (2 marks)\n",
    "Figure 2 (on page 3) shows the light curve of δ Cephei. The peak visual magnitude of δ Cephei is 3.5 mag and it is a classical Cephei star. \n",
    "\n",
    "Given the uncertainty in the period-luminosity relation shown in Figure 14.5 (Page 487) of the testbook is ∆M = 0.5 magnitude, calculate the distance to δ Cephei along with the uncertainty in this distance. \n",
    "\n",
    "Assume there is 0.23 magnitudes of extinction towards δ Cephei.\n",
    "\n",
    "_Hint: Assume there are no errors in any of the other measurements._\n",
    "\n",
    "**Answer**\n",
    "\n",
    "Assume \"peak visual magnitude\" refers to _apparent_ visual magnitude:\n",
    "\n",
    "$m_V = 3.5$\n",
    "\n",
    "$\\Delta M_V = 0.5$\n",
    "\n",
    "$A_V = 0.23$\n",
    "\n",
    "$P_d = 5.37$\n",
    "\n",
    "Figure is from p485 of text.\n",
    "\n",
    "$$\n",
    "M_{(V)} = -2.81 log_{10}(P_d) - 1.43 = -2.81 log_{10}(5.37) - 1.43 = -3.48\n",
    "$$\n",
    "\n",
    "Distance:\n",
    "$$\n",
    "d = 10^{\\frac{(m_V - M_V + 5 - A_V)}{5}} = 224pc\n",
    "$$\n",
    "\n",
    "Distance using the greatest absolute magnitude from PL error bounds ($\\Delta M$):\n",
    "\n",
    "$$\n",
    "d_1 = 10^{\\frac{(m_V - (M_V - \\Delta M_V / 2) + 5 - A_V)}{5}} = 251pc\n",
    "$$\n",
    "\n",
    "Distance using the least absolute magnitude from PL error bounds ($\\Delta M$):\n",
    "\n",
    "$$\n",
    "d_2 = 10^{\\frac{(m_V - (M_V + \\Delta M_V / 2) + 5 - A_V)}{5}} = 200pc\n",
    "$$\n",
    "\n",
    "Mean uncertainty:\n",
    "\n",
    "$$\n",
    "\\frac{(d_1 - d) + (d - d_2)}{2} = \\frac{(251pc - 224pc) + (224pc - 200pc)}{2} = 25.8\n",
    "$$\n",
    "\n",
    "\n",
    "So distance to $\\delta$ Cephei was calculated to be $224pc$ with mean uncertainty of $\\pm 25.8pc$"
   ]
  },
  {
   "cell_type": "code",
   "execution_count": 12,
   "id": "743f5201-dcba-4159-b441-94f81cd78292",
   "metadata": {},
   "outputs": [
    {
     "data": {
      "text/plain": [
       "-3.4812277428157508"
      ]
     },
     "execution_count": 12,
     "metadata": {},
     "output_type": "execute_result"
    }
   ],
   "source": [
    "m_V = 3.5\n",
    "error = 0.5\n",
    "A_V = 0.23\n",
    "P_d = 5.37\n",
    "M_V = -2.81 * math.log10(P_d) - 1.43\n",
    "M_V"
   ]
  },
  {
   "cell_type": "code",
   "execution_count": 13,
   "id": "408573c2-cc60-4a67-ae1e-c79e16526575",
   "metadata": {},
   "outputs": [
    {
     "data": {
      "text/plain": [
       "(223.99872614744874, 251.33070447756913, 199.63907481967752)"
      ]
     },
     "execution_count": 13,
     "metadata": {},
     "output_type": "execute_result"
    }
   ],
   "source": [
    "d = 10 ** ( (m_V - (M_V) + 5 - A_V) / 5 )\n",
    "d_1 = 10 ** ( (m_V - (M_V - error/2) + 5 - A_V) / 5 )\n",
    "d_2 = 10 ** ( (m_V - (M_V + error/2) + 5 - A_V) / 5 )\n",
    "d, d_1, d_2"
   ]
  },
  {
   "cell_type": "code",
   "execution_count": 14,
   "id": "408c5a9d-977e-4eab-b6fb-2abd38b32e04",
   "metadata": {},
   "outputs": [
    {
     "data": {
      "text/plain": [
       "25.845814828945805"
      ]
     },
     "execution_count": 14,
     "metadata": {},
     "output_type": "execute_result"
    }
   ],
   "source": [
    "((d_1 - d) + (d - d_2)) / 2"
   ]
  },
  {
   "cell_type": "markdown",
   "id": "ff9be038-5a92-442a-854e-4ed7be170af4",
   "metadata": {},
   "source": [
    "# Question A2-P03-1 (2 marks)\n",
    "There are a number of different classes of supernovae. Explain the different classes how they are identified and what are their progenitors.\n",
    "\n",
    "_Hint: Type Ia supernovae are discussed in Chapter 18 of the textbook, so you do not need to give a full description of their mechanism here, but feel free to do so if you want._\n",
    "\n",
    "**Answer**\n",
    "\n",
    "Supernovae (SN) are primarily classified by their spectra at maximum light (e.g. presence or absence of Hydrogen), and (for Type II) the pattern of their light curve.\n",
    "\n",
    "### Type I\n",
    "\n",
    "**Characterised by:** No Hydrogen lines in spectra.\n",
    "\n",
    "#### Type Ia\n",
    "\n",
    "**Characterised by:** strong Si II line at 615nm.\n",
    "\n",
    "**Progenitor:** funadmentally different to other SN's, as they are not from core collapse. \n",
    "Instead, they form from a white dwarf accreting matter from binary companion star.\n",
    "\n",
    "Found in all types of galaxies.\n",
    "\n",
    "The brightest type of SN (M = -18.4 peak).\n",
    "\n",
    "#### Type Ib\n",
    "**Characterised by:** strong Helium lines.\n",
    "\n",
    "#### Type Ic\n",
    "**Characterised by:** no Hydrogen or Helium lines.\n",
    "\n",
    "\n",
    "Type's Ib and Ic are found only in spiral galaxies, in areas of recent star formation.\n",
    "\n",
    "Likely formed from short-lived, massive stars.\n",
    "\n",
    "### Type II\n",
    "**Characterised by:** strong Hydrogen lines in spectra.\n",
    "\n",
    "**Progenitor:** massive stars at the end of their lives.\n",
    "\n",
    "Like Type Ib and Type Ic supernovae, only found in areas of recent star formation.\n",
    "\n",
    "#### Type II-P (plateau)\n",
    "Light curves show a plateau after their maximum.\n",
    "\n",
    "\n",
    "#### Type II-L (linear)\n",
    "Light curves show a linear decline after their maximum.\n"
   ]
  },
  {
   "cell_type": "markdown",
   "id": "ddcd0199-0aba-4e48-91c7-ec5f8820a47c",
   "metadata": {},
   "source": [
    "# Question A2-P03-2 (1 mark)\n",
    "If you have a 2.0 M⊙ neutron star with a radius of 10 km, what would the gravitational binding energy of the star be?\n",
    "\n",
    "**Answer**\n",
    "\n",
    "$M = 2M_{\\odot}$\n",
    "\n",
    "$R = 10,000m$\n",
    "\n",
    "Gravitational binding energy is the inverse of gravitational potential energy, which is given by:\n",
    "\n",
    "$$\n",
    "U_g = - \\frac{3}{5} \\frac{GM^2}{R} = \\frac{3}{5} \\frac{G (3.9782*10^{30}kg)^2}{10000m} = -6.34 * 10^{46} J\n",
    "$$\n",
    "\n",
    "So, gravitational binding energy is $6.34 * 10^{46} J$"
   ]
  },
  {
   "cell_type": "code",
   "execution_count": 15,
   "id": "b67f1319-0e2e-4950-83d5-96dc92a6bba8",
   "metadata": {},
   "outputs": [
    {
     "data": {
      "text/plain": [
       "3.9782e+30"
      ]
     },
     "execution_count": 15,
     "metadata": {},
     "output_type": "execute_result"
    }
   ],
   "source": [
    "m = 2 * M_sun\n",
    "r = 10000\n",
    "m"
   ]
  },
  {
   "cell_type": "code",
   "execution_count": 16,
   "id": "5fb46088-398a-4cb4-80a4-fa8d1f8ff538",
   "metadata": {},
   "outputs": [
    {
     "data": {
      "text/plain": [
       "-6.33765944716963e+46"
      ]
     },
     "execution_count": 16,
     "metadata": {},
     "output_type": "execute_result"
    }
   ],
   "source": [
    "- (3/5) * ((G * m ** 2) / (r))"
   ]
  },
  {
   "cell_type": "markdown",
   "id": "e325d7cd-0b71-4e0d-ae92-e4bdefdfe15c",
   "metadata": {},
   "source": [
    "# Question A2-P04-1 (1 mark)\n",
    "The spectra of DB white dwarfs show helium absorption lines which are formed by excited He I atoms with one electron in the lowest (n = 1) orbital and the other in an n = 2 orbital. \n",
    "\n",
    "These stars are not observed with temperatures below about 11,000 K. Using what you know about spectral line formation, give a qualitative explanation why the helium lines would not be seen at lower temperatures. \n",
    "\n",
    "As a DB white dwarf cools below 12,000 K, into what spectral type does it change?\n",
    "\n",
    "**Answer**\n",
    "\n",
    "Spectral absorption lines occur when an atom absorbs a photon with just the right energy (wavelength) for an electron to make an upward transition to a higher orbital state.\n",
    "\n",
    "Stars of different temperatures have electrons at different energy levels, which will absorb photons at specific wavelengths (i.e. temperature is the main driver of spectra). \n",
    "\n",
    "For a star to produce helium lines it requires a particular temperature (energy) to make the transition. From what we see with DB white dwarfs, this temperature required for helium lines must be ≧11,000K, so we don't see helium lines at lower temperatures.\n",
    "\n",
    "As a DB white dwarf cools below 12,000 K it becomes a ZZ Ceti variable or DAV star (i.e. a sub-type of white dwarf). "
   ]
  },
  {
   "cell_type": "markdown",
   "id": "029cadf1-68f4-4365-a607-a4aedc931a7b",
   "metadata": {},
   "source": [
    "# Question A2-P04-2 (1 mark)\n",
    "What would the radius of Jupiter be if it were as dense as a neutron star?\n",
    "\n",
    "_Hint: The typical density of a neutron star is given in the textbook._\n",
    "\n",
    "**Answer**\n",
    "\n",
    "$\\rho = 6.65 * 10^{17} kg / m^{-3}$ \n",
    "\n",
    "$M_J = 317.83M_{\\odot} = 6.322 * 10^{32}kg$\n",
    "\n",
    "\n",
    "Find the volume that $M_J$ would occupy at $\\rho$:\n",
    "\n",
    "$$\n",
    "V = \\frac{6.322 * 10^{32}kg}{6.65 * 10^{17} kg / m^{-3}} = 9.51*10^{14}m^3\n",
    "$$\n",
    "\n",
    "\n",
    "Approximate radius from volume of sphere:\n",
    "\n",
    "$$\n",
    "r = (\\frac{3V}{4\\pi})^{1/3} = (\\frac{3 * 9.51*10^{14}m^3}{4\\pi})^{1/3} = 60,998m\n",
    "$$\n",
    "\n",
    "i.e. approx 61km, much smaller than its true radius of 71,493km ($11.209R_{\\oplus}$)."
   ]
  },
  {
   "cell_type": "code",
   "execution_count": 17,
   "id": "40dd6fd8-b321-4f87-b4ca-4cab19c131b4",
   "metadata": {},
   "outputs": [
    {
     "data": {
      "text/plain": [
       "950670154887218.0"
      ]
     },
     "execution_count": 17,
     "metadata": {},
     "output_type": "execute_result"
    }
   ],
   "source": [
    "rho = 6.65E+17\n",
    "M_j = 317.83 * M_sun\n",
    "V = M_j / rho\n",
    "V"
   ]
  },
  {
   "cell_type": "code",
   "execution_count": 18,
   "id": "56e2e3af-847c-424e-a2ea-3d4c6996cceb",
   "metadata": {},
   "outputs": [
    {
     "data": {
      "text/plain": [
       "60997.74081038684"
      ]
     },
     "execution_count": 18,
     "metadata": {},
     "output_type": "execute_result"
    }
   ],
   "source": [
    "r = ((3 * V) / (4 * math.pi))**(1/3)\n",
    "r"
   ]
  },
  {
   "cell_type": "markdown",
   "id": "bfff64e5-857c-4662-a4bd-b6330409bcd6",
   "metadata": {},
   "source": [
    "# Question A2-P05-1 (1 mark)\n",
    "If the Sun were replaced with a one solar-mass black hole, what would happen to the orbit of the planets in our solar-system? What if the Sun were to be replaced by a one solar-mass neutron star?\n",
    "\n",
    "**Answer**\n",
    "\n",
    "The orbit of planets is primarily governed by the mass of the Sun + Planets, and the distance between the two objects, illustrated by Newton's law of universal gravitation:\n",
    "\n",
    "$$F_g = \\frac{GMm}{r^2}$$\n",
    "\n",
    "Replacing the Sun with a one solar-mass black hole or neutron star by definition does not change either of these key parameters - distance (i.e. radius) and the masses (and therefore gravitatonal force governing their orbits) remains the same."
   ]
  },
  {
   "cell_type": "markdown",
   "id": "526ae8dd-5203-4d24-9def-0d7bf176dad5",
   "metadata": {},
   "source": [
    "# Question A2-P05-2 (2 marks)\n",
    "Given that Event A is you starting a clock in a laboratory at time t = 0, determine whether the following events are within the future light cone of event A, its past light cone or elsewhere:\n",
    "\n",
    "_Hint: You will need to look up the distances to the various objects yourself._\n",
    "\n",
    "**a) η Carinae explodes as a supernovae at time t = +100 years.**\n",
    "\n",
    "p624\n",
    "\n",
    "$t = 100 y = 3.156 * 10^{9}s$\n",
    "\n",
    "$x = 7502 ly = 7.0974 * 10^{19}m$ (Source: https://en.wikipedia.org/wiki/Eta_Carinae).\n",
    "\n",
    "Use spacetime interval to check if events are timelike:\n",
    "\n",
    "$$(\\Delta s)^2 = (ct)^2 - (\\Delta x)^2 - (\\Delta y)^2 - (\\Delta z)^2$$\n",
    "\n",
    "$$(\\Delta s)^2 = (c * 3.156 * 10^{9}s)^2 - (7.0974 * 10^{19}m)^2 = -5.036*10^{-39}m^2$$\n",
    "\n",
    "$\\Delta s^2 < 0$ = Elsewhere"
   ]
  },
  {
   "cell_type": "code",
   "execution_count": 126,
   "id": "125260d2-878b-4290-92e8-ce3543d0cfe6",
   "metadata": {},
   "outputs": [
    {
     "data": {
      "text/plain": [
       "(3155760000.0, 7.0974e+19)"
      ]
     },
     "execution_count": 126,
     "metadata": {},
     "output_type": "execute_result"
    }
   ],
   "source": [
    "t = 100 * 365.25 * 24 * 60 * 60\n",
    "x = 7.0974e+19\n",
    "t, x"
   ]
  },
  {
   "cell_type": "code",
   "execution_count": 127,
   "id": "2c361431-ad36-47f5-b642-2e6d39d853d4",
   "metadata": {},
   "outputs": [
    {
     "data": {
      "text/plain": [
       "-5.036413621789252e+39"
      ]
     },
     "execution_count": 127,
     "metadata": {},
     "output_type": "execute_result"
    }
   ],
   "source": [
    "((c * t) ** 2) - (x**2)"
   ]
  },
  {
   "cell_type": "markdown",
   "id": "9ea2a00b-7bee-468b-b511-94362bbcbc32",
   "metadata": {},
   "source": [
    "**b) SN 1987A explodes as a supernovae at t = −6.3 × 10^12 s.**\n",
    "\n",
    "$t = −6.3 × 10^{12}s$\n",
    "\n",
    "$x = 168,000 ly = 1.59 * 10^{21} m$ (Source: https://en.wikipedia.org/wiki/SN_1987A)\n",
    "\n",
    "$$(\\Delta s)^2 = (c * |−6.3 × 10^{12}s|)^2 - (1.59 * 10^{21} m)^2 = 1.04*10^{42}m^2$$\n",
    "\n",
    "T < 0, and $\\Delta s^2 > 0$ = Past"
   ]
  },
  {
   "cell_type": "code",
   "execution_count": 136,
   "id": "7b4c95a0-d88b-4eed-9042-bc74a5513d89",
   "metadata": {},
   "outputs": [
    {
     "data": {
      "text/plain": [
       "(6300000000000.0, 1.589448e+21)"
      ]
     },
     "execution_count": 136,
     "metadata": {},
     "output_type": "execute_result"
    }
   ],
   "source": [
    "t = 6.3E+12\n",
    "x = 168000 * 9.461e+15\n",
    "t, x"
   ]
  },
  {
   "cell_type": "code",
   "execution_count": 137,
   "id": "926cb4f9-89bb-4dd6-98b1-2080157072e8",
   "metadata": {},
   "outputs": [
    {
     "data": {
      "text/plain": [
       "1.040814359702429e+42"
      ]
     },
     "execution_count": 137,
     "metadata": {},
     "output_type": "execute_result"
    }
   ],
   "source": [
    "((c * t) ** 2) - (x**2)"
   ]
  },
  {
   "cell_type": "markdown",
   "id": "16e060dd-662c-4f12-a1b7-f426ebea02e8",
   "metadata": {},
   "source": [
    "**c) a supernovae explodes in the Andromeda galaxy at t = +6.3 × 10^13 s.**\n",
    "\n",
    "$t = 6.3 * 10^{13} s$\n",
    "\n",
    "$x = 2.537 * 10^6 ly = 2.400*10^{22} m$  (Source: https://en.wikipedia.org/wiki/Andromeda_Galaxy)\n",
    "\n",
    "$$(\\Delta s)^2 = (c * 6.3 * 10^{13} s)^2 - (2.400*10^{22} m)^2 = -2.19*10^{44}m^2$$\n",
    "\n",
    "$\\Delta s^2 < 0$ = Elsewhere"
   ]
  },
  {
   "cell_type": "code",
   "execution_count": 120,
   "id": "5fe84f7a-1f12-4ead-9d0c-dbb85ddc8203",
   "metadata": {},
   "outputs": [
    {
     "data": {
      "text/plain": [
       "(63000000000000.0, 2.4002557e+22)"
      ]
     },
     "execution_count": 120,
     "metadata": {},
     "output_type": "execute_result"
    }
   ],
   "source": [
    "t = 6.3E+13\n",
    "x = 2.537E+6 * 9.461e+15\n",
    "t, x"
   ]
  },
  {
   "cell_type": "code",
   "execution_count": 121,
   "id": "ae2d5e77-f499-434b-8efd-5e2404ba493a",
   "metadata": {},
   "outputs": [
    {
     "data": {
      "text/plain": [
       "-2.1940681209760607e+44"
      ]
     },
     "execution_count": 121,
     "metadata": {},
     "output_type": "execute_result"
    }
   ],
   "source": [
    "((c * t) ** 2) - (x**2) "
   ]
  },
  {
   "cell_type": "markdown",
   "id": "3c7b7a69-2343-4db7-a046-a115774f253a",
   "metadata": {},
   "source": [
    "**d) a supernovae explodes at the centre of the Milky way at time t = −8.5 × 10^12 s.**\n",
    "\n",
    "$t = −8.5 * 10^{12} s$\n",
    "\n",
    "$x = 7.4 * 10^3 ly = 7.0 * 10^{19} m$ (Source: https://en.wikipedia.org/wiki/Galactic_Center)\n",
    "\n",
    "$$(\\Delta s)^2 = (c * |−8.5 * 10^{12} s|)^2 - (7.0 * 10^{19} m)^2 = 6.48*10^{42}m^2$$\n",
    "\n",
    "T < 0, and $\\Delta s^2 > 0$ = Past"
   ]
  },
  {
   "cell_type": "code",
   "execution_count": 132,
   "id": "183c35be-46a1-4bc9-8647-0141dd06fd1e",
   "metadata": {},
   "outputs": [
    {
     "data": {
      "text/plain": [
       "(8500000000000.0, 7.00114e+19)"
      ]
     },
     "execution_count": 132,
     "metadata": {},
     "output_type": "execute_result"
    }
   ],
   "source": [
    "t = 8.5E+12\n",
    "x = 7.4E+3 * 9.461e+15\n",
    "t, x"
   ]
  },
  {
   "cell_type": "code",
   "execution_count": 133,
   "id": "1a2551a5-fae3-464c-bbc8-af48113a03ce",
   "metadata": {},
   "outputs": [
    {
     "data": {
      "text/plain": [
       "6.488604570243547e+42"
      ]
     },
     "execution_count": 133,
     "metadata": {},
     "output_type": "execute_result"
    }
   ],
   "source": [
    "((c * t) ** 2) - (x**2)"
   ]
  },
  {
   "cell_type": "markdown",
   "id": "dfa4c9e2-b2cf-4589-b870-b24a2e0a6aa9",
   "metadata": {},
   "source": [
    "**e) Rigel explodes as a supernovae at time t = +750 years.**\n",
    "\n",
    "$t = 750y = 2.37 * 10^{10} s$\n",
    "\n",
    "$x = 864.3ly = 8.177 * 10^{18} m$ (Source: https://en.wikipedia.org/wiki/Rigel)\n",
    "\n",
    "$$(\\Delta s)^2 = (c * 2.37 * 10^{10} s)^2 - (8.177 * 10^{18} m)^2 = -1.65*10^{37}m^2$$\n",
    "\n",
    "$\\Delta s^2 < 0$ = Elsewhere"
   ]
  },
  {
   "cell_type": "code",
   "execution_count": 124,
   "id": "d6df3112-c049-4741-89c0-ff93475a393f",
   "metadata": {},
   "outputs": [
    {
     "data": {
      "text/plain": [
       "(23668200000.0, 8.1771423e+18)"
      ]
     },
     "execution_count": 124,
     "metadata": {},
     "output_type": "execute_result"
    }
   ],
   "source": [
    "t = 750 * 365.25 * 24 * 60 * 60\n",
    "x = 864.3 * 9.461e+15\n",
    "t, x"
   ]
  },
  {
   "cell_type": "code",
   "execution_count": 125,
   "id": "266d25a7-e324-4e29-841c-206e6fe578ee",
   "metadata": {},
   "outputs": [
    {
     "data": {
      "text/plain": [
       "-1.6518856839863634e+37"
      ]
     },
     "execution_count": 125,
     "metadata": {},
     "output_type": "execute_result"
    }
   ],
   "source": [
    "((c * t) ** 2) - (x**2) "
   ]
  },
  {
   "cell_type": "markdown",
   "id": "ed062f07-b7ce-4bec-b32f-f8059a6d4875",
   "metadata": {
    "tags": []
   },
   "source": [
    "# Question A2-P05-3 (2 marks)\n",
    "SS 433 is an eclipsing (i = 78.8º) X-ray binary in the constellation of Aquila 18,000 light years away. \n",
    "\n",
    "It consists of a compact object which is consuming its companion (a normal A star). \n",
    "\n",
    "Kubota et al. (2010) studied the system and determined the following parameters: \n",
    "\n",
    "- orbital period = 13.082 days\n",
    "- peak orbital velocity of the normal star = 58.3 km/s\n",
    "- and the mass of the normal star is 12.4 M⊙. \n",
    "\n",
    "Based on this data, `what is the mass` of the compact object? \n",
    "\n",
    "Based on this mass estimate what type of object do you think the compact object is?\n",
    "\n",
    "_Hint: You will need to solve a cubic equation to get this answer. A method of solving cubic equations is given on: https://imagine.gsfc.nasa.gov/features/yba/CygX1_mass/binary/equation_solve.html_\n",
    "\n",
    "**Answer**\n",
    "\n",
    "$i = 78º$\n",
    "\n",
    "$P = 13.082d = 1130284.8s$\n",
    "\n",
    "$v_A = 58300m/s$\n",
    "\n",
    "$v_{A,r} = v_A \\sin{i} = 57026m/s$\n",
    "\n",
    "$m = 12.4M_{\\odot} = 2.4665 * 10^{31}kg$\n",
    "\n",
    "ch 7, 18\n",
    "\n"
   ]
  },
  {
   "cell_type": "code",
   "execution_count": 2,
   "id": "d1c21e28-49fd-4a57-a6cf-7e000563730e",
   "metadata": {},
   "outputs": [
    {
     "data": {
      "text/plain": [
       "57026.005122780865"
      ]
     },
     "execution_count": 2,
     "metadata": {},
     "output_type": "execute_result"
    }
   ],
   "source": [
    "i = 78\n",
    "P = 1130284.8\n",
    "m_A = 12.4 * M_sun \n",
    "v_A = 58300\n",
    "v_Ar = v_A * math.sin(math.radians(i))\n",
    "v_Ar"
   ]
  },
  {
   "cell_type": "markdown",
   "id": "e9a9a210-9d54-4219-80a9-b2ec4998ee43",
   "metadata": {},
   "source": [
    "# Question A2-P06-1 (1 mark)\n",
    "The youngest millisecond pulsar (J1823-3021A) with the strongest magnetic field was discovered in 2011 by the Fermi LAT collaboration, using the Fermi Gamma Ray telescope. \n",
    "\n",
    "The period of J1823- 3021A is 0.00544 s and its period derivate is 3.385×10−18. \n",
    "\n",
    "Assuming that no accretion has occurred to alter the pulsar’s spin, `estimate the age` of the millisecond pulsar and `estimate the strength of its magnetic field`.\n",
    "\n",
    "_Hint: You will need to use equations in Chapter 16 of the textbook to answer this question. The typical age of millisecond pulsars is over 1 Gyr. Assume that the pulsar mass is 1.4 M⊙ and its radius is 10 km and the pulsar is a uniform sphere. Assume that the magnetic field of the pulsar is inclined to the rotation axis by 90◦._\n",
    "\n",
    "**Answer**\n",
    "\n",
    "$P = 0.00544 s$\n",
    "\n",
    "$\\dot{P} = 3.385*10^{-18}$\n",
    "\n",
    "$M = 1.4M_{\\odot} = 2.7847 * 10^{30}kg$\n",
    "\n",
    "$R = 10,000m$\n",
    "\n",
    "$\\theta = 90º$\n",
    "\n",
    "$I = \\frac 2 5 MR^2 = \\frac 2 5 * 2.7847 * 10^{30}kg * 10000^2m = 1.1139 * 10^{38} kg m^2$\n",
    "\n",
    "\n",
    "We can estimate age from how the spin period has slowed down since creation.\n",
    "\n",
    "Minimum spin for a $1.4_{\\odot}$ neutron star is:\n",
    "\n",
    "$P_{min} \\approx 5 * 10^{-4}s$\n",
    "\n",
    "So change in period is:\n",
    "\n",
    "$P_{max} \\approx P - P_{min} \\approx 0.00544 s - 5 * 10^{-4}s \\approx 0.00494s$\n",
    "\n",
    "So:\n",
    "\n",
    "$$\n",
    "t_{max} = \\frac{P_{max}}{\\dot{P}} = 1.46 * 10^{15}s = 46.2Myr\n",
    "$$\n",
    "\n",
    "\n",
    "Stength of magnetic field:\n",
    "\n",
    "$$\n",
    "B = \\frac{1}{2\\pi R^3 sin\\theta} \\sqrt{ \\frac{3\\mu_0 c^3 I P \\dot{P}}{2\\pi} } = \\frac{1}{2\\pi 10000^3m} \\sqrt{ \\frac{3 \\mu_0 c^3 * 1.1139 * 10^{38} kg m^2 * 0.00544 s * 3.385*10^{-18}}{2\\pi} } = 9.16 * 10^5T\n",
    "$$"
   ]
  },
  {
   "cell_type": "code",
   "execution_count": 37,
   "id": "9f74e7bf-5732-4204-94c9-09869f7a6119",
   "metadata": {},
   "outputs": [
    {
     "data": {
      "text/plain": [
       "1.1138959999999998e+38"
      ]
     },
     "execution_count": 37,
     "metadata": {},
     "output_type": "execute_result"
    }
   ],
   "source": [
    "P = 0.00544\n",
    "P_dot = 3.385E-18\n",
    "P_min = 5.0E-4\n",
    "P_max = P - P_min\n",
    "M = 1.4 * M_sun\n",
    "R = 10000\n",
    "theta = 90\n",
    "I = (2/5) * M * (R**2)\n",
    "I"
   ]
  },
  {
   "cell_type": "code",
   "execution_count": 38,
   "id": "70520f84-97c0-4685-ab2e-08fdf99949f0",
   "metadata": {},
   "outputs": [
    {
     "data": {
      "text/plain": [
       "(1459379615952732.5, 46244949.42431403)"
      ]
     },
     "execution_count": 38,
     "metadata": {},
     "output_type": "execute_result"
    }
   ],
   "source": [
    "t_s = P_max / P_dot\n",
    "t_y = t_s / (365.25 * 24 * 60 * 60)\n",
    "t_s, t_y"
   ]
  },
  {
   "cell_type": "code",
   "execution_count": 39,
   "id": "3a8d2105-da11-47de-8b90-75f7e34314cb",
   "metadata": {},
   "outputs": [
    {
     "data": {
      "text/plain": [
       "916490.3991227532"
      ]
     },
     "execution_count": 39,
     "metadata": {},
     "output_type": "execute_result"
    }
   ],
   "source": [
    "B = (1 / (2 * math.pi * (R**3) )) * math.sqrt( (3 * mu_0 * (c**3) * I * P * P_dot) / (2 * math.pi) )\n",
    "B"
   ]
  },
  {
   "cell_type": "markdown",
   "id": "9de751dc-fb21-435f-b3ef-bfc5ee59b26c",
   "metadata": {},
   "source": [
    "# Question A2-P06-2 (1 mark)\n",
    "Algol (the “demon” star in Arabic) is a semidetached binary. Every 2.87 days, its brilliance is reduced by more than half as it undergoes a deep eclipse, its apparent magnitude dimming from 2.1 to 3.4. The system consists of a B8 main-sequence star and a late-type (G or K) subgiant; the deep eclipses occur when the larger cooler star (the subgiant) moves in front of its smaller brighter companion. \n",
    "\n",
    "The “Algol paradox”, which troubled astronomers in the first half of the twentieth century, is that according to the ideas of stellar evolution discussed in Section 10.6 of the textbook, the more massive B8 star should have been the first to evolve off the main sequence. What is your solution to this paradox?\n",
    "\n",
    "_Hint: The solution to the Algol paradox is well documented, but I want the answer in your own words. Describe both what exactly the paradox is and your solution to it._\n",
    "\n",
    "\n",
    "**Answer**\n",
    "\n",
    "The speed and path which stars evolve on the main sequence depends on their mass.\n",
    "\n",
    "For a typical binary system, the larger star would be x than the smaller y star.\n",
    "\n",
    "The Algol paradox presents a situation in which the opposite is true, so why is this?\n",
    "\n",
    "The stars in this binary system are reasonably close together.\n",
    "\n",
    "During some stages of x stars evolution, it may have expanded such that its outer layers came in contact, allowing accretion of matter across.\n",
    "\n",
    "Through this process, x star could have become y.\n",
    "\n",
    "This explains why we see a binary configuration which is in opposition to the typical evolutionary track (which would have held true if the demon didn't feast).\n",
    "\n",
    "...\n",
    "\n",
    "\n",
    "Algol and its companion star are very close to each other — about five million miles away from each other. As a star ages, its core fuses heavier stuff and puts out more energy, puffing out its outer layers. Those outer layers must have come in range of Algol's gravity and, like a good demon, Algol sank its claws into them. Having stolen its companion's extra mass, Algol itself continued on its way, preternaturally young, beautiful, and ready to baffle scientists.\n",
    "\n",
    "ch18\n",
    "problem 18.10"
   ]
  },
  {
   "cell_type": "code",
   "execution_count": null,
   "id": "54dbf634-4ad6-42e7-ae66-b3e35d36d7f3",
   "metadata": {},
   "outputs": [],
   "source": []
  },
  {
   "cell_type": "markdown",
   "id": "518975a1-5fe6-4961-a7bb-fe8620e241bc",
   "metadata": {},
   "source": [
    "# Question A2-P06-3 (1 mark)\n",
    "If a nova fireball has the Eddington luminosity, `estimate the photospheric temperature` of the fireball. \n",
    "\n",
    "Assume an average opacity of 0.04 m2 kg−1, a mass eject rate of 10^18 kg s−1 and an ejection speed of 2000 km/s.\n",
    "\n",
    "_Hint: The Eddington Luminosity can be found in the textbook._\n",
    "\n",
    "**Answer**\n",
    "\n",
    "ch18\n",
    "\n",
    "$\\kappa = 0.04 m2 kg−1$\n",
    "\n",
    "\n",
    "$$L_{Ed} = \\frac{4\\pi Gc}{\\bar{\\kappa}} M$$\n",
    "\n",
    "p341"
   ]
  },
  {
   "cell_type": "code",
   "execution_count": null,
   "id": "56bf297e-8471-4e2e-a34e-6f602dae873e",
   "metadata": {},
   "outputs": [],
   "source": []
  },
  {
   "cell_type": "code",
   "execution_count": 40,
   "id": "74231e9f-beb9-4f9f-b039-224e7773a082",
   "metadata": {},
   "outputs": [
    {
     "data": {
      "text/plain": [
       "81.25"
      ]
     },
     "execution_count": 40,
     "metadata": {},
     "output_type": "execute_result"
    }
   ],
   "source": [
    "13/16 * 100"
   ]
  },
  {
   "cell_type": "markdown",
   "id": "f35f7b1d-a229-4d4c-af59-2f27adae1ba6",
   "metadata": {},
   "source": [
    "# References\n",
    "\n",
    "Wikipedia, 2022. _Messier 67_, viewed 4 Spetember 2020, \\<https://en.wikipedia.org/wiki/Messier_67>."
   ]
  },
  {
   "cell_type": "code",
   "execution_count": null,
   "id": "bcba944e-1d0a-492b-946e-57352cfd552e",
   "metadata": {},
   "outputs": [],
   "source": []
  }
 ],
 "metadata": {
  "kernelspec": {
   "display_name": "Python 3 (ipykernel)",
   "language": "python",
   "name": "python3"
  },
  "language_info": {
   "codemirror_mode": {
    "name": "ipython",
    "version": 3
   },
   "file_extension": ".py",
   "mimetype": "text/x-python",
   "name": "python",
   "nbconvert_exporter": "python",
   "pygments_lexer": "ipython3",
   "version": "3.7.11"
  }
 },
 "nbformat": 4,
 "nbformat_minor": 5
}
