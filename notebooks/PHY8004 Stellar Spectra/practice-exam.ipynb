{
 "cells": [
  {
   "cell_type": "code",
   "execution_count": 1,
   "id": "c1bab030-bf24-49da-8527-daba6c655c7c",
   "metadata": {},
   "outputs": [],
   "source": [
    "import math\n",
    "import pandas as pd\n",
    "import matplotlib.pyplot as plt\n",
    "\n",
    "AU = 1.4959787066E+11\n",
    "M_sun = 1.9891E+30\n",
    "L_sun = 3.839E+26\n",
    "R_sun = 6.95508E+8\n",
    "G_sun = 274\n",
    "M_bol_sun = 4.74\n",
    "M_earth = 5.9736E+24\n",
    "R_earth = 6.378136E+6\n",
    "c = 299792458\n",
    "G = 6.67428E-11\n",
    "sigma = 5.670400E-8\n",
    "u = 1.660538782E-27     # kg per atomic mass\n",
    "ev = 1.602176487E-19\n",
    "m_e = 9.1093821E-31     # electron mass kg\n",
    "m_n = 1.67492711E-27    # neutron mass kg\n",
    "m_H = 1.673532499E-27   # hydrogen mass kg\n",
    "k = 1.3806504E-23       # J\n",
    "k_ev = 8.617343E-5      # eV\n",
    "h = 6.62606896E-34\n",
    "h_bar = h/(2 * math.pi)\n",
    "mu_0 = 4 * math.pi * (10**-7)"
   ]
  },
  {
   "cell_type": "markdown",
   "id": "23d4372f-4ae2-4d1b-a215-d64a691a1365",
   "metadata": {},
   "source": [
    "# Q1 (Boltzmann Equation, ch8)\n",
    "\n",
    "For a gas of neutral hydrogen atoms, at which temperature will equal numbers of\n",
    "atoms have electrons in the ground state and in the first excited state?\n",
    "\n",
    "**Answer**\n",
    "\n",
    "Ratio of number of atoms in two states:\n",
    "\n",
    "$$\\frac{N_b}{N_a} = \\frac{g_b e^{-E_b/kT}}{g_a e^{-E_a/kT}} = \\frac{g_b}{g_a} e^{-(E_b-E_a)/kT}$$\n",
    "\n",
    "Where\n",
    "$k$ = Boltzmann constant\n",
    "\n",
    "$E_a,E_b$ are energies (eV)\n",
    "\n",
    "$g_a,g_b$ are number of degenerate states (i.e. how many different quantum states are there which have the same energy) , e.g.  for hydrogen:\n",
    "\n",
    "$g_b = 2n^2$\n",
    "\n",
    "**Let:**\n",
    "\n",
    "$E_1 = -13.6eV$\n",
    "\n",
    "$E_2 = -3.4eV$\n",
    "\n",
    "$g_1 = 2(1)^2 = 2$\n",
    "\n",
    "$g_2 = 2(2)^2 = 8$\n",
    "\n",
    "**Solve Boltzmann Eq for T, where $\\frac{N_2}{N_1} = 0.5$:**\n",
    "\n",
    "$$ratio = \\frac{g_2}{g_1} e^{-(E_2-E_1)/kT}$$\n",
    "\n",
    "$$\\frac{ratio}{g_2/g_1} = e^{-(E_2-E_1)/kT}$$\n",
    "\n",
    "$$ln{\\frac{ratio}{g_2/g_1}} = \\frac{-(E_2-E_1)}{kT}$$\n",
    "\n",
    "$$\n",
    "T = \\frac{-(E_2-E_1)}{k ln{\\frac{ratio}{g_2/g_1}}} = \\frac{-((-3.4eV) - (-13.6eV))}{k ln{\\frac{0.5}{8/2}}} = 5.69 * 10^4 K\n",
    "$$\n",
    "\n"
   ]
  },
  {
   "cell_type": "code",
   "execution_count": 2,
   "id": "22c44b00-75a2-4cc6-b713-605431bb8454",
   "metadata": {},
   "outputs": [],
   "source": [
    "E_1 = -13.6 \n",
    "E_2 = -3.40\n",
    "g_1 = 2*(1**2)\n",
    "g_2 = 2*(2**2)\n",
    "ratio = 0.5"
   ]
  },
  {
   "cell_type": "code",
   "execution_count": 3,
   "id": "f8f1734a-0604-49c4-92e7-7c426e3a0d7c",
   "metadata": {},
   "outputs": [
    {
     "data": {
      "text/plain": [
       "56921.99021232502"
      ]
     },
     "execution_count": 3,
     "metadata": {},
     "output_type": "execute_result"
    }
   ],
   "source": [
    "-(E_2 - E_1) / (k_ev * math.log(ratio/(g_2/g_1) ))"
   ]
  },
  {
   "cell_type": "markdown",
   "id": "fcc99f12-d131-41cd-a234-f12419e6f4a9",
   "metadata": {},
   "source": [
    "# Q2 (Binary Mass/ratios, ch7)\n",
    "\n",
    "The above figure gives the radial velocities for two components of an eclipsing binary system. \n",
    "\n",
    "Assuming that the orbital plane of the system is at right angles to our line of sight, determine the following:\n",
    "\n",
    "**(a) The orbital period of the system.**\n",
    "\n",
    "$i = 90$\n",
    "\n",
    "$P = 1.2 days = 86400s$"
   ]
  },
  {
   "cell_type": "code",
   "execution_count": 5,
   "id": "5da2c5b6-6709-43b4-98bf-6e1cff839696",
   "metadata": {},
   "outputs": [
    {
     "data": {
      "text/plain": [
       "103679.99999999999"
      ]
     },
     "execution_count": 5,
     "metadata": {},
     "output_type": "execute_result"
    }
   ],
   "source": [
    "P = 1.2 * 24 * 60 * 60\n",
    "P"
   ]
  },
  {
   "cell_type": "markdown",
   "id": "e0b1c21e-9215-46db-b7bc-eebcb7996b6d",
   "metadata": {},
   "source": [
    "**(b) The approximate radial velocity of the centre-of-mass of the system.**\n",
    "\n",
    "\n",
    "$$\n",
    "RV_{CM} = \\frac{RV_{max} + RV_{min}}{2}\n",
    "$$\n",
    "\n",
    "\n",
    "Primary (larger object => lower orbital velocity):\n",
    "\n",
    "$v_{1,max} = -20km/s$\n",
    "\n",
    "$v_{1,min} = -110km/s$\n",
    "\n",
    "$$v_{1r} = \\frac{20km/s -110km/s}{2} = -45km/s$$\n",
    "\n",
    "Secondary (smaller object => higher orbital velocity):\n",
    "\n",
    "$v_{2,max} = -175km/s$\n",
    "\n",
    "$v_{2,min} = -250km/s$\n",
    "\n",
    "$$v_{1r} = \\frac{175km/s - 250km/s}{2} = -37.5km/s$$\n",
    "\n",
    "Center of mass velocity:\n",
    "\n",
    "$$\n",
    "v_{cm} = \\frac{45km/s + 37.5km/s}{2} = -41.km/s\n",
    "$$"
   ]
  },
  {
   "cell_type": "code",
   "execution_count": 6,
   "id": "b305bbf8-546f-43f3-95cb-972ba0225640",
   "metadata": {},
   "outputs": [
    {
     "data": {
      "text/plain": [
       "(45000.0, 37500.0, -41250.0)"
      ]
     },
     "execution_count": 6,
     "metadata": {},
     "output_type": "execute_result"
    }
   ],
   "source": [
    "v1_min = -110000\n",
    "v1_max = -20000\n",
    "\n",
    "v2_min = -250000\n",
    "v2_max = -175000\n",
    "\n",
    "v1r = abs((v1_min - v1_max) / 2)\n",
    "v2r = abs((v2_min - v2_max) / 2)\n",
    "\n",
    "v_cm = -(v1r+v2r)/2\n",
    "\n",
    "v1r, v2r, v_cm"
   ]
  },
  {
   "cell_type": "markdown",
   "id": "8aedd1e3-4725-4598-8191-233dad05dc4d",
   "metadata": {},
   "source": [
    "**(c) Assuming the curved fits to the data points are correct, is the radial velocity of the centre-of-mass constant? If not, what could be causing this?**\n",
    "\n",
    "This radial velocity of the centre-of-mass is also where the radial velocity curves of the two components cross.\n",
    "\n",
    "The points where they cross does appear to drift slightly, this could potentially be cause by an additional object in the system."
   ]
  },
  {
   "cell_type": "markdown",
   "id": "27a77419-a201-4830-8b80-a6891708ab34",
   "metadata": {},
   "source": [
    "**(d) The individual masses of the two stars in the system.**\n",
    "\n",
    "The maximum deviation in velocity of the primary from the radial velocity of the centre of mass of the system is:\n",
    "\n",
    "$$\n",
    "vs_1 = |-20km/s| - -41km/s = 61.25km/s\n",
    "$$\n",
    "\n",
    "and for secondary:\n",
    "\n",
    "$$\n",
    "vs_2 = |-175km/s| - -41km/s = 21.65km/s\n",
    "$$\n",
    "\n",
    "So ratio is:\n",
    "\n",
    "$$\n",
    "\\frac{m_1}{m_2} = \\frac{vs_2}{vs_1} = \\frac{-21.65km/s}{61.25km/s} = 3.53\n",
    "$$\n",
    "\n",
    "\n",
    "Combined mass:\n",
    "$$\n",
    "m_1 + m_2 = \\frac{P}{2\\pi G} \\frac{(vs_{1} + vs_{2})^3}{sin^3 i} = \\frac{103680s}{2\\pi 6.67428^{-11}Nm^2kg^{-2}} (72,500m/s + 20,000m/s)^3 = 1.15 * 10^{30}kg\n",
    "$$"
   ]
  },
  {
   "cell_type": "code",
   "execution_count": 7,
   "id": "ffd15bfa-bf10-4d46-b089-6d6039176065",
   "metadata": {},
   "outputs": [
    {
     "data": {
      "text/plain": [
       "(61250.0, 216250.0, 3.5306122448979593)"
      ]
     },
     "execution_count": 7,
     "metadata": {},
     "output_type": "execute_result"
    }
   ],
   "source": [
    "vs_1 = abs(v1_max) - v_cm\n",
    "vs_2 = abs(v2_max) - v_cm\n",
    "ratio = vs_2/vs_1\n",
    "\n",
    "vs_1, vs_2, ratio"
   ]
  },
  {
   "cell_type": "code",
   "execution_count": 8,
   "id": "15e23d6d-a86a-46f7-a10d-f83fef2d2cd7",
   "metadata": {},
   "outputs": [
    {
     "data": {
      "text/plain": [
       "5.283231734968466e+30"
      ]
     },
     "execution_count": 8,
     "metadata": {},
     "output_type": "execute_result"
    }
   ],
   "source": [
    "m1_m2 = (P / (2 * math.pi * G)) * ((vs_1 + vs_2)**3)\n",
    "m1_m2"
   ]
  },
  {
   "cell_type": "markdown",
   "id": "09b92a04-0a23-4f3a-af0b-40daec405463",
   "metadata": {},
   "source": [
    "Individual masses from velocity ratio:\n",
    "\n",
    "$$\\frac{m_1}{m_2} = \\frac{v_2}{v_1}$$\n",
    "\n",
    "$$\n",
    "m_1 = \\frac{m_1 + m_2}{1 + (\\frac{v_1}{v_2})} = \\frac{1.15 * 10^{30}kg}{1 + (\\frac{61,250m/s}{21,650m/s})} = 4.11*10^{30}kg = 2.07 M_{\\odot}\n",
    "$$\n",
    "\n",
    "$$\n",
    "m_2 = (m_1 + m_2) - m_1 = 1.15 * 10^{30}kg - 4.11*10^{30}kg = 1.16*10^{30}kg = 0.58 M_{\\odot}\n",
    "$$"
   ]
  },
  {
   "cell_type": "code",
   "execution_count": 9,
   "id": "6b0885e7-5e73-404c-8dd0-1342f7a89d02",
   "metadata": {},
   "outputs": [
    {
     "data": {
      "text/plain": [
       "(4.117113018691642e+30,\n",
       " 2.069837121658862,\n",
       " 1.1661187162768243e+30,\n",
       " 0.5862544448629151)"
      ]
     },
     "execution_count": 9,
     "metadata": {},
     "output_type": "execute_result"
    }
   ],
   "source": [
    "m_1 = m1_m2 / (1 + (vs_1 / vs_2))\n",
    "\n",
    "m_2 = m1_m2 - m_1\n",
    "\n",
    "m_1, m_1/M_sun, m_2, m_2/M_sun"
   ]
  },
  {
   "cell_type": "markdown",
   "id": "ff5749a1-2c83-4da6-bd3e-9415641b2aa2",
   "metadata": {},
   "source": [
    "**(e) Do you think that the orbital eccentricity of the system is close to zero? Why/whynot?**"
   ]
  },
  {
   "cell_type": "markdown",
   "id": "eb72fd57-056c-4336-99cc-ed9a9f016b02",
   "metadata": {},
   "source": [
    "Yes, the radial velocities appear sinusoidal, so eccentricity should be close to zero."
   ]
  },
  {
   "cell_type": "markdown",
   "id": "0948eccc-fb35-40f6-87b3-eb01ecb1ef4a",
   "metadata": {},
   "source": [
    "# Q3 (Sunspots ch11, Zeeman Effect ch5)\n",
    "\n",
    "If we have a sunspot with a magnetic field strength of 0.4 T, calculate the following:\n",
    "\n",
    "**(a) The wavelength of the three components of the 527.039nm (as measured in a laboratory on Earth) Fe line due to Zeeman splitting from the sunspot.**\n",
    "\n",
    "$B = 0.4T$\n",
    "\n",
    "$\\lambda_{lab} = 527.039nm$\n",
    "\n",
    "We need Zeeman effect equation 5.22 from p134:\n",
    "\n",
    "$$\n",
    "v_0 \\pm \\frac{eB}{4\\pi \\mu} = \\frac{ev 0.4T}{4\\pi m_e} = 5.60 * 10^9 Hz\n",
    "$$\n",
    "\n",
    "\n"
   ]
  },
  {
   "cell_type": "code",
   "execution_count": 10,
   "id": "c8f103cc-7579-40ef-a79c-45a3aab1a43a",
   "metadata": {},
   "outputs": [
    {
     "data": {
      "text/plain": [
       "5598498445.062653"
      ]
     },
     "execution_count": 10,
     "metadata": {},
     "output_type": "execute_result"
    }
   ],
   "source": [
    "B = 0.4\n",
    "lam = 527.039E-9\n",
    "\n",
    "v_0 = (ev * B) / (4 * math.pi * m_e)\n",
    "v_0"
   ]
  },
  {
   "cell_type": "markdown",
   "id": "773e3088-792c-4743-b028-dea2b3c543bc",
   "metadata": {},
   "source": [
    "Find delta:\n",
    "\n",
    "$$\n",
    "\\Delta \\lambda = \\frac{\\lambda}{c} v_0 = 9.84 * 10^{-6}\n",
    "$$\n",
    "\n",
    "So the lower and upper will be:\n",
    "\n",
    "$$\n",
    "\\lambda_a = \\lambda - (\\Delta \\lambda \\lambda) = 527.034nm\n",
    "$$\n",
    "\n",
    "$$\n",
    "\\lambda_b = \\lambda + (\\Delta \\lambda \\lambda) = 527.044nm\n",
    "$$"
   ]
  },
  {
   "cell_type": "code",
   "execution_count": 11,
   "id": "32e77484-d27e-48f9-906d-77248ecb7618",
   "metadata": {},
   "outputs": [
    {
     "data": {
      "text/plain": [
       "9.842232328564368e-06"
      ]
     },
     "execution_count": 11,
     "metadata": {},
     "output_type": "execute_result"
    }
   ],
   "source": [
    "lam_delta = (lam / c) * v_0\n",
    "lam_delta"
   ]
  },
  {
   "cell_type": "code",
   "execution_count": 12,
   "id": "12b21a51-64e4-4776-baa3-65cb4034c3f8",
   "metadata": {},
   "outputs": [
    {
     "data": {
      "text/plain": [
       "(5.270338127597157e-07, 5.270441872402843e-07)"
      ]
     },
     "execution_count": 12,
     "metadata": {},
     "output_type": "execute_result"
    }
   ],
   "source": [
    "lam - (lam_delta * lam), lam + (lam_delta * lam)"
   ]
  },
  {
   "cell_type": "markdown",
   "id": "6af1f610-6770-401e-8679-04953d5fec39",
   "metadata": {},
   "source": [
    "**(b) The magnetic pressure in the central umbra of the sunspot.**\n",
    "\n",
    "$$\n",
    "P_m = \\frac{B^2}{2\\mu_0} = 6.37 *10^{4} N / m^2\n",
    "$$\n",
    "\n",
    "p378"
   ]
  },
  {
   "cell_type": "code",
   "execution_count": 13,
   "id": "1e3f56d7-9e0d-4dc7-8642-9b8a3561c792",
   "metadata": {},
   "outputs": [
    {
     "data": {
      "text/plain": [
       "63661.977236758146"
      ]
     },
     "execution_count": 13,
     "metadata": {},
     "output_type": "execute_result"
    }
   ],
   "source": [
    "P_m = (B**2) / (2 * mu_0)\n",
    "P_m"
   ]
  },
  {
   "cell_type": "markdown",
   "id": "d30c4ac9-75d6-497b-8ac8-b1d961a5c5c2",
   "metadata": {},
   "source": [
    "# Q4 (Light cones, ch17)\n",
    "\n",
    "Given that Event A is you starting a clock in the laboratory at t = 0.\n",
    "\n",
    "If Event B is a flare going off on the Sun at t = -500 seconds, is Event A in the past light cone, future light cone, or elsewhere with respect to Event B?\n",
    "\n",
    "**Answer**\n",
    "\n",
    "Distance is 1x AU:\n",
    "\n",
    "$x = 1AU = 1.495 * 10^{11}m$\n",
    "\n",
    "Use spacetime interval to check if events are _timelike_ (i.e., light has time to travel between 2 events where $(\\Delta s)^2 > 0$):\n",
    "\n",
    "$$(\\Delta s)^2 = (ct)^2 - (\\Delta x)^2 - (\\Delta y)^2 - (\\Delta z)^2$$\n",
    "\n",
    "$$(\\Delta s)^2 = (c * 500s)^2 - (1.495 * 10^{11}m)^2 = 8.94 *10^{19}m^2$$\n",
    "\n",
    "$\\Delta s^2 > 0$ and $t_A > t_B$, so Event A is in future lightcone of Event B."
   ]
  },
  {
   "cell_type": "code",
   "execution_count": 14,
   "id": "a9743da1-b7b5-4031-a8ff-e917f48ffdcd",
   "metadata": {},
   "outputs": [
    {
     "data": {
      "text/plain": [
       "8.935656241434827e+19"
      ]
     },
     "execution_count": 14,
     "metadata": {},
     "output_type": "execute_result"
    }
   ],
   "source": [
    "t = -500\n",
    "x = AU\n",
    "\n",
    "((c * t) ** 2) - (x**2)"
   ]
  },
  {
   "cell_type": "markdown",
   "id": "bdc5b07e-1c23-4974-bb1f-0a9b337cd66e",
   "metadata": {},
   "source": [
    "# Q5 (Nuclear reactions, ch10)\n",
    "\n",
    "Complete the following reactions:\n",
    "\n",
    "**a)**\n",
    "\n",
    "$^{20}_{?}Ne + ? \\rightarrow ^{16}_{8}O + ^{4}_{2}?$\n",
    "\n",
    "Balance protons (bottom) and nucleons (top):\n",
    "\n",
    "$ ^{20}_{10}Ne + \\gamma \\rightarrow ^{16}_{8}O + ^{4}_{2}He$\n",
    "\n",
    "Energy given by $Q = mc^2$, we convert energy from AMU to MeV using:\n",
    "\n",
    "$$\n",
    "\\frac{1u c}{1MeV} = 931.5\n",
    "$$\n",
    "\n",
    "$He = 4.002602u$\n",
    "\n",
    "$Ne = 19.9924u$\n",
    "\n",
    "$O = 15.99491u$\n",
    "\n",
    "$Mg = 23.98504u$\n",
    "\n",
    "Energy:\n",
    "\n",
    "$$\n",
    "(20.1797u - (15.999u + 4.002602u)) * 931.5 = -4.76MeV\n",
    "$$\n",
    "\n",
    "Endothermic.\n",
    "\n",
    "**b)**\n",
    "\n",
    "$^{20}_{?}Ne + ^{4}_{2}? \\rightarrow ^{24}_{?}Mg + \\gamma$\n",
    "\n",
    "Balance protons (bottom) and nucleons (top):\n",
    "\n",
    "$^{20}_{10}Ne + ^{4}_{2}He \\rightarrow ^{24}_{12}Mg + \\gamma$\n",
    "\n",
    "Energy:\n",
    "\n",
    "$$\n",
    "((20.1797u + 4.002602u) - 24.305u) * 931.5 = 9.28MeV\n",
    "$$\n",
    "\n",
    "Exothermic."
   ]
  },
  {
   "cell_type": "code",
   "execution_count": 15,
   "id": "08f65096-6b85-4efa-9825-652cb6dcf7e7",
   "metadata": {},
   "outputs": [
    {
     "data": {
      "text/plain": [
       "-4.761828000000419"
      ]
     },
     "execution_count": 15,
     "metadata": {},
     "output_type": "execute_result"
    }
   ],
   "source": [
    "factor = 931.5\n",
    "(19.9924 - (15.99491 + 4.002602)) * factor"
   ]
  },
  {
   "cell_type": "code",
   "execution_count": 16,
   "id": "1c63ec15-e32b-4270-b66f-d168fd00e1d5",
   "metadata": {},
   "outputs": [
    {
     "data": {
      "text/plain": [
       "9.279602999998163"
      ]
     },
     "execution_count": 16,
     "metadata": {},
     "output_type": "execute_result"
    }
   ],
   "source": [
    "((19.9924 + 4.002602) - 23.98504) * factor"
   ]
  },
  {
   "cell_type": "markdown",
   "id": "57abf116-193e-4d69-afae-437fc55ae76b",
   "metadata": {},
   "source": [
    "# Q6 (Distance modulus)\n",
    "\n",
    "A type Ia supernovae, with a peak apparent B-magnitude of 15.0, is discovered in a distant galaxy. \n",
    "\n",
    "Assuming no interstellar extinction, what is the distance to the galaxy?\n",
    "\n",
    "**Answer**\n",
    "\n",
    "$M_B = 15$\n",
    "\n",
    "If we take typical absolute magnitude for a Ia SN of:\n",
    "\n",
    "$M_B = -19.3$ (p686)\n",
    "\n",
    "We can use distance modulus:\n",
    "\n",
    "$$\n",
    "d = 10^{\\frac{(m_B - M_B + 5)}{5}} = 10^{\\frac{(15 - (-19.5) + 5)}{5}} = 7.2*10^{7}pc\n",
    "$$"
   ]
  },
  {
   "cell_type": "code",
   "execution_count": 12,
   "id": "d0bf51cf-fd27-4e8c-9d2f-e9f75436d40e",
   "metadata": {},
   "outputs": [
    {
     "data": {
      "text/plain": [
       "72443596.0074989"
      ]
     },
     "execution_count": 12,
     "metadata": {},
     "output_type": "execute_result"
    }
   ],
   "source": [
    "m = 15\n",
    "M = -19.3\n",
    "d = 10**((m - M + 5) / 5)\n",
    "d"
   ]
  },
  {
   "cell_type": "markdown",
   "id": "34eb0002-1475-4fa1-a710-e2cbadcdbb18",
   "metadata": {},
   "source": [
    "# Q7 (Colour-magnitude diagram, ch)\n",
    "\n",
    "$A_{\\lambda} = 0.087$\n",
    "\n",
    "Let apparent magnitude $m = 15$, using the approx turn off point on provided Figure 1.\n",
    "\n",
    "This corresponds to $B-V = 0.75$ on the Y-axis.\n",
    "\n",
    "Let absolute magnitude $M = 5.5$, where $B-V = 0.75$ on Figure 13.19.\n",
    "\n",
    "$$\n",
    "d = 10^{\\frac{(m - M + 5 - A_{\\lambda})}{5}} = 10^{\\frac{(15 - 5.5 - 0.059 + 5)}{5}} = 763pc\n",
    "$$"
   ]
  },
  {
   "cell_type": "code",
   "execution_count": 17,
   "id": "e7ae5f68-7aec-45eb-8bf8-d9a308177fb6",
   "metadata": {},
   "outputs": [
    {
     "data": {
      "text/plain": [
       "763.1325887051026"
      ]
     },
     "execution_count": 17,
     "metadata": {},
     "output_type": "execute_result"
    }
   ],
   "source": [
    "m = 15\n",
    "M = 5.5\n",
    "A = 0.087\n",
    "d = 10**( ((m - M - A) + 5) / 5 )\n",
    "d "
   ]
  },
  {
   "cell_type": "markdown",
   "id": "37096b91-bbc4-439f-bdd8-e6fea4263a33",
   "metadata": {},
   "source": [
    "# Q8 (Pulsars, ch16, A2-P06-1)\n",
    "\n",
    "We can assume that a neutron star is a uniform sphere of mass 1.4 M Sun and radius 10 km. \n",
    "\n",
    "It has a rotational period of 4.23674 seconds, which is decreasing at a rate of 2.56789 nanoseconds a day. Determine the following:\n",
    "\n",
    "(a) The rate at which the neutron star is losing kinetic energy?\n",
    "\n",
    "**Answer**\n",
    "\n",
    "$M = 1.4M_{\\odot}$\n",
    "\n",
    "$R = 10km$\n",
    "\n",
    "$P = 4.23674$\n",
    "\n",
    "$\\dot{P} = 2.56789 * 10^{-9}s$\n",
    "\n",
    "$I = \\frac 2 5 MR^2 = \\frac 2 5 * 1.4M_{\\odot} * 10,000^2m = 1.1 * 10^{38} kg m^2$\n",
    "\n",
    "Rate of Energy Loss of Pulsar (p593):\n",
    "\n",
    "$$\n",
    "\\frac{dK}{dt} = \\frac{4\\pi^2 I \\dot{P}}{P^3} = 1.71 * 10^{24} W\n",
    "$$"
   ]
  },
  {
   "cell_type": "code",
   "execution_count": 2,
   "id": "695a0d37-341f-4b86-8a8d-21cc085bf9ea",
   "metadata": {},
   "outputs": [
    {
     "data": {
      "text/plain": [
       "1.1138959999999998e+38"
      ]
     },
     "execution_count": 2,
     "metadata": {},
     "output_type": "execute_result"
    }
   ],
   "source": [
    "M = 1.4 * M_sun\n",
    "R = 10000\n",
    "P = 4.23674\n",
    "P_dot = 2.56789E-9 / 24 / 60 / 60 # PER DAY !!!!\n",
    "I = (2/5) * M * R**2\n",
    "I"
   ]
  },
  {
   "cell_type": "code",
   "execution_count": 3,
   "id": "64b4d957-b6f8-4326-beca-4c36c9c95eb4",
   "metadata": {},
   "outputs": [
    {
     "data": {
      "text/plain": [
       "1.7185873687293412e+24"
      ]
     },
     "execution_count": 3,
     "metadata": {},
     "output_type": "execute_result"
    }
   ],
   "source": [
    "dK = (4 * math.pi**2 * I * P_dot) / (P**3)\n",
    "dK"
   ]
  },
  {
   "cell_type": "markdown",
   "id": "d63572a4-6726-42c6-880b-29f9d2948866",
   "metadata": {},
   "source": [
    "**(b) Assuming the rate of kinetic energy loss is constant, how long will it be until the neutron star stops spinning?**\n",
    "\n",
    "We can get kinetic energy using (p593):\n",
    "\n",
    "$$\n",
    "K = \\frac{2\\pi^2I}{P^2} = \\frac{2\\pi^2 * 1.1 * 10^{38} kg m^2}{4.23674^2s} = 1.22 * 10^{38} J \n",
    "$$\n",
    "\n",
    "So time is total divided by rate:\n",
    "\n",
    "$$\n",
    "\\frac{dK}{K} = \\frac{1.23 * 10^{38}}{1.71 * 10^{24} N/m^2} = 7.1 * 10^{13}s = 2.2Myr\n",
    "$$"
   ]
  },
  {
   "cell_type": "code",
   "execution_count": 26,
   "id": "b2ff591a-5955-4aed-b5c1-180ac30d7b92",
   "metadata": {},
   "outputs": [
    {
     "data": {
      "text/plain": [
       "(1.224928556359903e+38, 71275314752578.98, 2258578.432852276)"
      ]
     },
     "execution_count": 26,
     "metadata": {},
     "output_type": "execute_result"
    }
   ],
   "source": [
    "K = (2 * math.pi**2 * I) / (P**2)\n",
    "t = K/dK\n",
    "K, t, t/60/60/24/365.25"
   ]
  },
  {
   "cell_type": "markdown",
   "id": "66f6c9ef-11a9-4866-bbd3-f2387f9ec3fd",
   "metadata": {
    "tags": []
   },
   "source": [
    "# Q9 (Stellar pulsation, ch14)\n",
    "\n",
    "A classical Cepheid star has been found in an open cluster, with a rotational period of 14.567 days and the following infrared apparent magnitudes:\n",
    "I-band = 17.427, J-band = 16.868, H-band = 16.504, and Ks-band = 16.216. \n",
    "\n",
    "Assuming an interstellar extinction of 0.053 mags (in the H-band) in the direction of the cluster, what is the distance to the cluster?\n",
    "\n",
    "\n",
    "**Answer**\n",
    "\n",
    "$P = 14.567days$\n",
    "\n",
    "$m_H = 16.504$\n",
    "\n",
    "$Ks = 16.216$\n",
    "\n",
    "$J = 16.868$\n",
    "\n",
    "$A_H = 0.053$\n",
    "\n",
    "Period-Luminosity-Color Relation (487): \n",
    "\n",
    "$$\n",
    "H = -3.428 log_{10}(P_d) + 1.54 \\langle J - K_s \\rangle + 15.637 = 12.65\n",
    "$$\n",
    "\n",
    "(Period is in units of DAYS)\n",
    "\n",
    "Then distance modulus to get distance:\n",
    "\n",
    "$$\n",
    "d = 10^{\\frac{(m_H - H + 5 - A_H)}{5}} = 10^{\\frac{(16.504 - 12.317 + 5 - 0.053)}{5}} = 57.5pc\n",
    "$$"
   ]
  },
  {
   "cell_type": "code",
   "execution_count": null,
   "id": "86f787c2-3043-4ea7-afd3-2047a914f3c3",
   "metadata": {},
   "outputs": [
    {
     "data": {
      "text/plain": [
       "(12.653047227865667, 57.48976778463222)"
      ]
     },
     "execution_count": 7,
     "metadata": {},
     "output_type": "execute_result"
    }
   ],
   "source": [
    "P = 14.567\n",
    "m_H = 16.504\n",
    "Ks = 16.216\n",
    "J = 16.868\n",
    "A_H = 0.053\n",
    "\n",
    "M_H = -3.428 * math.log10(P) + (1.54 * (J - Ks)) + 15.637\n",
    "\n",
    "d = 10 ** ( (m_H - (M_H) + 5 - A_H) / 5 )\n",
    "\n",
    "M_H, d"
   ]
  },
  {
   "cell_type": "markdown",
   "id": "2f09284d-99f3-4a99-9596-0b810ddfc942",
   "metadata": {},
   "source": [
    "# Q10 (Mean free path, ch9)\n",
    "\n",
    "Assuming we have an F0 V star, with an average Rosseland mean opacity throughout the star of 2.0 m2 kg-1. \n",
    "\n",
    "Using Appendix G from the textbook, determine the following:\n",
    "\n",
    "**(a) What is the average mean free path length of a photon within the star?**\n",
    "\n",
    "$\\bar{\\kappa} = 2.0m^2/kg^{-1}$\n",
    "\n",
    "$M = 1.6M_{\\odot}$\n",
    "\n",
    "$R = 1.4R_{\\odot}$\n",
    "\n",
    "We need density of sphere (assume homogenous):\n",
    "\n",
    "$$\n",
    "\\rho = \\frac{m}{(4/3)\\pi r^3} = 823 kg/m^3\n",
    "$$\n",
    "\n",
    "$$\n",
    "L = 1 / \\kappa_{\\lambda}\\rho = 6.08 * 10^{-4}m\n",
    "$$"
   ]
  },
  {
   "cell_type": "code",
   "execution_count": 9,
   "id": "952d8ab0-5500-4177-9f08-ad57c4ae6a33",
   "metadata": {},
   "outputs": [
    {
     "data": {
      "text/plain": [
       "(822.9955640590022, 0.0006075366889391326)"
      ]
     },
     "execution_count": 9,
     "metadata": {},
     "output_type": "execute_result"
    }
   ],
   "source": [
    "kappa = 2.0\n",
    "M = 1.6 * M_sun\n",
    "R = 1.4 * R_sun\n",
    "\n",
    "rho = M / ((4/3) * math.pi * R**3)\n",
    "\n",
    "L = 1 / (kappa * rho)\n",
    "\n",
    "rho, L"
   ]
  },
  {
   "cell_type": "markdown",
   "id": "e8903c11-2059-4f52-9390-cb9808b362f2",
   "metadata": {},
   "source": [
    "**(b) Assuming this mean free path length applies throughout the star, what is the average time it will take for the energy from a photon in the centre of the star reach the surface?**\n",
    "\n",
    "Displacement is the radius of the star:\n",
    "\n",
    "$d = R$\n",
    "\n",
    "Displacement $d$ is related to size of each step L, by:\n",
    "\n",
    "$$d = l \\sqrt{N}$$\n",
    "\n",
    "$$N = (d/L)^2 = 2.57*10^{24}$$\n",
    "\n",
    "Total distance:\n",
    "\n",
    "$$L_{total} = NL = 1.56 *10^{21} m$$\n",
    "\n",
    "So time is:\n",
    "\n",
    "$$t = \\frac{L_{total}}{c} = 1.65*10^5 years$$"
   ]
  },
  {
   "cell_type": "code",
   "execution_count": 11,
   "id": "98018757-ebda-4325-9ce8-283d802cc94a",
   "metadata": {},
   "outputs": [
    {
     "data": {
      "text/plain": [
       "(2.568711387338461e+24, 1.5605864111038543e+21, 164954.11381042554)"
      ]
     },
     "execution_count": 11,
     "metadata": {},
     "output_type": "execute_result"
    }
   ],
   "source": [
    "N = (R/L)**2\n",
    "\n",
    "L_total = N * L\n",
    "\n",
    "t = L_total / c\n",
    "\n",
    "N, L_total, t/60/60/24/365.25"
   ]
  },
  {
   "cell_type": "markdown",
   "id": "0df46328-9b52-4863-99b5-45a77aa45af0",
   "metadata": {},
   "source": [
    "# Q11 (Supernovae, ch15)\n",
    "\n",
    "**Describe in your own words the mechanism(s) behind a core-collapse supernovae and how they may produce Gamma ray bursts.**\n",
    "\n",
    "A suitably massive star may progress from Hydrogen fusion onto  the fusion of progressivly heavier elements, e.g.\n",
    "\n",
    "H → He → C → O → Si → Fe\n",
    "\n",
    "Earlier stages are exothermic, which balance the gravitational force trying to collapse the star.\n",
    "Iron fusion is highly endothermic, once this starts in the core the trouble begins, gravity can start to overcome the star!\n",
    "\n",
    "At this stage Photodisintegration occurs (where high energy photons destroy heavy nuclei in the star to produce lighter atoms)\n",
    "\n",
    "The core then undergoes homologous (same rate) free-fall collapse, subsonic speeds, separates from the outercore.\n",
    "The core rebounds when it hits Pauli exclusion principal, creates a shockwave, and this shockwave radiates out - ejecting the stars envelope.\n",
    "\n",
    "During this collapse, the remnant increases rotational speed due to conservation of angular momentum.\n",
    "This rapid rotation during the collapse may allow energy to be released along the rotational axis at relativistic speeds, forming gamma ray bursts (GRBs)."
   ]
  },
  {
   "cell_type": "markdown",
   "id": "ebb6cfd0-3667-4023-ac40-3f7ad6ecb8a2",
   "metadata": {},
   "source": [
    "# Q12 (ISM, ch12 ?) \n",
    "\n",
    "**Describe the various types of interstellar clouds and what distinguishes each type from the others.**\n",
    "\n",
    "p407-409, [notes](https://www.dropbox.com/scl/fi/06m8486b42w1ktgemvw1n/Chapters.paper?dl=0&rlkey=ke1cfdsaxk44jhsu7pkatxdwg#:h2=Classification-of-Interstellar)"
   ]
  },
  {
   "cell_type": "code",
   "execution_count": null,
   "id": "68b52f3c-c969-469e-acb0-e8947ed414bd",
   "metadata": {},
   "outputs": [],
   "source": []
  }
 ],
 "metadata": {
  "kernelspec": {
   "display_name": "Python 3 (ipykernel)",
   "language": "python",
   "name": "python3"
  },
  "language_info": {
   "codemirror_mode": {
    "name": "ipython",
    "version": 3
   },
   "file_extension": ".py",
   "mimetype": "text/x-python",
   "name": "python",
   "nbconvert_exporter": "python",
   "pygments_lexer": "ipython3",
   "version": "3.7.11"
  }
 },
 "nbformat": 4,
 "nbformat_minor": 5
}
