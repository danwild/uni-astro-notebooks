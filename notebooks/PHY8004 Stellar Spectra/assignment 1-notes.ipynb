{
 "cells": [
  {
   "cell_type": "markdown",
   "id": "32622332-2eaf-4185-8d1e-46ded28c12f9",
   "metadata": {
    "tags": []
   },
   "source": [
    "# Assignment 1\n",
    "\n",
    "\n",
    "Ratio of Masses (from velocities, assuming circular orbit)\n",
    "\n",
    "If orbital eccentricity is very small ($e << 1$), speeds can be assumed constant, independent of inclination \n",
    "\n",
    "Orbital velocities:\n",
    "$$v_1 = 2\\pi a_1 / P$$\n",
    "$$v_2 = 2\\pi a_2 / P$$\n",
    "\n",
    "\n",
    "Combining with ratio of masses equation yeilds:\n",
    "\n",
    "$$\\frac{m_1}{m_2} = \\frac{v_2}{v_1}$$\n",
    "\n",
    "In terms of radial velocities:\n",
    "\n",
    "$$v_{1r} = v_1 \\sin{i}$$\n",
    "$$v_{2r} = v_2 \\sin{i}$$\n",
    "\n",
    "\n",
    "$$\\frac{m_1}{m_2} = \\frac{v_{2r}}{v_{1r}}$$\n"
   ]
  },
  {
   "cell_type": "markdown",
   "id": "2d138ca8-4ce1-4340-9182-503cf5312374",
   "metadata": {},
   "source": [
    "## Part B"
   ]
  },
  {
   "cell_type": "code",
   "execution_count": 1,
   "id": "af53ff58-f505-4a4f-882f-28e0c3f8ca8d",
   "metadata": {},
   "outputs": [],
   "source": [
    "import math"
   ]
  },
  {
   "cell_type": "code",
   "execution_count": 2,
   "id": "d260e2b3-50f0-44cc-830d-c962058eb62d",
   "metadata": {},
   "outputs": [
    {
     "name": "stdout",
     "output_type": "stream",
     "text": [
      "v1: 66.0, v2: 42.0\n"
     ]
    }
   ],
   "source": [
    "# WORKING EXAMPLE p186 BACKWARDS\n",
    "e = 0\n",
    "P = 30\n",
    "v_cm = 42\n",
    "M_1 = 1\n",
    "M_2 = 2\n",
    "\n",
    "v = 42\n",
    "mass_ratio = M_1 / M_2\n",
    "\n",
    "# Faster orbit - less massive\n",
    "v1_min = -24\n",
    "v1_max = 108\n",
    "v1 = (abs(v1_min)+v1_max)/2\n",
    "\n",
    "# Slower orbit - more massive\n",
    "v2_min = 9 \n",
    "v2_max = 75\n",
    "v2 = (v2_min+v2_max)/2\n",
    "\n",
    "print('v1: %s, v2: %s' % (v1, v2))"
   ]
  },
  {
   "cell_type": "code",
   "execution_count": 3,
   "id": "0dceb5cf-4278-45d1-bcd6-acf05c83f4a7",
   "metadata": {},
   "outputs": [
    {
     "data": {
      "text/plain": [
       "54.0"
      ]
     },
     "execution_count": 3,
     "metadata": {},
     "output_type": "execute_result"
    }
   ],
   "source": [
    "(v2+v1)/2"
   ]
  },
  {
   "cell_type": "code",
   "execution_count": 4,
   "id": "0ba0c3a2-75a7-498d-9404-27f64cc2f957",
   "metadata": {},
   "outputs": [
    {
     "data": {
      "text/plain": [
       "39.11521443121589"
      ]
     },
     "execution_count": 4,
     "metadata": {},
     "output_type": "execute_result"
    }
   ],
   "source": [
    "math.sqrt((v1**2) + (v2**2)) /2"
   ]
  },
  {
   "cell_type": "code",
   "execution_count": null,
   "id": "fe8e4f0d-dccc-49e5-93f8-69d97f263fd5",
   "metadata": {},
   "outputs": [],
   "source": []
  },
  {
   "cell_type": "code",
   "execution_count": null,
   "id": "84ba1cce-8442-40fd-8de8-f868618de678",
   "metadata": {},
   "outputs": [],
   "source": []
  },
  {
   "cell_type": "markdown",
   "id": "7c435c1a-7170-45ba-9a72-af4ef2f39166",
   "metadata": {},
   "source": [
    "Combined velocity\n",
    "\n",
    "$$\n",
    "v = \\frac{(m_1 v_1) + (m_2 v_2)}{m_1 + m_2}\n",
    "$$\n",
    "\n",
    "[Or](https://phys.libretexts.org/Bookshelves/Relativity/Book%3A_Special_Relativity_(Crowell)/03%3A_Kinematics/3.03%3A_Combination_of_Velocities)?\n",
    "\n",
    "$$\n",
    "v = \\frac{v1+v2}{1 + v1v2}\n",
    "$$"
   ]
  },
  {
   "cell_type": "code",
   "execution_count": null,
   "id": "e48b8511-fe19-4498-a4d4-7bd7e123e48e",
   "metadata": {},
   "outputs": [],
   "source": []
  },
  {
   "cell_type": "code",
   "execution_count": 5,
   "id": "f3a9fc33-65a8-4451-a3bc-60179c0aa25b",
   "metadata": {},
   "outputs": [],
   "source": [
    "# (v1+v2) / (1+ v1*v2)"
   ]
  },
  {
   "cell_type": "code",
   "execution_count": 6,
   "id": "281f6ca9-0a01-4643-93f9-4a56b9396913",
   "metadata": {},
   "outputs": [
    {
     "data": {
      "text/plain": [
       "50.0"
      ]
     },
     "execution_count": 6,
     "metadata": {},
     "output_type": "execute_result"
    }
   ],
   "source": [
    "(((mass_ratio * v1) + (1 * v2)) / (1 + mass_ratio))"
   ]
  },
  {
   "cell_type": "code",
   "execution_count": null,
   "id": "4bc3b869-a7f6-455e-8e38-dc53d7649fa4",
   "metadata": {},
   "outputs": [],
   "source": []
  },
  {
   "cell_type": "code",
   "execution_count": 7,
   "id": "b214b420-d885-489d-93bf-b972027e77f0",
   "metadata": {},
   "outputs": [
    {
     "data": {
      "text/plain": [
       "50.0"
      ]
     },
     "execution_count": 7,
     "metadata": {},
     "output_type": "execute_result"
    }
   ],
   "source": [
    "mass_ratio = 0.5\n",
    "M_sun = 1.9891E+30\n",
    "\n",
    "((mass_ratio*M_sun * v1) + (1* M_sun * v2)) / ( (M_sun)+(mass_ratio * M_sun) )"
   ]
  },
  {
   "cell_type": "markdown",
   "id": "5da93b26-9aa0-496e-ab32-8db402f6b1ac",
   "metadata": {},
   "source": [
    "## Part B"
   ]
  },
  {
   "cell_type": "code",
   "execution_count": 8,
   "id": "070b5aea-05af-40d5-a392-68453202beb5",
   "metadata": {},
   "outputs": [
    {
     "data": {
      "text/plain": [
       "1.0"
      ]
     },
     "execution_count": 8,
     "metadata": {},
     "output_type": "execute_result"
    }
   ],
   "source": [
    "math.sin(math.radians(90)) **3"
   ]
  },
  {
   "cell_type": "code",
   "execution_count": 9,
   "id": "f83e1c1e-09b8-470b-b6ac-83813fa9fa90",
   "metadata": {},
   "outputs": [
    {
     "data": {
      "text/plain": [
       "7.786135781152193e+21"
      ]
     },
     "execution_count": 9,
     "metadata": {},
     "output_type": "execute_result"
    }
   ],
   "source": [
    "(2592000/ (2*math.pi * 6.67428E-11) ) * ((42+66)**3)"
   ]
  },
  {
   "cell_type": "code",
   "execution_count": 10,
   "id": "bac5bd35-548b-4bae-ad56-a94718dcd08f",
   "metadata": {},
   "outputs": [
    {
     "data": {
      "text/plain": [
       "0.49999999999999994"
      ]
     },
     "execution_count": 10,
     "metadata": {},
     "output_type": "execute_result"
    }
   ],
   "source": [
    "math.sin(math.radians(30))"
   ]
  },
  {
   "cell_type": "code",
   "execution_count": null,
   "id": "22d4f3ac-8472-486f-8b03-7717d6c20e26",
   "metadata": {},
   "outputs": [],
   "source": []
  },
  {
   "cell_type": "code",
   "execution_count": null,
   "id": "f83d9c68-1b7f-4d3d-9fa3-49767253bcfc",
   "metadata": {},
   "outputs": [],
   "source": []
  },
  {
   "cell_type": "code",
   "execution_count": null,
   "id": "602290ff-b4fc-42d5-a02e-7678adcd6ff6",
   "metadata": {},
   "outputs": [],
   "source": []
  },
  {
   "cell_type": "markdown",
   "id": "26e672db-9fb3-4470-9980-82fdd2f50e7f",
   "metadata": {},
   "source": [
    "# A1-P03-1"
   ]
  },
  {
   "cell_type": "code",
   "execution_count": 16,
   "id": "55f68ff3-f465-4b20-9f06-ad77ed5146c4",
   "metadata": {},
   "outputs": [],
   "source": [
    "λ_1 = 330.238E-6\n",
    "W_1 = 0.0088E-6\n",
    "f_1 = 0.0214\n",
    "\n",
    "λ_2 = 588.997E-6\n",
    "W_2 = 0.0730E-6\n",
    "f_2 = 0.645"
   ]
  },
  {
   "cell_type": "code",
   "execution_count": 17,
   "id": "50f7c0ae-a74c-4f09-835b-da23171818d0",
   "metadata": {},
   "outputs": [],
   "source": [
    "y_1 = math.log10(W_1/λ_1)\n",
    "y_2 = math.log10(W_2/λ_2)\n",
    "y_1, y_2\n",
    "\n",
    "# we use these y axes values to x axes values from Figure 9.22, p275\n",
    "x_1 = 17.15\n",
    "x_2 = 18.80"
   ]
  },
  {
   "cell_type": "code",
   "execution_count": 18,
   "id": "8b206094-5973-45c4-b8d8-994912d7cf92",
   "metadata": {},
   "outputs": [
    {
     "data": {
      "text/plain": [
       "(18.999729185558607, 18.919297206945508)"
      ]
     },
     "execution_count": 18,
     "metadata": {},
     "output_type": "execute_result"
    }
   ],
   "source": [
    "log10_na_1 = x_1 - math.log10( (f_1 * λ_1) / 500.0E-6 )\n",
    "log10_na_2 = x_2 - math.log10( (f_2 * λ_2) / 500.0E-6 )\n",
    "\n",
    "log10_na_1, log10_na_2"
   ]
  },
  {
   "cell_type": "code",
   "execution_count": 19,
   "id": "ba771089-76f5-4b63-abb0-0b34f0cd04c7",
   "metadata": {},
   "outputs": [
    {
     "data": {
      "text/plain": [
       "18.959513196252058"
      ]
     },
     "execution_count": 19,
     "metadata": {},
     "output_type": "execute_result"
    }
   ],
   "source": [
    "log10_na_avg = (log10_na_1 + log10_na_2) / 2\n",
    "log10_na_avg"
   ]
  },
  {
   "cell_type": "code",
   "execution_count": 29,
   "id": "6e007eda-3ce4-4d51-966c-74618e481626",
   "metadata": {},
   "outputs": [],
   "source": [
    "m_e = 9.10938215E-31 # electron mass kg\n",
    "h = 6.62606896E-34   # plank constant J\n",
    "k = 1.3806504E-23    # boltzman constant J \n",
    "c = 299792458\n",
    "\n",
    "T = 5800\n",
    "P_e = 1"
   ]
  },
  {
   "cell_type": "code",
   "execution_count": 38,
   "id": "40d5e955-ebc5-4a22-a9fa-514f51cc12d1",
   "metadata": {},
   "outputs": [
    {
     "data": {
      "text/plain": [
       "0.992516448189683"
      ]
     },
     "execution_count": 38,
     "metadata": {},
     "output_type": "execute_result"
    }
   ],
   "source": [
    "exp_1 = math.e**((-h*c) / (λ_1 * k * T) )\n",
    "exp_1"
   ]
  },
  {
   "cell_type": "code",
   "execution_count": 39,
   "id": "ecf487de-827b-44eb-ae7a-8661ea4a973b",
   "metadata": {},
   "outputs": [
    {
     "data": {
      "text/plain": [
       "0.9957972105958361"
      ]
     },
     "execution_count": 39,
     "metadata": {},
     "output_type": "execute_result"
    }
   ],
   "source": [
    "exp_2 = math.e**((-h*c) / (λ_2 * k * T) )\n",
    "exp_2"
   ]
  },
  {
   "cell_type": "code",
   "execution_count": 41,
   "id": "ea54c724-53da-4527-82c7-2a4f441096b2",
   "metadata": {},
   "outputs": [],
   "source": [
    "def saha_equation_pressure(Z_1, Z_2, k, T, P_e, m_e, chi_i, h):\n",
    "    return \\\n",
    "    ((2 * k * T * Z_2) / (P_e * Z_1)) * \\\n",
    "    ((2 * math.pi * m_e * k * T) / h**2)**(3/2) * \\\n",
    "    math.e ** -(chi_i / (k*T))"
   ]
  },
  {
   "cell_type": "code",
   "execution_count": 45,
   "id": "b3c6f5c1-4c4c-40ae-a01f-316ed944b7b6",
   "metadata": {},
   "outputs": [
    {
     "data": {
      "text/plain": [
       "2434.461931156807"
      ]
     },
     "execution_count": 45,
     "metadata": {},
     "output_type": "execute_result"
    }
   ],
   "source": [
    "Z_1 = 2.4\n",
    "Z_2 = 1\n",
    "ev_factor = 6.242E+18\n",
    "chi_1 = 5.14 / ev_factor\n",
    "\n",
    "N2_N1 = saha_equation_pressure(Z_1, Z_2, k, T, P_e, m_e, chi_1, h)\n",
    "N2_N1"
   ]
  },
  {
   "cell_type": "code",
   "execution_count": 68,
   "id": "377861a6-7a5a-41b1-942c-70fe10abfaab",
   "metadata": {},
   "outputs": [
    {
     "data": {
      "text/plain": [
       "2.434461931156807e+22"
      ]
     },
     "execution_count": 68,
     "metadata": {},
     "output_type": "execute_result"
    }
   ],
   "source": [
    "math.pow(10, 19) * N2_N1"
   ]
  },
  {
   "cell_type": "code",
   "execution_count": 62,
   "id": "5293a6cc-c178-44e9-ab36-3cd357687f8a",
   "metadata": {},
   "outputs": [
    {
     "data": {
      "text/plain": [
       "2.217768363254566e+22"
      ]
     },
     "execution_count": 62,
     "metadata": {},
     "output_type": "execute_result"
    }
   ],
   "source": [
    "math.pow(10, log10_na_avg) * N2_N1"
   ]
  },
  {
   "cell_type": "code",
   "execution_count": null,
   "id": "851b77ca-a29b-4752-865d-7b12ba3b48d3",
   "metadata": {},
   "outputs": [],
   "source": []
  }
 ],
 "metadata": {
  "kernelspec": {
   "display_name": "Python 3 (ipykernel)",
   "language": "python",
   "name": "python3"
  },
  "language_info": {
   "codemirror_mode": {
    "name": "ipython",
    "version": 3
   },
   "file_extension": ".py",
   "mimetype": "text/x-python",
   "name": "python",
   "nbconvert_exporter": "python",
   "pygments_lexer": "ipython3",
   "version": "3.7.11"
  }
 },
 "nbformat": 4,
 "nbformat_minor": 5
}
