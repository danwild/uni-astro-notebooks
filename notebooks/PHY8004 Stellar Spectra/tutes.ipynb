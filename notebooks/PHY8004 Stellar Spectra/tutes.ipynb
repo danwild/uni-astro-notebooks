{
 "cells": [
  {
   "cell_type": "markdown",
   "id": "2076cfb2-2ae2-4f5e-856d-058707db99b9",
   "metadata": {},
   "source": [
    "# Tute notes"
   ]
  },
  {
   "cell_type": "code",
   "execution_count": 1,
   "id": "5d5f8b22-8370-46c7-a88d-a203274065fd",
   "metadata": {},
   "outputs": [],
   "source": [
    "import math"
   ]
  },
  {
   "cell_type": "markdown",
   "id": "2d4ea96b-8933-482d-ab7e-067604b37a29",
   "metadata": {},
   "source": [
    "# Problem 9.1"
   ]
  },
  {
   "cell_type": "code",
   "execution_count": 2,
   "id": "09dee87a-7a1b-4a45-a8e0-4f9bf9641f9f",
   "metadata": {},
   "outputs": [],
   "source": [
    "d = 1\n",
    "r_eye = 0.015\n",
    "A_pupil = 0.0001\n",
    "c = 2.99792458E+8"
   ]
  },
  {
   "cell_type": "code",
   "execution_count": 3,
   "id": "c152834a-4fbc-41dc-bfa5-49b1ca6d6b25",
   "metadata": {},
   "outputs": [
    {
     "data": {
      "text/plain": [
       "7.957747154594767"
      ]
     },
     "execution_count": 3,
     "metadata": {},
     "output_type": "execute_result"
    }
   ],
   "source": [
    "L = 100 / (4 * math.pi * d**2)\n",
    "L"
   ]
  },
  {
   "cell_type": "code",
   "execution_count": 4,
   "id": "2cb24d38-534a-442f-ac55-6bf3d8965392",
   "metadata": {},
   "outputs": [
    {
     "data": {
      "text/plain": [
       "6.336957927386663e-15"
      ]
     },
     "execution_count": 4,
     "metadata": {},
     "output_type": "execute_result"
    }
   ],
   "source": [
    "((2*r_eye) * A_pupil * L) / (4 * math.pi * d**2 * c)"
   ]
  },
  {
   "cell_type": "markdown",
   "id": "6cb4a8b5-1ff9-41a0-9a60-6644b00ed3a5",
   "metadata": {
    "tags": []
   },
   "source": [
    "# 10.3\n",
    "\n",
    "If sun were 100% hydrogen, it would have N atoms:\n",
    "\n",
    "$$N = \\frac{M_{\\odot}}{m_H} = \\frac{ 1.9891*10^{30}kg }{ 1.6735575 * 10^{-27}kg } = 1.189*10^{57}kg$$\n",
    "\n"
   ]
  },
  {
   "cell_type": "code",
   "execution_count": 2,
   "id": "a80d2b20-7d7f-4f7e-a725-d19e3fca2794",
   "metadata": {},
   "outputs": [
    {
     "data": {
      "text/plain": [
       "1.1885459567418508e+57"
      ]
     },
     "execution_count": 2,
     "metadata": {},
     "output_type": "execute_result"
    }
   ],
   "source": [
    "M_sun = 1.9891E+30\n",
    "L_sun = 3.839E+26\n",
    "E_ev = 10\n",
    "E = 1.60218e-18\n",
    "m_H = 1.6735575E-27\n",
    "N = M_sun / m_H\n",
    "N"
   ]
  },
  {
   "cell_type": "markdown",
   "id": "877df964-28bb-4173-afd4-aa8924a0eb31",
   "metadata": {},
   "source": [
    "If each atom has energy $E$ = 10eV, time would be:\n",
    "\n",
    "$$\n",
    "t = \\frac{NE}{L_{\\odot}} = 4.96E * 10^{12}s = 1.57*10^5 yr\n",
    "$$"
   ]
  },
  {
   "cell_type": "code",
   "execution_count": 5,
   "id": "d5cb1afd-8e30-41e7-b897-99b1d71dbc0b",
   "metadata": {},
   "outputs": [
    {
     "data": {
      "text/plain": [
       "(4960314042648.238, 157182.8669685983)"
      ]
     },
     "execution_count": 5,
     "metadata": {},
     "output_type": "execute_result"
    }
   ],
   "source": [
    "t_s = (N * E) / L_sun\n",
    "t_y = t_s / 60 / 60 / 24 / 365.25\n",
    "t_s, t_y"
   ]
  },
  {
   "cell_type": "markdown",
   "id": "ea7e6b5c-1a15-4025-ad81-f9dda1a7ab11",
   "metadata": {},
   "source": [
    "# 10.10\n",
    "\n",
    "Calculate the ratio of the energy generation rate for the `pp` chain to the energy generation rate for the `CNO` cycle given conditions characteristic of the center of the present-day (evolved) Sun, namely:\n",
    "\n",
    "$$T = 1.5696 * 10^7 K$$\n",
    "$$\\rho = 1.527 x 10^5 kg m-3$$\n",
    "$$X = 0.3397$$ \n",
    "$$X_{CNO} = 0.0141$$\n",
    "\n",
    "Assume that the pp chain screening factor is unity ($f_{pp} = 1$) and that the pp chain branching\n",
    "factor is unity ($\\Psi_{pp} = 1$).\n",
    "\n",
    "i.e. Calculate and compare energy generation rate for pp and CNO.\n",
    "\n",
    "### PP\n",
    "\n",
    "Simplified version written as ‘power law’ for cases where $T \\approx 1.5*10^7K$:\n",
    "\n",
    "$\\epsilon_{pp} \\approx \\epsilon_{0,pp}^{\\prime} \\rho X^2 f_{pp} \\psi_{pp}C_{pp}T_6^{4}$ W kg-1\n",
    "\n",
    "Where:\n",
    "\n",
    "- $\\epsilon_{0,pp}^{\\prime} = 1.08*10^{-12}$ W m3 kg-2\n",
    "- $T_6$ is dimensionless temp in units $10^6K$ ($T_6 = T/10^6K$)\n",
    "- $f_{pp} = f_{pp}(X, Y, \\rho, T)$ is the pp chain screening factor\n",
    "- $\\psi_{pp} = \\psi_{pp}(X, Y, T)$ is a factor to correct for simultaneous PP1, PP2 and PP3\n",
    "- $C_{pp} \\sim 1$ is “higher order correction of terms”\n",
    "\n"
   ]
  },
  {
   "cell_type": "code",
   "execution_count": 8,
   "id": "cf152f57-1e91-4532-af14-738f063c1b96",
   "metadata": {},
   "outputs": [],
   "source": [
    "e_0pp = 1.08E-12\n",
    "T = 1.5696E+7\n",
    "T_6 = T / 1.0E+6\n",
    "rho = 1.527E+5\n",
    "X = 0.3397\n",
    "X_CNO = 0.0141\n",
    "f_pp = 1\n",
    "psi_pp = 1\n",
    "C_pp = 1\n",
    "C_CNO = 1 # ASSUMPTION! - NOT GIVEN IN QUESTION."
   ]
  },
  {
   "cell_type": "code",
   "execution_count": 9,
   "id": "71c1d303-58e9-476b-8002-ffa60b3b44d4",
   "metadata": {},
   "outputs": [
    {
     "data": {
      "text/plain": [
       "0.001155074101498429"
      ]
     },
     "execution_count": 9,
     "metadata": {},
     "output_type": "execute_result"
    }
   ],
   "source": [
    "# PP\n",
    "e_pp = e_0pp * rho * (X**2) * f_pp * psi_pp * C_pp * (T_6**(4))\n",
    "e_pp"
   ]
  },
  {
   "cell_type": "markdown",
   "id": "02b2e228-6085-43ce-aec0-26d6dfae3bdc",
   "metadata": {},
   "source": [
    "### CNO\n",
    "\n",
    "$\\epsilon_{CNO} = 8.67*10^{20}\\rho XX_{CNO}C_{CNO}T_6^{-2/3}e^{-152.28T_6^{-1/3}}$ W kg-1"
   ]
  },
  {
   "cell_type": "markdown",
   "id": "4a5c5b5e-6191-4130-906a-65a37b41971c",
   "metadata": {},
   "source": [
    "## CNO\n",
    "\n",
    "Simplified version written as ‘power law’ for cases where $T \\approx 1.5*10^7K$:\n",
    "\n",
    "$\\epsilon_{CNO} \\approx \\epsilon_{0,CNO}^{\\prime} \\rho XX_{CNO} T_6^{19.9}$ W kg-1\n",
    "\n",
    "Where:\n",
    "\n",
    "- $\\epsilon_{0,CNO}^{\\prime} = 8.24*10^{-31}$ W m3 kg-2\n"
   ]
  },
  {
   "cell_type": "code",
   "execution_count": 10,
   "id": "0ebf3e0c-4c6a-491f-a8d5-484635ac1bcd",
   "metadata": {},
   "outputs": [
    {
     "data": {
      "text/plain": [
       "0.0003769483181974039"
      ]
     },
     "execution_count": 10,
     "metadata": {},
     "output_type": "execute_result"
    }
   ],
   "source": [
    "e_0CNO = 8.24E-31\n",
    "\n",
    "e_CNO = e_0CNO * rho * X * X_CNO * (T_6**19.9)\n",
    "e_CNO"
   ]
  },
  {
   "cell_type": "code",
   "execution_count": 11,
   "id": "031dfcc0-c1c3-4d7d-bdac-a93cdbe249c2",
   "metadata": {},
   "outputs": [
    {
     "name": "stdout",
     "output_type": "stream",
     "text": [
      "pp chain generates 3.064277105737155 times more energy than CNO cycle\n"
     ]
    }
   ],
   "source": [
    "ratio = e_pp / e_CNO\n",
    "print('pp chain generates %s times more energy than CNO cycle' % ratio)"
   ]
  },
  {
   "cell_type": "markdown",
   "id": "71322737-e948-418f-ab1b-eb02074fbb2f",
   "metadata": {},
   "source": [
    "# 10.14\n",
    "\n",
    "$^{235}_{92}U \\rightarrow ^{4}_{2}He + ^{231}_{90}Th$"
   ]
  },
  {
   "cell_type": "code",
   "execution_count": 18,
   "id": "f8def9ac-bfcb-4272-8bcc-bf3467d944e3",
   "metadata": {},
   "outputs": [
    {
     "data": {
      "text/plain": [
       "(True, True)"
      ]
     },
     "execution_count": 18,
     "metadata": {},
     "output_type": "execute_result"
    }
   ],
   "source": [
    "p1 = 92\n",
    "p2 = 90 + 2\n",
    "\n",
    "n1 = 235\n",
    "n2 = 4 + 231\n",
    "p1 == p2, n1 == n2"
   ]
  },
  {
   "cell_type": "code",
   "execution_count": 19,
   "id": "ade80321-c220-4365-95a0-8faee3b8a93d",
   "metadata": {},
   "outputs": [
    {
     "data": {
      "text/plain": [
       "13"
      ]
     },
     "execution_count": 19,
     "metadata": {},
     "output_type": "execute_result"
    }
   ],
   "source": [
    "27-14"
   ]
  },
  {
   "cell_type": "markdown",
   "id": "bcf621ae-94f1-493b-aab9-8a8d209785b2",
   "metadata": {},
   "source": [
    "## PP1 10.37\n",
    "\n",
    "Leptons?\n",
    "\n",
    "2x Hydrogen atoms combining.\n",
    "They have: \n",
    "\n",
    "- 1 proton each\n",
    "- 0 neutrons each (mass number = 1 = Z)\n",
    "\n",
    "They create:\n",
    "\n",
    "- Helium - 2x protons\n",
    "- 0 neutrons (mass number = 2 = Z)\n",
    "- positron\n",
    "- neutrino\n",
    "\n",
    "#### Also 10.48\n",
    "\n",
    "Where photon comes from? \\o/\n",
    "\n",
    "- Electron must also have a companion anti-neutrino, or a positron on opposing side of equation\n",
    "- Positron must also have a companion neutrino, or an electron on opposing side of equation\n",
    "- Photons are by themselves.\n",
    "\n",
    "\n",
    "\n",
    "\n",
    "# TODO\n",
    "\n",
    "- write down simplified version of energy generation e.g. `10.59`\n",
    "- triple alpha process 10.60 etc..\n",
    "- mostly focused on nucleosynthesis\n",
    "- StatStar\n",
    "   - initial conditions must be just right, otherwise error\n",
    "    - \n"
   ]
  },
  {
   "cell_type": "code",
   "execution_count": null,
   "id": "c3dbd9f5-5fcd-41d9-ab5f-ed2b496829e8",
   "metadata": {},
   "outputs": [],
   "source": []
  }
 ],
 "metadata": {
  "kernelspec": {
   "display_name": "Python 3 (ipykernel)",
   "language": "python",
   "name": "python3"
  },
  "language_info": {
   "codemirror_mode": {
    "name": "ipython",
    "version": 3
   },
   "file_extension": ".py",
   "mimetype": "text/x-python",
   "name": "python",
   "nbconvert_exporter": "python",
   "pygments_lexer": "ipython3",
   "version": "3.7.11"
  }
 },
 "nbformat": 4,
 "nbformat_minor": 5
}
