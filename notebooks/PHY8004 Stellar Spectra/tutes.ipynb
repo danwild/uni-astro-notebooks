{
 "cells": [
  {
   "cell_type": "markdown",
   "id": "2076cfb2-2ae2-4f5e-856d-058707db99b9",
   "metadata": {},
   "source": [
    "# Tutorials PHY8004"
   ]
  },
  {
   "cell_type": "code",
   "execution_count": 22,
   "id": "5d5f8b22-8370-46c7-a88d-a203274065fd",
   "metadata": {},
   "outputs": [],
   "source": [
    "import math\n",
    "import pandas as pd\n",
    "import matplotlib.pyplot as plt\n",
    "\n",
    "AU = 1.4959787066E+11\n",
    "M_sun = 1.9891E+30\n",
    "L_sun = 3.839E+26\n",
    "R_sun = 6.95508E+8\n",
    "G_sun = 274\n",
    "M_bol_sun = 4.74\n",
    "M_earth = 5.9736E+24\n",
    "R_earth = 6.378136E+6\n",
    "c = 299792458\n",
    "G = 6.67428E-11\n",
    "sigma = 5.670400E-8\n",
    "u = 1.660538782E-27     # kg per atomic mass\n",
    "ev = 1.602176487E-19\n",
    "m_e = 9.1093821E-31     # electron mass kg\n",
    "m_n = 1.67492711E-27    # neutron mass kg\n",
    "m_H = 1.673532499E-27   # hydrogen mass kg\n",
    "k = 1.3806504E-23       # J\n",
    "k_ev = 8.617343E-5      # eV\n",
    "h = 6.62606896E-34\n",
    "h_bar = h/(2 * math.pi)\n",
    "mu_0 = 4 * math.pi * (10**-7)"
   ]
  },
  {
   "cell_type": "markdown",
   "id": "25fa68eb-7a83-4883-a6bd-00bf083f64f7",
   "metadata": {},
   "source": [
    "# Index\n",
    "\n",
    "- [ch7 - Binary systems & params](#Ch-7---Binary-systems-&-stellar-params)\n",
    "  - Binary Masses/Ratios, Mass function\n",
    "- [ch8 - Stellar Spectra](#Ch-8---Stellar-Spectra)\n",
    "  - Boltzmann equation+factor, Stefan-Boltzmann Law, Saha equation, Partition function\n",
    "- [ch9 - Stellar Atmospheres](#Ch-9---Stellar-Atmospheres)\n",
    "  - Energy Density, Opacity, Optical Depth, Radiation Pressure, Mean Free Path, Random Walk, Transfer Equation, Eddington Approximation, Spectral Line Broadening \n",
    "- [ch10 - Interior of stars](#10---Interior-of-stars)\n",
    "  - Hydrostatic equilibrium, Mass conservation, Pressure equation, Mean Molecular Weight, Average Kinetic Energy per Particle, Gravitational potential + mechanical energy, Kelvin-Helmholtz timescale, Luminosity relation, Nuclear reaction notation, PP and CNO energy generation, Radiative Temperature Gradient, Adiabatic Sound Speed + Temperature Gradient, Eddington Luminosity Limit\n",
    "- [ch11 - The Sun](#11---The-Sun)\n",
    "  - Mass fractions, Magnetic energy density, Alfvén Wave\n",
    "- [ch12 - Interstellar Medium & Star Formation](#12---Interstellar-Medium-&-Star-Formation)\n",
    "  - Interstellar Extinction, Mie Theory, 21cm Line, Optical depth of line center, Jeans Mass + Length, Free-fall time scale, ZAMs, Strömgren Radius\n",
    "- [ch13 - Main Sequence & Post-Main-Sequence Stellar Evolution](#13---Main-Sequence-&-Post-Main-Sequence-Stellar-Evolution)\n",
    "  - Schönberg-Chandrasekhar limit, Degenerate Electron Gas, Core Gravitational Potential Energy + Internal thermal Energy ($K_{ic}$)\n",
    "- [ch14 - Stellar Pulsation](#14---Stellar-Pulsation)\n",
    "  - Period-Luminosity Relation, Period-Density Relation, Linearized Pulsation period\n",
    "- [ch15 - Fate of Massive Stars](#15---Fate-of-Massive-Stars)\n",
    "  - Supernovae, Core Collapse, Gamma Ray Bursts, Larmor radius, Cosmic Rays\n",
    "- [ch16 - Degenerate Remnants of Stars](#16---Degenerate-Remnants-of-Stars)\n",
    "  - WDs, Fermi Energy, Condition for Degeneracy, Electron Degeneracy Pressure, Chandrasekhar Limit, Dynamical Instability, Cooling Timescale, Neutron Stars Radius + Density, Pulsars Rotation + Magnetic Fields\n",
    "- [ch17 - Degenerate Remnants & Black Holes](#17---Degenerate-Remnants-&-Black-Holes)\n",
    "  - Gravitational Redshift + Time Dilation, World-lines and Light-cones, Schwarzschild Radius\n",
    "- [ch18 - Close Binary Systems](#18---Close-Binary-Systems)\n",
    "  - Effective gravitational potential, Lagrangian Points, Mass Transfer Rate, Accretion Disks, Alfvén Radius"
   ]
  },
  {
   "cell_type": "markdown",
   "id": "e0729d55-ed75-4017-988f-cc4cd9c92b63",
   "metadata": {},
   "source": [
    "# Ch 7 - Binary systems & stellar params"
   ]
  },
  {
   "cell_type": "markdown",
   "id": "2507cf1d-1da2-4de1-a448-12c06a35e737",
   "metadata": {},
   "source": [
    "\n",
    "# 7.4 \n",
    "\n",
    "Sirius is a visual binary with a period of 49.94 yr. \n",
    "Its measured trigonometric parallax is 0.37921\" ± 0.00158\" and, assuming that the plane of the orbit is in the plane of the sky, the true angular extent of the semimajor axis of the reduced mass is 7.61\", \n",
    "\n",
    "The ratio of the distances of Sirius A and Sirius B from the center of mass is $a_A/b_B = 0.466$.\n",
    "\n",
    "$P = 49.94yr$\n",
    "\n",
    "$49.94 * 365.25 * 24 * 60 * 60 = 15749 sec$\n",
    "\n",
    "$p = 0.37921\"$\n",
    "\n",
    "$d=\\frac{1}{p} = \\frac{1}{0.37921\"} = 2.63706pc = 8.1371169 * 10^{16}m$\n",
    "\n",
    "$$\\theta = 7.61\" = 3.689432 * 10^{-5} rad$$ \n",
    "\n",
    "$$\\frac{a_A}{b_B} = 0.466 = 233:500$$"
   ]
  },
  {
   "cell_type": "code",
   "execution_count": 13,
   "id": "01a6dd2c-6f5c-432e-8751-f3323d77435f",
   "metadata": {},
   "outputs": [
    {
     "data": {
      "text/plain": [
       "(1575986544.0, 8.137971045067376e+16, 3.689432113243569e-05)"
      ]
     },
     "execution_count": 13,
     "metadata": {},
     "output_type": "execute_result"
    }
   ],
   "source": [
    "# convert units\n",
    "P = 49.94 * 365.25 * 24 * 60 * 60       # s\n",
    "p = 0.37921                             # arcsec\n",
    "d_pc = 1/p                              # pc\n",
    "d = d_pc * 3.086e+16                    # m\n",
    "theta = (7.61 * math.pi) / (180 * 3600) # radians\n",
    "a_a_b_b = 0.466\n",
    "\n",
    "P, d, theta"
   ]
  },
  {
   "cell_type": "markdown",
   "id": "b889e44e-cf4f-4ae5-95c6-f300bba70823",
   "metadata": {},
   "source": [
    "**(a) Find the mass of each member of the system.**\n",
    "\n",
    "Assume “plane of the orbit is in the plane of the sky” = it’s perpendicular to line of sight? (or i = 90), therefore (don’t need to project with inclination).\n",
    "\n",
    "$$\\tan{\\theta} = a / d$$\n",
    "\n",
    "$$a = \\theta d = 3.00 *10^{12}m$$\n",
    "\n",
    "Combined mass:\n",
    "\n",
    "$$m_1 + m_2 = \\frac{4\\pi^2a^3}{P^2G}$$\n",
    "\n",
    "$$m_1 + m_2 = \\frac{4\\pi^2 (3.00 *10^{12}m)^3}{(1.5749*10^9m)^2 * 6.67408 * 10^{-11}} = 6.439 * 10^{30}kg = 3.24M_{\\odot}$$ \n",
    "\n",
    "Relate combined mass to ratio:\n",
    "\n",
    "$$\\frac{m_A}{m_B} = \\frac{a_B}{a_A}$$ => $$m_B = \\frac{m_A a_A}{a_B}$$\n",
    "\n",
    "p183\n",
    "\n",
    "$$m_A + m_B = m_A + \\frac{m_A a_A}{a_B} = m_A(1 + \\frac{a_A}{a_B})$$ \n",
    "\n",
    "$$\\therefore$$\n",
    "\n",
    "$$m_A = \\frac{m_A+m_B}{1 + (a_A/a_B)} = \\frac{3.24M{\\odot}}{1 + 0.466} = 2.21M{\\odot}$$\n",
    "\n",
    "$$m_B = (m_A+m_B) - m_A = 3.24M_{\\odot} - 2.21M{\\odot} =  1.03M_{\\odot}$$\n"
   ]
  },
  {
   "cell_type": "code",
   "execution_count": 15,
   "id": "07587f2b-fd18-4671-88dd-431977b252d0",
   "metadata": {},
   "outputs": [
    {
     "data": {
      "text/plain": [
       "(6.445806973006356e+30, 3.2405645633735642)"
      ]
     },
     "execution_count": 15,
     "metadata": {},
     "output_type": "execute_result"
    }
   ],
   "source": [
    "a = theta * d\n",
    "m1_m_2_kg = (4 * math.pi**2 * a**3) / (P**2 * G)\n",
    "m1_m_2 = m1_m_2_kg/M_sun\n",
    "\n",
    "m1_m_2_kg,m1_m_2"
   ]
  },
  {
   "cell_type": "code",
   "execution_count": 18,
   "id": "cb0a2c64-52c8-4a56-991b-4da043602704",
   "metadata": {},
   "outputs": [
    {
     "data": {
      "text/plain": [
       "(2.2104806025740547, 1.0300839607995096)"
      ]
     },
     "execution_count": 18,
     "metadata": {},
     "output_type": "execute_result"
    }
   ],
   "source": [
    "m_a = (m1_m_2) / (1 + a_a_b_b)\n",
    "m_b = m1_m_2 - m_a\n",
    "\n",
    "m_a, m_b"
   ]
  },
  {
   "cell_type": "markdown",
   "id": "ab98e941-882d-422f-881f-fd14a4ff636d",
   "metadata": {},
   "source": [
    "**(b) The absolute bolometric magnitude of Sirius A is 1.36, and Sirius B has an absolute bolometric magnitude of 8.79.** \n",
    "\n",
    "**Determine their luminosities. Express your answers in terms of the luminosity of the Sun.**\n",
    "\n",
    "$M_{A,bol} = 1.36$\n",
    "\n",
    "$M_{B,bol} = 8.79$\n",
    "\n",
    "$M_{\\odot, bol} = 4.74$\n",
    "\n",
    "$L_{\\odot} = 3.839*10^{26}W$\n",
    "\n",
    "Relate L of sun:\n",
    "\n",
    "$$100^{(M_{\\odot} - M_B)/5} = \\frac{L_B}{L_{\\odot}}$$ => $$L_{\\odot} * 100^{(M_{\\odot} - M_B)/5} = L_B$$\n",
    "\n",
    "L of A:\n",
    "\n",
    "$$L_A = 3.839*10^{26}W * 100^{(4.74 - 1.36)/5} = 8.634*10^{27} W$$\n",
    "$$L_A / L_{\\odot} = 22.49$$ times the sun\n",
    "\n",
    "L of B:\n",
    "\n",
    "$$L_B = 3.839*10^{26}W * 100^{(4.74 - 8.79)/5} = 9.209*10^{24} W$$\n",
    "$$L_B / L_{\\odot} = 0.024$$ times the sun"
   ]
  },
  {
   "cell_type": "code",
   "execution_count": 24,
   "id": "16e24521-d0ac-4ba7-8f16-7ec218d87a56",
   "metadata": {},
   "outputs": [
    {
     "data": {
      "text/plain": [
       "(8.63412063180356e+27,\n",
       " 22.490546058357804,\n",
       " 9.209119576115831e+24,\n",
       " 0.023988329190194925)"
      ]
     },
     "execution_count": 24,
     "metadata": {},
     "output_type": "execute_result"
    }
   ],
   "source": [
    "M_A = 1.36\n",
    "M_B = 8.79\n",
    "\n",
    "L_A = L_sun * 100**((M_bol_sun - M_A) / 5)\n",
    "L_A, L_A/L_sun\n",
    "\n",
    "L_B = L_sun * 100**((M_bol_sun - M_B) / 5)\n",
    "\n",
    "\n",
    "L_A, L_A/L_sun, L_B, L_B/L_sun"
   ]
  },
  {
   "cell_type": "markdown",
   "id": "199ef6ee-0a36-4b55-ad4f-02d025ceaa7e",
   "metadata": {},
   "source": [
    "**(c) The effective temperature of Sirius B is approximately 24,790 K ± 100 K.**\n",
    "\n",
    "**Estimate its radius, and compare your answer to the radii of the Sun and Earth.**\n",
    "\n",
    "$T_e = 24790K$\n",
    "\n",
    "$L_B = 9.209*10^{24} W$\n",
    "\n",
    "$$L = \\sigma 4\\pi r^2 T_e^4$$\n",
    "\n",
    "$$r = \\sqrt{L_B / (5.670400 * 10^{-8} * 4\\pi 24790K^4)} = 5.849805 * 10^6 m$$\n",
    "\n",
    "$$\\therefore$$\n",
    "\n",
    "$$5.849805 * 10^6 m / R_{\\odot} = 0.0084$$ times as large as SUN\n",
    "\n",
    "$$5.849805 * 10^6 m / R_{\\oplus} = 0.92$$ times as large as Earth"
   ]
  },
  {
   "cell_type": "code",
   "execution_count": 26,
   "id": "260c213e-8c13-4edf-b997-a8dbbaa390b0",
   "metadata": {},
   "outputs": [
    {
     "data": {
      "text/plain": [
       "(5849843.1626517335, 0.008410892703824734, 0.9171712805515175)"
      ]
     },
     "execution_count": 26,
     "metadata": {},
     "output_type": "execute_result"
    }
   ],
   "source": [
    "T = 24790\n",
    "r = math.sqrt(L_B / (sigma * 4 * math.pi * T**4))\n",
    "r, r/R_sun, r/R_earth"
   ]
  },
  {
   "cell_type": "markdown",
   "id": "a9b05831-c774-4377-8d09-447b54bc58c1",
   "metadata": {},
   "source": [
    "# 7.8\n",
    "\n",
    "Refer to the synthetic light curve and model of RR Centauri shown in Fig. 7.11 (p194).\n",
    "\n",
    "**(a) Indicate the approximate points on the light curve (as a function of phase) that correspond\n",
    "to the orientations depicted.**\n",
    "\n",
    "[fig_num] : [phase]\n",
    "\n",
    "\n",
    "1. 0 (1st trough, primary is completely eclipsed by secondary)\n",
    "2. .\n",
    "3. .\n",
    "4. .\n",
    "5. 0.25 (peak, max light from both stars is visible)\n",
    "6. .\n",
    "7. .\n",
    "8. .\n",
    "9. 0.5 (2nd trough, secondary is completely eclipsed by primary)\n",
    "\n",
    "**(b) Explain qualitatively the shape of the light curve.**\n",
    "\n",
    "_I am assuming large star is primary!_\n",
    "\n",
    "- The primary eclipse (first trough) is when the smaller, cooler star eclipses the larger primary star.\n",
    "- V peaks (at maxima) when the two stars are both completely visible, and appear side-by-side.\n",
    "- The secondary eclipse as the small cooler star passes behind the large star.\n",
    "\n",
    "Why does second trough appear longer? \n",
    "Mostly due to tidal forces / the contact between the two"
   ]
  },
  {
   "cell_type": "markdown",
   "id": "730e1999-aef7-47ac-9fe1-3d36d3d9b49c",
   "metadata": {},
   "source": [
    "# 7.11\n",
    "\n",
    "Explain why radial velocity detections of extrasolar planets yield only lower limits on the masses of the orbiting planets. \n",
    "\n",
    "Even with velocities, we can’t get mass (from mass function) without inclination $i$.\n",
    "\n",
    "We can only get the right-hand-side (RHS):\n",
    "\n",
    "$$\\frac{m_2^3}{(m_1+m_2)^2}sin^3 i = \\frac{P}{2\\pi G}v_{1r}^3$$\n",
    "\n",
    "This gives us the lower limit of $m_2$ (because LHS is always $< m_2$)\n",
    "\n",
    "\n",
    "What value is actually measured, and what unknown orbital parameter is involved?\n",
    "\n",
    "Period and radial velocity is measured.\n",
    "\n",
    "`Unknown = inclination`"
   ]
  },
  {
   "cell_type": "markdown",
   "id": "8450363e-790a-40d6-b061-588bdb82d63b",
   "metadata": {},
   "source": [
    "# 7.13\n",
    "\n",
    "Suppose that you are an astronomer on a planet orbiting another star. While you are observing our Sun, Jupiter passes in front of it. \n",
    "\n",
    "Estimate the fractional decrease in the brightness of the star, assuming that you are observing a flat disk of constant flux (no limb darkening), with a temperature of $T_e = 5777 K$\n",
    "\n",
    "_Hint: Neglect Jupiter's contribution to the total brightness of the system._\n",
    "\n",
    "Question - we don’t know distance, we can’t know apparent brightness… use luminosity instead (yes)?\n",
    "\n",
    "$T_e = 5777 K$\n",
    "\n",
    "$R_J = 69911000m$\n",
    "\n",
    "\n",
    "Calc L of sun using area of circle, then subtract Jupiter circle a for comparison.\n",
    "\n",
    "$$L = \\sigma 4\\pi r^2 T_e^4$$\n",
    "\n",
    "Sun:\n",
    "$$L_{1} = 5.670400 * 10^{-8} * 4\\pi (6.95508*10^8m)^2 * 5777^4 K = 3.84 * 10^{26}$$\n",
    "\n",
    "Sun less Jupiter circle:\n",
    "$$L_{2} = 5.670400 * 10^{-8} * (4\\pi(6.95508*10^8m)^2 - 4\\pi (69911000)^2) * 5777^4 K = 3.80 * 10^{26}$$\n",
    "\n",
    "\n",
    "$$L_1/L_2 = 0.01$$"
   ]
  },
  {
   "cell_type": "code",
   "execution_count": 27,
   "id": "c765866a-d94a-46ee-98a9-efc31a993f64",
   "metadata": {},
   "outputs": [
    {
     "data": {
      "text/plain": [
       "(3.8391695256227096e+26, 3.800379143430796e+26, 1.0102069769167545)"
      ]
     },
     "execution_count": 27,
     "metadata": {},
     "output_type": "execute_result"
    }
   ],
   "source": [
    "T = 5777\n",
    "R_J = 69911000\n",
    "\n",
    "L_1 = sigma * 4 * math.pi * R_sun**2 * T**4\n",
    "L_2 = sigma * ((4 * math.pi * R_sun**2) - (4 * math.pi * R_J**2)) * T**4\n",
    "\n",
    "L_1, L_2, L_1/L_2"
   ]
  },
  {
   "cell_type": "markdown",
   "id": "acd15e7f-174c-4a08-abe8-a3ebe81d5c62",
   "metadata": {},
   "source": [
    "# Ch 8 - Stellar Spectra\n",
    "\n",
    "# 8.7 (partition function)\n",
    "\n",
    "In Example 8.1.4 (p215), the statement was made that:\n",
    "\n",
    "> nearly all of the H I atoms are in the ground state, so Eq. (8.7) for the partition function simplifies to $Z_1 \\simeq g_1 = 2(1)^2 = 2$\n",
    "\n",
    "Verify that this statement is correct for a temperature of 10,000 K by evaluating the first three terms in Eq. (8.7) for the partition function.\n",
    "\n",
    "$T = 10000K$\n",
    "\n",
    "$k = 8.6173*10^{-16}eV s$\n",
    "\n",
    "$kT = 8.6173*10^{-12}$\n",
    "\n",
    "\n",
    "Energies for Hydrogen Atom - from p212:\n",
    "\n",
    "$E_1 = -13.6 eV$ (ground → n=1)\n",
    "\n",
    "$E_2 = -3.4 eV$ (n=2)\n",
    "\n",
    "$E_2 - E_1 = 10.2eV$\n",
    "\n",
    "Note:\n",
    "\n",
    "> A Hydrogen ion is just a proton so has no degeneracy; thus $Z_2 = 1, Z_3 = 1$\n",
    "\n",
    "Excited states of Hydrogen:\n",
    "\n",
    "$g_n = 2n^2$\n",
    "\n",
    "So:\n",
    "\n",
    "$g_1 = 2(1)^2 = 2$\n",
    "\n",
    "$g_2 = 2(2)^2 = 8$\n",
    "\n",
    "$g_3 = 2(3)^2 = 18$\n",
    "\n",
    "So, eval partition function (p214) while $j <= 3$:\n",
    "\n",
    "$$Z = \\sum^{\\infty}_{j=1} g_j e^{-(E_j-E_1)/kT}$$\n",
    "\n",
    "And we see that $Z_1 = 2$"
   ]
  },
  {
   "cell_type": "code",
   "execution_count": 40,
   "id": "b5bad345-ef4a-4ccb-bd7b-5cfa8640b6d8",
   "metadata": {},
   "outputs": [
    {
     "data": {
      "text/plain": [
       "(2.0, 5.7879136993677774e-05, 1.452738895370476e-05)"
      ]
     },
     "execution_count": 40,
     "metadata": {},
     "output_type": "execute_result"
    }
   ],
   "source": [
    "T = 10000\n",
    "E = [-13.6, -3.4, -1.51] # eV\n",
    "\n",
    "def partition_func_hydrogen(E, j):\n",
    "    \n",
    "    # excited states of H\n",
    "    g_j = 2 * (j+1)**2 # +1 to correct for zero index\n",
    "    return g_j * math.e**(-(E[j] - E[0])/ (k_ev*T))\n",
    "\n",
    "Z_1 = partition_func_hydrogen(E, 0)\n",
    "Z_2 = partition_func_hydrogen(E, 1)\n",
    "Z_3 = partition_func_hydrogen(E, 2)\n",
    "\n",
    "Z_1, Z_2, Z_3"
   ]
  },
  {
   "cell_type": "markdown",
   "id": "d8937110-26e2-4a32-9041-f302e9090d07",
   "metadata": {
    "tags": []
   },
   "source": [
    "# 8.10 \n",
    "\n",
    "In this problem, you will follow a procedure similar to that of Example 8.1.4 for the case of a\n",
    "stellar atmosphere composed of pure helium to find the temperature at the middle of the He I\n",
    "partial ionization zone, where half of the He I atoms have been ionized. (Such an atmosphere would be found on a white dwarf of spectral type DB; see Section 16.1) \n",
    "\n",
    "The ionization energies of neutral helium and singly ionized helium are $\\chi_I = 24.6 eV$ and $\\chi_{II} = 54.4 eV$, respectively.\n",
    "\n",
    "The partition functions are $Z_I = 1, Z_{II} = 2, Z_{III} = 1$ (as expected for any completely ionized atom). \n",
    "\n",
    "Use $P_e = 20 N m^{-2}$ for the electron pressure.\n",
    "\n",
    "**(a) Use Eq. (8.9) to find $N_{II}/N_I$ and $N_{III}/N_{II}$ for temperatures of 5000 K, 15,000 K, and 25,000K**\n",
    "\n",
    "How do they compare?\n",
    "\n",
    "\n",
    "> See saha equation notebook: https://github.com/danwild/uni-astro-notebooks/blob/main/notebooks/PHY8004%20Stellar%20Spectra/saha-equation.ipynb\n",
    "\n",
    "$\\chi_I = 24.6 eV$\n",
    "\n",
    "$\\chi_{II} = 54.4 eV$\n",
    "\n",
    "$Z_I = 1, Z_{II} = 2, Z_{III} = 1$\n",
    "\n",
    "$P_e = 20 N m^{-2}$\n",
    "\n",
    "$N_{II}/N_I$ - the ratio climbs constantly from 5000K to 25000K (almost 100% ionization at 25000K)\n",
    "\n",
    "$N_{III}/N_{II}$ - the ratio climbs from 15000K to 25000K, however the change in ionization is miminmal.\n",
    "\n"
   ]
  },
  {
   "cell_type": "code",
   "execution_count": 49,
   "id": "6d2ff247-7b34-4b23-8f5f-ede9248413df",
   "metadata": {
    "tags": []
   },
   "outputs": [],
   "source": [
    "def saha_equation_pressure(Z_1, Z_2, k, T, P_e, m_e, chi_i, h):\n",
    "    return \\\n",
    "    ((2 * k * T * Z_2) / (P_e * Z_1)) * \\\n",
    "    ((2 * math.pi * m_e * k * T) / h**2)**(3/2) * \\\n",
    "    math.e ** -(chi_i / (k*T))\n",
    "\n",
    "# Part A, T = 5000K\n",
    "k = 1.3806E-23\n",
    "Z_1 = 1\n",
    "Z_2 = 2\n",
    "Z_3 = 1\n",
    "P_e = 20\n",
    "\n",
    "chi_1_ev = 24.6\n",
    "chi_1 = 3.94135e-18\n",
    "\n",
    "chi_2_ev = 54.4\n",
    "chi_2 = 8.71584e-18\n",
    "\n",
    "# make a range of temps to plot\n",
    "temps = list(range(1000, 51000, 1000))\n",
    "\n",
    "# ratio of N2/N1\n",
    "n2_n1_ratios = {}\n",
    "for t in temps:\n",
    "    n2_n1_ratios[t] = saha_equation_pressure(Z_1, Z_2, k, t, P_e, m_e, chi_1, h)\n",
    "\n",
    "# convert ratio to fraction (i.e. 0-1)\n",
    "n2_n1_fracs = {}\n",
    "for t in temps:\n",
    "    n2_n1_fracs[t] = n2_n1_ratios[t] / (1 + n2_n1_ratios[t])\n",
    "\n",
    "# print('n2_n1_ratios: %s' % n2_n1_ratios) \n",
    "# print('n2_n1_fracs: %s' % n2_n1_fracs)\n",
    "# for t in temps:\n",
    "#     print('T=%s -> %s' % (t, n2_n1_ratios[t]))\n",
    "\n",
    "# ratio of N3/N2\n",
    "n3_n2_ratios = {}\n",
    "for t in temps:\n",
    "    n3_n2_ratios[t] = saha_equation_pressure(Z_2, Z_3, k, t, P_e, m_e, chi_2, h)\n",
    "\n",
    "# convert ratio to fraction (i.e. 0-1)\n",
    "n3_n2_fracs = {}\n",
    "for t in temps:\n",
    "    n3_n2_fracs[t] = n3_n2_ratios[t] / (1 + n3_n2_ratios[t])\n",
    "    \n",
    "# print('n3_n2_ratios: %s' % n3_n2_ratios)\n",
    "# print('n3_n2_fracs: %s' % n3_n3_fracs)\n",
    "# for t in temps:\n",
    "#     print('T=%s -> %s' % (t, n3_n2_fracs[t]))"
   ]
  },
  {
   "cell_type": "code",
   "execution_count": 50,
   "id": "5ae97e0d-c755-4949-b227-531e3958e0d8",
   "metadata": {},
   "outputs": [
    {
     "name": "stdout",
     "output_type": "stream",
     "text": [
      "\n",
      "N2/N1: 5000K: 1.882780642449215e-18, 15000K: 0.9968803813609269, 25000K: 7235.573520887598\n",
      "\n",
      "N3/N2: 5000K: 4.310948514843978e-49, 15000K: 2.42025295370129e-11, 25000K: 0.0017773771395930163\n"
     ]
    }
   ],
   "source": [
    "print('\\nN2/N1: 5000K: %s, 15000K: %s, 25000K: %s' % (n2_n1_ratios[5000],n2_n1_ratios[15000],n2_n1_ratios[25000]))\n",
    "print('\\nN3/N2: 5000K: %s, 15000K: %s, 25000K: %s' % (n3_n2_ratios[5000],n3_n2_ratios[15000],n3_n2_ratios[25000]))"
   ]
  },
  {
   "cell_type": "code",
   "execution_count": 51,
   "id": "b8e33074-b2ef-4127-8bfd-63cdb1fa0b33",
   "metadata": {
    "collapsed": true,
    "jupyter": {
     "outputs_hidden": true
    },
    "tags": []
   },
   "outputs": [
    {
     "data": {
      "text/plain": [
       "<AxesSubplot:xlabel='Temp'>"
      ]
     },
     "execution_count": 51,
     "metadata": {},
     "output_type": "execute_result"
    },
    {
     "data": {
      "image/png": "[encoded data removed]",
      "text/plain": [
       "<Figure size 720x720 with 1 Axes>"
      ]
     },
     "metadata": {
      "needs_background": "light"
     },
     "output_type": "display_data"
    },
    {
     "data": {
      "image/png": "[encoded data removed]",
      "text/plain": [
       "<Figure size 720x720 with 1 Axes>"
      ]
     },
     "metadata": {
      "needs_background": "light"
     },
     "output_type": "display_data"
    },
    {
     "data": {
      "image/png": "[encoded data removed]",
      "text/plain": [
       "<Figure size 720x720 with 1 Axes>"
      ]
     },
     "metadata": {
      "needs_background": "light"
     },
     "output_type": "display_data"
    }
   ],
   "source": [
    "df = pd.DataFrame({\n",
    "    'Temp': temps, \n",
    "    'N_2/N_1': list(n2_n1_fracs.values()),\n",
    "    'N_3/N_2': list(n3_n2_fracs.values())\n",
    "})\n",
    "\n",
    "df.plot(title='BOTH', kind='line', x='Temp', figsize=(10,10), fontsize=12)\n",
    "\n",
    "df.plot(kind='line', x='Temp', y='N_2/N_1', figsize=(10,10), fontsize=12)\n",
    "df.plot(kind='line', x='Temp', y='N_3/N_2', figsize=(10,10), fontsize=12)"
   ]
  },
  {
   "cell_type": "markdown",
   "id": "1950ca0b-998e-4399-b97b-35beb9864f5c",
   "metadata": {},
   "source": [
    "\n",
    "**(b) Show that:**\n",
    "\n",
    "$$N_{II}/N_{total} = N_{II}/(N_I+N_{II}+N_{III})$$ \n",
    "\n",
    "can be expressed in terms of the ratios:\n",
    " \n",
    "$$N_{II}/N_I$$ and $$N_{III}/N_{II}$$\n",
    "\n",
    "\n",
    "**Answer:**\n",
    "\n",
    "$$\\frac{N_{II}}{N_{total}} = \\frac{N_{II}}{(N_I+N_{II}+N_{III})} = \\frac{N_2/N_1}{1 + N_2/N_1 + (N_3/N_2)(N_2/N_1)}$$ \n",
    "\n",
    "See also: http://dslavsk.sites.luc.edu/courses/phys380/homework/phys380-2011hw6s.pdf\n",
    "\n",
    "**(c) Make a graph of $N_{II}/N_{total}$ similar to Fig. 8.8 for a range of temperatures from 5000 K to 25,000 K.**\n",
    "\n",
    "What is the temperature at the middle of the He I partial ionization zone?\n",
    "\n",
    "Because the temperatures of the middle of the hydrogen and He I partial ionization zones are so similar, they are sometimes considered to be a single partial ionization zone with a characteristic temperature of $1-1.5 *10^4K$\n"
   ]
  },
  {
   "cell_type": "markdown",
   "id": "232379c6-6c91-4fdf-aeca-a2ddb362015f",
   "metadata": {},
   "source": [
    "**Answer**\n",
    "\n",
    "From the plot below we see temperature at the middle of the He I partial ionization zone is `15000K`"
   ]
  },
  {
   "cell_type": "code",
   "execution_count": 45,
   "id": "5868575d-e8d2-481c-8818-34e82eaa4135",
   "metadata": {},
   "outputs": [],
   "source": [
    "def nii_2_total(n2_n1, n3_n2):\n",
    "    '''\n",
    "    Implements $$N_2/N_{total}$$ as per answer part (b) above\n",
    "    '''\n",
    "    return n2_n1 / (1 + n2_n1 + n3_n2*n2_n1)"
   ]
  },
  {
   "cell_type": "code",
   "execution_count": 52,
   "id": "3d7ce3e8-c1ec-4adf-8169-dcd7356dd81b",
   "metadata": {},
   "outputs": [],
   "source": [
    "n_totals = []\n",
    "\n",
    "# make a range of temps to plot\n",
    "temps = list(range(5000, 26000, 1000))\n",
    "\n",
    "for t in temps:\n",
    "    ratio = nii_2_total(n2_n1_ratios[t], n3_n2_ratios[t])\n",
    "    n_totals.append(ratio)"
   ]
  },
  {
   "cell_type": "code",
   "execution_count": 53,
   "id": "5e49f9c4-2d87-4f39-affe-2c20f78e49cc",
   "metadata": {
    "tags": []
   },
   "outputs": [
    {
     "data": {
      "text/plain": [
       "<AxesSubplot:xlabel='Temp'>"
      ]
     },
     "execution_count": 53,
     "metadata": {},
     "output_type": "execute_result"
    },
    {
     "data": {
      "image/png": "[encoded data removed]",
      "text/plain": [
       "<Figure size 720x720 with 1 Axes>"
      ]
     },
     "metadata": {
      "needs_background": "light"
     },
     "output_type": "display_data"
    }
   ],
   "source": [
    "df = pd.DataFrame({\n",
    "    'Temp': temps, \n",
    "    'N_2/N_total': n_totals\n",
    "})\n",
    "df.plot(kind='line', x='Temp', figsize=(10,10), fontsize=12)"
   ]
  },
  {
   "cell_type": "markdown",
   "id": "10770795-ec84-4d6c-8766-bad38b6f6e2b",
   "metadata": {
    "tags": []
   },
   "source": [
    "# 8.13\n",
    "\n",
    "Use the information in Example 8.1.5 to **calculate the ratio of doubly to singly ionized calcium\n",
    "atoms (Ca III/Ca II)** in the Sun's photosphere. \n",
    "\n",
    "The ionization energy of Ca Il is $\\chi_{II} = 11.9 eV$.\n",
    "\n",
    "Use $Z_{III} = 1$ for the partition function of Ca III. \n",
    "\n",
    "Is your result consistent with the statement in Example 8.1.5 that in the solar photosphere?\n",
    "\n",
    "\n",
    "> nearly all of the calcium atoms are available for forming the H and K lines of calcium"
   ]
  },
  {
   "cell_type": "code",
   "execution_count": 54,
   "id": "1dd77cd8-26ca-48eb-ba25-e51d2406cbe8",
   "metadata": {},
   "outputs": [
    {
     "data": {
      "text/plain": [
       "(0.00234045384817643, 0.002334988914386305)"
      ]
     },
     "execution_count": 54,
     "metadata": {},
     "output_type": "execute_result"
    }
   ],
   "source": [
    "# We need to find ca3/ca2\n",
    "\n",
    "chi_2_ev = 11.9 # eV\n",
    "chi_2 = 1.90659e-18\n",
    "\n",
    "z_2 = 2.3 # p218\n",
    "Z_3 = 1 \n",
    "T = 5777\n",
    "Pe = 1.5\n",
    "\n",
    "# N3/N2\n",
    "ca_ratio = saha_equation_pressure(Z_2, Z_3, k, T, Pe, m_e, chi_2, h)\n",
    "\n",
    "# convert ratio to fraction (i.e. 0-1)\n",
    "ca_frac = ca_ratio / (1 + ca_ratio)\n",
    "\n",
    "ca_ratio, ca_frac"
   ]
  },
  {
   "cell_type": "markdown",
   "id": "47386627-32d4-43ed-b4e8-543b16d2fe90",
   "metadata": {},
   "source": [
    "## Answer\n",
    "\n",
    "$\\frac{Ca_3}{Ca_2} = 2.34 * 10^{-3}$\n",
    "\n",
    "This implies there are very few _doubly_ ionized calcium atoms (compared to $N2/N1$, which is 918 - as shown in example 8.1.5).\n",
    "\n",
    "If most Ca atoms are singly ionized, they are available for forming H and K lines (these lines are known to come from Ca_2)."
   ]
  },
  {
   "cell_type": "markdown",
   "id": "f623416b-112f-47dd-b809-a5f2767328d1",
   "metadata": {},
   "source": [
    "# 8.14\n",
    "\n",
    "Consider a giant star and a main-sequence star of the same spectral type. \n",
    "\n",
    "Appendix G shows that the giant star, which has a lower atmospheric density, has a slightly lower temperature than the main-sequence star. \n",
    "\n",
    "Use the Saha equation to explain why this is so. Note that this means that there is not a perfect correspondence between temperature and spectral type!\n",
    "\n",
    "---\n",
    "\n",
    "Giant = lower density and temp\n",
    "\n",
    "Main = higher density and temp\n",
    "\n",
    "The stars are the same SPECTRAL type, so by definition they have the same ratio of atoms in their atmosphere in specific ionisation state.\n",
    "\n",
    "This ratio is what SAHA tells us:\n",
    "\n",
    "$$\n",
    "\\frac{N_{i+1}}{N_i} = \\frac{2Z_{i+1}}{n_e Z_i} (\\frac{2\\pi m_e kT}{h^2})^{3/2} e^{-\\chi_i/kT}\n",
    "$$\n",
    "\n",
    "We can see that density ($n_e$) and Temp ($T$) are accounted for in SAHA eq. \n",
    "\n",
    "So when $n_e$ is lower in a giant, $T$ must also be reduced too, to maintain the same ratio of ionization.\n"
   ]
  },
  {
   "cell_type": "markdown",
   "id": "50485087-28f5-439e-b2d7-175ffaf6a514",
   "metadata": {},
   "source": [
    "# Ch 9 - Stellar Atmospheres"
   ]
  },
  {
   "cell_type": "markdown",
   "id": "2d4ea96b-8933-482d-ab7e-067604b37a29",
   "metadata": {},
   "source": [
    "# Problem 9.1"
   ]
  },
  {
   "cell_type": "markdown",
   "id": "a9a37e45-4f7e-40c5-8f1d-f2fddc2369e6",
   "metadata": {},
   "source": [
    "Evaluate the energy of the blackbody photons inside your eye. Compare this with the visible energy inside your eye while looking at a 100-W light bulb that is 1 m away. \n",
    "\n",
    "You can assume that the light bulb is 100% efficient, although in reality it converts only a few percent of its 100 walls into visible photons. \n",
    "\n",
    "Take your eye to be a hollow sphere of radius 1.5 cm at a temperature of 37°C. The area of the eye's pupil is about 0.1 cm^2. \n",
    "\n",
    "Why is it dark when you close your eyes?\n",
    "\n",
    "Eye:\n",
    "$d = 1m$\n",
    "\n",
    "$r_{eye} = 0.015m$\n",
    "\n",
    "$V_{eye} = \\frac{4}{3} \\pi 0.015^3m = 1.41 * 10^{-5}$\n",
    "\n",
    "$A_p = 0.0001m2$\n",
    "\n",
    "$T = 310.15K$\n",
    "\n",
    "$a = 7.565767*10^{-16}$ m-3 K-4 (radiation constant)\n",
    "\n",
    "Total energy density blackbody:\n",
    "\n",
    "$$u = \\frac{4\\sigma T^4}{c} = aT^4$$\n",
    "\n",
    "Blackbody energy density of eye:\n",
    "\n",
    "$$u_{eye,bb} = 7.565767*10^{-16} * 310.15^4 = 7.00*10^{-6}$$J m-3 K-4\n",
    "\n",
    "Density multiplied by the volume of the eye:\n",
    "\n",
    "$$V_{eye} * u_{eye,bb} = 9.879 * 10^{-11}$$ J\n",
    "\n",
    "Energy of 100W (Joules per second) bulb at distance of 1m:\n",
    "\n",
    "$$b = \\frac{100W}{4\\pi r^2} = 7.95 W$$  \n",
    "\n",
    "This tells us how much passes thru a volume in a given time:\n",
    "\n",
    "$$E = b * A{p} = 7.95 * 10^{-3}$$ J m s-1\n",
    "\n",
    "But we need to drop volume per time to just have Joules - i.e the energy in the volume of the eye:\n",
    "\n",
    "$$E_{bulb} = \\frac{2r_{eye} A_p b}{4\\pi d^2 c} = 6.34*10^{-15} J$$"
   ]
  },
  {
   "cell_type": "code",
   "execution_count": 3,
   "id": "09dee87a-7a1b-4a45-a8e0-4f9bf9641f9f",
   "metadata": {},
   "outputs": [],
   "source": [
    "d = 1\n",
    "r_eye = 0.015\n",
    "A_pupil = 0.0001\n",
    "c = 2.99792458E+8"
   ]
  },
  {
   "cell_type": "code",
   "execution_count": 4,
   "id": "c152834a-4fbc-41dc-bfa5-49b1ca6d6b25",
   "metadata": {},
   "outputs": [
    {
     "data": {
      "text/plain": [
       "7.957747154594767"
      ]
     },
     "execution_count": 4,
     "metadata": {},
     "output_type": "execute_result"
    }
   ],
   "source": [
    "L = 100 / (4 * math.pi * d**2)\n",
    "L"
   ]
  },
  {
   "cell_type": "code",
   "execution_count": 5,
   "id": "2cb24d38-534a-442f-ac55-6bf3d8965392",
   "metadata": {},
   "outputs": [
    {
     "data": {
      "text/plain": [
       "6.336957927386663e-15"
      ]
     },
     "execution_count": 5,
     "metadata": {},
     "output_type": "execute_result"
    }
   ],
   "source": [
    "((2*r_eye) * A_pupil * L) / (4 * math.pi * d**2 * c)"
   ]
  },
  {
   "cell_type": "markdown",
   "id": "a90e22a7-6511-4fac-9429-de5964d82a7b",
   "metadata": {},
   "source": [
    "# 9.11 \n",
    "\n",
    "According to one model of the Sun, the central density is 1.53 x 10^5 kg m-3 and the Rosseland mean opacity at the center is 0.217 m^3 kg-1\n",
    "\n",
    "**(a) Calculate the mean free path of a photon at the center of the Sun.**\n",
    "\n",
    "Related example p240\n",
    "\n",
    "$\\rho = 1.53*10^5$\n",
    "\n",
    "$\\kappa = 0.217$\n",
    "\n",
    "mean free path is the average length of L (photon)\n",
    "\n",
    "$$L = \\frac{1}{\\kappa_{\\lambda} \\rho} = 3.01*10^{-5}$$\n",
    "\n",
    "p241-242"
   ]
  },
  {
   "cell_type": "code",
   "execution_count": 7,
   "id": "d3f5f9c9-e78f-4769-a8a1-82a67b4b10c6",
   "metadata": {},
   "outputs": [
    {
     "data": {
      "text/plain": [
       "3.0119574711605072e-05"
      ]
     },
     "execution_count": 7,
     "metadata": {},
     "output_type": "execute_result"
    }
   ],
   "source": [
    "rho = 1.53E+5\n",
    "kappa = 0.217\n",
    "L = 1 / (kappa * rho)\n",
    "L"
   ]
  },
  {
   "cell_type": "markdown",
   "id": "d382e023-8816-4bdb-92e4-3510d5b8f177",
   "metadata": {},
   "source": [
    "(b) Calculate the average time it would take for the photon to escape from the Sun if this mean free path remained constant for the photon's journey to the surface. \n",
    "\n",
    "(Ignore the fact that identifiable photons are constantly destroyed and created through absorption, scattering, and emission.)\n",
    "\n",
    "Displacement is the solar radius:\n",
    "\n",
    "$d = r_{\\odot} = 6.95508*10^8 m$\n",
    "\n",
    "Displacement $d$ is related to size of each step L, by:\n",
    "\n",
    "$$d = l \\sqrt{N}$$\n",
    "\n",
    "$$N = (d/L)^2 = 5.01*10^{32}$$\n",
    "\n",
    "Total distance:\n",
    "\n",
    "$$L_{total} = NL = 5.34 *10^{26} m$$\n",
    "\n",
    "So time is:\n",
    "\n",
    "$$t = \\frac{L_{total}}{c} = 1.7*10^6 years$$"
   ]
  },
  {
   "cell_type": "code",
   "execution_count": 13,
   "id": "72a51694-2cb2-4f91-923b-f9f9257a0dff",
   "metadata": {},
   "outputs": [
    {
     "data": {
      "text/plain": [
       "(5.3322019440449816e+26, 1697581.9710379872)"
      ]
     },
     "execution_count": 13,
     "metadata": {},
     "output_type": "execute_result"
    }
   ],
   "source": [
    "d = 6.95508E+8\n",
    "N = (d / L)**2\n",
    "t = (N*L)/c\n",
    "t / 60 / 60 / 24 / 365.25"
   ]
  },
  {
   "cell_type": "markdown",
   "id": "735c6aea-49e3-4e70-9c83-1615f7ce30aa",
   "metadata": {},
   "source": [
    "# 9.12 \n",
    "\n",
    "If the temperature of a star's atmosphere is increasing outward, what type of spectral lines would you expect to find in the star's spectrum at those wavelengths where the opacity is greatest?\n",
    "\n",
    "**Answer**\n",
    "\n",
    "Will get emission instead of absorption."
   ]
  },
  {
   "cell_type": "markdown",
   "id": "ae9ee2d1-efcb-4a11-bdd3-cb0e323e3980",
   "metadata": {},
   "source": [
    "# 10 - Interior of stars"
   ]
  },
  {
   "cell_type": "markdown",
   "id": "6cb4a8b5-1ff9-41a0-9a60-6644b00ed3a5",
   "metadata": {
    "tags": []
   },
   "source": [
    "# 10.3\n",
    "\n",
    "If sun were 100% hydrogen, it would have N atoms:\n",
    "\n",
    "$$N = \\frac{M_{\\odot}}{m_H} = \\frac{ 1.9891*10^{30}kg }{ 1.6735575 * 10^{-27}kg } = 1.189*10^{57}kg$$\n",
    "\n"
   ]
  },
  {
   "cell_type": "code",
   "execution_count": 5,
   "id": "a80d2b20-7d7f-4f7e-a725-d19e3fca2794",
   "metadata": {},
   "outputs": [
    {
     "data": {
      "text/plain": [
       "1.1885459567418508e+57"
      ]
     },
     "execution_count": 5,
     "metadata": {},
     "output_type": "execute_result"
    }
   ],
   "source": [
    "M_sun = 1.9891E+30\n",
    "L_sun = 3.839E+26\n",
    "E_ev = 10\n",
    "E = 1.60218e-18\n",
    "m_H = 1.6735575E-27\n",
    "N = M_sun / m_H\n",
    "N"
   ]
  },
  {
   "cell_type": "markdown",
   "id": "877df964-28bb-4173-afd4-aa8924a0eb31",
   "metadata": {},
   "source": [
    "If each atom has energy $E$ = 10eV, time would be:\n",
    "\n",
    "$$\n",
    "t = \\frac{NE}{L_{\\odot}} = 4.96E * 10^{12}s = 1.57*10^5 yr\n",
    "$$"
   ]
  },
  {
   "cell_type": "code",
   "execution_count": 6,
   "id": "d5cb1afd-8e30-41e7-b897-99b1d71dbc0b",
   "metadata": {},
   "outputs": [
    {
     "data": {
      "text/plain": [
       "(4960314042648.238, 157182.8669685983)"
      ]
     },
     "execution_count": 6,
     "metadata": {},
     "output_type": "execute_result"
    }
   ],
   "source": [
    "t_s = (N * E) / L_sun\n",
    "t_y = t_s / 60 / 60 / 24 / 365.25\n",
    "t_s, t_y"
   ]
  },
  {
   "cell_type": "markdown",
   "id": "ea7e6b5c-1a15-4025-ad81-f9dda1a7ab11",
   "metadata": {},
   "source": [
    "# 10.10\n",
    "\n",
    "Calculate the ratio of the energy generation rate for the `pp` chain to the energy generation rate for the `CNO` cycle given conditions characteristic of the center of the present-day (evolved) Sun, namely:\n",
    "\n",
    "$T = 1.5696 * 10^7 K$\n",
    "\n",
    "$\\rho = 1.527 x 10^5 kg m-3$\n",
    "\n",
    "$X = 0.3397$\n",
    "\n",
    "$X_{CNO} = 0.0141$\n",
    "\n",
    "Assume that the pp chain screening factor is unity ($f_{pp} = 1$) and that the pp chain branching\n",
    "factor is unity ($\\Psi_{pp} = 1$).\n",
    "\n",
    "i.e. Calculate and compare energy generation rate for pp and CNO.\n",
    "\n",
    "### PP (p311)\n",
    "\n",
    "Simplified version written as ‘power law’ for cases where $T \\approx 1.5*10^7K$:\n",
    "\n",
    "$\\epsilon_{pp} \\approx \\epsilon_{0,pp}^{\\prime} \\rho X^2 f_{pp} \\psi_{pp}C_{pp}T_6^{4} = 1.16 * 10^{-3}$ W kg-1\n",
    "\n",
    "Where:\n",
    "\n",
    "- $\\epsilon_{0,pp}^{\\prime} = 1.08*10^{-12}$ W m3 kg-2\n",
    "- $T_6$ is dimensionless temp in units $10^6K$ ($T_6 = T/10^6K$)\n",
    "- $f_{pp} = f_{pp}(X, Y, \\rho, T)$ is the pp chain screening factor\n",
    "- $\\psi_{pp} = \\psi_{pp}(X, Y, T)$ is a factor to correct for simultaneous PP1, PP2 and PP3\n",
    "- $C_{pp} \\sim 1$ is “higher order correction of terms”\n",
    "\n"
   ]
  },
  {
   "cell_type": "code",
   "execution_count": 15,
   "id": "cf152f57-1e91-4532-af14-738f063c1b96",
   "metadata": {},
   "outputs": [],
   "source": [
    "e_0pp = 1.08E-12\n",
    "T = 1.5696E+7\n",
    "T_6 = T / 1.0E+6\n",
    "rho = 1.527E+5\n",
    "X = 0.3397\n",
    "X_CNO = 0.0141\n",
    "f_pp = 1\n",
    "psi_pp = 1\n",
    "C_pp = 1\n",
    "C_CNO = 1 # ASSUMPTION! - NOT GIVEN IN QUESTION."
   ]
  },
  {
   "cell_type": "code",
   "execution_count": 16,
   "id": "71c1d303-58e9-476b-8002-ffa60b3b44d4",
   "metadata": {},
   "outputs": [
    {
     "data": {
      "text/plain": [
       "0.001155074101498429"
      ]
     },
     "execution_count": 16,
     "metadata": {},
     "output_type": "execute_result"
    }
   ],
   "source": [
    "# PP\n",
    "e_pp = e_0pp * rho * (X**2) * f_pp * psi_pp * C_pp * (T_6**(4))\n",
    "e_pp"
   ]
  },
  {
   "cell_type": "markdown",
   "id": "4a5c5b5e-6191-4130-906a-65a37b41971c",
   "metadata": {},
   "source": [
    "### CNO (p312)\n",
    "\n",
    "Simplified version written as ‘power law’ for cases where $T \\approx 1.5*10^7K$:\n",
    "\n",
    "$\\epsilon_{CNO} \\approx \\epsilon_{0,CNO}^{\\prime} \\rho XX_{CNO} T_6^{19.9} = 3.77 * 10^{-4}$ W kg-1\n",
    "\n",
    "Where:\n",
    "\n",
    "- $\\epsilon_{0,CNO}^{\\prime} = 8.24*10^{-31}$ W m3 kg-2\n"
   ]
  },
  {
   "cell_type": "code",
   "execution_count": null,
   "id": "0ebf3e0c-4c6a-491f-a8d5-484635ac1bcd",
   "metadata": {},
   "outputs": [
    {
     "data": {
      "text/plain": [
       "0.0003769483181974039"
      ]
     },
     "execution_count": 17,
     "metadata": {},
     "output_type": "execute_result"
    }
   ],
   "source": [
    "e_0CNO = 8.24E-31\n",
    "\n",
    "e_CNO = e_0CNO * rho * X * X_CNO * (T_6**19.9)\n",
    "e_CNO"
   ]
  },
  {
   "cell_type": "code",
   "execution_count": null,
   "id": "031dfcc0-c1c3-4d7d-bdac-a93cdbe249c2",
   "metadata": {},
   "outputs": [
    {
     "name": "stdout",
     "output_type": "stream",
     "text": [
      "pp chain generates 3.064277105737155 times more energy than CNO cycle\n"
     ]
    }
   ],
   "source": [
    "ratio = e_pp / e_CNO\n",
    "print('pp chain generates %s times more energy than CNO cycle' % ratio)"
   ]
  },
  {
   "cell_type": "markdown",
   "id": "71322737-e948-418f-ab1b-eb02074fbb2f",
   "metadata": {},
   "source": [
    "# 10.14\n",
    "\n",
    "Complete the following reaction sequences. Be sure to include any necessary leptons.\n",
    "\n",
    "**Answer**\n",
    "\n",
    "See:\n",
    "- [Nuclear reaction](https://www.dropbox.com/scl/fi/06m8486b42w1ktgemvw1n/Chapters.paper?dl=0&rlkey=ke1cfdsaxk44jhsu7pkatxdwg#:h2=Nuclear-reaction-(nucleosynthe) (nucleosynthesis) notation (p309).\n",
    "- [Nucleons & Leptons](https://www.dropbox.com/scl/fi/06m8486b42w1ktgemvw1n/Chapters.paper?dl=0&rlkey=ke1cfdsaxk44jhsu7pkatxdwg#:h2=Nucleons-&-Leptons--(308)) (p308)\n",
    "\n",
    "- X is the chemical symbol (e.g. H = hydrogen)\n",
    "- Z is total number of protons \n",
    "    - i.e. total positive charge, in units of $e$ (fundamental electric charge)\n",
    "- A is the mass number\n",
    "    - i.e. total number of nucleons, protons and neutrons\n",
    "\n",
    "$$^{mass num}_{proton num}Elem$$\n",
    "\n",
    "[total number of matter leptons] - [total number of antimatter leptons] -> constant\n",
    "\n",
    "**a)**\n",
    "\n",
    "$^{27}_{14}Si \\rightarrow ^{?}_{13}Al + e^+ + ?$\n",
    "\n",
    "So we start with Si that has 14 protons and `27 - 14 = 13` neutrons (“silicone 27”).\n",
    "\n",
    "=>\n",
    "\n",
    "$^{27}_{14}Si \\rightarrow ^{27}_{13}Al + e^+ + v$\n",
    "\n",
    "\n",
    "- the right side has one less proton, so we add a positron to balance the charge of 14.\n",
    "- positron has a companion neutrino (or an electron on otherside of equation)\n",
    "\n",
    "**b)**\n",
    "\n",
    "$^{?}_{13}Al + ^{1}_{1}H \\rightarrow ^{24}_{12}Mg + ^{4}_{?}?$\n",
    "\n",
    "Protons: 13 + 1 = 12 + `2`\n",
    "\n",
    "Neutrons: 24 + 4 = 1 + `27`\n",
    "\n",
    "So:\n",
    "\n",
    "$^{27}_{13}Al + ^{1}_{1}H \\rightarrow ^{24}_{12}Mg + ^{4}_{2}H$\n",
    "\n",
    "\n",
    "**c)**\n",
    "\n",
    "$^{35}_{17}Cl + ^{1}_{1}H \\rightarrow ^{36}_{18}Ar + ?$\n",
    "\n",
    "Protons: 17 + 1 = 18\n",
    "\n",
    "Neutrons: 35 + 1 = 36\n",
    "\n",
    "Therefore must just be a photon\n",
    "\n",
    "$^{35}_{17}Cl + ^{1}_{1}H \\rightarrow ^{36}_{18}Ar + \\gamma$\n"
   ]
  },
  {
   "cell_type": "markdown",
   "id": "fd63b8c0-0ce2-489a-8020-15e0bc3b5e47",
   "metadata": {},
   "source": [
    "# 10.21\n",
    "\n",
    "Estimate the hydrogen-burning lifetimes of stars near the lower and upper ends of the main\n",
    "sequence.\n",
    "\n",
    "The lower end of the main sequence occurs near $0.072 M_{\\odot}$, with \n",
    "\n",
    "$$log_{10} T_e = 3.23$$\n",
    "\n",
    "and\n",
    " \n",
    "$$log_{10}(L/L_{\\odot}) = -4.3$$ \n",
    "\n",
    "On the other hand, a $85 M_{\\odot}$ star near the upper end of the main sequence has an effective temperature and luminosity of \n",
    "\n",
    "$$log_{10} T_e = 4.705$$\n",
    "\n",
    "and\n",
    "\n",
    "$$log_{10}(L/L_{\\odot}) = 6.006$$. \n",
    "\n",
    "respectively. Assume that the $0.072 M_{\\odot}$ star is entirely convective so that, through convective mixing, all of its hydrogen, rather than just the inner 10%, becomes available for burning."
   ]
  },
  {
   "cell_type": "markdown",
   "id": "da146bbe-c573-49da-884e-e13753b9cada",
   "metadata": {},
   "source": [
    "# 11 - The Sun"
   ]
  },
  {
   "cell_type": "markdown",
   "id": "61441484-34d4-438a-87a9-58df6fd236c0",
   "metadata": {},
   "source": [
    "# 11.2\n",
    "\n",
    "(a) At what rate is the Sun's mass decreasing due to nuclear reactions? Express your answer in solar masses per year.\n",
    "\n",
    "$t = 1 * 365.25 * 24 * 60 * 60 = 31557600s$\n",
    "\n",
    "We can use Luminosity for approx energy:\n",
    "\n",
    "$$E = mc^2$$\n",
    "\n",
    "So energy for year can be rearranged for mass:\n",
    "\n",
    "$$\n",
    "E = mc^2 = tL_{\\odot}\n",
    "$$\n",
    "\n",
    "$$\n",
    "m = \\frac{tL_{\\odot}}{c^2} = 1.35 * 10^{17}kg = 6.78 * 10^{-14}M_{\\odot} / yr\n",
    "$$"
   ]
  },
  {
   "cell_type": "code",
   "execution_count": 30,
   "id": "87ef8921-b4c4-4e49-beb2-ea436397ad83",
   "metadata": {},
   "outputs": [
    {
     "data": {
      "text/plain": [
       "6.776790438129552e-14"
      ]
     },
     "execution_count": 30,
     "metadata": {},
     "output_type": "execute_result"
    }
   ],
   "source": [
    "t = 365.25 * 24 * 60 * 60\n",
    "(31557600 * (L_sun)/(c**2)) / M_sun"
   ]
  },
  {
   "cell_type": "markdown",
   "id": "147cc97c-cbc2-419b-940f-769f5fe9a1bc",
   "metadata": {},
   "source": [
    "**(b) Compare your answer to part (a) with the mass loss rate due to the solar wind.**\n",
    "\n",
    "$$\\frac{dM}{dt} = 4\\pi r^2 n m_H v = 4\\pi r^2 \\rho v$$\n",
    "\n",
    "p374\n",
    "\n",
    "Mass loss due to solar wind is given (p374, Example 11.2.1), as:\n",
    "\n",
    "$v = 500km/s$\n",
    "\n",
    "$r = 1AU$\n",
    "\n",
    "$n = 7*10^6$ protons/m^3\n",
    "\n",
    "Rate of mass loss:\n",
    "\n",
    "$$\\dot{M} = 4\\pi r^2 n m_H v \\approx 3*10^{-14}M_{\\odot} yr^{-1} = 1.65 * 10^{9} kg/s$$\n",
    "\n",
    "For a year in solar masses:\n",
    "\n",
    "$$\n",
    "\\frac{t\\dot{M}}{M_{\\odot}} = 2.61 * 10^{-14}{M_{\\odot}} / yr\n",
    "$$\n",
    "\n",
    "Mass loss is greater through nuclear reactions.\n"
   ]
  },
  {
   "cell_type": "code",
   "execution_count": 42,
   "id": "a0007132-b9d9-4321-8421-41478cfcc363",
   "metadata": {},
   "outputs": [
    {
     "data": {
      "text/plain": [
       "(1647262769.0604434, 2.6134261505656755e-14)"
      ]
     },
     "execution_count": 42,
     "metadata": {},
     "output_type": "execute_result"
    }
   ],
   "source": [
    "v = 500000\n",
    "r = AU\n",
    "n = 7.0E+6\n",
    "\n",
    "M_dot = (4 * math.pi * r**2 * n * m_H * v) \n",
    "M_dot, (t * M_dot) / M_sun"
   ]
  },
  {
   "cell_type": "markdown",
   "id": "baaffa7f-3311-4c93-a00a-044ae8592050",
   "metadata": {},
   "source": [
    "**(c) Assuming that the solar wind mass loss rate remains constant, would either mass loss process significantly affect the total mass of the Sun over its entire main-sequence lifetime?**\n",
    "\n",
    "Suns main sequence lifetime is 10 billion years.\n",
    "\n",
    "Looking at nuclear:\n",
    "\n",
    "$$6.77*10^{-14}M_{\\odot} * 10^{10}yrs = 6.77*10^{-4}M_{\\odot}$$\n",
    "\n",
    "Total mass loss is negligible.\n"
   ]
  },
  {
   "cell_type": "markdown",
   "id": "c34a527a-d1eb-4274-9255-84de2db6528f",
   "metadata": {},
   "source": [
    "# 11.5\n",
    "\n",
    "**(a) Using Eq. (9.63) and neglecting turbulence, estimate the full width at half-maximum of the hydrogen $H\\alpha$ absorption line due to random thermal motions in the Sun's photosphere.**\n",
    "\n",
    "Assume that the temperature is the Sun's effective temperature.\n",
    "\n",
    "**Answer**\n",
    "\n",
    "Eq 9.63, p269\n",
    "\n",
    "Wavelength for $H\\alpha$ is:\n",
    "\n",
    "$\\lambda \\approx 656.3$\n",
    "\n",
    "$T = 5777K$\n",
    "\n",
    "\n",
    "$$\n",
    "(\\Delta \\lambda)_{1/2} = \\frac{2\\lambda}{c} \\sqrt{(\\frac{2kT}{m} + v^2_{turb})ln2} = 3.558 * 10^{-11}m\n",
    "$$\n",
    "\n",
    "Or ~0.003558nm"
   ]
  },
  {
   "cell_type": "code",
   "execution_count": 43,
   "id": "f50988f3-f562-45b8-92fb-179ed493470c",
   "metadata": {},
   "outputs": [],
   "source": [
    "# wavelgnth for H_alpha is\n",
    "lam = 656.3E-9\n",
    "T = 5777\n",
    "k = 1.3806504E-23\n",
    "m = 1.6735575E-27"
   ]
  },
  {
   "cell_type": "code",
   "execution_count": 44,
   "id": "45db13a3-a247-4e4b-95a1-092caf1bec21",
   "metadata": {},
   "outputs": [
    {
     "data": {
      "text/plain": [
       "3.558870223299679e-11"
      ]
     },
     "execution_count": 44,
     "metadata": {},
     "output_type": "execute_result"
    }
   ],
   "source": [
    "delta_lambda_1_2 = ((2*lam)/c) * math.sqrt( ((2*k*T)/m) * math.log(2) )\n",
    "delta_lambda_1_2"
   ]
  },
  {
   "cell_type": "markdown",
   "id": "c218f822-2e9d-479e-9f92-ce3c99231f43",
   "metadata": {},
   "source": [
    "**(b) Using $H\\alpha$ redshift data for solar granulation, estimate the full width at half-maximum when convective turbulent motions are included with thermal motions.**\n",
    "\n",
    "**Answer**\n",
    "\n",
    "i.e. do the same but include turbulence, $v=400m/s$"
   ]
  },
  {
   "cell_type": "code",
   "execution_count": 45,
   "id": "0e497af7-19f6-4ecb-a451-c86dfe451c6c",
   "metadata": {},
   "outputs": [
    {
     "data": {
      "text/plain": [
       "3.561855912207283e-11"
      ]
     },
     "execution_count": 45,
     "metadata": {},
     "output_type": "execute_result"
    }
   ],
   "source": [
    "# from p364\n",
    "v_turb = 400\n",
    "\n",
    "delta_lambda_1_2_turb = ((2*lam)/c) * math.sqrt( ( (((2*k*T)/m) + (v_turb**2))) * math.log(2) )\n",
    "delta_lambda_1_2_turb "
   ]
  },
  {
   "cell_type": "markdown",
   "id": "ce0bd6a4-7687-454c-8672-707f8193419f",
   "metadata": {},
   "source": [
    "**(c) What is the ratio of $v^2_{turb}$ to $2kT/m$?**"
   ]
  },
  {
   "cell_type": "code",
   "execution_count": 19,
   "id": "342520cc-e920-4a01-b82b-4f6ceea66c0c",
   "metadata": {},
   "outputs": [
    {
     "data": {
      "text/plain": [
       "0.0016785896261711658"
      ]
     },
     "execution_count": 19,
     "metadata": {},
     "output_type": "execute_result"
    }
   ],
   "source": [
    "(v_turb**2) / ((2*k*T)/m)"
   ]
  },
  {
   "cell_type": "markdown",
   "id": "9de0edcf-98e1-4a83-a490-69383d69c226",
   "metadata": {
    "tags": []
   },
   "source": [
    "**(d) Determine the relative change in the full width at half-maximum due to Doppler broadening when turbulence is included.** \n",
    "\n",
    "Does turbulence make a significant contribution to $\\lambda_{1/2}$ in the solar photosphere?\n",
    "\n",
    "**Answer**\n",
    "\n",
    "The relative change is $0.083$%, which is not a significant contribution."
   ]
  },
  {
   "cell_type": "code",
   "execution_count": 20,
   "id": "99f7ec2c-e557-4a41-8ed7-9b35bdc43a5d",
   "metadata": {},
   "outputs": [
    {
     "data": {
      "text/plain": [
       "0.08382396652742595"
      ]
     },
     "execution_count": 20,
     "metadata": {},
     "output_type": "execute_result"
    }
   ],
   "source": [
    "(delta_lambda_1_2_turb - delta_lambda_1_2) / delta_lambda_1_2_turb * 100"
   ]
  },
  {
   "cell_type": "markdown",
   "id": "c7e81701-9195-4bc6-835e-40d15fa6ba23",
   "metadata": {},
   "source": [
    "# 11.7\n",
    "\n",
    "**(a) Using Eq. (3.22), show that in the Sun's photosphere,**\n",
    "\n",
    "$$ln(B_a/B_b) \\approx 11.5 + \\frac{hc}{kT}(\\frac{1}{\\lambda_b} - \\frac{1}{\\lambda_a})$$\n",
    "\n",
    "\n",
    "where $B_a/B_b$, is the ratio of the amount of blackbody radiation emitted at $\\lambda_a = 10nm$ to\n",
    "the amount emitted at $\\lambda_b = 100nm$, centered in a wavelength band 0.1 nm wide.\n",
    "\n",
    "Eq3.22 is Plank function:\n",
    "\n",
    "$$B_{\\lambda}(T) = \\frac{2hc^2 / \\lambda^5}{e^{hc / \\lambda kT} -1}$$\n",
    "\n",
    "Where\n",
    "\n",
    "$h$ = planks constant = $6.62606876 * 10^{-34} J s$\n",
    "\n",
    "#### I deleted most of this answer, see course notes (incorrect - you need to integrate over $\\Delta \\lambda$)"
   ]
  },
  {
   "cell_type": "code",
   "execution_count": 47,
   "id": "472f3116-7553-4240-963d-efcea7f502d6",
   "metadata": {},
   "outputs": [],
   "source": [
    "lambda_a = 10.0E-9 # 10nm\n",
    "lambda_b = 100.0E-9 # 100nm\n",
    "T = 4400\n",
    "h = 6.62606876E-34\n",
    "c = 299792458\n",
    "k = 1.3806503E-23   \n",
    "\n",
    "def plank(lambd, T): \n",
    "    return ( \n",
    "        ((2 * h * c**2) / lambd**5) / \n",
    "        (math.e**((h*c) / (lambd * k * T)) - 1)\n",
    "    )\n",
    "        \n",
    "B_a = plank(lambda_a, T)\n",
    "B_b = plank(lambda_b, T)"
   ]
  },
  {
   "cell_type": "markdown",
   "id": "f895d4af-b523-4ff4-8dbb-d4632fada4ee",
   "metadata": {},
   "source": [
    "### (b) What is the value of this expression for the case where the temperature is taken to be the effective temperature of the Sun?\n",
    "\n",
    "$$\n",
    "ln(\\frac{B_a}{B_b})\n",
    "$$"
   ]
  },
  {
   "cell_type": "code",
   "execution_count": 48,
   "id": "4bbdf56d-b171-4035-abe8-e20881c8691b",
   "metadata": {},
   "outputs": [
    {
     "data": {
      "text/plain": [
       "(-212.6341575980792, -212.64708306303422)"
      ]
     },
     "execution_count": 48,
     "metadata": {},
     "output_type": "execute_result"
    }
   ],
   "source": [
    "T = 5777\n",
    "B_a = plank(lambda_a, T)\n",
    "B_b = plank(lambda_b, T)\n",
    "\n",
    "RHS = 11.5 + ( (h*c)/(k*T) ) * ( (1/lambda_b) - (1/lambda_a) )\n",
    "\n",
    "LHS = math.log(B_a/B_b)\n",
    "LHS, RHS"
   ]
  },
  {
   "cell_type": "markdown",
   "id": "ce80d206-5cf5-4ae7-bd3b-c7befce9c562",
   "metadata": {
    "tags": []
   },
   "source": [
    "### (c) Writing the ratio in the form $B_a/B_b = 10^x$, determine the value of x.\n",
    "\n",
    "Natural log is [inverse to exponent..](https://www.dropbox.com/scl/fi/4a4ndlf9jj7j7v1ny2hfg/Formulas.paper?dl=0&rlkey=ropxdy2vr30ejwqex1x35t8p7#:uid=839720135390209545578010&h2=Rearrange-powers-/-exponents)"
   ]
  },
  {
   "cell_type": "code",
   "execution_count": 49,
   "id": "b851d9e6-8a5b-4b39-b5c0-ab3570c376c4",
   "metadata": {},
   "outputs": [
    {
     "data": {
      "text/plain": [
       "-92.3458413089922"
      ]
     },
     "execution_count": 49,
     "metadata": {},
     "output_type": "execute_result"
    }
   ],
   "source": [
    "math.log((B_a/B_b), 10)"
   ]
  },
  {
   "cell_type": "markdown",
   "id": "73b3f801-9629-465d-9c7c-ed9929312ea9",
   "metadata": {},
   "source": [
    "# 11.8\n",
    "\n",
    "The gas pressure at the base of the photosphere is approximately $2 * 10^4$ N m-2 and the mass density is $3.2 * 10^{-4}$ kg m-3\n",
    " \n",
    "Estimate the sound speed at the base of the photosphere, and compare your answer with the values at the top of the photosphere and averaged throughout the Sun.\n",
    "\n",
    "**Answer**\n",
    "\n",
    "Adiabatic Sound Speed: \n",
    "\n",
    "$$v_s = \\sqrt{\\gamma P / \\rho} = 10206 m/s = 10.2km/s$$\n",
    "\n",
    "Assume monotomic gas ($\\gamma = 5/3$)."
   ]
  },
  {
   "cell_type": "code",
   "execution_count": 26,
   "id": "a247c2d1-01c5-42b9-ba74-fe44e8e7e930",
   "metadata": {},
   "outputs": [
    {
     "data": {
      "text/plain": [
       "10206.207261596575"
      ]
     },
     "execution_count": 26,
     "metadata": {},
     "output_type": "execute_result"
    }
   ],
   "source": [
    "P = 2.0E+4\n",
    "rho = 3.2E-4\n",
    "gamma = 5/3\n",
    "\n",
    "v_base = math.sqrt( (gamma*P) / rho)\n",
    "v_base"
   ]
  },
  {
   "cell_type": "markdown",
   "id": "9ae15fd4-6da6-40d9-b318-e1dc8feb211a",
   "metadata": {},
   "source": [
    "$v_{s,top} = 6.9km/s$ (Example 11.2.2, p379)\n",
    "\n",
    "$v_{s,sun} = 400km/s$ (Example 10.4.2)\n",
    "\n",
    "Speed of sound increases as we go deeper into the sun - pressure increases faster than density."
   ]
  },
  {
   "cell_type": "markdown",
   "id": "51e044a7-a194-4b69-aa15-ce67f98b800b",
   "metadata": {},
   "source": [
    "# 11.14\n",
    "\n",
    "Assuming that an average of one coronal mass ejection occurs per day and that a typical CME ejects $10^{13}$ kg of material, estimate the annual mass loss from CMEs and compare your answer with the annual mass loss from the solar wind. \n",
    "\n",
    "Express your answer as a percentage of CME mass loss to solar wind mass loss."
   ]
  },
  {
   "cell_type": "code",
   "execution_count": 27,
   "id": "d6f7bef1-fc7b-4d67-817b-1a76c0fc63e5",
   "metadata": {},
   "outputs": [
    {
     "data": {
      "text/plain": [
       "(1.6351616308883416e-15, 3e-14, 5.450538769627806)"
      ]
     },
     "execution_count": 27,
     "metadata": {},
     "output_type": "execute_result"
    }
   ],
   "source": [
    "wind_yr = 3.0E-14 # from p374\n",
    "cme_day = 10**13\n",
    "cme_yr = (cme_day * 325.25) / M_sun\n",
    "\n",
    "percent =  (cme_yr / wind_yr) * 100\n",
    "\n",
    "cme_yr, wind_yr, percent"
   ]
  },
  {
   "cell_type": "markdown",
   "id": "3763a344-2ac5-4494-b5c0-b212438b5c39",
   "metadata": {},
   "source": [
    "# 12 - Interstellar Medium & Star Formation"
   ]
  },
  {
   "cell_type": "markdown",
   "id": "1f69ed83-05b1-4d0e-90ad-bb625abc7196",
   "metadata": {},
   "source": [
    "# 12.3 \n",
    "The Boltzmann factor $e^{-(E_2-E_1)/kT}$, helps determine the relative populations of energy levels (see Section 8.1). \n",
    "\n",
    "Using the Boltzmann factor, estimate the temperature required for a hydrogen atom's electron and proton to go from being anti-aligned to being aligned. \n",
    "\n",
    "Are the temperatures in H I clouds sufficient to produce this low-energy excited state?\n",
    "\n",
    "**Answer**\n",
    "\n",
    "Ratio of number of atoms in two states (p212):\n",
    "\n",
    "$$\\frac{N_b}{N_a} = \\frac{g_b}{g_a} e^{-(E_b-E_a)/kT}$$\n",
    "\n",
    "$k$ = Boltzmann constant\n",
    "$E_a,E_b$ are energies (eV)\n",
    "$g_a,g_b$ are number of degenerate states (i.e. how many different quantum states are there which have the same energy) , e.g.  for hydrogen:\n",
    "\n",
    "$$g_b = 2n^2$$\n",
    "\n",
    "From p212, we see that $n=1$ for both ground states, so:\n",
    "\n",
    "$$\n",
    "g_a, g_b = 2 * 1^2 = 2\n",
    "$$\n",
    "\n",
    "So the equation can be simplified $(2/2 = 1)$:\n",
    "\n",
    "$$\n",
    "1 = e^{-(E_2-E_1)/kT}\n",
    "$$\n",
    "\n",
    "Ground state:\n",
    "$E_1 = -13.6eV$\n",
    "\n",
    "Excited state (difference is the energy of the photon, right?):\n",
    "\n",
    "$\\lambda = 0.211m$\n",
    "\n",
    "$E_2 = \\frac{hc}{\\lambda} = 5.876 * 10^{-6} eV$\n",
    "\n",
    "\n",
    "i.e. the energy change is negligible, $E$ still is essentially still $=E_1$\n",
    "\n",
    "From Example 8.1.3, p 213:\n",
    "\n",
    "$$\n",
    "T = \\frac{E}{k} = \\frac{5.876 * 10^{-6} eV}{8.617343 * 10^{-5}eV K^{-1} \\ln(4)} = 0.068 K\n",
    "$$\n",
    "\n",
    "**Temperatures in diffuse H I clouds ARE sufficient (only 30-80K).**"
   ]
  },
  {
   "cell_type": "code",
   "execution_count": 53,
   "id": "3b807640-c1d9-46cf-ab62-a1ed304cbfa2",
   "metadata": {},
   "outputs": [
    {
     "data": {
      "text/plain": [
       "(5.876027860031586e-06, 0.0681883947294611)"
      ]
     },
     "execution_count": 53,
     "metadata": {},
     "output_type": "execute_result"
    }
   ],
   "source": [
    "λ = 0.211\n",
    "h_ev = 4.13566733e-15 # eV\n",
    "ev_factor = 1.60218e-19\n",
    "\n",
    "E_1 = -13.6 \n",
    "E_2 = ((h_ev * c) / λ)\n",
    "E = E_2\n",
    "E, E/k_ev"
   ]
  },
  {
   "cell_type": "markdown",
   "id": "01cd1840-63ce-450c-8ced-417c03b3d5ae",
   "metadata": {},
   "source": [
    "# 12.5\n",
    "Using an approach analogous to the development of Eq. (10.29) for nuclear reaction rates, make a crude `estimate of the number of random collisions` per cubic meter per second between CO and H, molecules in a giant molecular cloud that has a temperature of `15K` and a number\n",
    "density of $n_{H_2} = 10^8 m^{-3}$. \n",
    "\n",
    "Assume (incorrectly) that the molecules are spherical in shape with radii of approximately `0.1nm`, the characteristic size of an atom.\n",
    "\n",
    "### Answer\n",
    "\n",
    "$T = 15K$\n",
    "\n",
    "$n_{H_2} = 10^8 m^{-3}$\n",
    "\n",
    "$r = 0.1nm$\n",
    "\n",
    "Eq. (10.29), p304:\n",
    "\n",
    "$$\n",
    "r_{ix} = \\int_0^{\\infty} n_x n_i \\sigma(E) v(E) \\frac{n_E}{n} dE\n",
    "$$\n",
    "\n",
    "\n",
    "Where: \n",
    "\n",
    "- $n_x$ and $n_i$ are the number densities of the two molecules - so our case $n_{H2}$ and $n_{CO}$\n",
    "- $\\sigma$ is the cross-sectional area\n",
    "- $V(E)$ is the vlocity of particles over all energies\n",
    "\n",
    "\n",
    "...\n",
    "\n",
    "TODO - need to integrate..."
   ]
  },
  {
   "cell_type": "code",
   "execution_count": 2,
   "id": "a3e1cbd6-9d07-4969-ad3e-3d656172e7aa",
   "metadata": {},
   "outputs": [],
   "source": [
    "T = 15\n",
    "n_H2 = 10.0E+8\n",
    "r = 0.1E-9"
   ]
  },
  {
   "cell_type": "markdown",
   "id": "6ae5eaef-5f72-4333-9fc3-6a4a4a04c2eb",
   "metadata": {},
   "source": [
    "# 12.8\n",
    "(a) Equations (12.10) and (12.11) illustrate a cooling mechanism for a molecular cloud accomplished through the excitation of oxygen atoms. \n",
    "\n",
    "Explain why the excitation of hydrogen rather than oxygen is not an effective cooling mechanism.\n",
    "\n",
    "### Answer\n",
    "\n",
    "p411\n",
    "\n",
    "12.10 - O and H collide with kinetic energy, which puts O in excited state, denoted by $O^*$:\n",
    "$$\n",
    "O + H \\rightarrow O^* + H\n",
    "$$\n",
    "\n",
    "12.11 - Excited $O^*$ decays to ground state O, emitting an IR photon of suffient wavelength to escape the cloud (Mie scattering), therefore removing energy/temp from the cloud):\n",
    "$$\n",
    "O^* \\rightarrow O + \\gamma\n",
    "$$\n",
    "\n",
    "H is much more abundant than O. If H emits a photon, it is much more likely to be reabsobed by a H (i.e. less likely to escape the cloud)."
   ]
  },
  {
   "cell_type": "markdown",
   "id": "bb169c4d-e307-46a8-8205-25569ff38d2d",
   "metadata": {},
   "source": [
    "(b) Why are the temperatures of hot cores significantly greater than dense cores?\n",
    "\n",
    "### Answer\n",
    "\n",
    "Note - \"hot cores\", and \"dense cores\" are a types of interstellar cloud (p408).\n",
    "\n",
    "Hot cores are much more dense than dense cores (despite the name...).\n",
    "i.e. in the more dense \"hot core\" it's harder for photons to espace, hot cores also contain large O and B stars."
   ]
  },
  {
   "cell_type": "markdown",
   "id": "6d03b12f-5478-4f6d-a5cf-669a4f9140b9",
   "metadata": {},
   "source": [
    "# 12.14\n",
    "Assuming that the free-fall acceleration of the surface of a collapsing cloud remains constant during the entire collapse, derive an expression for the free-fall time. \n",
    "\n",
    "Show that your answer differs from Eq. (12.26) only by a term of order unity."
   ]
  },
  {
   "cell_type": "code",
   "execution_count": null,
   "id": "253d182b-b993-4692-b709-04937bcfa148",
   "metadata": {},
   "outputs": [],
   "source": []
  },
  {
   "cell_type": "markdown",
   "id": "85055593-186e-45d3-9364-2fc8e3197b09",
   "metadata": {
    "tags": []
   },
   "source": [
    "# 13 - Main Sequence & Post-Main-Sequence Stellar Evolution\n",
    "\n",
    "# 13.1\n",
    "\n",
    "(a) For a 5$M_{\\odot}$ star, use the data in Table 13.1 associated with Fig. 13.1 to construct a table\n",
    "that expresses the evolutionary times between points 2 and 3, points 3 and 4, and so on,\n",
    "as a percentage of the lifetime of the star on the main sequence between points 1 and 2.\n",
    "\n",
    "See: p448-449"
   ]
  },
  {
   "cell_type": "code",
   "execution_count": 31,
   "id": "56ad6be7-f399-4df4-97e4-0788b6ebe700",
   "metadata": {},
   "outputs": [
    {
     "name": "stdout",
     "output_type": "stream",
     "text": [
      "stage points | elapsed time (Myr) | % of main sequence time\n",
      "2 3 1.5234000000000094 1.6391978540001413\n",
      "3 4 0.11439999999998918 0.12309586090166554\n",
      "4 5 0.34830000000000894 0.3747752478326509\n",
      "5 6 0.2890000000000015 0.3109676905645532\n",
      "6 7 4.172699999999992 4.4898784858778615\n",
      "7 8 1.5045000000000073 1.6188612126448794\n",
      "8 9 6.319999999999993 6.800400707155585\n",
      "9 10 1.2459999999999951 1.3407119115689612\n"
     ]
    }
   ],
   "source": [
    "total_ms = 92.9357\n",
    "\n",
    "Myr = [\n",
    "    94.4591, # 3\n",
    "    94.5735, # 4\n",
    "    94.9218, # 5\n",
    "    95.2108,\n",
    "    99.3835, # 7\n",
    "    100.888, # 8\n",
    "    107.208, # 9\n",
    "    108.454    \n",
    "]\n",
    "\n",
    "print('stage points | elapsed time (Myr) | % of main sequence time')\n",
    "\n",
    "for i in range(len(Myr)):\n",
    "    \n",
    "    n_1 = i + 2\n",
    "    n_2 = i + 1 + 2\n",
    "    \n",
    "    if i > 0:\n",
    "        elapsed = Myr[i] - Myr[i-1]\n",
    "    else:\n",
    "        elapsed = Myr[i] - total_ms\n",
    "    \n",
    "    percent = elapsed / total_ms * 100\n",
    "    print(n_1, n_2, elapsed, percent)\n",
    "    "
   ]
  },
  {
   "cell_type": "markdown",
   "id": "295f433f-ac6c-4254-a8a6-789b319402f1",
   "metadata": {},
   "source": [
    "**(b) How long does it take a 5$M_{\\odot}$ star to cross the Hertzsprung gap relative to its main-sequence lifetime?**\n",
    "\n",
    "Occurs between points `3-5`, so:"
   ]
  },
  {
   "cell_type": "code",
   "execution_count": 32,
   "id": "7f17ce7e-d35a-4d84-8cd6-5f4278fa6391",
   "metadata": {},
   "outputs": [
    {
     "data": {
      "text/plain": [
       "(0.4978711087343164, '%')"
      ]
     },
     "execution_count": 32,
     "metadata": {},
     "output_type": "execute_result"
    }
   ],
   "source": [
    "t = Myr[2] - Myr[0]\n",
    "t / total_ms * 100, '%'"
   ]
  },
  {
   "cell_type": "markdown",
   "id": "4de1aca8-a4c3-4040-b6c2-fb300b9bad82",
   "metadata": {},
   "source": [
    "**(c) How long does the 5$M_{\\odot}$ star spend on the blueward portion of the horizontal branch relative to its main-sequence lifetime?**\n",
    "\n",
    "Ocurrs between `7-8`, so:"
   ]
  },
  {
   "cell_type": "code",
   "execution_count": 33,
   "id": "4f663a82-cdcf-45fb-b19a-651d2303ffe2",
   "metadata": {},
   "outputs": [
    {
     "data": {
      "text/plain": [
       "(1.6188612126448794, '%')"
      ]
     },
     "execution_count": 33,
     "metadata": {},
     "output_type": "execute_result"
    }
   ],
   "source": [
    "t = Myr[5] - Myr[4]\n",
    "t / total_ms * 100, '%'"
   ]
  },
  {
   "cell_type": "markdown",
   "id": "e27a63e2-b99f-4955-ba44-c769a1da8c2e",
   "metadata": {},
   "source": [
    "**(d) How long does the 5$M_{\\odot}$ star spend on the redward portion of the horizontal branch relative to its main-sequence lifetime?**\n",
    "\n",
    "Ocurrs  between `8-9`, so:"
   ]
  },
  {
   "cell_type": "code",
   "execution_count": 34,
   "id": "f828642f-12ec-4274-a36a-11947452921e",
   "metadata": {},
   "outputs": [
    {
     "data": {
      "text/plain": [
       "(6.800400707155585, '%')"
      ]
     },
     "execution_count": 34,
     "metadata": {},
     "output_type": "execute_result"
    }
   ],
   "source": [
    "t = Myr[6] - Myr[5]\n",
    "t / total_ms * 100, '%'"
   ]
  },
  {
   "cell_type": "markdown",
   "id": "5bac6b90-66b6-4d28-b270-9ea27b412d28",
   "metadata": {},
   "source": [
    "# 13.6\n",
    "\n",
    "In an attempt to identify the important components of AGB mass loss, various researchers have proposed parameterizations of the mass loss rate that are based on fitting observed rates for a specified set of stars with some general equation that includes measurable quantities associated with the stars in the sample. \n",
    "\n",
    "One of the most popular, developed by D. Reimers, is given by:\n",
    "\n",
    "$$\n",
    "M = -4*10^{-13}\\eta \\frac{L}{gR} M_{\\odot} yr^{-1}\n",
    "$$\n",
    "\n",
    "(13.13)\n",
    "\n",
    "where L, g, and R are the luminosity, surface gravity, and radius of the star, respectively (all in solar units; $g_{\\odot} = 274 m s^{-2}$). $\\eta$ is a free parameter whose value is expected to be near unity.\n",
    "\n",
    "Note that the minus sign has been explicitly included here, indicating that the mass of the star is decreasing.\n",
    "\n",
    "**(a) Explain qualitatively why L, g, and R enter Eq. (13.13) in the way they do.**\n",
    "\n"
   ]
  },
  {
   "cell_type": "code",
   "execution_count": null,
   "id": "b7495213-17da-4a46-b539-f0fe6de4f578",
   "metadata": {},
   "outputs": [],
   "source": []
  },
  {
   "cell_type": "markdown",
   "id": "c8fd00f9-25e3-450d-987b-ce7753975408",
   "metadata": {},
   "source": [
    "**(b) Estimate the mass loss rate of a 1$M_{\\odot}$ AGB star that has a luminosity of 7000$L_{\\odot}$ and a temperature of 3000 K.**\n",
    "\n",
    "$L = 7000W$\n",
    "\n",
    "$T = 3000K$\n",
    "\n",
    "Assume $\\eta = 1$\n",
    "\n",
    "We want radius R in solar units, so:\n",
    "\n",
    "$$\n",
    "R = \\sqrt{\\frac{L_{\\odot} L}{4 \\pi \\sigma T^4}} = 2.158*10^{11}m = 310R_{\\odot}\n",
    "$$\n",
    "\n",
    "Surface gravity, $g$:\n",
    "\n",
    "$$\n",
    "g = G \\frac{M}{R^2}= 0.00285m/s-1\n",
    "$$\n",
    "\n",
    "$$\n",
    "\\frac g g_{\\odot} = \\frac{0.00285m/s-1}{274m/s-1} = 1.04*10^{-5}g_{\\odot}\n",
    "$$\n",
    "\n",
    "$$\n",
    "M = -4*10^{-13}\\eta \\frac{L}{gR} M_{\\odot} yr^{-1} = -8.68*10^{-7} M_{\\odot} yr^{-1}\n",
    "$$"
   ]
  },
  {
   "cell_type": "code",
   "execution_count": 35,
   "id": "890c1da4-21c2-43cf-9855-89b43d8af114",
   "metadata": {},
   "outputs": [
    {
     "data": {
      "text/plain": [
       "(215776322293.8097,\n",
       " 310.2427611095914,\n",
       " 1.0406457226051908e-05,\n",
       " -8.672682968515101e-07)"
      ]
     },
     "execution_count": 35,
     "metadata": {},
     "output_type": "execute_result"
    }
   ],
   "source": [
    "L = 7000\n",
    "T = 3000\n",
    "n = 1\n",
    "\n",
    "R = math.sqrt((L * L_sun) / (4 * math.pi * sigma * T**4))\n",
    "g = (G * (M_sun / (R)**2) / G_sun)\n",
    "\n",
    "M = (-4.0E-13 * (L / (g * (R/R_sun))) * M_sun) / M_sun\n",
    "\n",
    "R, R/R_sun, g, M"
   ]
  },
  {
   "cell_type": "markdown",
   "id": "d3a8fdba-2c1e-4344-a652-dfb27ebbc671",
   "metadata": {},
   "source": [
    "# 13.10\n",
    "**(a) Using data available in Tables 12.1 and 13.1 (427,449), compare the pre-main sequence evolutionary time of a 0.8$M_{\\odot}$ star with the lifetime on the main sequence for a 15 $M_{\\odot}$ star.**\n",
    "\n",
    "How does this information help to explain the appearance of a color-magnitude diagram such as Fig. 13.18 (p477)?\n",
    "\n",
    "**Answer**\n",
    "\n",
    "Massive stars moving off main sequence before low mass stars are still contracting in pre-main-sequence evolution and have not yet entered the main sequence."
   ]
  },
  {
   "cell_type": "markdown",
   "id": "8d662839-8209-4ae6-92de-2e2a5b9393a2",
   "metadata": {},
   "source": [
    "**(b) Estimate the mass of a star that would have a main-sequence lifetime comparable to the\n",
    "pre-main-sequence evolutionary time of a 0.8$M_{\\odot}$ star.**\n",
    "\n",
    "**Answer**\n",
    "\n",
    "Table 12.1 gives pre-main-sequence evolutionary time of a 0.8$M_{\\odot}$ star as 68.5Myr.\n",
    "\n",
    "This equates to the main sequence lifetime of approx $5-7M_{\\odot}$ star (Table 13.1)."
   ]
  },
  {
   "cell_type": "code",
   "execution_count": null,
   "id": "7a0c2045-268b-40fb-8090-7261b19017e8",
   "metadata": {},
   "outputs": [],
   "source": []
  },
  {
   "cell_type": "markdown",
   "id": "5ea7cbd0-fe85-495c-9f39-b74596627284",
   "metadata": {},
   "source": [
    "# 13.11\n",
    "**(a) The age of the universe is 13.7 Gyr. Compare this value to the main-sequence lifetime of a 0.8$M_{\\odot}$ star. Why isn't it useful to compute the detailed post-main-sequence evolution of stars with masses much lower than the mass of the Sun?**\n",
    "\n",
    "Main sequence lifetime of a 0.8$M_{\\odot}$ star is 18.8 Gyr (Table 13.1, p 449), _which is older than the universe (13.7Gyr)._\n",
    "\n",
    "Hard to compare theorectical models with obs - we don't have any yet!"
   ]
  },
  {
   "cell_type": "markdown",
   "id": "d3c4959a-4d0b-4fe7-83f3-c9b8dca6ecf8",
   "metadata": {},
   "source": [
    "**(b) Would you expect to find globular clusters with main-sequence turn-off points below 0.8$M_{\\odot}$? Explain your answer.**\n",
    "\n",
    "No - the universe isn't old enough (turn off points limited to age of universe)."
   ]
  },
  {
   "cell_type": "markdown",
   "id": "31b1d337-9195-43b8-b528-8625789e0e52",
   "metadata": {},
   "source": [
    "# 14 - Stellar Pulsation\n",
    "\n",
    "# 14.3\n",
    "\n",
    "Several remote classical Cepheids were discovered in 1994 by the Hubble Space Telescope in\n",
    "the galaxy denoted M100. (M100 is a member of the Virgo cluster, a rich cluster of galaxies.)\n",
    "\n",
    "Figure 14.22 (p514) shows the period-luminosity relation for these Cepheids. \n",
    "\n",
    "Use the two Cepheids nearest the figure's best-fit line to estimate the distance to M100. \n",
    "\n",
    "The mean visual extinction is Ay = 0.15 ‡ 0.17 magnitudes for the M100 Cepheids. \n",
    "\n",
    "Compare your result to the distance of 17.1 ‡ 1.8 Mpc obtained by Wendy Freedman and her colleagues. \n",
    "\n",
    "You are referred to Freedman et al. (1994) for more information on the discovery and importance of these remote pulsating stars.\n",
    "\n",
    "### Answer\n",
    "\n",
    "$A_V = 0.15 \\pm 0.17$\n",
    "\n",
    "We can use PL relation to get M: \n",
    "\n",
    "$$\n",
    "M_{(V)} = -2.81 log_{10}(P_d) - 1.43\n",
    "$$\n",
    "\n",
    "then distance modulus to get distance:\n",
    "\n",
    "$$\n",
    "d = 10^{\\frac{(m_V - M_V + 5 - A_V)}{5}}\n",
    "$$\n",
    "\n",
    "#### Cepheid 1:\n",
    " \n",
    "$m_V1 = 25.5$\n",
    "\n",
    "$P_D1 = log_{10}(1.61) = 40.74d$\n",
    "\n",
    "$$\n",
    "M_V,1 = -2.81 log_{10}(40.74d) - 1.43 = -5.95\n",
    "$$\n",
    "\n",
    "$$\n",
    "d_1 = 10^{\\frac{(25.5 - (-5.95) + 5 - A_V)}{5}} = 1.82 * 10^7pc = 18.2Mpc\n",
    "$$\n",
    "\n",
    "#### Cepheid 2:\n",
    "\n",
    "$m_V2 = 26.3$\n",
    "\n",
    "$P_D2 = 1.35$\n",
    "$P_D2 = log_{10}(1.68) = 22.39d$\n",
    "\n",
    "$$\n",
    "M_V,2 = -2.81 log_{10}(22.39d) - 1.43 = -5.22\n",
    "$$\n",
    "\n",
    "$$\n",
    "d_2 = 10^{\\frac{(26.3 - (-5.22) + 5 - A_V)}{5}} = 1.88 * 10^7pc = 18.8Mpc\n",
    "$$\n",
    "\n",
    "Average of `18.5Mpc`, or an error of:\n",
    "\n",
    "$$\n",
    "\\frac{17.1 - 18.5}{17.1} = 8\\%\n",
    "$$\n",
    "\n",
    "Both values we calculated fall within 17.1 $\\pm$ 1.8Mpc"
   ]
  },
  {
   "cell_type": "code",
   "execution_count": 41,
   "id": "b7cac073-64ee-47c4-9744-9975048c4d51",
   "metadata": {},
   "outputs": [
    {
     "data": {
      "text/plain": [
       "(40.73802778041128, 22.3872113856834)"
      ]
     },
     "execution_count": 41,
     "metadata": {},
     "output_type": "execute_result"
    }
   ],
   "source": [
    "A_V = 0.15\n",
    "\n",
    "m_V1 = 25.5\n",
    "P_D1 = 10**1.61\n",
    "\n",
    "m_V2 = 26.3\n",
    "P_D2 = 10**1.35\n",
    "\n",
    "P_D1,P_D2"
   ]
  },
  {
   "cell_type": "code",
   "execution_count": 42,
   "id": "f9667599-8ece-42f9-90a6-73c1b04dcfcd",
   "metadata": {},
   "outputs": [
    {
     "data": {
      "text/plain": [
       "(-5.9541, -5.2235000000000005)"
      ]
     },
     "execution_count": 42,
     "metadata": {},
     "output_type": "execute_result"
    }
   ],
   "source": [
    "M_V1 = -2.81 * math.log10(P_D1) - 1.43\n",
    "M_V2 = -2.81 * math.log10(P_D2) - 1.43\n",
    "M_V1, M_V2"
   ]
  },
  {
   "cell_type": "code",
   "execution_count": 43,
   "id": "fb7f53fc-de9d-44d3-a02e-50ddd1844dce",
   "metadata": {},
   "outputs": [
    {
     "data": {
      "text/plain": [
       "(18231399.17443805, 18823483.601033706, 18527441.387735877)"
      ]
     },
     "execution_count": 43,
     "metadata": {},
     "output_type": "execute_result"
    }
   ],
   "source": [
    "d1 = 10 ** ( (m_V1 - (M_V1) + 5 - A_V) / 5 )\n",
    "d2 = 10 ** ( (m_V2 - (M_V2) + 5 - A_V) / 5 )\n",
    "d1, d2, (d1+d2)/2"
   ]
  },
  {
   "cell_type": "code",
   "execution_count": 45,
   "id": "e7961137-7a24-4cff-aeca-bb9a3b051cc7",
   "metadata": {},
   "outputs": [
    {
     "data": {
      "text/plain": [
       "-7.602339181286533"
      ]
     },
     "execution_count": 45,
     "metadata": {},
     "output_type": "execute_result"
    }
   ],
   "source": [
    "(17.1 - 18.4)/17.1 * 100"
   ]
  },
  {
   "cell_type": "markdown",
   "id": "e53cc169-5583-4daa-a6db-41ad6324dc37",
   "metadata": {},
   "source": [
    "# 14.8\n",
    "\n",
    "(a) Linearize the Stefan-Boltzmann equation in the form of Eq. (3.17) to show that:\n",
    "\n",
    "$$\n",
    "\\frac{\\delta L}{L_0} = 2 \\frac{\\delta R}{R_0} + 4 \\frac{\\delta T}{T_0}\n",
    "$$"
   ]
  },
  {
   "cell_type": "code",
   "execution_count": null,
   "id": "d3f0adbc-fc92-4936-a87f-3d0e994e770a",
   "metadata": {},
   "outputs": [],
   "source": []
  },
  {
   "cell_type": "markdown",
   "id": "7a7e1b9d-9099-4b0e-828a-64ceee26479c",
   "metadata": {},
   "source": [
    "(b) Linearize the adiabatic relation $TV^{\\gamma-1}$ = constant, and so find a relation between $\\frac{\\delta L}{L_0}$\n",
    "and $\\frac{\\delta R}{R_0}$ for a spherical blackbody model star composed of an ideal monatomic gas."
   ]
  },
  {
   "cell_type": "code",
   "execution_count": null,
   "id": "08e26cf5-2b44-477d-81b5-330be2ecd4f1",
   "metadata": {},
   "outputs": [],
   "source": []
  },
  {
   "cell_type": "markdown",
   "id": "83b9cf85-e917-4dcb-9cd5-0edabd98e9b6",
   "metadata": {},
   "source": [
    "# 14.10\n",
    "\n",
    "Figure 14.23 shows a view of a hypothetical nonradially pulsating (l = 2, m-2), rotating\n",
    "star from above the star's north pole. From the vantage point of Earth, astronomers view the\n",
    "star along its equatorial plane. Assuming that a spectral absorption line appears as in Fig. 9.18\n",
    "when the bottom of Fig. 14.23 is facing Earth, sketch the changes in the appearance of the line profile due to Doppler shifts caused by the total surface velocity as the star rotates. \n",
    "\n",
    "(Don't worry about the timing; just sketch the spectral line as seen from the eight different points\n",
    "of view shown that are directly over the star's equator.) Assume that the equivalent width\n",
    "of the line does not change. You may wish to compare your line profiles with those actually\n",
    "observed for a nonradially pulsating star such as the B Cephei star 12 Lacertae; see Smith, Ap.\n",
    "J., 240, 149, 1980. For convenience, the magnitudes of the rotation and pulsation velocities\n",
    "are assumed to be equal."
   ]
  },
  {
   "cell_type": "code",
   "execution_count": null,
   "id": "49b911c7-65c9-47ce-8079-8a816da07b74",
   "metadata": {},
   "outputs": [],
   "source": []
  },
  {
   "cell_type": "markdown",
   "id": "07b39679-6eb8-4034-9dc5-2dcd210d2549",
   "metadata": {},
   "source": [
    "# 14.12\n",
    "\n",
    "In a convection zone, the timescale for convection (see Section 10.4) is related to the value of A (Eq. 14.17) by:\n",
    "\n",
    "$$\n",
    "t_c \\approx 2\\sqrt{2/Ag}\n",
    "$$\n",
    "\n",
    "Table 14.2 shows the values of the pressure and density at two points near the top of the Sun's convection zone as described by a solar model. \n",
    "\n",
    "Use these values and $\\gamma = 5/3$ to obtain an estimate of the timescale for convection near the top of the Sun's convection zone. \n",
    "How does your answer compare with the range of periods observed for the Sun's p-modes?\n",
    "\n",
    "\n",
    "\n",
    "\n",
    "\n",
    "**TABLE 14.2** Data from a Solar Model for Problem 14.12. (Data from Joyce Guzik, private communication.)\n",
    "\n",
    "| r (m)           | P (Nm-2) | $\\rho$ (kg m-3)    |\n",
    "|-----------------|----------|---------------|\n",
    "| 6.959318 × 10^8 | 9286.0   | 2.2291 × 10-4 |\n",
    "| 6.959366 × 10^8 | 8995.7   | 2.1925 x 10-4 |\n",
    "\n",
    "p515\n",
    "\n",
    "**Answer**\n",
    "\n",
    "$\\gamma = 5/3$\n",
    "\n",
    "Average values from table:\n",
    "\n",
    "$r = 695934200m$\n",
    "\n",
    "$P = 9140.85Nm-2$\n",
    "\n",
    "$\\rho = 0.00022108kg m-3$\n",
    "\n",
    "$$\n",
    "A \\equiv \\frac{1}{\\rho} \\frac{d\\rho}{dr} -  \\frac{1}{\\gamma P} \\frac{dP}{dr}\n",
    "$$\n",
    "\n",
    "We can approximate:\n",
    "\n",
    "$dr \\approx \\Delta r = 4800$\n",
    "\n",
    "$dP \\approx \\Delta P = 290.3$\n",
    "\n",
    "$d\\rho \\approx \\Delta \\rho = 3.66 * 10^{-6}$\n",
    "\n",
    "So:\n",
    "\n",
    "$$\n",
    "A \\equiv frac{1}{\\rho} \\frac{\\Delta \\rho}{\\Delta r} -  \\frac{1}{\\gamma P} \\frac{\\Delta P}{\\Delta r} = 5.21 * 10^{-7} m^{-1}\n",
    "$$\n",
    "\n",
    "And g is:\n",
    "\n",
    "$$\n",
    "g = GM / r^2 = 274m/s^2\n",
    "$$\n",
    "\n",
    "$\\therefore$\n",
    "\n",
    "$$\n",
    "t_c \\approx 2\\sqrt{2 / (5.21 * 10^{-7} * 274m/s^2} = 237s \\approx 4mins\n",
    "$$\n",
    "\n",
    "This falls within the range od p-modes for sun, which is 3-8 mins."
   ]
  },
  {
   "cell_type": "code",
   "execution_count": 51,
   "id": "d4abbfc4-27e4-42a8-a22c-38048f03787d",
   "metadata": {},
   "outputs": [
    {
     "data": {
      "text/plain": [
       "(695934200.0, 9140.85, 0.00022108)"
      ]
     },
     "execution_count": 51,
     "metadata": {},
     "output_type": "execute_result"
    }
   ],
   "source": [
    "gamma = 5/3\n",
    "r_1 = 6.959318E+8\n",
    "r_2 = 6.959366E+8\n",
    "r_delta = r_1-r_2\n",
    "r = (r_1+r_2)/2\n",
    "\n",
    "P_1 = 9286.0\n",
    "P_2 = 8995.7\n",
    "P_delta = P_1-P_2\n",
    "P = (P_1+P_2)/2\n",
    "\n",
    "rho_1 = 2.2291E-4\n",
    "rho_2 = 2.1925E-4\n",
    "rho_delta = rho_1-rho_2\n",
    "rho = (rho_1+rho_2)/2\n",
    "\n",
    "r, P, rho"
   ]
  },
  {
   "cell_type": "code",
   "execution_count": 52,
   "id": "d44e4115-4ba0-4c98-932a-f556ae47098c",
   "metadata": {},
   "outputs": [
    {
     "data": {
      "text/plain": [
       "(-4800.0, 290.2999999999993, 3.6600000000000022e-06)"
      ]
     },
     "execution_count": 52,
     "metadata": {},
     "output_type": "execute_result"
    }
   ],
   "source": [
    "r_delta, P_delta, rho_delta"
   ]
  },
  {
   "cell_type": "code",
   "execution_count": 57,
   "id": "fa13d0ca-f86d-4717-9082-98c6dd70219f",
   "metadata": {},
   "outputs": [
    {
     "data": {
      "text/plain": [
       "5.208390657344054e-07"
      ]
     },
     "execution_count": 57,
     "metadata": {},
     "output_type": "execute_result"
    }
   ],
   "source": [
    "A = ( (1/rho)*(rho_delta/r_delta) ) - ( (1 / (gamma * P)) * (P_delta / r_delta) )\n",
    "A"
   ]
  },
  {
   "cell_type": "code",
   "execution_count": 59,
   "id": "21322198-1b87-44b2-af00-d13e1c499379",
   "metadata": {},
   "outputs": [
    {
     "data": {
      "text/plain": [
       "274.1098745776585"
      ]
     },
     "execution_count": 59,
     "metadata": {},
     "output_type": "execute_result"
    }
   ],
   "source": [
    "g = (G * M_sun) / (r**2)\n",
    "g"
   ]
  },
  {
   "cell_type": "code",
   "execution_count": 62,
   "id": "4ca59611-db1e-476b-a2e2-a7546c967975",
   "metadata": {},
   "outputs": [
    {
     "data": {
      "text/plain": [
       "236.71777901270897"
      ]
     },
     "execution_count": 62,
     "metadata": {},
     "output_type": "execute_result"
    }
   ],
   "source": [
    "t_1 = 2 * math.sqrt(2 / (A * g))\n",
    "t_1"
   ]
  },
  {
   "cell_type": "markdown",
   "id": "7f5351a3-7711-49fa-86e7-91a5d3aa20ec",
   "metadata": {},
   "source": [
    "# 15 - Fate of Massive Stars"
   ]
  },
  {
   "cell_type": "markdown",
   "id": "e35e645b-eb8e-4ace-bbd0-bd29ca581f0f",
   "metadata": {},
   "source": [
    "# 15.7\n",
    "\n",
    "Taking the distance to the Crab to be 2000 pc, and assuming that the absolute bolometric\n",
    "magnitude at maximum brightness was characteristic of a Type II supernova, estimate its peak\n",
    "apparent magnitude. \n",
    "\n",
    "Compare this to the maximum brightness of the planet Venus ($m \\approx -4$), which is sometimes visible in the daytime.\n",
    "\n",
    "**Answer**\n",
    "\n",
    "$d = 2000pc$\n",
    "\n",
    "$M = -16.9$\n",
    "\n",
    "$$\n",
    "m = 5 log_{10}(\\frac{d}{10}) + M = -5.4\n",
    "$$\n",
    "\n",
    "Peak brightness of SN was brighter than Venus."
   ]
  },
  {
   "cell_type": "code",
   "execution_count": 7,
   "id": "f0d741da-7377-4889-a43a-bcdb327ac240",
   "metadata": {},
   "outputs": [
    {
     "data": {
      "text/plain": [
       "-5.394850021680092"
      ]
     },
     "execution_count": 7,
     "metadata": {},
     "output_type": "execute_result"
    }
   ],
   "source": [
    "d = 2000\n",
    "M = -16.9\n",
    "m = 5 * math.log10(d/10) + M\n",
    "m"
   ]
  },
  {
   "cell_type": "markdown",
   "id": "0681bca1-6310-48e0-9fc7-7017ab158a3a",
   "metadata": {},
   "source": [
    "# 15.11\n",
    "\n",
    "The energy released during the decay of one $^{56}_{27}Co$ atom is 3.72 MeV. \n",
    "\n",
    "If 0.075 $M_{\\odot}$ of cobalt was produced by the decay of $^{56}_{28}Ni$ in SN 1987A, estimate the amount of energy released per\n",
    "second through the radioactive decay of cobalt:\n",
    "\n",
    "**(a) just after the formation of the cobalt.**\n",
    "\n",
    "First, find the number of Co atoms in 0.075 $M_{\\odot}$ of cobalt.\n",
    "\n",
    "$m_{total} = 0.075 M_{\\odot} = 1.49 * 10^{29}kg$\n",
    "\n",
    "$$\n",
    "N_{Co} = m_{total} / 56 / u = 1.60 * 10^{54}\n",
    "$$"
   ]
  },
  {
   "cell_type": "code",
   "execution_count": 36,
   "id": "c5e97c58-31e9-4a5c-ab08-04a13dc48c06",
   "metadata": {},
   "outputs": [
    {
     "data": {
      "text/plain": [
       "1.6042824432423967e+54"
      ]
     },
     "execution_count": 36,
     "metadata": {},
     "output_type": "execute_result"
    }
   ],
   "source": [
    "m_total = 0.075 * M_sun\n",
    "N_co = m_total / 56 / u\n",
    "N_co"
   ]
  },
  {
   "cell_type": "markdown",
   "id": "88d30a61-fe51-45df-8bd9-5ff5623a95fa",
   "metadata": {},
   "source": [
    "Find decay per second based on half-life ($\\tau_{1/2}$):\n",
    "\n",
    "$$\n",
    "\\lambda = \\frac{ln(2)}{\\tau_{1/2}}\n",
    "$$\n",
    "\n",
    "Given in textbook:\n",
    "\n",
    "$\\tau_{1/2} = 77.7days = 6.71*10^6s$\n",
    "\n",
    "p535\n",
    "\n",
    "So decay rate is:\n",
    "\n",
    "$$\n",
    "\\lambda = \\frac{ln(2)}{6.71*10^6s} = 1.03*10^{-7} s^{-1}\n",
    "$$"
   ]
  },
  {
   "cell_type": "code",
   "execution_count": 37,
   "id": "aded22b4-0521-4169-8321-99eb689d7ec9",
   "metadata": {},
   "outputs": [
    {
     "data": {
      "text/plain": [
       "(6713280.000000001, 1.0325015202106052e-07)"
      ]
     },
     "execution_count": 37,
     "metadata": {},
     "output_type": "execute_result"
    }
   ],
   "source": [
    "tau = 77.7 * 24 * 60 * 60\n",
    "lam = math.log(2) / tau\n",
    "tau, lam"
   ]
  },
  {
   "cell_type": "markdown",
   "id": "dcde9d61-6b66-41f2-9b32-b34c9f758514",
   "metadata": {},
   "source": [
    "Converty decay energy to J:\n",
    "\n",
    "$E = 3.72MeV * 1eV = 5.96 *10^{-13}J$\n",
    "\n",
    "The we multiply number of decays per second ($\\lambda N$, Eq 15.9) with the energy for single decay:\n",
    "\n",
    "$$\n",
    "\\lambda N E = \\lambda N_{Co} E = 1.03*10^{-7} s^{-1} * 1.60 * 10^{54} * 5.96 *10^{-13}J = 9.87 * 10^{34}W\n",
    "$$"
   ]
  },
  {
   "cell_type": "code",
   "execution_count": 38,
   "id": "696da749-ed0a-4ac2-a575-11df36f8835c",
   "metadata": {},
   "outputs": [
    {
     "data": {
      "text/plain": [
       "5.96009653164e-13"
      ]
     },
     "execution_count": 38,
     "metadata": {},
     "output_type": "execute_result"
    }
   ],
   "source": [
    "E_ev = 3.72E+6\n",
    "E = E_ev * ev\n",
    "E"
   ]
  },
  {
   "cell_type": "code",
   "execution_count": 39,
   "id": "b5c3d8a5-befe-4f3d-9b14-f7830bb789d3",
   "metadata": {},
   "outputs": [
    {
     "data": {
      "text/plain": [
       "(9.872447303841143e+34, 257161951.1289696, 34.994424824281246)"
      ]
     },
     "execution_count": 39,
     "metadata": {},
     "output_type": "execute_result"
    }
   ],
   "source": [
    "E_t1 = E * lam * N_co\n",
    "E_t1, E_t1 / L_sun, math.log10(E_t1)"
   ]
  },
  {
   "cell_type": "markdown",
   "id": "bc9608e1-5350-44f4-8dcd-170bef37e4dd",
   "metadata": {},
   "source": [
    "**(b) one year after the explosion.**\n",
    "\n",
    "We need to know how many Co atoms remian after a year, given by Eq 15.10 (p535):\n",
    "\n",
    "$$\n",
    "N_{(t)} = N_0 e^{-\\lambda t} = 1.60 * 10^{54} * e^{-1.03*10^{-7} s^{-1} * 3.154 *10^{7}s} = 6.18*10^{52}\n",
    "$$\n",
    "\n",
    "Where:\n",
    "$t = 1yr = 3.154 *10^{7}s$\n",
    "\n",
    "So, as above we multiply number of decays per second with energy for single decay:\n",
    "\n",
    "$$\n",
    "\\lambda N_t E = 1.03*10^{-7} s^{-1} * 6.18*10^{52} * 5.96 *10^{-13}J = 3.80*10^{33}W\n",
    "$$"
   ]
  },
  {
   "cell_type": "code",
   "execution_count": 40,
   "id": "5dd42587-74ce-41ae-8771-cd87acd9233b",
   "metadata": {},
   "outputs": [
    {
     "data": {
      "text/plain": [
       "6.18011557033486e+52"
      ]
     },
     "execution_count": 40,
     "metadata": {},
     "output_type": "execute_result"
    }
   ],
   "source": [
    "t = 3.154E+7\n",
    "N_t = N_co * math.e**(-lam * t)\n",
    "N_t"
   ]
  },
  {
   "cell_type": "code",
   "execution_count": 41,
   "id": "10f26118-8dec-4744-82b3-73bf3067fd07",
   "metadata": {},
   "outputs": [
    {
     "data": {
      "text/plain": [
       "3.803124914617071e+33"
      ]
     },
     "execution_count": 41,
     "metadata": {},
     "output_type": "execute_result"
    }
   ],
   "source": [
    "E_t2 = E * lam * N_t\n",
    "E_t2"
   ]
  },
  {
   "cell_type": "markdown",
   "id": "90f1b1da-7f73-457d-91ab-c0a493cef906",
   "metadata": {},
   "source": [
    "**(c) Compare your answers with the light curve of SN 1987A given in Fig. 15.12.**\n",
    "\n",
    "The log of W for time a and b both agree with the light curve."
   ]
  },
  {
   "cell_type": "code",
   "execution_count": 42,
   "id": "a6614082-245a-4f4c-a2c6-2ffe2ee3a989",
   "metadata": {},
   "outputs": [
    {
     "data": {
      "text/plain": [
       "(34.994424824281246, 33.58014059015993)"
      ]
     },
     "execution_count": 42,
     "metadata": {},
     "output_type": "execute_result"
    }
   ],
   "source": [
    "math.log10(E_t1), math.log10(E_t2)"
   ]
  },
  {
   "cell_type": "markdown",
   "id": "8ac86f2d-a8c9-47b8-bf17-1ee24be41c94",
   "metadata": {},
   "source": [
    "# 15.15\n",
    "\n",
    "Consider an electron and positron that annihilate each other at the surface of a neutron star (M = 1.4 $M_{\\odot}$, R = 10 km), producing two gamma-ray photons of the same energy. \n",
    "\n",
    "Show that each gamma ray has an energy of at least 511 keV.\n",
    "\n",
    "**Answer**\n",
    "\n",
    "We can use (with electron mass):\n",
    "\n",
    "$$\n",
    "E = mc^2 = 9.1093821*10^{-31}kg * c^2 = 8.187 * 10^{-14} J\n",
    "$$\n",
    "\n",
    "Energy in eV:\n",
    "\n",
    "$$\n",
    "\\frac{8.187 * 10^{-14} J}{1.6021 * 10^{-19}J} = 511 keV\n",
    "$$"
   ]
  },
  {
   "cell_type": "code",
   "execution_count": 40,
   "id": "2ca6d7e4-a732-4a56-a6fe-991876ad17ce",
   "metadata": {},
   "outputs": [],
   "source": [
    "M = 1.4 * M_sun\n",
    "R = 10000\n",
    "E_ev = 511000\n",
    "E = E_ev * ev # J"
   ]
  },
  {
   "cell_type": "code",
   "execution_count": 41,
   "id": "c6c258ff-decf-4696-8dbf-cb0ff4a114aa",
   "metadata": {},
   "outputs": [
    {
     "data": {
      "text/plain": [
       "(8.187104337467468e-14, 510998.90704284614)"
      ]
     },
     "execution_count": 41,
     "metadata": {},
     "output_type": "execute_result"
    }
   ],
   "source": [
    "E = m_e * c ** 2\n",
    "E, E / ev"
   ]
  },
  {
   "cell_type": "markdown",
   "id": "678fb2ee-2193-45f4-adec-390d022ce3ec",
   "metadata": {},
   "source": [
    "# 15.17\n",
    "\n",
    "The highest-energy cosmic-ray particle that had been recorded at the time this text was written was measured by the Fly's Eye HiRes experiment in the Utah desert in 1991. \n",
    "\n",
    "The energy of the particle was 3 x 10^20 eV.\n",
    "\n",
    "**(a) Convert the energy of the particle to joules.**\n",
    "\n",
    "$E = 3 * 10^{20} eV$"
   ]
  },
  {
   "cell_type": "code",
   "execution_count": 47,
   "id": "93581900-995b-4b4f-9b31-d3342fe664d2",
   "metadata": {},
   "outputs": [
    {
     "data": {
      "text/plain": [
       "48.06529461"
      ]
     },
     "execution_count": 47,
     "metadata": {},
     "output_type": "execute_result"
    }
   ],
   "source": [
    "E_ev = 3.0E20\n",
    "E_j = E_ev * ev\n",
    "E_j"
   ]
  },
  {
   "cell_type": "markdown",
   "id": "5223214b-dccc-4cbd-a572-8922ccc19a13",
   "metadata": {},
   "source": [
    "**(b) If the particle was a baseball of mass 0.143 kg, calculate the speed of the ball.**\n",
    "\n",
    "$m = 0.143kg$\n",
    "\n",
    "We know kinetic energy, solve for v:\n",
    "\n",
    "$$\n",
    "k = \\frac 1 2 mv^2\n",
    "$$\n",
    "\n",
    "$$\n",
    "v = \\sqrt{\\frac{2k}{m}} = \\sqrt{\\frac{2 * 48.1J}{0.143kg}} = 25.93m/s\n",
    "$$"
   ]
  },
  {
   "cell_type": "code",
   "execution_count": 51,
   "id": "d7545fab-6604-474e-a8a5-d30adf31d32f",
   "metadata": {},
   "outputs": [
    {
     "data": {
      "text/plain": [
       "25.927627786925335"
      ]
     },
     "execution_count": 51,
     "metadata": {},
     "output_type": "execute_result"
    }
   ],
   "source": [
    "m = 0.143\n",
    "v = math.sqrt((2 * E_j)/m)\n",
    "v"
   ]
  },
  {
   "cell_type": "markdown",
   "id": "6be268e5-bbd7-46da-9a5c-634f625ba39e",
   "metadata": {},
   "source": [
    "**(c) Convert your answer to miles per hour and compare your answer to the speed of a fast ball of the fastest major league pitchers (approximately 100 mph, or 45 m s-).**\n",
    "\n",
    "58mph, or approx 58% of of fastets pitchers speed."
   ]
  },
  {
   "cell_type": "code",
   "execution_count": 60,
   "id": "c008270a-73e3-4fd2-957f-8390808523b7",
   "metadata": {},
   "outputs": [
    {
     "data": {
      "text/plain": [
       "57.99859571807773"
      ]
     },
     "execution_count": 60,
     "metadata": {},
     "output_type": "execute_result"
    }
   ],
   "source": [
    "miles = 1609.34 # m\n",
    "v_miles = v / miles # miles per sec\n",
    "t = 60 * 60 # total sec -> 1x hour\n",
    "t * v_miles # miles per total sec, i.e. mph"
   ]
  },
  {
   "cell_type": "markdown",
   "id": "f6098dd3-b89e-4a34-a845-d63808aafa58",
   "metadata": {},
   "source": [
    "# 15.18\n",
    "\n",
    "Using Eq. (15.16), show that cosmic-ray particles with energies of greater than 10^19 eV are not likely to be bound to the Milky Way Galaxy. \n",
    "\n",
    "(A characteristic size scale for the Galaxy is about 30 kpc.) \n",
    "\n",
    "What about particles with energies in the range of 10^16 eV to 10^19 eV?\n",
    "\n",
    "**Answer**\n",
    "\n",
    "$E = 10^{19}eV$\n",
    "\n",
    "$B = 10^{-10}T$ (value taken from Example 15.5.1)\n",
    "\n",
    "Larmor radius given by:\n",
    "\n",
    "$$\n",
    "r = \\frac{\\gamma mc^2}{qcB} = \\frac{E}{qcB} = \\frac{10^{19} * 1.6022 * 10^{-19}J}{1.6022 * 10^{-19}C * c * 10^{-10}T} = 3.34 * 10^{20}m = 10.8kpc\n",
    "$$\n",
    "\n",
    "p552\n",
    "\n",
    "This radius is smaller than the characteristic radius of 30kpc.\n",
    "\n",
    "Energies much greater than $10^{19}eV$ likely **not** bound to our galaxy.\n",
    "\n",
    "Particles with $10^{16}$ eV to $10^{19}$ eV **are** likely to be bound to our galaxy."
   ]
  },
  {
   "cell_type": "code",
   "execution_count": 91,
   "id": "1ab01ce9-22ee-45a4-8662-657f2cae69f5",
   "metadata": {},
   "outputs": [
    {
     "data": {
      "text/plain": [
       "(3.33564095198152e+20, 10808.946701171486)"
      ]
     },
     "execution_count": 91,
     "metadata": {},
     "output_type": "execute_result"
    }
   ],
   "source": [
    "B = 1.0E-10\n",
    "r = (1.0E+19 * ev) / (ev * c * B)\n",
    "r, r / 3.086e+16"
   ]
  },
  {
   "cell_type": "markdown",
   "id": "d1b9fdba-6038-4328-b78a-386d5feb433e",
   "metadata": {},
   "source": [
    "# 16 - Degenerate Remnants of Stars"
   ]
  },
  {
   "cell_type": "markdown",
   "id": "a0ec02d2-2d4d-4a31-a743-7e727ad34ef1",
   "metadata": {},
   "source": [
    "# 16.3\n",
    "\n",
    "Deduce a rough upper limit for $X$, the mass fraction of hydrogen, in the interior of a white dwarf. \n",
    "\n",
    "_Hint:_\n",
    "\n",
    "Use the mass and average density for Sirius B in the equations for the nuclear energy generation rate, and take $T = 10^7 K$ for the central temperature. \n",
    "\n",
    "Set $\\psi_{pp}$ and $f_{pp}$ = 1 in Eq. (10.47) for the pp chain, and $X_{CNO} = 1$ in Eq. (10.59) for the CNO cycle.\n",
    "\n",
    "**Answer**\n",
    "\n",
    "$T = 10^7 K$\n",
    "\n",
    "$T_6 = 10$ (dimensionless temp in units $10^6K$ [$T_6 = T/10^6K$])\n",
    "\n",
    "$M = 1.053M_{\\odot} = 2.095 * 10^{30}kg$\n",
    "\n",
    "$\\rho = 3.0*10^9 kg/m^{-3}$\n",
    "\n",
    "$L = 0.03L_{\\odot} = 1.152 * 10^{25}W$\n",
    "\n",
    "$\\psi_{pp} = 1$\n",
    "\n",
    "$f_{pp} = 1$\n",
    "\n",
    "$X_{CNO} = 1$\n",
    "\n",
    "PP:\n",
    "\n",
    "$$\\epsilon_{pp} \\approx \\epsilon_{0,pp}^{\\prime} \\rho X^2 f_{pp} \\psi_{pp}C_{pp}T_6^{4} W/kg^{-1}$$ \n",
    "\n",
    "Where: $\\epsilon_{0,pp}^{\\prime} = 1.08*10^{-12}$ W m3 kg-2\n",
    "\n",
    "CNO:\n",
    "\n",
    "$$\\epsilon_{CNO} \\approx \\epsilon_{0,CNO}^{\\prime} \\rho XX_{CNO} T_6^{19.9} W/kg^{-1}$$\n",
    "\n",
    "Where: $\\epsilon_{0,CNO}^{\\prime} = 8.24*10^{-31}$ W m3 kg-2\n",
    "\n",
    "...\n",
    "\n",
    "We know that the total energy generation is $L$, which is given by $M\\epsilon$ (i.e. mass of the star times the energy generation rate).\n",
    "\n",
    "**So for PP:**\n",
    "\n",
    "$$L = M\\epsilon_{pp}$$\n",
    "\n",
    "$$\n",
    "\\epsilon_{pp} = \\epsilon_{0,pp} \\rho X^2 T_6^4\n",
    "$$\n",
    "\n",
    "So:\n",
    "\n",
    "$$\n",
    "L = M \\epsilon_{0,pp} \\rho X^2 T_6^4\n",
    "$$\n",
    "\n",
    "Rearranged for X:\n",
    "\n",
    "$$\n",
    "X = \\sqrt( \\frac{L}{M \\epsilon_{0,pp} \\rho T_6^4} ) = 4.12 * 10^{-4}\n",
    "$$\n",
    "\n",
    "**and for CNO:**\n",
    "\n",
    "$$L = M\\epsilon_{CNO}$$\n",
    "\n",
    "$$\n",
    "\\epsilon_{CNO} = \\epsilon_{0,CNO} \\rho X T_6^{19.9}\n",
    "$$\n",
    "\n",
    "So:\n",
    "\n",
    "$$\n",
    "L = M \\epsilon_{0,CNO} \\rho X T_6^{19.9}\n",
    "$$\n",
    "\n",
    "Rearranged for X:\n",
    "\n",
    "$$\n",
    "X = \\frac{L}{M \\epsilon_{0,CNO} \\rho T_6^{19.9}} = 2.8*10^{-5}\n",
    "$$\n",
    "\n",
    "If we take the CNO (lower) value as upper limit, then limit is $X = 2.8*10^{-5}$.\n",
    "\n",
    "Some additional working: https://home.strw.leidenuniv.nl/~brown/college_sterren/sterren_wc9.pdf"
   ]
  },
  {
   "cell_type": "code",
   "execution_count": 40,
   "id": "069ef8ba-b424-4a9d-b219-51cd22fea797",
   "metadata": {},
   "outputs": [],
   "source": [
    "T = 1.0E+7\n",
    "T_6 = T / 1.0E+6\n",
    "M = 1.053 * M_sun\n",
    "rho = 3.0E+9\n",
    "L = 1.152E+25\n",
    "eo_pp = 1.08E-12\n",
    "eo_CNO = 8.24E-31"
   ]
  },
  {
   "cell_type": "code",
   "execution_count": 41,
   "id": "c256e28e-8756-4050-b7d0-59dc562da6f0",
   "metadata": {},
   "outputs": [
    {
     "data": {
      "text/plain": [
       "0.00041201330440632705"
      ]
     },
     "execution_count": 41,
     "metadata": {},
     "output_type": "execute_result"
    }
   ],
   "source": [
    "X_pp = math.sqrt(L / (M * eo_pp * rho * T_6**4))\n",
    "X_pp"
   ]
  },
  {
   "cell_type": "code",
   "execution_count": 42,
   "id": "dbe0a09b-5b6d-46a5-899c-12d2aaa46f0b",
   "metadata": {},
   "outputs": [
    {
     "data": {
      "text/plain": [
       "2.8010381510366868e-05"
      ]
     },
     "execution_count": 42,
     "metadata": {},
     "output_type": "execute_result"
    }
   ],
   "source": [
    "X_CNO = L / (M * eo_CNO * rho * T_6**19.9)\n",
    "X_CNO"
   ]
  },
  {
   "cell_type": "markdown",
   "id": "7d6c9a35-3c0c-4298-9109-08a929f16478",
   "metadata": {},
   "source": [
    "# 16.4\n",
    "\n",
    "Estimate the ideal gas pressure and the radiation pressure at the center of Sirius B, using $3 * 10^7 K$ for the central temperature. \n",
    "\n",
    "Compare these values with the estimated central pressure, Eq. (16.1). (i.e. $P_c = 3.8 * 10^{22} N/m-2$)\n",
    "\n",
    "**Answer**\n",
    "\n",
    "$T = 3 * 10^7 K$\n",
    "\n",
    "$\\rho = 3.0* 10^9 kg/m^3$\n",
    "\n",
    "Ideal gas pressure -> Ideal gas law:\n",
    "\n",
    "$$\n",
    "P_g = \\frac{\\rho kT}{\\mu m_H}\n",
    "$$\n",
    "\n",
    "We need $\\mu$. We will assume Sirius B is purely carbon-12, which has: \n",
    "\n",
    "- atomic mass of 12\n",
    "- 6 protons\n",
    "\n",
    "So:\n",
    "\n",
    "$$\\mu = \\frac{atomic mass}{1+ protons} = \\frac{12}{1 + 6} = 1.71$$\n",
    "\n",
    "\n",
    "For $n$ we can divide density $\\rho$ by the mean weight of gas particles $\\bar{m}$ (p291), so:\n",
    "\n",
    "$$\n",
    "P_{ideal} = \\frac{\\rho}{\\bar{m}} kT = 4.33 * 10^{20}N/m^2\n",
    "$$"
   ]
  },
  {
   "cell_type": "code",
   "execution_count": 7,
   "id": "3e9bfab2-79e3-4da8-bfb5-8fc1234fb995",
   "metadata": {},
   "outputs": [],
   "source": [
    "T = 3.0E+7\n",
    "rho = 3.0E+9\n",
    "mu = 12/(1+6)\n",
    "P = (rho * k * T) / (mu * m_H)"
   ]
  },
  {
   "cell_type": "markdown",
   "id": "e0115f13-346e-4ce6-8807-7a9ba10c25db",
   "metadata": {},
   "source": [
    "For radiation pressure, we can use:\n",
    "\n",
    "$$\n",
    "P_{rad} = \\frac 1 3 aT^4 = 2.04 * 10^{14} N/m^2\n",
    "$$\n",
    "\n",
    "Where $a$ is constant: $7.565767E-16$ J m-3 K-4"
   ]
  },
  {
   "cell_type": "code",
   "execution_count": 8,
   "id": "555b99df-8a2c-4d57-b8e2-07572a7f5c16",
   "metadata": {},
   "outputs": [
    {
     "data": {
      "text/plain": [
       "204275708999999.97"
      ]
     },
     "execution_count": 8,
     "metadata": {},
     "output_type": "execute_result"
    }
   ],
   "source": [
    "a = 7.565767E-16\n",
    "P_rad = (1/3) * a * T**4\n",
    "P_rad"
   ]
  },
  {
   "cell_type": "markdown",
   "id": "1d42b127-0b83-42e3-9f9c-943f69bfd2fe",
   "metadata": {},
   "source": [
    "These estimates are lower, $P_c > P_{ideal} > P_{rad}$"
   ]
  },
  {
   "cell_type": "markdown",
   "id": "1ddaa50b-57f9-4ab0-aecf-d173f281eb50",
   "metadata": {},
   "source": [
    "# 16.11\n",
    "\n",
    "**(a)** Consider two point masses, each having mass m, that are separated vertically by a distance of 1 cm just above the surface of a neutron star of radius R and mass M. \n",
    "\n",
    "Using Newton's law of gravity (Eq. 2.11), find an expression for the ratio of the gravitational force on the lower mass to that on the upper mass, and evaluate this expression for:\n",
    "\n",
    "R = 10 km\n",
    "\n",
    "M = 1.4$M_{\\odot}$\n",
    "\n",
    "m = 1g = 1.0E-3kg\n",
    "\n",
    "d = 0.01m\n",
    "\n",
    "$$\n",
    "F = G \\frac{Mm}{r^2}\n",
    "$$\n",
    "\n",
    "So ratio is:\n",
    "\n",
    "$$\n",
    "G \\frac{Mm}{r^2} / G \\frac{Mm}{(r+d)^2} = 1.000002\n",
    "$$\n",
    "\n",
    "i.e. lower point mass to higher point mass -> 1.000002:1"
   ]
  },
  {
   "cell_type": "code",
   "execution_count": 10,
   "id": "e338cbec-5138-4353-b43a-268d011b6c18",
   "metadata": {},
   "outputs": [
    {
     "data": {
      "text/plain": [
       "1.0000020000010001"
      ]
     },
     "execution_count": 10,
     "metadata": {},
     "output_type": "execute_result"
    }
   ],
   "source": [
    "R = 10000\n",
    "M = 1.4 * M_sun\n",
    "m = 1.0E-3\n",
    "d = 0.01\n",
    "\n",
    "F_1 = G * ((M*m) / R**2)\n",
    "F_2 = G * ((M*m) / (R+d)**2)\n",
    "\n",
    "F_1/F_2"
   ]
  },
  {
   "cell_type": "markdown",
   "id": "d82bb353-18d3-45fd-91e8-8154d93fc97e",
   "metadata": {},
   "source": [
    "**(b)** \n",
    "\n",
    "An iron cube 1 cm on each side is held just above the surface of the neutron star described in part (a). \n",
    "\n",
    "The density of iron is 7860 kg m-3. \n",
    "\n",
    "If iron experiences a stress (force per cross-sectional area) of 4.2 x 10^7 N m-2, it will be permanently stretched; if the stress\n",
    "reaches 1.5 x 10^8 N m-2, the iron will rupture. \n",
    "\n",
    "What will happen to the iron cube? \n",
    "\n",
    "_Hint:_ imagine concentrating half of the cube's mass on each of its top and bottom surfaces.\n",
    "\n",
    "What would happen to an iron meteoroid falling toward the surface of a neutron star?\n",
    "\n",
    "**Answer**\n",
    "\n",
    "$R = 10 km$\n",
    "\n",
    "$M = 1.4M_{\\odot}$\n",
    "\n",
    "$d = 0.01m$\n",
    "\n",
    "$\\rho = 7860 kg / m^{-3}$\n",
    "\n",
    "\n",
    "#### Find mass of cube:\n",
    "\n",
    "$V = d^3 = 1.0* 10^6 m^3$\n",
    "\n",
    "$m = V\\rho = 0.00786kg$\n",
    "\n",
    "####  Half of mass on one surface:\n",
    "\n",
    "$m_{1/2} = m/2 = 0.00393kg$\n",
    "\n",
    "\n",
    "####  Check force on sides of cube:\n",
    "\n",
    "$$\n",
    "F_{lower} = G \\frac{M m_{1/2}}{R^2} = G \\frac{1.4M_{\\odot} * 0.00393kg}{10,000^2m} = 7.30*10^9 N m^2\n",
    "$$\n",
    "\n",
    "$$\n",
    "F_{upper} = G \\frac{1.4M_{\\odot} * 0.00393kg}{(10,000m + 0.01m)^2} = 7.30*10^9 N m^2\n",
    "$$\n",
    "\n",
    "#### Stress is force per cross-sectional area\n",
    "\n",
    "i.e.\n",
    "\n",
    "$A_{cross} = d^2 = 0.0001m^2$\n",
    "\n",
    "\n",
    "$$\n",
    "stress = \\frac{F_{lower} - F_{upper}}{A_{cross}} = 1.46 * 10^{8} N / m^2\n",
    "$$\n",
    "\n",
    "The cube will rupture.\n",
    "\n",
    "An iron meteriod would also rupture (quasi-spagettify..?)"
   ]
  },
  {
   "cell_type": "code",
   "execution_count": 13,
   "id": "99ec6b32-665f-49d5-afeb-991d6c294a7e",
   "metadata": {},
   "outputs": [],
   "source": [
    "R = 10000\n",
    "M = 1.4 * M_sun\n",
    "rho = 7860\n",
    "V = d**3\n",
    "A_cross, m\n",
    "m = V * rho\n",
    "A_cross = d**2"
   ]
  },
  {
   "cell_type": "code",
   "execution_count": 14,
   "id": "0e8e3c07-ee4f-43cc-a0a4-0e7f13e28300",
   "metadata": {},
   "outputs": [
    {
     "data": {
      "text/plain": [
       "(0.0001, 0.00393)"
      ]
     },
     "execution_count": 14,
     "metadata": {},
     "output_type": "execute_result"
    }
   ],
   "source": [
    "A_cross, m/2"
   ]
  },
  {
   "cell_type": "code",
   "execution_count": 15,
   "id": "c67cb351-3aea-42e8-8b46-92886c3725b9",
   "metadata": {},
   "outputs": [
    {
     "data": {
      "text/plain": [
       "(7304350853.469599, 7304336244.789804, 146086797.94311523)"
      ]
     },
     "execution_count": 15,
     "metadata": {},
     "output_type": "execute_result"
    }
   ],
   "source": [
    "F_lower = G * ((M * (m/2)) / R**2)\n",
    "F_upper = G * ((M * (m/2)) / (R+d)**2)\n",
    "\n",
    "stress = (F_lower - F_upper) / A_cross\n",
    "\n",
    "F_lower, F_upper, stress"
   ]
  },
  {
   "cell_type": "markdown",
   "id": "cf45785e-084d-4ee4-943e-94e2cc774046",
   "metadata": {},
   "source": [
    "# 16.12\n",
    "\n",
    "Estimate the neutron degeneracy pressure at the center of a $1.4M_{\\odot}$ neutron star (take the central density to be 1.5 x 10^18 kg m-3), and compare this with the estimated pressure at the center of Sirius B.\n",
    "\n",
    "$M = 1.4M_{\\odot}$\n",
    "\n",
    "$\\rho = 1.5 * 10^{18} kg/m^{-3}$\n",
    "\n",
    "Sirius B estimated to have central pressure of $1.9 * 10^{22} N/m^2$ (p569).\n",
    "\n",
    "We use eq 16.12 for electron degeneracy pressure (p569), swapping $m_e, m_H$ for neutron mass (and the $\\frac Z A$ term gets dropped \\o/):\n",
    "\n",
    "$$\n",
    "P = \\frac{(3\\pi^2)^{2/3}}{5} \\frac{h^2}{m_n} [\\frac{\\rho}{m_n}]^{5/3} = 6.1 * 10^{36}N/m^2\n",
    "$$\n",
    "\n",
    "The above equation is only valid for non-relativistic speeds, check ours:\n",
    "\n",
    "$$\n",
    "v = \\frac{P}{m_n} = \\frac{\\sqrt{3}\\bar{h}}{m_n} n_n^{1/3} = \\frac{\\sqrt{3}\\bar{h}}{m_n} [\\frac{\\rho}{m_n}]^{1/3} = 0.35c\n",
    "$$\n",
    "\n",
    "0.35c is deemed non-relativistic (approx < 0.8c generally ok).\n",
    "\n",
    "Neutron degeneracy pressure much greater than central pressure of Sirius B ($5.5*10^{11}$ times greater)."
   ]
  },
  {
   "cell_type": "code",
   "execution_count": 30,
   "id": "15b9362b-bd22-4290-95f0-a5819d24c973",
   "metadata": {},
   "outputs": [
    {
     "data": {
      "text/plain": [
       "(0.350632265550988, 1.057529509687898e+34)"
      ]
     },
     "execution_count": 30,
     "metadata": {},
     "output_type": "execute_result"
    }
   ],
   "source": [
    "rho = 1.5E+18\n",
    "\n",
    "v = ((math.sqrt(3) * h_bar) / m_n) * ((rho / m_n)**(1/3))\n",
    "\n",
    "P = ( ((3 * (math.pi**2))**(2/3)) / 5) * ((h_bar**2)/m_n) * ( 1 * (rho/m_n) )**(5/3)\n",
    "\n",
    "v/c, P"
   ]
  },
  {
   "cell_type": "code",
   "execution_count": 25,
   "id": "8cd35462-fd28-4bd0-9be0-578eb9431780",
   "metadata": {},
   "outputs": [
    {
     "data": {
      "text/plain": [
       "556594478783.1041"
      ]
     },
     "execution_count": 25,
     "metadata": {},
     "output_type": "execute_result"
    }
   ],
   "source": [
    "# how much greater than Sirius B\n",
    "P/1.9E+22"
   ]
  },
  {
   "cell_type": "markdown",
   "id": "ab7c1867-bc22-4c90-a125-7d56aa1eef2c",
   "metadata": {},
   "source": [
    "# 17 - Degenerate Remnants & Black Holes\n",
    "\n",
    "# 17.3\n",
    "\n",
    "A photon near the surface of Earth travels a horizontal distance of 1 km. \n",
    "\n",
    "How far does the photon \"fall\" in this time?\n",
    "\n",
    "**Answer**\n",
    "\n",
    "p618\n",
    "\n",
    "$l = 1000m$\n",
    "\n",
    "$t = \\frac l c = 3.34 * 10^{-6}s$\n",
    "\n",
    "$$\n",
    "\\Delta Z = CB = \\frac{gt^2}{2} = 5.45 * 10^{-11}m\n",
    "$$"
   ]
  },
  {
   "cell_type": "code",
   "execution_count": 32,
   "id": "0129d75d-04b5-4827-a49d-9fc27bc31d48",
   "metadata": {},
   "outputs": [
    {
     "data": {
      "text/plain": [
       "5.451985274662731e-11"
      ]
     },
     "execution_count": 32,
     "metadata": {},
     "output_type": "execute_result"
    }
   ],
   "source": [
    "l = 1000\n",
    "t = l/c\n",
    "g = 9.8\n",
    "CB = (g * t **2)/2\n",
    "CB"
   ]
  },
  {
   "cell_type": "markdown",
   "id": "b6e24ee1-a72d-4b13-ac68-425c278ad3de",
   "metadata": {},
   "source": [
    "# 17.4\n",
    "\n",
    "Leadville, Colorado, is at an altitude of 3.1 km above sea level. \n",
    "\n",
    "If a person there lives for 75 years (as measured by an observer at a great distance from Earth), how much longer would gravitational time dilation have allowed that person to live if he or she had moved at birth from Leadville to a city at sea level?\n",
    "\n",
    "**Answer**\n",
    "\n",
    "We will calculate the time dilation at sea level ($\\Delta t_S$ at $R$) and at Leadville ($\\Delta t_L$ at $R+3.1km$) and get the difference.\n",
    "\n",
    "See: Gravitational Time Dilation, p621\n",
    "\n",
    "$R = R_{\\oplus}$\n",
    "\n",
    "$\\Delta r = 3,100m$\n",
    "\n",
    "$\\Delta t_{\\infty,L} = 75yr = 2.36 *10^{9}s$\n",
    "\n",
    "Rearrange:\n",
    "\n",
    "$$\n",
    "\\frac{\\Delta t_0}{\\Delta t_{\\infty}} = \\frac{v_{\\infty}}{v_0} = (1 - \\frac{2GM}{r_0 c^2})^{1/2}\n",
    "$$\n",
    "\n",
    "To find $\\Delta t_0$:\n",
    "\n",
    "$$\n",
    "\\Delta t_0 = \\Delta t_{\\infty,L} (1 - \\frac{2GM}{(R_{\\oplus} + \\Delta r) c^2})^{1/2} = 2.37 * 10^9s\n",
    "$$\n",
    "\n",
    "Now find the difference between sea level and Leadville (i.e. where sea level: $\\frac{\\Delta t_0}{\\Delta t_{\\infty,S}}$, Leadville: $\\frac{\\Delta t_0}{\\Delta t_{\\infty,L}}$), and multiply by $\\Delta t_0$ seconds:\n",
    "\n",
    "$$\n",
    "\\Delta t = \\Delta t_0 [ (1 - \\frac{2GM}{R_{\\oplus} c^2})^{1/2} - (1 - \\frac{2GM}{(R_{\\oplus} + \\Delta r) c^2})^{1/2} ] = -7.99 * 10^{-4}s\n",
    "$$"
   ]
  },
  {
   "cell_type": "code",
   "execution_count": 42,
   "id": "59185084-dbb2-4d4f-92f3-5742ecf18ef8",
   "metadata": {},
   "outputs": [],
   "source": [
    "r = 3100\n",
    "t_inf_L = 75 * 365.25 * 24 * 60 * 60"
   ]
  },
  {
   "cell_type": "code",
   "execution_count": 43,
   "id": "7f5dc8c0-6e05-4f06-92e9-5617b0a4cf53",
   "metadata": {},
   "outputs": [
    {
     "data": {
      "text/plain": [
       "(2366819998.3546453, -0.0007996085188414421)"
      ]
     },
     "execution_count": 43,
     "metadata": {},
     "output_type": "execute_result"
    }
   ],
   "source": [
    "t_S = (1 - (2 * G * M_earth) / ((R_earth) * c**2) )**(1/2)\n",
    "t_L = (1 - (2 * G * M_earth) / ((r+R_earth) * c**2) )**(1/2)\n",
    "t_0 = t_inf_L * t_L\n",
    "t = t_0 * (t_S - t_L)\n",
    "t_0, t"
   ]
  },
  {
   "cell_type": "markdown",
   "id": "b24edf03-cc24-451a-b675-61d383ab0fd7",
   "metadata": {},
   "source": [
    "# 17.5\n",
    "\n",
    "**(a)** Estimate the radius of curvature of a horizontally traveling photon at the surface of a 1.4 Mo neutron star, and compare the result with the 10-km radius of the star. \n",
    "\n",
    "Can general relativity be neglected when studying neutron stars?\n",
    "\n",
    "\n",
    "**Answer**\n",
    "\n",
    "$M = 1.4M_{\\odot}$\n",
    "\n",
    "$R = 10000m$\n",
    "\n",
    "$$\n",
    "r_c = \\frac{c^2}{g} = \\frac{R^2c^2}{GM} = \\frac{(10,000m)^2 c^2}{G 1.4M_{\\odot}} = 48,356m\n",
    "$$\n",
    "\n",
    "Comparing the radius of curvature to the radius of the star:\n",
    "\n",
    "$$\n",
    "\\frac{R}{r_c} = 0.2 \n",
    "$$\n",
    "\n",
    "shows that they are of a similar order of magnitude, so relativity cannot be ignored."
   ]
  },
  {
   "cell_type": "code",
   "execution_count": 69,
   "id": "0b16489c-c98a-4188-9f51-55455ad7a8be",
   "metadata": {},
   "outputs": [
    {
     "data": {
      "text/plain": [
       "(48356.21841409667, 0.20679863579003166)"
      ]
     },
     "execution_count": 69,
     "metadata": {},
     "output_type": "execute_result"
    }
   ],
   "source": [
    "M = 1.4 * M_sun\n",
    "R = 10000\n",
    "\n",
    "r_c = (R**2 * c**2) / (G * M)\n",
    "r_c, R/r_c"
   ]
  },
  {
   "cell_type": "markdown",
   "id": "03e893dc-bc58-4da5-be1e-c2e8ed32a7a6",
   "metadata": {},
   "source": [
    "**(b)** \n",
    "\n",
    "If one hour passes at the surface of the neutron star, how much time passes at a great distance? \n",
    "\n",
    "Compare the times obtained from the exact and approximate expressions, Eqs. (17.13) and (17.14), respectively.\n",
    "\n",
    "**Answer**\n",
    "\n",
    "$t_0 = 60 * 60 = 3600s$\n",
    "\n",
    "Assume:\n",
    "\n",
    "$R = 10,000m$ \n",
    "\n",
    "$M = 1.4M_{\\odot}$\n",
    "\n",
    "p621\n",
    "\n",
    "Time passes more slowly with greater spacetime curvature at surface of the neutron star, so we expect time elapsed at great distance to be faster (i.e. more time / greater time value).\n",
    "\n",
    "\n",
    "### Using 17.13\n",
    "\n",
    "$$\n",
    "\\frac{\\Delta t_0}{\\Delta t_{\\infty}} = (1 - \\frac{2GM}{r_0 c^2})^{1/2}\n",
    "$$\n",
    "\n",
    "Rearrange:\n",
    "\n",
    "$$\n",
    "\\Delta t_{\\infty} = \\frac{\\Delta t_0}{(1 - \\frac{2GM}{r_0 c^2})^{1/2}} = \\frac{3600s}{(1 - \\frac{2G 1.4M_{\\odot}}{10,000 c^2})^{1/2}} = 4701s\n",
    "$$\n",
    "\n",
    "### Using 17.14\n",
    "\n",
    "$$\n",
    "\\Delta t_{\\infty} \\approx \\frac{\\Delta t_0}{1 - \\frac{GM}{r_0 c^2}} = 4539s\n",
    "$$\n",
    "\n",
    "The exact equation suggests time moves faster than the approx equation by ~163s."
   ]
  },
  {
   "cell_type": "code",
   "execution_count": 2,
   "id": "52d03cea-ca21-4e99-b9ac-091be099200a",
   "metadata": {},
   "outputs": [
    {
     "data": {
      "text/plain": [
       "4701.154342075172"
      ]
     },
     "execution_count": 2,
     "metadata": {},
     "output_type": "execute_result"
    }
   ],
   "source": [
    "t_0 = 60*60\n",
    "R = 10000 \n",
    "M = 1.4 * M_sun\n",
    "\n",
    "t_inf = t_0 / ((1 - ((2 * G * M) / (R * c**2)))**(1/2))\n",
    "t_inf"
   ]
  },
  {
   "cell_type": "code",
   "execution_count": 3,
   "id": "f9a0e084-3899-4e54-b066-a47d23e69da1",
   "metadata": {},
   "outputs": [
    {
     "data": {
      "text/plain": [
       "4538.570106451612"
      ]
     },
     "execution_count": 3,
     "metadata": {},
     "output_type": "execute_result"
    }
   ],
   "source": [
    "t_inf2 = t_0 / ((1 - ((G * M) / (R * c**2))))\n",
    "t_inf2"
   ]
  },
  {
   "cell_type": "code",
   "execution_count": 5,
   "id": "b0247268-8e5f-4558-a440-d8a0a66a6cd1",
   "metadata": {},
   "outputs": [
    {
     "data": {
      "text/plain": [
       "162.58423562355983"
      ]
     },
     "execution_count": 5,
     "metadata": {},
     "output_type": "execute_result"
    }
   ],
   "source": [
    "t_inf - t_inf2"
   ]
  },
  {
   "cell_type": "markdown",
   "id": "e702f724-9d52-4add-8d79-028f1d2da102",
   "metadata": {},
   "source": [
    "# 17.10\n",
    "\n",
    "In 1792 the French mathematician Simon-Pierre de Laplace (1749-1827) wrote that a hypothetical star, \"of the same density as Earth, and whose diameter would be two hundred and fifty times larger than the Sun, would not, in consequence of its attraction, allow any of its rays to arrive at us.\" \n",
    "\n",
    "Use Newtonian mechanics to calculate the escape velocity of Laplace's star.\n",
    "\n",
    "**Answer**\n",
    "\n",
    "$R = 250R_{\\odot}$\n",
    "\n",
    "Find density of Earth:\n",
    "\n",
    "$V_{\\oplus} = \\frac 4 3 \\pi R_{\\oplus}^3 = 1.087 m^3$\n",
    "\n",
    "$\\rho_{\\oplus} = \\frac{M_{\\oplus}}{V_{\\oplus}} = 5496 kg/m^3$\n",
    "\n",
    "Find mass of star:\n",
    "\n",
    "$V = \\frac 4 3 \\pi R^3 = 2.20 * 10^{34}m^3$\n",
    "\n",
    "$M = V \\rho_{\\oplus} = 1.21 * 10^{38} kg$\n",
    "\n",
    "Escape velocity\n",
    "\n",
    "$$\n",
    "v = \\sqrt{\\frac{2GM}{R}} = 3.05 * 10^{8} m/s\n",
    "$$\n",
    "\n",
    "Or $1.01$ times the speed of light."
   ]
  },
  {
   "cell_type": "code",
   "execution_count": 2,
   "id": "7cb6d87a-a565-4b94-904a-17cb52f7a073",
   "metadata": {},
   "outputs": [
    {
     "data": {
      "text/plain": [
       "(1.086850815312146e+21, 5496.246509493916)"
      ]
     },
     "execution_count": 2,
     "metadata": {},
     "output_type": "execute_result"
    }
   ],
   "source": [
    "V_earth = (4/3) * math.pi * R_earth**3\n",
    "rho_earth = M_earth / V_earth\n",
    "\n",
    "V_earth, rho_earth"
   ]
  },
  {
   "cell_type": "code",
   "execution_count": 3,
   "id": "a1de0310-731f-4a32-8f2a-c543d12315de",
   "metadata": {},
   "outputs": [
    {
     "data": {
      "text/plain": [
       "(2.20198838915603e+34, 1.2102670997844961e+38)"
      ]
     },
     "execution_count": 3,
     "metadata": {},
     "output_type": "execute_result"
    }
   ],
   "source": [
    "R = 250 * R_sun\n",
    "V = (4/3) * math.pi * R**3\n",
    "M = V * rho_earth\n",
    "\n",
    "V, M"
   ]
  },
  {
   "cell_type": "code",
   "execution_count": 4,
   "id": "ba42f2c9-dcdf-4d3a-85d7-f247bd0dfc8e",
   "metadata": {},
   "outputs": [
    {
     "data": {
      "text/plain": [
       "(304815293.78120095, 1.0167543767268519)"
      ]
     },
     "execution_count": 4,
     "metadata": {},
     "output_type": "execute_result"
    }
   ],
   "source": [
    "v = math.sqrt((2 * G * M)/R)\n",
    "v, v/c"
   ]
  },
  {
   "cell_type": "markdown",
   "id": "c201ea14-d6c9-43fa-82b4-ce72d2b880f2",
   "metadata": {},
   "source": [
    "# 18 - Close Binary Systems\n",
    "\n",
    "# 18.7\n",
    "\n",
    "Assume that the absolute bolometric magnitude of a dwarf nova during quiescence is 7.5 and that it brightens by three magnitudes during outburst. \n",
    "\n",
    "Using values for Z Cha, estimate the rate of mass transfer through the accretion disk.\n",
    "\n",
    "**Answer - see 667**\n",
    "\n",
    "Magnitudes:\n",
    "\n",
    "$M_i = 7.5$\n",
    "\n",
    "$M_f = 4.5$\n",
    "\n",
    "Properties given for Z Chamaeleontis (p675):\n",
    "\n",
    "$M_1 = 0.85M_{\\odot}$\n",
    "\n",
    "$R_1 = 0.0095R_{\\odot}$\n",
    "\n",
    "$M_2 = 0.17M_{\\odot}$\n",
    "\n",
    "$P = 0.0745 days$\n",
    "\n",
    "\n",
    "Get Luminosity:\n",
    "\n",
    "$$L = L_{\\odot} * 100^{(M_{bol,\\odot} - M_f)/5} = 4.79 * 10^{26} W$$\n",
    "\n",
    "Rearrange Eq 18.23 (p664), where $R$ is radius of primary:\n",
    "\n",
    "$$\n",
    "\\dot{M} = \\frac{2RL}{GM} = 3.45 * 10^{13} kg / s^{-1}\n",
    "$$"
   ]
  },
  {
   "cell_type": "code",
   "execution_count": 11,
   "id": "7199a197-8558-4a13-b89b-6c6bca2aaed1",
   "metadata": {},
   "outputs": [],
   "source": [
    "M_1 = 0.85 * M_sun\n",
    "M_2 = 0.17 * M_sun\n",
    "R_1 = 0.0095 * R_sun"
   ]
  },
  {
   "cell_type": "code",
   "execution_count": 12,
   "id": "a4fcbea2-e1f6-4cf3-b47e-0117af01ad40",
   "metadata": {},
   "outputs": [
    {
     "data": {
      "text/plain": [
       "(4.788705311178659e+26, 34540905361272.95)"
      ]
     },
     "execution_count": 12,
     "metadata": {},
     "output_type": "execute_result"
    }
   ],
   "source": [
    "M_B = 7.5\n",
    "\n",
    "L = L_sun * (100**((M_bol_sun - M_f)/5))\n",
    "\n",
    "M_dot = (2 * R_1 * L) / (G * M)\n",
    "\n",
    "L, M_dot"
   ]
  },
  {
   "cell_type": "markdown",
   "id": "1a240f43-52c2-461c-aa0c-4d044229fb90",
   "metadata": {},
   "source": [
    "# 18.16\n",
    "\n",
    "For each kilogram of a carbon-oxygen composition (30% $^{12}_6C$) that is burned to produce iron,\n",
    "7.3 × 10^13 J of energy is released.\n",
    "\n",
    "Assuming an initial 1.38 Mo white dwarf with a radius of 1600 km, how much iron would have to be produced to cause the star to be gravitationally\n",
    "unbound? \n",
    "\n",
    "How much additional iron would have to be manufactured to produce a Type la supernova with an average ejecta speed of 5000 km s-1? \n",
    "\n",
    "Take the gravitational potential energy to be -5.1 x 10^43 J for a realistic white dwarf model, and express vour answers in units of Mo.\n",
    "\n",
    "**Answer**\n",
    "\n",
    "$M = 1.38M_{\\odot} = 2.74 * 10^{30} kg$\n",
    "\n",
    "$R = 1.6 * 10^6m$\n",
    "\n",
    "$E_{CO} = 7.3 * 10^{13} J / kg$\n",
    "\n",
    "Gravitational binding energy is inverse to gravitational potential energy:\n",
    "\n",
    "$E_g = 5.1 * 10^{43} J$\n",
    "\n",
    "How many kg can we take away before we reach the limit?\n",
    "\n",
    "$$\n",
    "\\frac{E_g}{E_{CO}} = \\frac{5.1 * 10^{43} J}{7.3 * 10^{13} J / kg} =  6.98 * 10^{29}kg = 0.35M_{\\odot}\n",
    "$$\n",
    "\n",
    "\n",
    "Mass eject speed mentoned on 684..?\n",
    "\n"
   ]
  },
  {
   "cell_type": "code",
   "execution_count": 4,
   "id": "aa354957-0ec3-4096-b807-62334abc7773",
   "metadata": {},
   "outputs": [
    {
     "data": {
      "text/plain": [
       "(6.986301369863013e+29, 0.35122926800377124)"
      ]
     },
     "execution_count": 4,
     "metadata": {},
     "output_type": "execute_result"
    }
   ],
   "source": [
    "M = 1.38 * M_sun\n",
    "R = 1.6E+6\n",
    "E_CO = 7.3E+13\n",
    "E_g = 5.1E+43\n",
    "\n",
    "limit = E_g / E_CO\n",
    "limit, limit/M_sun"
   ]
  },
  {
   "cell_type": "markdown",
   "id": "78828613-d624-4cfd-ad1c-e9510d290476",
   "metadata": {},
   "source": [
    "# 18.19\n",
    "\n",
    "Find the value of the magnetic field for which the Alfvèn radius is equal to the radius of the white dwarf found in Example 18.2.1 (p664). \n",
    "\n",
    "Do the same thing for the neutron star used in that example.\n",
    "\n",
    "**Answer**\n",
    "\n",
    "### White Dwarf\n",
    "\n",
    "$R = 0.0095R_{\\odot}$\n",
    "\n",
    "$M = 0.85_{\\odot}$\n",
    "\n",
    "$\\dot{M} = 10^{13} kg/s^{-1}$\n",
    "\n",
    "p692\n",
    "\n",
    "Alfvèn radius is where kinetic energy density becomes equal to magnetic energy density:\n",
    "\n",
    "$$\\frac 1 2 \\rho v^2 = \\frac{B^2}{2\\mu_0}$$\n",
    "\n",
    "Where mass and density are related to mass accretion rate:\n",
    "\n",
    "$$\n",
    "\\dot{M} = 4\\pi r^2\\rho v\n",
    "$$\n",
    "\n",
    "i.e.\n",
    "\n",
    "$$\n",
    "\\rho v = \\frac{\\dot{M}}{4\\pi r^2}\n",
    "$$\n",
    "\n",
    "So:\n",
    "\n",
    "$$B = \\sqrt{2\\mu_0 \\frac 1 2 (\\frac{\\dot{M}}{4\\pi r^2})^2} = 2.04 * 10^{-5}T$$\n",
    "\n",
    "\n",
    "\n",
    "### Neutron Star\n",
    "\n",
    "$R = 10,000m$\n",
    "\n",
    "$M = 0.1.4_{\\odot}$\n",
    "\n",
    "$\\dot{M} = 10^{14} kg/s^{-1}$\n",
    "\n",
    "$$B = \\sqrt{2\\mu_0 \\frac 1 2 (\\frac{\\dot{M}}{4\\pi r^2})^2} =89.2T$$"
   ]
  },
  {
   "cell_type": "code",
   "execution_count": 19,
   "id": "a0c549a4-412b-472e-9db9-46a292ecefa8",
   "metadata": {},
   "outputs": [
    {
     "data": {
      "text/plain": [
       "2.043353931963169e-05"
      ]
     },
     "execution_count": 19,
     "metadata": {},
     "output_type": "execute_result"
    }
   ],
   "source": [
    "# WD\n",
    "R = 0.0095 * R_sun\n",
    "M = 0.85 * M_sun\n",
    "M_dot = 1.0E+13\n",
    "\n",
    "B = math.sqrt( 2 * mu_0 * (1/2) * (M_dot / (4 * math.pi * R**2))**2 ) \n",
    "B"
   ]
  },
  {
   "cell_type": "code",
   "execution_count": 18,
   "id": "fcf6c6f1-32e3-46b5-967b-e2e87115cdfc",
   "metadata": {},
   "outputs": [
    {
     "data": {
      "text/plain": [
       "89.20620580763855"
      ]
     },
     "execution_count": 18,
     "metadata": {},
     "output_type": "execute_result"
    }
   ],
   "source": [
    "# NS\n",
    "R = 10000\n",
    "M = 1.4 * M_sun\n",
    "M_dot = 1.0E+14\n",
    "\n",
    "B = math.sqrt( 2 * mu_0 * (1/2) * (M_dot / (4 * math.pi * R**2))**2 ) \n",
    "B"
   ]
  },
  {
   "cell_type": "markdown",
   "id": "2af31c81-aefd-4513-9195-c14a2a078cc5",
   "metadata": {},
   "source": [
    "# 18.26\n",
    "\n",
    "The distance to SS 433 is about 5.5 kpc, and the angular separation of SS 433 and the X-ray\n",
    "emitting regions (where the jets interact with the gases of W50) extends as far as 44'. \n",
    "\n",
    "Estimate a lower limit for the amount of time the jets have been active.\n",
    "\n",
    "**Answer**\n",
    "\n",
    "$d = 5500pc$\n"
   ]
  },
  {
   "cell_type": "code",
   "execution_count": null,
   "id": "8c82a1bf-eba6-4970-8e67-86cdee052b91",
   "metadata": {},
   "outputs": [],
   "source": []
  },
  {
   "cell_type": "code",
   "execution_count": 22,
   "id": "9b351abc-2718-419c-9fa3-c07a110399de",
   "metadata": {},
   "outputs": [
    {
     "data": {
      "text/plain": [
       "209.36280000000005"
      ]
     },
     "execution_count": 22,
     "metadata": {},
     "output_type": "execute_result"
    }
   ],
   "source": [
    "inside = 3.5*4.6+ 1.8*3.4 * 1.6*3.4 + 6.2*6.2 + 6.6*6.2 + 7.3*2.1 + 4.3*2.1 + 4.5*4.5 + 2*4.5 + 3*4.5 + 3*4.5\n",
    "inside"
   ]
  },
  {
   "cell_type": "code",
   "execution_count": 23,
   "id": "957b17fd-0456-4458-8574-4d7959a750f0",
   "metadata": {},
   "outputs": [],
   "source": [
    "courtyard = 6*4.5\n",
    "garage = 6*7.5"
   ]
  },
  {
   "cell_type": "code",
   "execution_count": 24,
   "id": "597b8697-a9e0-4ba2-9d0c-a5bd3ce17825",
   "metadata": {},
   "outputs": [
    {
     "data": {
      "text/plain": [
       "281.36280000000005"
      ]
     },
     "execution_count": 24,
     "metadata": {},
     "output_type": "execute_result"
    }
   ],
   "source": [
    "inside + courtyard + garage"
   ]
  },
  {
   "cell_type": "code",
   "execution_count": null,
   "id": "08500693-0af5-40d3-8990-b12bf052774d",
   "metadata": {},
   "outputs": [],
   "source": []
  }
 ],
 "metadata": {
  "kernelspec": {
   "display_name": "Python 3 (ipykernel)",
   "language": "python",
   "name": "python3"
  },
  "language_info": {
   "codemirror_mode": {
    "name": "ipython",
    "version": 3
   },
   "file_extension": ".py",
   "mimetype": "text/x-python",
   "name": "python",
   "nbconvert_exporter": "python",
   "pygments_lexer": "ipython3",
   "version": "3.7.11"
  }
 },
 "nbformat": 4,
 "nbformat_minor": 5
}
