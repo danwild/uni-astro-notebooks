{
 "cells": [
  {
   "cell_type": "markdown",
   "id": "2076cfb2-2ae2-4f5e-856d-058707db99b9",
   "metadata": {},
   "source": [
    "# Tute notes"
   ]
  },
  {
   "cell_type": "code",
   "execution_count": 1,
   "id": "5d5f8b22-8370-46c7-a88d-a203274065fd",
   "metadata": {},
   "outputs": [],
   "source": [
    "import math"
   ]
  },
  {
   "cell_type": "markdown",
   "id": "2d4ea96b-8933-482d-ab7e-067604b37a29",
   "metadata": {},
   "source": [
    "# Problem 9.1"
   ]
  },
  {
   "cell_type": "code",
   "execution_count": 2,
   "id": "09dee87a-7a1b-4a45-a8e0-4f9bf9641f9f",
   "metadata": {},
   "outputs": [],
   "source": [
    "d = 1\n",
    "r_eye = 0.015\n",
    "A_pupil = 0.0001\n",
    "c = 2.99792458E+8"
   ]
  },
  {
   "cell_type": "code",
   "execution_count": 3,
   "id": "c152834a-4fbc-41dc-bfa5-49b1ca6d6b25",
   "metadata": {},
   "outputs": [
    {
     "data": {
      "text/plain": [
       "7.957747154594767"
      ]
     },
     "execution_count": 3,
     "metadata": {},
     "output_type": "execute_result"
    }
   ],
   "source": [
    "L = 100 / (4 * math.pi * d**2)\n",
    "L"
   ]
  },
  {
   "cell_type": "code",
   "execution_count": 4,
   "id": "2cb24d38-534a-442f-ac55-6bf3d8965392",
   "metadata": {},
   "outputs": [
    {
     "data": {
      "text/plain": [
       "6.336957927386663e-15"
      ]
     },
     "execution_count": 4,
     "metadata": {},
     "output_type": "execute_result"
    }
   ],
   "source": [
    "((2*r_eye) * A_pupil * L) / (4 * math.pi * d**2 * c)"
   ]
  },
  {
   "cell_type": "markdown",
   "id": "6cb4a8b5-1ff9-41a0-9a60-6644b00ed3a5",
   "metadata": {
    "tags": []
   },
   "source": [
    "# 10.3\n",
    "\n",
    "If sun were 100% hydrogen, it would have N atoms:\n",
    "\n",
    "$$N = \\frac{M_{\\odot}}{m_H} = \\frac{ 1.9891*10^{30}kg }{ 1.6735575 * 10^{-27}kg } = 1.189*10^{57}kg$$\n",
    "\n"
   ]
  },
  {
   "cell_type": "code",
   "execution_count": 5,
   "id": "a80d2b20-7d7f-4f7e-a725-d19e3fca2794",
   "metadata": {},
   "outputs": [
    {
     "data": {
      "text/plain": [
       "1.1885459567418508e+57"
      ]
     },
     "execution_count": 5,
     "metadata": {},
     "output_type": "execute_result"
    }
   ],
   "source": [
    "M_sun = 1.9891E+30\n",
    "L_sun = 3.839E+26\n",
    "E_ev = 10\n",
    "E = 1.60218e-18\n",
    "m_H = 1.6735575E-27\n",
    "N = M_sun / m_H\n",
    "N"
   ]
  },
  {
   "cell_type": "markdown",
   "id": "877df964-28bb-4173-afd4-aa8924a0eb31",
   "metadata": {},
   "source": [
    "If each atom has energy $E$ = 10eV, time would be:\n",
    "\n",
    "$$\n",
    "t = \\frac{NE}{L_{\\odot}} = 4.96E * 10^{12}s = 1.57*10^5 yr\n",
    "$$"
   ]
  },
  {
   "cell_type": "code",
   "execution_count": 6,
   "id": "d5cb1afd-8e30-41e7-b897-99b1d71dbc0b",
   "metadata": {},
   "outputs": [
    {
     "data": {
      "text/plain": [
       "(4960314042648.238, 157182.8669685983)"
      ]
     },
     "execution_count": 6,
     "metadata": {},
     "output_type": "execute_result"
    }
   ],
   "source": [
    "t_s = (N * E) / L_sun\n",
    "t_y = t_s / 60 / 60 / 24 / 365.25\n",
    "t_s, t_y"
   ]
  },
  {
   "cell_type": "markdown",
   "id": "ea7e6b5c-1a15-4025-ad81-f9dda1a7ab11",
   "metadata": {},
   "source": [
    "# 10.10\n",
    "\n",
    "Calculate the ratio of the energy generation rate for the `pp` chain to the energy generation rate for the `CNO` cycle given conditions characteristic of the center of the present-day (evolved) Sun, namely:\n",
    "\n",
    "$$T = 1.5696 * 10^7 K$$\n",
    "$$\\rho = 1.527 x 10^5 kg m-3$$\n",
    "$$X = 0.3397$$ \n",
    "$$X_{CNO} = 0.0141$$\n",
    "\n",
    "Assume that the pp chain screening factor is unity ($f_{pp} = 1$) and that the pp chain branching\n",
    "factor is unity ($\\Psi_{pp} = 1$).\n",
    "\n",
    "i.e. Calculate and compare energy generation rate for pp and CNO.\n",
    "\n",
    "### PP\n",
    "\n",
    "Simplified version written as ‘power law’ for cases where $T \\approx 1.5*10^7K$:\n",
    "\n",
    "$\\epsilon_{pp} \\approx \\epsilon_{0,pp}^{\\prime} \\rho X^2 f_{pp} \\psi_{pp}C_{pp}T_6^{4}$ W kg-1\n",
    "\n",
    "Where:\n",
    "\n",
    "- $\\epsilon_{0,pp}^{\\prime} = 1.08*10^{-12}$ W m3 kg-2\n",
    "- $T_6$ is dimensionless temp in units $10^6K$ ($T_6 = T/10^6K$)\n",
    "- $f_{pp} = f_{pp}(X, Y, \\rho, T)$ is the pp chain screening factor\n",
    "- $\\psi_{pp} = \\psi_{pp}(X, Y, T)$ is a factor to correct for simultaneous PP1, PP2 and PP3\n",
    "- $C_{pp} \\sim 1$ is “higher order correction of terms”\n",
    "\n"
   ]
  },
  {
   "cell_type": "code",
   "execution_count": 7,
   "id": "cf152f57-1e91-4532-af14-738f063c1b96",
   "metadata": {},
   "outputs": [],
   "source": [
    "e_0pp = 1.08E-12\n",
    "T = 1.5696E+7\n",
    "T_6 = T / 1.0E+6\n",
    "rho = 1.527E+5\n",
    "X = 0.3397\n",
    "X_CNO = 0.0141\n",
    "f_pp = 1\n",
    "psi_pp = 1\n",
    "C_pp = 1\n",
    "C_CNO = 1 # ASSUMPTION! - NOT GIVEN IN QUESTION."
   ]
  },
  {
   "cell_type": "code",
   "execution_count": 8,
   "id": "71c1d303-58e9-476b-8002-ffa60b3b44d4",
   "metadata": {},
   "outputs": [
    {
     "data": {
      "text/plain": [
       "0.001155074101498429"
      ]
     },
     "execution_count": 8,
     "metadata": {},
     "output_type": "execute_result"
    }
   ],
   "source": [
    "# PP\n",
    "e_pp = e_0pp * rho * (X**2) * f_pp * psi_pp * C_pp * (T_6**(4))\n",
    "e_pp"
   ]
  },
  {
   "cell_type": "markdown",
   "id": "02b2e228-6085-43ce-aec0-26d6dfae3bdc",
   "metadata": {},
   "source": [
    "### CNO\n",
    "\n",
    "$\\epsilon_{CNO} = 8.67*10^{20}\\rho XX_{CNO}C_{CNO}T_6^{-2/3}e^{-152.28T_6^{-1/3}}$ W kg-1"
   ]
  },
  {
   "cell_type": "markdown",
   "id": "4a5c5b5e-6191-4130-906a-65a37b41971c",
   "metadata": {},
   "source": [
    "## CNO\n",
    "\n",
    "Simplified version written as ‘power law’ for cases where $T \\approx 1.5*10^7K$:\n",
    "\n",
    "$\\epsilon_{CNO} \\approx \\epsilon_{0,CNO}^{\\prime} \\rho XX_{CNO} T_6^{19.9}$ W kg-1\n",
    "\n",
    "Where:\n",
    "\n",
    "- $\\epsilon_{0,CNO}^{\\prime} = 8.24*10^{-31}$ W m3 kg-2\n"
   ]
  },
  {
   "cell_type": "code",
   "execution_count": 9,
   "id": "0ebf3e0c-4c6a-491f-a8d5-484635ac1bcd",
   "metadata": {},
   "outputs": [
    {
     "data": {
      "text/plain": [
       "0.0003769483181974039"
      ]
     },
     "execution_count": 9,
     "metadata": {},
     "output_type": "execute_result"
    }
   ],
   "source": [
    "e_0CNO = 8.24E-31\n",
    "\n",
    "e_CNO = e_0CNO * rho * X * X_CNO * (T_6**19.9)\n",
    "e_CNO"
   ]
  },
  {
   "cell_type": "code",
   "execution_count": 10,
   "id": "031dfcc0-c1c3-4d7d-bdac-a93cdbe249c2",
   "metadata": {},
   "outputs": [
    {
     "name": "stdout",
     "output_type": "stream",
     "text": [
      "pp chain generates 3.064277105737155 times more energy than CNO cycle\n"
     ]
    }
   ],
   "source": [
    "ratio = e_pp / e_CNO\n",
    "print('pp chain generates %s times more energy than CNO cycle' % ratio)"
   ]
  },
  {
   "cell_type": "markdown",
   "id": "71322737-e948-418f-ab1b-eb02074fbb2f",
   "metadata": {},
   "source": [
    "# 10.14\n",
    "\n",
    "$^{235}_{92}U \\rightarrow ^{4}_{2}He + ^{231}_{90}Th$"
   ]
  },
  {
   "cell_type": "code",
   "execution_count": 11,
   "id": "f8def9ac-bfcb-4272-8bcc-bf3467d944e3",
   "metadata": {},
   "outputs": [
    {
     "data": {
      "text/plain": [
       "(True, True)"
      ]
     },
     "execution_count": 11,
     "metadata": {},
     "output_type": "execute_result"
    }
   ],
   "source": [
    "p1 = 92\n",
    "p2 = 90 + 2\n",
    "\n",
    "n1 = 235\n",
    "n2 = 4 + 231\n",
    "p1 == p2, n1 == n2"
   ]
  },
  {
   "cell_type": "code",
   "execution_count": 12,
   "id": "ade80321-c220-4365-95a0-8faee3b8a93d",
   "metadata": {},
   "outputs": [
    {
     "data": {
      "text/plain": [
       "13"
      ]
     },
     "execution_count": 12,
     "metadata": {},
     "output_type": "execute_result"
    }
   ],
   "source": [
    "27-14"
   ]
  },
  {
   "cell_type": "markdown",
   "id": "bcf621ae-94f1-493b-aab9-8a8d209785b2",
   "metadata": {},
   "source": [
    "## PP1 10.37\n",
    "\n",
    "Leptons?\n",
    "\n",
    "2x Hydrogen atoms combining.\n",
    "They have: \n",
    "\n",
    "- 1 proton each\n",
    "- 0 neutrons each (mass number = 1 = Z)\n",
    "\n",
    "They create:\n",
    "\n",
    "- Helium - 2x protons\n",
    "- 0 neutrons (mass number = 2 = Z)\n",
    "- positron\n",
    "- neutrino\n",
    "\n",
    "#### Also 10.48\n",
    "\n",
    "Where photon comes from? \\o/\n",
    "\n",
    "- Electron must also have a companion anti-neutrino, or a positron on opposing side of equation\n",
    "- Positron must also have a companion neutrino, or an electron on opposing side of equation\n",
    "- Photons are by themselves.\n",
    "\n",
    "\n",
    "\n",
    "\n",
    "# TODO\n",
    "\n",
    "- write down simplified version of energy generation e.g. `10.59`\n",
    "- triple alpha process 10.60 etc..\n",
    "- mostly focused on nucleosynthesis\n",
    "- StatStar\n",
    "   - initial conditions must be just right, otherwise error\n",
    "    - \n"
   ]
  },
  {
   "cell_type": "markdown",
   "id": "61441484-34d4-438a-87a9-58df6fd236c0",
   "metadata": {},
   "source": [
    "# 11.2\n",
    "\n",
    "(a) At what rate is the Sun's mass decreasing due to nuclear reactions? Express your answer in solar masses per year.\n",
    "\n",
    "\n",
    "$$E = mc^2$$\n",
    "\n",
    "$$t = 1 * 365.25 * 24 * 60 * 60 = 31557600s$$\n",
    "\n",
    "$$t = \\frac{E_{nuclear}}{L_{\\odot}}$$\n",
    "\n",
    "$$E_{nuclear} = tL_{\\odot}$$ \n",
    "\n",
    "$$E_{nuclear} = 31557600 * 3.839*10^{26} = 1.21 * 10^{34}$$\n",
    "\n",
    "$$\\frac{E_{nuclear}}{c^2} = m$$\n",
    "\n",
    "$$\\frac{1.21 * 10^{34}}{c^2} = 1.34*10^{17}kg = 6.77*10^{-14}M_{\\odot}$$"
   ]
  },
  {
   "cell_type": "code",
   "execution_count": 13,
   "id": "c5861235-3da8-49c5-ad3f-4044c1eaa2ef",
   "metadata": {},
   "outputs": [
    {
     "data": {
      "text/plain": [
       "1.2114962639999998e+34"
      ]
     },
     "execution_count": 13,
     "metadata": {},
     "output_type": "execute_result"
    }
   ],
   "source": [
    "E = 31557600 * L_sun\n",
    "E"
   ]
  },
  {
   "cell_type": "code",
   "execution_count": 14,
   "id": "b634aaf6-390d-42d5-b4d8-29a3edf5d97c",
   "metadata": {},
   "outputs": [
    {
     "data": {
      "text/plain": [
       "1.3479713860483491e+17"
      ]
     },
     "execution_count": 14,
     "metadata": {},
     "output_type": "execute_result"
    }
   ],
   "source": [
    "m = E/(c**2)\n",
    "m"
   ]
  },
  {
   "cell_type": "code",
   "execution_count": 15,
   "id": "1d11b51a-0683-43c8-9555-941e7e0d533e",
   "metadata": {},
   "outputs": [
    {
     "data": {
      "text/plain": [
       "6.776790438129552e-05"
      ]
     },
     "execution_count": 15,
     "metadata": {},
     "output_type": "execute_result"
    }
   ],
   "source": [
    "(m / M_sun) * 10**9"
   ]
  },
  {
   "cell_type": "markdown",
   "id": "c34a527a-d1eb-4274-9255-84de2db6528f",
   "metadata": {},
   "source": [
    "# 11.5\n",
    "\n",
    "### (a) Using Eq. (9.63) and neglecting turbulence, estimate the full width at half-maximum of the hydrogen $H\\alpha$ absorption line due to random thermal motions in the Sun's photosphere.\n",
    "\n",
    "Assume that the temperature is the Sun's effective temperature.\n",
    "\n",
    "Eq 9.63, p269"
   ]
  },
  {
   "cell_type": "code",
   "execution_count": 16,
   "id": "f50988f3-f562-45b8-92fb-179ed493470c",
   "metadata": {},
   "outputs": [],
   "source": [
    "# wavelgnth for H_alpha is\n",
    "lam = 656.3E-6\n",
    "T = 5777\n",
    "k = 1.3806504E-23\n",
    "m = 1.6735575E-27"
   ]
  },
  {
   "cell_type": "code",
   "execution_count": 17,
   "id": "45db13a3-a247-4e4b-95a1-092caf1bec21",
   "metadata": {},
   "outputs": [
    {
     "data": {
      "text/plain": [
       "3.558870223299679e-08"
      ]
     },
     "execution_count": 17,
     "metadata": {},
     "output_type": "execute_result"
    }
   ],
   "source": [
    "delta_lambda_1_2 = ((2*lam)/c) * math.sqrt( ((2*k*T)/m) * math.log(2) )\n",
    "delta_lambda_1_2"
   ]
  },
  {
   "cell_type": "markdown",
   "id": "c218f822-2e9d-479e-9f92-ce3c99231f43",
   "metadata": {},
   "source": [
    "### (b) Using $H\\alpha$ redshift data for solar granulation, estimate the full width at half-maximum when convective turbulent motions are included with thermal motions."
   ]
  },
  {
   "cell_type": "code",
   "execution_count": 30,
   "id": "0e497af7-19f6-4ecb-a451-c86dfe451c6c",
   "metadata": {},
   "outputs": [
    {
     "data": {
      "text/plain": [
       "3.561855783431486e-08"
      ]
     },
     "execution_count": 30,
     "metadata": {},
     "output_type": "execute_result"
    }
   ],
   "source": [
    "# from p364\n",
    "v_turb = 400\n",
    "\n",
    "delta_lambda_1_2_turb = ((2*lam)/c) * math.sqrt( ( (((2*k*T)/m) + (v_turb**2))) * math.log(2) )\n",
    "delta_lambda_1_2_turb "
   ]
  },
  {
   "cell_type": "markdown",
   "id": "ce0bd6a4-7687-454c-8672-707f8193419f",
   "metadata": {},
   "source": [
    "### (c) What is the ratio of $v^2_{turb}$ to $2kT/m$?"
   ]
  },
  {
   "cell_type": "code",
   "execution_count": 19,
   "id": "342520cc-e920-4a01-b82b-4f6ceea66c0c",
   "metadata": {},
   "outputs": [
    {
     "data": {
      "text/plain": [
       "0.0016785896261711658"
      ]
     },
     "execution_count": 19,
     "metadata": {},
     "output_type": "execute_result"
    }
   ],
   "source": [
    "(v_turb**2) / ((2*k*T)/m)"
   ]
  },
  {
   "cell_type": "markdown",
   "id": "9de0edcf-98e1-4a83-a490-69383d69c226",
   "metadata": {
    "jp-MarkdownHeadingCollapsed": true,
    "tags": []
   },
   "source": [
    "### (d) Determine the relative change in the full width at half-maximum due to Doppler broadening when turbulence is included. Does turbulence make a significant contribution to $\\lambda_{1/2}$ in the solar photosphere?\n",
    "\n",
    "#### Answer\n",
    "The relative change is $0.083$%, which is not a significant contribution."
   ]
  },
  {
   "cell_type": "code",
   "execution_count": 35,
   "id": "99f7ec2c-e557-4a41-8ed7-9b35bdc43a5d",
   "metadata": {},
   "outputs": [
    {
     "data": {
      "text/plain": [
       "0.08382035414501729"
      ]
     },
     "execution_count": 35,
     "metadata": {},
     "output_type": "execute_result"
    }
   ],
   "source": [
    "(delta_lambda_1_2_turb - delta_lambda_1_2) / delta_lambda_1_2_turb * 100"
   ]
  },
  {
   "cell_type": "markdown",
   "id": "c7e81701-9195-4bc6-835e-40d15fa6ba23",
   "metadata": {},
   "source": [
    "# 11.7\n",
    "\n",
    "### (a) Using Eq. (3.22), show that in the Sun's photosphere,\n",
    "\n",
    "$$ln(B_a/B_b) \\approx 11.5 + \\frac{hc}{kT}(\\frac{1}{\\lambda_b} - \\frac{1}{\\lambda_a})$$\n",
    "\n",
    "\n",
    "where $B_a/B_b$, is the ratio of the amount of blackbody radiation emitted at $\\lambda_a = 10nm$ to\n",
    "the amount emitted at $\\lambda_b = 100nm$, centered in a wavelength band 0.1 nm wide.\n",
    "\n",
    "Eq3.22 is Plank function:\n",
    "\n",
    "$$B_{\\lambda}(T) = \\frac{2hc^2 / \\lambda^5}{e^{hc / \\lambda kT} -1}$$\n",
    "\n",
    "Where\n",
    "\n",
    "$h$ = planks constant = $6.62606876 * 10^{-34} J s$\n",
    "\n",
    "---\n",
    "\n",
    "#### Answer (incorrect - you need to integrate over $\\Delta \\lambda$\n",
    "\n",
    "We'll assume temp for _surface_ of the photosphere of $T=4400K$\n",
    "\n",
    "First, we need to find $B_a, B_b$ using plank function.\n",
    "\n",
    "\n",
    "$$B_{a}(T) = 4.21 *10^9$$\n",
    "\n",
    "$$B_{b}(T) = 4.72 *10^5$$"
   ]
  },
  {
   "cell_type": "code",
   "execution_count": 62,
   "id": "472f3116-7553-4240-963d-efcea7f502d6",
   "metadata": {
    "tags": []
   },
   "outputs": [
    {
     "data": {
      "text/plain": [
       "(1.1589842422445282e-118, 74944.94737577756)"
      ]
     },
     "execution_count": 62,
     "metadata": {},
     "output_type": "execute_result"
    }
   ],
   "source": [
    "lambda_a = 10.0E-9 # 10nm\n",
    "lambda_b = 100.0E-9 # 100nm\n",
    "T = 4400\n",
    "h = 6.62606876E-34\n",
    "c = 299792458\n",
    "k = 1.3806503E-23   \n",
    "\n",
    "def plank(lambd, T): \n",
    "    return ( \n",
    "        ((2 * h * c**2) / lambd**5) / \n",
    "        (math.e**((h*c) / (lambd * k * T)) - 1)\n",
    "    )\n",
    "        \n",
    "B_a = plank(lambda_a, T)\n",
    "B_b = plank(lambda_b, T)\n",
    "        \n",
    "B_a, B_b       "
   ]
  },
  {
   "cell_type": "markdown",
   "id": "ec0b1f8d-d3af-4878-8310-555de36231cd",
   "metadata": {},
   "source": [
    "Now we can evaluate each side"
   ]
  },
  {
   "cell_type": "code",
   "execution_count": 63,
   "id": "8f572c6c-245c-4530-977f-da8136ca781f",
   "metadata": {
    "jupyter": {
     "source_hidden": true
    },
    "tags": []
   },
   "outputs": [
    {
     "data": {
      "text/plain": [
       "-282.7820060930181"
      ]
     },
     "execution_count": 63,
     "metadata": {},
     "output_type": "execute_result"
    }
   ],
   "source": [
    "LHS = math.log(B_a/B_b)\n",
    "LHS"
   ]
  },
  {
   "cell_type": "code",
   "execution_count": 64,
   "id": "8f11db28-04c8-4311-a956-7a10648a4c6a",
   "metadata": {
    "jupyter": {
     "source_hidden": true
    },
    "tags": []
   },
   "outputs": [
    {
     "data": {
      "text/plain": [
       "-282.7949315579883"
      ]
     },
     "execution_count": 64,
     "metadata": {},
     "output_type": "execute_result"
    }
   ],
   "source": [
    "RHS = 11.5 + ((h*c)/(k*T))*((1/lambda_b)-(1/lambda_a))\n",
    "RHS"
   ]
  },
  {
   "cell_type": "markdown",
   "id": "f895d4af-b523-4ff4-8dbb-d4632fada4ee",
   "metadata": {},
   "source": [
    "### (b) What is the value of this expression for the case where the temperature is taken to be the effective temperature of the Sun?"
   ]
  },
  {
   "cell_type": "code",
   "execution_count": 65,
   "id": "4bbdf56d-b171-4035-abe8-e20881c8691b",
   "metadata": {},
   "outputs": [
    {
     "data": {
      "text/plain": [
       "(-212.6341575980792, -212.64708306303422)"
      ]
     },
     "execution_count": 65,
     "metadata": {},
     "output_type": "execute_result"
    }
   ],
   "source": [
    "T = 5777\n",
    "B_a = plank(lambda_a, T)\n",
    "B_b = plank(lambda_b, T)\n",
    "\n",
    "RHS = 11.5 + ( (h*c)/(k*T) ) * ( (1/lambda_b) - (1/lambda_a) )\n",
    "\n",
    "LHS = math.log(B_a/B_b)\n",
    "LHS, RHS"
   ]
  },
  {
   "cell_type": "markdown",
   "id": "ce80d206-5cf5-4ae7-bd3b-c7befce9c562",
   "metadata": {
    "tags": []
   },
   "source": [
    "### (c) Writing the ratio in the form $B_a/B_b = 10^x$, determine the value of x."
   ]
  },
  {
   "cell_type": "code",
   "execution_count": 66,
   "id": "b851d9e6-8a5b-4b39-b5c0-ab3570c376c4",
   "metadata": {},
   "outputs": [
    {
     "data": {
      "text/plain": [
       "-92.3458413089922"
      ]
     },
     "execution_count": 66,
     "metadata": {},
     "output_type": "execute_result"
    }
   ],
   "source": [
    "math.log10(B_a/B_b)"
   ]
  },
  {
   "cell_type": "markdown",
   "id": "73b3f801-9629-465d-9c7c-ed9929312ea9",
   "metadata": {},
   "source": [
    "# 11.8\n",
    "\n",
    "The gas pressure at the base of the photosphere is approximately $2 * 10^4$ N m-2 and the mass density is $3.2 * 10^{-4}$ kg m-3\n",
    " \n",
    "Estimate the sound speed at the base of the photosphere, and compare your answer with the values at the top of the photosphere and averaged throughout the Sun.\n",
    "\n",
    "---\n",
    "\n",
    "Adiabatic Sound Speed: \n",
    "\n",
    "$$v_s = \\sqrt{\\gamma P / \\rho} = 10206 m/s = 10.2km/s$$\n",
    "\n",
    "Assume monotomic gas ($\\gamma = 5/3$)."
   ]
  },
  {
   "cell_type": "code",
   "execution_count": 67,
   "id": "a247c2d1-01c5-42b9-ba74-fe44e8e7e930",
   "metadata": {},
   "outputs": [
    {
     "data": {
      "text/plain": [
       "10206.207261596575"
      ]
     },
     "execution_count": 67,
     "metadata": {},
     "output_type": "execute_result"
    }
   ],
   "source": [
    "P = 2.0E+4\n",
    "rho = 3.2E-4\n",
    "gamma = 5/3\n",
    "\n",
    "v_base = math.sqrt( (gamma*P) / rho)\n",
    "v_base"
   ]
  },
  {
   "cell_type": "markdown",
   "id": "9ae15fd4-6da6-40d9-b318-e1dc8feb211a",
   "metadata": {},
   "source": [
    "$v_{s,top} = 6.9km/s$ (Example 11.2.2, p379)\n",
    "\n",
    "$v_{s,sun} = 400km/s$ (Example 10.4.2)\n",
    "\n",
    "Speed of sound increases as we go deeper into the sun - pressure increases faster than density."
   ]
  },
  {
   "cell_type": "markdown",
   "id": "51e044a7-a194-4b69-aa15-ce67f98b800b",
   "metadata": {},
   "source": [
    "# 11.14\n",
    "\n",
    "Assuming that an average of one coronal mass ejection occurs per day and that a typical CME ejects $10^{13}$ kg of material, estimate the annual mass loss from CMEs and compare your answer with the annual mass loss from the solar wind. \n",
    "\n",
    "Express your answer as a percentage of CME mass loss to solar wind mass loss."
   ]
  },
  {
   "cell_type": "code",
   "execution_count": 83,
   "id": "d6f7bef1-fc7b-4d67-817b-1a76c0fc63e5",
   "metadata": {},
   "outputs": [
    {
     "data": {
      "text/plain": [
       "(1.6351616308883416e-15, 3e-14, 5.450538769627806)"
      ]
     },
     "execution_count": 83,
     "metadata": {},
     "output_type": "execute_result"
    }
   ],
   "source": [
    "wind_yr = 3.0E-14 # from p374\n",
    "cme_day = 10**13\n",
    "cme_yr = (cme_day * 325.25) / M_sun\n",
    "\n",
    "percent =  (cme_yr / wind_yr) * 100\n",
    "\n",
    "cme_yr, wind_yr, percent"
   ]
  },
  {
   "cell_type": "code",
   "execution_count": null,
   "id": "b1f82f39-af66-4a41-b56d-ac4c53a2f579",
   "metadata": {},
   "outputs": [],
   "source": []
  }
 ],
 "metadata": {
  "kernelspec": {
   "display_name": "Python 3 (ipykernel)",
   "language": "python",
   "name": "python3"
  },
  "language_info": {
   "codemirror_mode": {
    "name": "ipython",
    "version": 3
   },
   "file_extension": ".py",
   "mimetype": "text/x-python",
   "name": "python",
   "nbconvert_exporter": "python",
   "pygments_lexer": "ipython3",
   "version": "3.7.11"
  }
 },
 "nbformat": 4,
 "nbformat_minor": 5
}
