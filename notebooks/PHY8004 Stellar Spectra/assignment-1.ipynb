{
 "cells": [
  {
   "cell_type": "markdown",
   "id": "9dc53913-6a73-4504-86e9-d150adc68238",
   "metadata": {},
   "source": [
    "# TODO\n",
    "- check units"
   ]
  },
  {
   "cell_type": "markdown",
   "id": "19b2771f-8131-45cd-8805-4ad2657f5ddc",
   "metadata": {},
   "source": [
    "# Assignment 1\n",
    "\n",
    "PHY8004 - Assignment 1 Part 1 - Questions "
   ]
  },
  {
   "cell_type": "code",
   "execution_count": 7,
   "id": "a0526c4e-eb71-4dbb-b6fd-6016d1881d7a",
   "metadata": {
    "tags": []
   },
   "outputs": [],
   "source": [
    "# imports & constants\n",
    "import math\n",
    "M_sun = 1.9891E+30\n",
    "L_sun = 3.839E+26\n",
    "R_sun = 6.95508E+8\n",
    "c = 299792458\n",
    "G = 6.67428E-11\n",
    "sigma = 5.670400E-8"
   ]
  },
  {
   "cell_type": "markdown",
   "id": "1afe9b33-c68c-493e-bcc4-daaf00f5ed73",
   "metadata": {
    "tags": []
   },
   "source": [
    "# Question A1-P01-1 - 2 marks \n",
    "\n",
    "Using spectroscopy the velocities of an eclipsing binary star system were measured. The velocity of the secondary of the system was found to vary from -24.0 km/s up to +108.0 km/s, while the velocity of the primary varied from +9.0 km/s to +75.0 km/s. The period of the system was found to be 30 days. Assuming the observed velocity curves are sinusoidal, and that the inclination angle of the system is 90◦, find:\n",
    "\n",
    "$$P=30days=>30*24*60*60=2592000s$$\n",
    "\n",
    "$$i=90º$$"
   ]
  },
  {
   "cell_type": "code",
   "execution_count": 2,
   "id": "2c0c9fd6-211e-45b1-80eb-5bd4872f6ed1",
   "metadata": {},
   "outputs": [
    {
     "data": {
      "text/plain": [
       "2592000"
      ]
     },
     "execution_count": 2,
     "metadata": {},
     "output_type": "execute_result"
    }
   ],
   "source": [
    "P = 30 * 24 * 60 * 60\n",
    "P"
   ]
  },
  {
   "cell_type": "markdown",
   "id": "f67104ec-a0a0-423e-8efa-0c1d6821893c",
   "metadata": {},
   "source": [
    "**a) the radial velocity of the centre of mass of the system**\n",
    "\n",
    "Find $v_{cm}$\n",
    "\n",
    "Sinusoidal velocity curves imply circular orbit: $e \\approx 0$, and a circular orbit implies the velocity of each star should be constant.\n",
    "\n",
    "_Note:_ negative radial velocity => travelling towards observer\n",
    "\n",
    "**Primary** (larger object => lower orbital velocity): \n",
    "\n",
    "$$v_{1,min} = +9km s, v_{1,max} = +75km s$$\n",
    "\n",
    "$$v_{1r} = \\frac{9km s + 75km s}{2} = 42km s$$"
   ]
  },
  {
   "cell_type": "code",
   "execution_count": 3,
   "id": "f75246e1-db28-457b-afc0-23b9a7e4b499",
   "metadata": {},
   "outputs": [
    {
     "data": {
      "text/plain": [
       "42000.0"
      ]
     },
     "execution_count": 3,
     "metadata": {},
     "output_type": "execute_result"
    }
   ],
   "source": [
    "v_1_min = 9000\n",
    "v_1_max = 75000\n",
    "v_1r = (v_1_min+v_1_max)/2\n",
    "v_1r"
   ]
  },
  {
   "cell_type": "markdown",
   "id": "d3ba0ced-7e17-412b-a71e-5ca5955379ee",
   "metadata": {},
   "source": [
    "**Secondary** (smaller object => greater orbital velocity): \n",
    "\n",
    "$$v_{2,min} = -24km s^{-1}, v_{2,max} = +108km s^{-1}$$\n",
    "\n",
    "$$v_{2r} = \\frac{abs(-24km s^{-1}) + 108km s^{-1}}{2} = 66km s^{-1}$$"
   ]
  },
  {
   "cell_type": "code",
   "execution_count": 4,
   "id": "e8ba70bb-cc03-45a0-b8c4-d91b5274ec64",
   "metadata": {},
   "outputs": [
    {
     "data": {
      "text/plain": [
       "66000.0"
      ]
     },
     "execution_count": 4,
     "metadata": {},
     "output_type": "execute_result"
    }
   ],
   "source": [
    "v_2_min = -24000\n",
    "v_2_max = 108000\n",
    "v_2r = (abs(v_2_min)+v_2_max)/2\n",
    "v_2r"
   ]
  },
  {
   "cell_type": "markdown",
   "id": "7ec496f3-c992-421f-950c-256b90e8707f",
   "metadata": {},
   "source": [
    "Center of mass velocity:\n",
    "\n",
    "$$\n",
    "v_{cm} = 42km s^{-1}\n",
    "$$"
   ]
  },
  {
   "cell_type": "markdown",
   "id": "309966f9-5ccf-40fd-984d-787089514250",
   "metadata": {},
   "source": [
    "**b) the individual masses of the two stars in the system (in terms of solar masses)**\n",
    "\n",
    "Combined mass:\n",
    "$$\n",
    "m_1 + m_2 = \\frac{P}{2\\pi G} \\frac{(v_{1r} + v_{2r})^3}{sin^3 i} = \\frac{2592000s}{2\\pi 6.67428^{-11}Nm^2kg^{-2}} (42000ms + 66000ms)^3 = 7.79*10^{30}kg\n",
    "$$"
   ]
  },
  {
   "cell_type": "code",
   "execution_count": 5,
   "id": "db377cd4-5249-4e1c-b02a-ce9995faee2b",
   "metadata": {},
   "outputs": [
    {
     "data": {
      "text/plain": [
       "7.786135781152193e+30"
      ]
     },
     "execution_count": 5,
     "metadata": {},
     "output_type": "execute_result"
    }
   ],
   "source": [
    "m1_m2 = (P / (2 * math.pi * G)) * (v_1r+v_2r)**3\n",
    "m1_m2"
   ]
  },
  {
   "cell_type": "markdown",
   "id": "ea034e1c-20d8-4e3b-815a-085d2a72f39d",
   "metadata": {},
   "source": [
    "Individual masses from velocity ratio:\n",
    "\n",
    "$$\\frac{m_1}{m_2} = \\frac{v_2}{v_1}$$\n",
    "\n",
    "$$\n",
    "m_1 = \\frac{m_1 + m_2}{1 + (\\frac{v_1}{v_2})} = \\frac{7.79*10^{21}kg}{1 + (\\frac{66000m/s}{42000m/s})} = 4.76*10^{21}kg = 2.39 M_{\\odot}\n",
    "$$\n",
    "\n",
    "$$\n",
    "m_2 = (m_1 + m_2) - m_1 = 7.79*10^{21}kg - 4.76*10^{21}kg = 3.03*10^{21}kg = 1.52 M_{\\odot}\n",
    "$$"
   ]
  },
  {
   "cell_type": "code",
   "execution_count": 6,
   "id": "46ff9959-8f10-4ba6-a2c2-bf953d1969df",
   "metadata": {},
   "outputs": [
    {
     "data": {
      "text/plain": [
       "(2.392134175497409, 1.52226720258926)"
      ]
     },
     "execution_count": 6,
     "metadata": {},
     "output_type": "execute_result"
    }
   ],
   "source": [
    "m_1 = m1_m2 / (1 + (v_1r/v_2r))\n",
    "m_2 = m1_m2 - m_1\n",
    "m_1/M_sun, m_2/M_sun"
   ]
  },
  {
   "cell_type": "markdown",
   "id": "d691390e-8005-46ef-9fba-ae5a4d929eaf",
   "metadata": {
    "tags": []
   },
   "source": [
    "# Question A1-P01-2 - 2 marks\n",
    "\n",
    "For the eclipsing binary system in Question A1-P01-1 a photometric lightcurve showed that $t_a$ occurred at a modified Julian date of `57905.1728`, $t_b$ at `57905.3358`, $t_c$ at `57905.4648` and $t_d$ at `57905.6278`. The maximum apparent bolometric magnitude of the system was found to be `6.80`, while the magnitude at the primary eclipse was found to be `10.05` and at the secondary eclipse `7.11`. Given the data in Question A1-P01-1, find:\n",
    "\n",
    "_Hint: Look at Examples 7.3.1 and 7.3.2, in the textbook. You will need to use an equation from Chapter 3 of the textbook._\n",
    "\n",
    "**a) the individual radii of the stars (in solar radii)**\n",
    "\n",
    "Let $v$ equal the relative velocity of the two stars, $v = v_1 + v_2 = 42km/s + 66km/s = 108km/s$\n",
    "\n",
    "Radius of smaller star:\n",
    "\n",
    "$$\n",
    "r = \\frac{v}{2}(t_b - t_a) = \\frac{108000m}{2}(57905.3358 - 57905.1728) = 8.802*10^3m = 1.266*10^{-5} R_{\\odot}\n",
    "$$\n",
    "\n",
    "Radius of larger star:\n",
    "\n",
    "$$\n",
    "r = \\frac{v}{2}(t_c - t_a) = \\frac{108000m}{2}(57905.4648 - 57905.1728) = 1.577*10^4m = 2.267*10^{-5} R_{\\odot}\n",
    "$$\n",
    "\n"
   ]
  },
  {
   "cell_type": "code",
   "execution_count": 12,
   "id": "a9ab9df8-95cc-4c5d-a452-a0d33d6ea49d",
   "metadata": {},
   "outputs": [
    {
     "name": "stdout",
     "output_type": "stream",
     "text": [
      "meters: (8802.000000025146, 15768.00000006915) \n",
      "solar radii: (1.2655497851965967e-05, 2.26711986060105e-05) \n"
     ]
    }
   ],
   "source": [
    "t_a = 57905.1728\n",
    "t_b = 57905.3358\n",
    "t_c = 57905.4648\n",
    "t_d = 57905.6278\n",
    "v = v_1r + v_2r\n",
    "\n",
    "r_1 = (v/2) * (t_b - t_a)\n",
    "r_2 = (v/2) * (t_c - t_a)\n",
    "\n",
    "print('meters: %s ' % str((r_1, r_2)))\n",
    "print('solar radii: %s ' % str((r_1/R_sun, r_2/R_sun)))"
   ]
  },
  {
   "cell_type": "markdown",
   "id": "a02a2416-ca88-40c5-aaa0-efa1574e902e",
   "metadata": {
    "tags": []
   },
   "source": [
    "**b) the ratio of their effective temperatures**\n",
    "\n",
    "$$\n",
    "\\frac{B_p}{B_0} = 100^{(m_{bol,0} - m_{bol,p})/5} = 0.050\n",
    "$$\n",
    "\n",
    "$$\n",
    "\\frac{B_s}{B_0} = 100^{(m_{bol,0} - m_{bol,s})/5} = 0.75\n",
    "$$\n",
    "\n",
    "$$\n",
    "\\frac{F_s}{F_p} = \\frac{1 - B_p/B_0}{1 - B_s/B_0} = 3.82\n",
    "$$\n",
    "\n",
    "$$\n",
    "\\frac{T_s}{T_p} = (\\frac{F_s}{F_p})^{1/4} = 1.40\n",
    "$$"
   ]
  },
  {
   "cell_type": "code",
   "execution_count": 13,
   "id": "717425d5-b915-4ab5-b7b8-fb6b7823a70e",
   "metadata": {},
   "outputs": [
    {
     "name": "stdout",
     "output_type": "stream",
     "text": [
      " B_p/B_0: 0.0501187233627272\n",
      " B_s/B_0: 0.7516228940182051\n",
      " F_s/F_p: 3.824351173118571\n",
      " T_s/T_p: 1.3984258431150163\n"
     ]
    }
   ],
   "source": [
    "m_bol_0 = 6.80\n",
    "m_bol_p = 10.05\n",
    "m_bol_s = 7.11\n",
    "\n",
    "B_p_B_0 = 100**((m_bol_0 - m_bol_p)/5)\n",
    "B_s_B_0 = 100**((m_bol_0 - m_bol_s)/5)\n",
    "F_s_F_p = (1 - B_p_B_0) / (1 - B_s_B_0)\n",
    "T_s_T_p = F_s_F_p**(1/4)\n",
    "\n",
    "print(' B_p/B_0: %s\\n B_s/B_0: %s\\n F_s/F_p: %s\\n T_s/T_p: %s' % (B_p_B_0, B_s_B_0, F_s_F_p, T_s_T_p))"
   ]
  },
  {
   "cell_type": "markdown",
   "id": "5023e85e-f55b-4dc9-ac2f-bd26fcad2feb",
   "metadata": {
    "tags": []
   },
   "source": [
    "# Question A1-P01-3 - 1 mark\n",
    "Why does the radial velocity technique for detecting exoplanets around other stars favour the detection of “Hot Jupiters”? \n",
    "\n",
    "What is your definition of a “Hot Jupiter”?\n",
    "\n",
    "**Answer:**\n",
    "\n",
    "The term \"Hot Jupiter\" is used to describe an exoplanet that is physically similar to Jupiter (i.e. a large, gassy planet or \"gas giant\"), which orbits close to its host star, such that it has a hot atmosphere and an orbital period $P$ of around 10 days or less.\n",
    "\n",
    "When attempting to detect exoplanets, the radial velocity technique focusses on indentifying changes in the velocity of the host star. The presence of a gas giant within close proximity (i.e. a Hot Jupiter) has a relatively strong gravitational pull which in turn creates a relatively strong variation in the stars radial velocity. \n",
    "\n",
    "Strong variations in a stars radial velocity means exoplanets are easier to detect, so this method tends to favor the detection of Hot Jupiters."
   ]
  },
  {
   "cell_type": "markdown",
   "id": "e3a847c5-b8a7-466b-b09f-0d0122ecb117",
   "metadata": {},
   "source": [
    "# Question A1-P02-1 - 1 mark\n",
    "Rigel Kentaurus (alpha Cen) is one of the “pointers” in the southern sky. \n",
    "\n",
    "It is actually a multiple star system. The primary star in the system has an apparent visual magnitude of `-0.01`. Use the H-R diagram in Figure 8.16 (Page 227) of the textbook to determine the distance to this star.\n",
    "\n",
    "_Hint: You will need to use a formula from Chapter 3 of the textbook to solve this problem._\n",
    "\n",
    "**Answer:**\n",
    "\n",
    "Apparent magnitude $m$ is `-0.01`\n",
    "\n",
    "Absolute magnitude $M$ on Figure 8.16 is appox. `4.3`\n",
    "\n",
    "From distance modulus:\n",
    "\n",
    "$$\n",
    "d = 10^{\\frac{(m_v - M_v + 5)}{5}} = 10^{\\frac{((-0.01) - 4.3 + 5)}{5}} = 1.37pc\n",
    "$$\n"
   ]
  },
  {
   "cell_type": "code",
   "execution_count": 8,
   "id": "cf6b6382-304c-43e2-ab52-58146846dc2a",
   "metadata": {},
   "outputs": [
    {
     "data": {
      "text/plain": [
       "1.3740419750125155"
      ]
     },
     "execution_count": 8,
     "metadata": {},
     "output_type": "execute_result"
    }
   ],
   "source": [
    "m = -0.01\n",
    "M = 4.3\n",
    "d = 10**((m - M + 5) / 5)\n",
    "d"
   ]
  },
  {
   "cell_type": "markdown",
   "id": "dc352f4f-1b2b-4af0-9d83-6d5f64fd5970",
   "metadata": {},
   "source": [
    "# Question A1-P02-2 - 2 marks\n",
    "\n",
    "If we have a gas of `neutral hydrogen` atoms, at what temperature of the gas will the number of atoms in the first excited state be `50%` of the number of atoms in the ground state? \n",
    "\n",
    "At what gas temperature will the number of atoms in the first excited state be only `5%` of the number of atoms in the ground state?\n",
    "\n",
    "\n",
    "_Hint:You will need to use the Boltzmann equation and Example 8.1.2 in the textbook, may also give some hints along with the values for E1 and E2. Note: $gn = 2(n)^2$_\n",
    "\n",
    "\n",
    "**Answer:**\n",
    "\n",
    "Boltzmann equation:\n",
    "\n",
    "$$\n",
    "\\frac{N_2}{N_1} = \\frac{g_2 e^{-E_2/kT}}{g_1 e^{-E_1/kT}} = \\frac{g_2}{g_1} e^{-(E_2-E_1)/kT}\n",
    "$$\n",
    "\n",
    "Number of degenerate states, hydrogen:\n",
    "\n",
    "$$g_n = 2(n)^2$$\n",
    "\n",
    "Find $T$, where $\\frac{N_2}{N_1} = 0.5$ and $\\frac{N_2}{N_1} = 0.05$"
   ]
  },
  {
   "cell_type": "code",
   "execution_count": 76,
   "id": "c9e2e4a6-b4bf-45c0-bcc3-31512977ad9f",
   "metadata": {},
   "outputs": [
    {
     "data": {
      "text/plain": [
       "(-13.6, -3.4, 2, 8)"
      ]
     },
     "execution_count": 76,
     "metadata": {},
     "output_type": "execute_result"
    }
   ],
   "source": [
    "k = 8.617343E-5\n",
    "E_1 = -13.6 \n",
    "E_2 = -3.40\n",
    "g_1 = 2*(1**2)\n",
    "g_2 = 2*(2**2)\n",
    "ratio_50 = 0.5\n",
    "ratio_5 = 0.05\n",
    "\n",
    "E_1,E_2,g_1,g_2"
   ]
  },
  {
   "cell_type": "markdown",
   "id": "85d53429-43f2-4279-a6fa-8d38851dbbdb",
   "metadata": {},
   "source": [
    "Solve Boltzmann equation for $T$:\n",
    "\n",
    "$$ratio = \\frac{g_2}{g_1} e^{-(E_2-E_1)/kT}$$\n",
    "\n",
    "$$\\frac{ratio}{g_2/g_1} = e^{-(E_2-E_1)/kT}$$\n",
    "\n",
    "$$ln{\\frac{ratio}{g_2/g_1}} = \\frac{-(E_2-E_1)}{kT}$$\n",
    "\n",
    "$$T = \\frac{-(E_2-E_1)}{k ln{\\frac{ratio}{g_2/g_1}}}$$\n",
    "\n",
    "So, for `50%`:\n",
    "\n",
    "$$T = \\frac{-((-3.40eV) - (-13.6eV))}{8.617343 *10^{-5}eV * ln{\\frac{0.5}{8/2}}} = 5.69*10^4K$$\n",
    "\n",
    "And for `5%`:\n",
    "\n",
    "$$T = \\frac{-((-3.40eV) - (-13.6eV))}{8.617343 *10^{-5}eV * ln{\\frac{0.05}{8/2}}} = 2.70*10^4K$$\n"
   ]
  },
  {
   "cell_type": "code",
   "execution_count": 11,
   "id": "2695bd83-e3d4-4bed-bc7f-9fbc42324d20",
   "metadata": {},
   "outputs": [
    {
     "data": {
      "text/plain": [
       "(56921.99021232502, 27011.69138179159)"
      ]
     },
     "execution_count": 11,
     "metadata": {},
     "output_type": "execute_result"
    }
   ],
   "source": [
    "T_50 = -(E_2 - E_1) / (k * math.log( ratio_50/(g_2/g_1) ))\n",
    "T_5 = -(E_2 - E_1) / (k * math.log( ratio_5/(g_2/g_1) ))\n",
    "\n",
    "T_50, T_5"
   ]
  },
  {
   "cell_type": "markdown",
   "id": "205d6e53-26eb-4b93-8aa5-04ad4fb7258d",
   "metadata": {},
   "source": [
    "# Question A1-P02-3 - 1 mark\n",
    "\n",
    "An optical spectrum for a star is shown in Figure 1 (next page). Compare this to the stellar spectra shown in Figures 8.4 and 8.5 (Pages 208 and 210) of the textbook, and estimate the spectral type of the star (do not worry about the luminosity class). \n",
    "\n",
    "Write a brief paragraph outlining your reasoning for the spectral classification.\n",
    "\n",
    "_Hint: You may need to use the following, Table 8.1, Figures 8.4, 8.5 and 8.11 and possibly Appendix G: Stellar Data, from the textbook, along with any online material you require to help answer this question, just make sure you reference any material you use._\n",
    "\n",
    "**Answer:**\n",
    "\n",
    "As shown the below figures, I annotated some of the key features in the supplied spectrum, and compared these with known spectral classification lines."
   ]
  },
  {
   "cell_type": "markdown",
   "id": "b7e34378-034e-45cd-b02f-1aa2cf37a5cb",
   "metadata": {},
   "source": [
    "![Spectra](../figures/spectra.png) \n",
    "<!-- ![Spectra](/Users/wil9cr/git/uni-astro-notebooks/notebooks/figures/spectra.png) -->\n",
    "**Figure 1:** optical spectrum with some significant features annotated for reference."
   ]
  },
  {
   "cell_type": "markdown",
   "id": "8c6afdba-1f63-498c-9730-36501ac064ee",
   "metadata": {},
   "source": [
    "![Spectra](../figures/spectral-class.jpeg)\n",
    "<!-- ![Spectra](/Users/wil9cr/git/uni-astro-notebooks/notebooks/figures/spectral-class.jpeg) -->\n",
    "\n",
    "**Figure 2:** a stellar spectra plot annotated with features noted in Figure 1. \n",
    "_Image credit: https://sites.ualberta.ca/~pogosyan/teaching/ASTRO_122/lect12/lecture12.html_"
   ]
  },
  {
   "cell_type": "markdown",
   "id": "645c3601-ab73-4f2e-86fc-78438ecd5649",
   "metadata": {},
   "source": [
    "---\n",
    "\n",
    "Firstly - looking at the line placement in Figure 2, it appears that I have a systematic error, under-estimating wavelengths when reading from Figure 1.\n",
    "\n",
    "In any case, I estimate it as an `O` (or early B) star.\n",
    "- The width (i.e. strength), and amplitude of the lines is small when compared to the spectra of cooler stars (i.e. B-K) in Figure 8.4 (Caroll and Ostlie, p208)\n",
    "  - this is consistant with the Hydrogen absorption lines of an `O` star, as we know these lines decrease from `A0` to `09` types\n",
    "- Helium lines are present (453nm and 468nm, Figure 2), which are only disernable for `O` and early `B` stars.\n",
    "- Figure 8.4 (Caroll and Ostlie, p208) shows a significant fall in relative flux for cooler stars as wavelengths reach less than 380nm.\n",
    "  - The plot includes wavelengths down to 370nm, and no significant drop in flux is visible. \n",
    "- The profile of the line is most consitant with the `O` star than with any other in Figure's 8.4 and 8.5 (Caroll and Ostlie, p208-210)"
   ]
  },
  {
   "cell_type": "markdown",
   "id": "7818b569-3dbf-4293-9524-d5981486cbd9",
   "metadata": {},
   "source": [
    "# Question A1-P03-1 - 2 marks\n",
    "\n",
    "**a) The general curve of growth for the Sun is given in Figure 1 (next page). Given the data for two sodium lines in Table 1 (below) calculate the `number of absorbing sodium atoms per unit area` of the photosphere (Na) for these lines.**\n"
   ]
  },
  {
   "cell_type": "code",
   "execution_count": null,
   "id": "00eb0cf0-766a-498f-94b6-bf2e85be316d",
   "metadata": {},
   "outputs": [],
   "source": [
    "y_1 = math.log10(W_1/λ_1)\n",
    "y_2 = math.log10(W_2/λ_2)\n",
    "y_1, y_2"
   ]
  },
  {
   "cell_type": "markdown",
   "id": "dc018084-9e7c-406f-a12d-b70661e829ee",
   "metadata": {},
   "source": [
    "#### For the 330.298nm line:\n",
    "    \n",
    "$$\n",
    "log_{10}N_a = log_{10}(\\frac{f N_a \\lambda}{500nm}) - log_{10}(\\frac{f \\lambda}{500nm})\n",
    "$$\n",
    "\n",
    "Let:\n",
    "\n",
    "$$\n",
    "log_{10}(\\frac{f N_a \\lambda}{500nm}) = 17.1\n",
    "$$\n",
    "\n",
    "So:\n",
    "\n",
    "$$\n",
    "log_{10}N_a = log_{10}(\\frac{f N_a \\lambda}{500nm}) - log_{10}(\\frac{f \\lambda}{500nm}) = 17.1 - (-2.49) = 19.59\n",
    "$$\n",
    "\n",
    "i.e. $10^{19.59}$ absorbing Na atoms per square meter of photosphere."
   ]
  },
  {
   "cell_type": "markdown",
   "id": "f5c7b6ed-b120-49c7-88e9-f0f539c64ed0",
   "metadata": {},
   "source": [
    "#### For the 589.594nm line:\n",
    "    \n",
    "$$\n",
    "log_{10}N_a = log_{10}(\\frac{f N_a \\lambda}{500nm}) - log_{10}(\\frac{f \\lambda}{500nm})\n",
    "$$\n",
    "\n",
    "Let:\n",
    "\n",
    "$$\n",
    "log_{10}(\\frac{f N_a \\lambda}{500nm}) = 18.55\n",
    "$$\n",
    "\n",
    "So:\n",
    "\n",
    "$$\n",
    "log_{10}N_a = 16.5 - log_{10}(\\frac{f \\lambda}{500nm}) = 18.55 - (-0.42) = 19.02\n",
    "$$\n",
    "\n",
    "i.e. $10^{19.02}$ absorbing Na atoms per square meter of photosphere."
   ]
  },
  {
   "cell_type": "markdown",
   "id": "5f9aaa8d-6727-4bed-be4a-ba7573dce67b",
   "metadata": {
    "jp-MarkdownHeadingCollapsed": true,
    "tags": []
   },
   "source": [
    "**b) Using the results from Example 9.5.5 in the textbook, calculate an average value of Na.**\n",
    "\n",
    "_Hint: Follow the same process as given in Example 9.5.5, in the textbook._\n",
    "\n",
    "\n",
    "**Answer**\n",
    "\n",
    "The results given in Example 9.5.5 are: 19.00 and 18.92.\n",
    "\n",
    "The average of these four results is:\n",
    "\n",
    "$$\n",
    "\\frac{19.00 +  18.92 + 18.99 + 18.97}{4} = 19.13\n",
    "$$\n",
    "\n",
    "Or\n",
    "\n",
    "On average, there's $10^{19.13}$ absorbing Na atoms per square meter of photosphere."
   ]
  },
  {
   "cell_type": "markdown",
   "id": "75bb70c5-91a7-4568-b9ae-ef8b63cefef0",
   "metadata": {},
   "source": [
    "# Question A1-P03-2 - 1 mark\n",
    "Assuming a wavelength of 5000 ̊A, how far could you see through the Earth’s atmosphere assuming it had the opacity and density of the solar photosphere?\n",
    "\n",
    "_Hint: See Example 9.2.2, in the textbook._"
   ]
  },
  {
   "cell_type": "markdown",
   "id": "932dd09e-ba05-4bb1-b5ff-ef4e4c01cadc",
   "metadata": {},
   "source": [
    "# Question A1-P03-2 - 1 mark\n",
    "Assuming a wavelength of 5000 ̊A, how far could you see through the Earth’s atmosphere assuming\n",
    "it had the opacity and density of the solar photosphere?\n",
    "\n",
    "_Hint: See Example 9.2.2, in the textbook._\n"
   ]
  },
  {
   "cell_type": "markdown",
   "id": "9d28c862-5288-45b1-af2b-5177470c9e09",
   "metadata": {},
   "source": [
    "**Answer**\n",
    "\n",
    "- wavelength $\\lambda$ is 500nm\n",
    "- approx density $\\rho$ of solar atmosphere is $2.1*10^{-4}$kg m-3\n",
    "- the opacity $\\kappa_{500}$ is $0.03m^2 kg^{-1}$\n",
    "\n",
    "Distance a photon may travel before being removed:\n",
    "\n",
    "$$\n",
    "L = \\frac{1}{\\kappa_{500} \\rho} = \\frac{1}{0.03m^2 kg^{-1} * 2.1*10^{-4}kg m^{-3}} = 159km\n",
    "$$\n",
    "\n",
    "For the solar atmosphere, we typically see to optical depth of $\\tau_{\\lambda} = 2/3$:\n",
    "\n",
    "$$\n",
    "L\\frac 23 = 106km\n",
    "$$"
   ]
  },
  {
   "cell_type": "code",
   "execution_count": 23,
   "id": "3a5b39b3-5c7b-4908-b3af-94b5631b20d2",
   "metadata": {},
   "outputs": [
    {
     "data": {
      "text/plain": [
       "(158.73015873015873, 105.82010582010582)"
      ]
     },
     "execution_count": 23,
     "metadata": {},
     "output_type": "execute_result"
    }
   ],
   "source": [
    "λ = 500.0E-9 # 500nm\n",
    "rho = 2.1E-4\n",
    "kappa_500 = 0.03\n",
    "L = 1 / (kappa_500 * rho)\n",
    "L / 1000, (L / 1000)*2/3 "
   ]
  },
  {
   "cell_type": "markdown",
   "id": "6b1ad009-c243-4a6b-8e57-21f131630b21",
   "metadata": {},
   "source": [
    "# Question A1-P03-3 - 1 mark\n",
    "A planetary nebula can sometime appear as a ring around a star. Assuming that the nebula is a hollow spherical shell of gas surrounding the star, explain how it can appear as a glowing ring. \n",
    "\n",
    "What can you say about the optical thickness of the nebula if this is the case?\n",
    "\n",
    "_Hint: Provide a diagram in your answer._"
   ]
  },
  {
   "cell_type": "markdown",
   "id": "8084c9b6-1615-44bf-9f7a-323839c745ae",
   "metadata": {},
   "source": [
    "# Question A1-P03-3 - 1 mark\n",
    "A planetary nebula can sometime appear as a ring around a star. Assuming that the nebula is a hollow spherical shell of gas surrounding the star, explain how it can appear as a glowing ring. \n",
    "\n",
    "What can you say about the optical thickness of the nebula if this is the case?\n",
    "\n",
    "_Hint: Provide a diagram in your answer._"
   ]
  },
  {
   "cell_type": "markdown",
   "id": "ee79e4ea-7299-4634-9dc8-6db27643275e",
   "metadata": {
    "tags": []
   },
   "source": [
    "**Answer**\n",
    "\n",
    "If we look at the center of a spherical planetary nebula we see the least amount of light because of the shallow path taken through the radiative shell (Path A in below Figure).\n",
    "\n",
    "Inversly, if we look at the edges of a spherical planetary nebula we see the greatest amount of light because of the deeper path taken through the radiative shell (Path B in below Figure).\n",
    "\n",
    "\n",
    "\n",
    "This suggests that spherical planetary nebula are optically _thin_ (if they were optically thick, they would appear more like a glowing disk)."
   ]
  },
  {
   "cell_type": "markdown",
   "id": "263e9024-44c0-46c0-ad8f-3e722088f9a3",
   "metadata": {},
   "source": [
    "![Spectra](../figures/glowing-ring.png)\n",
    "**Figure:** observing the center and edges of a spherical planetary nebula\n",
    "<!-- ![Spectra](/Users/wil9cr/git/uni-astro-notebooks/notebooks/figures/glowing-ring.png) -->"
   ]
  },
  {
   "cell_type": "markdown",
   "id": "66658775-c087-47c9-94d6-ae52efb9f8d0",
   "metadata": {},
   "source": [
    "# Question A1-P04-1 - 1 mark\n",
    "The Q value of a reaction is the amount of energy released (or absorbed) during the reaction. Calculate the Q value for each step in the first branch of the **CNO cycle** given below. Express your answers in MeV.\n",
    "\n",
    "_Hint: The atomic mass of Hydrogen and Helium are given in the hints for A1-P04-3. The atomic mass of others are: Carbon-12 = 12.0000, Carbon-13 = 13.0034, Nitrogen-13 = 13.0057, Nitrogen-14 = 14.0031, Nitrogen-15 = 15.0001, and Oxygen-15 = 15.0031._\n",
    "\n",
    "Atomic mass of Hydrogen: 1.0079u, Helium: 4.0026u\n",
    "\n",
    "\n",
    "## Answer\n",
    "\n",
    "Subtract products from reactants.\n",
    "\n",
    "Convert atomic mass units to MeV, $mev = 931.5$\n",
    "\n",
    "#### Stage 1\n",
    "\n",
    "$$\n",
    "Q = ( (12.0000u + 1.0079u) - (13.0057u) ) * mev = 2.05MeV\n",
    "$$\n",
    "\n",
    "Photon mass/energy ignored.\n",
    "\n",
    "#### Stage 2\n",
    "\n",
    "Let positron and neutrino mass (The KATRIN Collaboration, 2022) be: $0.511$ MeV, and $7.0*10^{-7}$ MeV respectively.\n",
    "\n",
    "$$\n",
    "Q = ( (13.0057u) - (13.0034u + \\frac{0.511MeV + 7.0*10^{-7}MeV}{mev} ) ) * mev = 1.63MeV\n",
    "$$\n",
    "\n",
    "Or, ignoring leptons (wasn't clear to me whether to include them):\n",
    "\n",
    "$$\n",
    "Q = ( 13.0057u - 13.0034u ) * mev = 2.14MeV\n",
    "$$\n",
    "\n",
    "#### Stage 3\n",
    "\n",
    "$$\n",
    "Q = ( (13.0034u + 1.0079u) - (14.0031u) ) * mev = 7.64MeV\n",
    "$$\n",
    "\n",
    "Photon mass/energy ignored.\n",
    "\n",
    "\n",
    "#### Stage 4\n",
    "\n",
    "$$\n",
    "Q = ( (14.0031u + 1.0079u) - (15.0031u) ) * mev = 7.36MeV\n",
    "$$\n",
    "\n",
    "Photon mass/energy ignored.\n",
    "\n",
    "\n",
    "#### Stage 5\n",
    "\n",
    "Let positron and neutrino mass (The KATRIN Collaboration, 2022) be: $0.511$ MeV, and $7.0*10^{-7}$ MeV respectively.\n",
    "\n",
    "$$\n",
    "Q = ( (15.0031u) - (15.0001u + \\frac{0.511MeV + 7.0*10^{-7}MeV}{mev} ) ) * mev = 2.28MeV\n",
    "$$\n",
    "\n",
    "Or, ignoring leptons (wasn't clear to me whether to include them):\n",
    "\n",
    "$$\n",
    "Q = ( 15.0031u - 15.0001u ) * mev = 2.79MeV\n",
    "$$\n",
    "\n",
    "#### Stage 6\n",
    "\n",
    "$$\n",
    "Q = ( (15.0001u + 1.0079u) - (12.0000u + 4.0026u) ) * mev = 5.03MeV\n",
    "$$\n",
    "\n",
    "Photon mass/energy ignored."
   ]
  },
  {
   "cell_type": "code",
   "execution_count": 1,
   "id": "c657e770-d3e7-43d0-bec3-862272e7cfad",
   "metadata": {},
   "outputs": [
    {
     "data": {
      "text/plain": [
       "(2.049300000000585,\n",
       " 1.6314493000008952,\n",
       " 7.638299999998708,\n",
       " 7.35885000000053,\n",
       " 2.2834992999996757,\n",
       " 5.030099999999948)"
      ]
     },
     "execution_count": 1,
     "metadata": {},
     "output_type": "execute_result"
    }
   ],
   "source": [
    "# AMU to MeV\n",
    "mev = 931.5\n",
    "\n",
    "# provided in amu\n",
    "H = 1.0079 * mev\n",
    "He = 4.0026 * mev\n",
    "C_12 = 12.0000 * mev\n",
    "C_13 = 13.0034 * mev \n",
    "N_13 = 13.0057 * mev \n",
    "N_14 = 14.0031 * mev\n",
    "N_15 = 15.0001 * mev\n",
    "O_15 = 15.0031 * mev\n",
    "\n",
    "# in MeV\n",
    "electron = 0.511\n",
    "neutrino = 7.0E-7\n",
    "\n",
    "s1 = (C_12 + H) - (N_13)\n",
    "s2 = (N_13) - (C_13 + electron + neutrino)\n",
    "s3 = (C_13 + H) - (N_14)\n",
    "s4 = (N_14 + H) - (O_15)\n",
    "s5 = (O_15) - (N_15 + electron + neutrino)\n",
    "s6 = (N_15 + H) - (C_12 + He)\n",
    "s1,s2,s3,s4,s5,s6"
   ]
  },
  {
   "cell_type": "markdown",
   "id": "ba0841a0-b92f-494c-ae66-4440a4c05684",
   "metadata": {},
   "source": [
    "# Question A1-P04-2 - 1 mark\n",
    "Neon burning is a short-lived phase in a massive star’s life (M > 8M⊙) occurring after Carbon burning. \n",
    "Two Neon burning steps are given below. \n",
    "\n",
    "Calculate the energy released or absorbed by each reaction in MeV. Are the reactions exothermic or endothermic?\n",
    "\n",
    "_Hint: The atomic mass of Helium is given in the hints for A1-P04-3. The atomic mass of others are: Oxygen-16 = 15.9949, Neon-20 = 19.9924 and Magnesium- 24 = 23.9850._\n",
    "\n",
    "\n",
    "**Answer**\n",
    "\n",
    "Subtract products from reactants.\n",
    "\n",
    "Convert atomic mass units to MeV, $mev = 931.5$\n",
    "\n",
    "#### Reaction 1\n",
    "\n",
    "$$\n",
    "Q = ( (19.9924u) - (15.9949u + 4.0026u) ) * mev = -4.75MeV\n",
    "$$\n",
    "\n",
    "This reaction produces a negative Q-value, it is endothermic.\n",
    "\n",
    "#### Reaction 2\n",
    "\n",
    "$$\n",
    "Q = ( (19.9924u + 4.0026u) - (23.9850u) ) * mev = 9.32MeV\n",
    "$$\n",
    "\n",
    "This reaction produces a positive Q-value, it is exothermic.\n",
    "\n",
    "Photon mass/energy ignored.\n"
   ]
  },
  {
   "cell_type": "code",
   "execution_count": 27,
   "id": "7692eb85-8675-4d56-8aac-1029435abc46",
   "metadata": {},
   "outputs": [
    {
     "data": {
      "text/plain": [
       "(-4.7506499999981315, 9.315000000002328)"
      ]
     },
     "execution_count": 27,
     "metadata": {},
     "output_type": "execute_result"
    }
   ],
   "source": [
    "# AMU to MeV\n",
    "mev = 931.5\n",
    "\n",
    "# provided in amu\n",
    "He = 4.0026 * mev\n",
    "O_16 = 15.9949 * mev\n",
    "Ne_20 = 19.9924 * mev\n",
    "Mg_24 = 23.9850 * mev\n",
    "\n",
    "# reaction 1\n",
    "r1 = (Ne_20) - (O_16 + He)\n",
    "\n",
    "# reaction 2\n",
    "r2 = (Ne_20 + He) - (Mg_24)\n",
    "\n",
    "r1,r2"
   ]
  },
  {
   "cell_type": "markdown",
   "id": "461cef93-d185-42b6-b6a6-d48cd28b700b",
   "metadata": {},
   "source": [
    "# Question A1-P04-3 - 1 mark\n",
    "\n",
    "In the Sun the first proton-proton chain (PPI) converts four Hydrogen atoms into a helium atom. \n",
    "Given that the mass of a helium atom is less than that of four hydrogen atoms, use Einstein’s famous equation (E = mc2) to estimate the Sun’s main sequence lifetime.\n",
    "\n",
    "\n",
    "_Hint: Assume that the the fusion only occurs in the Sun’s core which is 10% of its current mass and that both stay the same during its main-sequence life. Also assume that the solar luminosity stays the same during the Sun’s main-sequence lifetime. Use the atomic mass of Hydrogen to be 1.0079u and Helium to be 4.0026u. Assume the core is initially completely comprised of Hydrogen._\n",
    "\n",
    "**Answer**\n",
    "\n",
    "Calculate percent of mass for energy:\n",
    "\n",
    "$$\n",
    "E_{percent} = \\frac{4H}{He} - 1 = 0.007 = 0.7%\n",
    "$$\n",
    "\n",
    "Using $E = mc^2$, where mass is multiplied by 10% (size of core), and 0.7% (nuclear energy available):\n",
    "\n",
    "$$\n",
    "E_{nuclear} = 0.1 * 0.007 * M_{\\odot} c^2 = 1.3 * 10^{44}J\n",
    "$$\n",
    "\n",
    "Now with contant luminosity for Sun's main sequence lifetime, we get:\n",
    "\n",
    "$$\n",
    "\\frac{E_{nuclear}}{L_{\\odot}} = 3.37 * 10^{17} seconds = 10^{10} years\n",
    "$$"
   ]
  },
  {
   "cell_type": "code",
   "execution_count": 29,
   "id": "dd3ae9b6-ab8e-4709-9afe-f419bd4babd1",
   "metadata": {},
   "outputs": [
    {
     "data": {
      "text/plain": [
       "0.00724529056113532"
      ]
     },
     "execution_count": 29,
     "metadata": {},
     "output_type": "execute_result"
    }
   ],
   "source": [
    "H = 1.0079\n",
    "He = 4.0026\n",
    "E_percent = ((4*H) / He) - 1\n",
    "E_percent"
   ]
  },
  {
   "cell_type": "code",
   "execution_count": 32,
   "id": "2e59ed9f-8b06-4076-b1e2-5724538056cb",
   "metadata": {},
   "outputs": [
    {
     "data": {
      "text/plain": [
       "1.2952506834242024e+44"
      ]
     },
     "execution_count": 32,
     "metadata": {},
     "output_type": "execute_result"
    }
   ],
   "source": [
    "E_nuclear = 0.1 * E_percent * M_sun * c**2\n",
    "E_nuclear"
   ]
  },
  {
   "cell_type": "code",
   "execution_count": 33,
   "id": "bbcbea01-882b-43b7-8ad6-7dc5071d91af",
   "metadata": {},
   "outputs": [
    {
     "data": {
      "text/plain": [
       "(3.373927281646789e+17, 10691330397.897144)"
      ]
     },
     "execution_count": 33,
     "metadata": {},
     "output_type": "execute_result"
    }
   ],
   "source": [
    "t_sec = E_nuclear / L_sun\n",
    "t_yr = t_sec / 60 / 60 / 24 / 365.25\n",
    "\n",
    "t_sec, t_yr"
   ]
  },
  {
   "cell_type": "markdown",
   "id": "719d459e-75f9-4649-93ea-dc43020cc0e9",
   "metadata": {},
   "source": [
    "# Question A1-P05-1 - 1 mark\n",
    "\n",
    "You are trying to observe through the solar photosphere with using two different wavelengths. \n",
    "\n",
    "The opacity at one wavelength is `0.022 m2 kg−1` and the other is `0.028 m2 kg−1`. \n",
    "\n",
    "Calculate the `depth` into the photosphere where the optical depth equals two-thirds at each wavelength. \n",
    "\n",
    "At what `wavelength` would you see further into the photosphere? How much further?\n",
    "\n",
    "\n",
    "_Hint: Assume that the temperature and density of the photosphere are 5,777 K and 2.2 × 10−4 kg m−3, respectively. Assume that κλ and ρ are constant over the volume you are looking at._\n",
    "\n",
    "**Answer**\n",
    "\n",
    "$\\kappa_{\\lambda,1} = 0.022 m^2 kg^{-1}$\n",
    "\n",
    "$\\kappa_{\\lambda,2} = 0.028 m^2 kg^{-1}$\n",
    "\n",
    "$T = 5777K$\n",
    "\n",
    "$\\rho = 10*10^{-4}kg m^{-3}$\n",
    "\n",
    "Mean free paths:\n",
    "\n",
    "$$L_1 = \\frac{1}{\\kappa_{\\lambda, 1}\\rho} = \\frac{1}{0.022 m^2 kg^{-1} * 10*10^{-4}kg m^{-3}} = 2.06 * 10^5 m$$\n",
    "\n",
    "$$L_2 = \\frac{1}{\\kappa_{\\lambda, 2}\\rho} = \\frac{1}{0.028 m^2 kg^{-1} * 10*10^{-4}kg m^{-3}} = 1.62 * 10^5 m$$\n",
    "\n",
    "\n",
    "Optical depth at two-thirds ($\\tau_{2/3}$):\n",
    "\n",
    "$$\\tau_{2/3, 1} = 2.06 * 10^5 m * \\frac{2}{3} = 1.37*10^5m$$\n",
    "\n",
    "$$\\tau_{2/3, 2} = 1.62 * 10^5 m * \\frac{2}{3} = 1.08*10^5m$$\n",
    "\n",
    "\n",
    "You can see further at the wavelength where $\\kappa_{\\lambda,1} = 0.022 m^2 kg^{-1}$, by approx:\n",
    "\n",
    "$$1.37*10^5m - 1.08*10^5m = 2.95*10^4m$$"
   ]
  },
  {
   "cell_type": "code",
   "execution_count": 34,
   "id": "c0ae63a4-8396-4ad1-9d74-60f825fc3613",
   "metadata": {},
   "outputs": [
    {
     "data": {
      "text/plain": [
       "(206611.57024793388, 162337.66233766233)"
      ]
     },
     "execution_count": 34,
     "metadata": {},
     "output_type": "execute_result"
    }
   ],
   "source": [
    "k_1 = 0.022\n",
    "k_2 = 0.028\n",
    "T = 5777\n",
    "rho = 2.2E-4\n",
    "\n",
    "# MFP's\n",
    "L_1 = 1 / (k_1 * rho)\n",
    "L_2 = 1 / (k_2 * rho)\n",
    "\n",
    "L_1, L_2"
   ]
  },
  {
   "cell_type": "code",
   "execution_count": 35,
   "id": "f4f8d9ed-f673-49b1-ac4c-ecc0b0bd447c",
   "metadata": {},
   "outputs": [
    {
     "data": {
      "text/plain": [
       "(137741.0468319559, 108225.10822510821, 29515.93860684769)"
      ]
     },
     "execution_count": 35,
     "metadata": {},
     "output_type": "execute_result"
    }
   ],
   "source": [
    "# optical depth at 2/3\n",
    "tau_2_3_1 = L_1 * (2/3)\n",
    "tau_2_3_2 = L_2 * (2/3)\n",
    "\n",
    "tau_2_3_1, tau_2_3_2, (tau_2_3_1 - tau_2_3_2)"
   ]
  },
  {
   "cell_type": "markdown",
   "id": "1423a567-4d38-49e5-a016-81f1af72a8a9",
   "metadata": {},
   "source": [
    "# Question A1-P05-2 - 1 mark\n",
    "One of the largest solar flares ever to erupt from the Sun was the Carrington super flare in 1859. If this flare came from a region with a magnetic field strength of 0.02 T and released $10^{27}$ J in one hour.\n",
    "\n",
    "_Hint: Assume that the magnetic energy density is constant throughout the volume of the flare. A large solar flare can reach a length of 100,000 km._\n",
    "\n",
    "**a) What was the magnetic energy density in that region before the eruption began?**\n",
    "\n",
    "$E = 10^{27} J$\n",
    "\n",
    "$B = 0.02T$\n",
    "\n",
    "$\\mu_0 = 4\\pi * 10^{-7} N A^{-2}$\n",
    "\n",
    "$$\n",
    "u_m = \\frac{B^2}{2\\mu_0} = \\frac{0.02T^2}{2* 4\\pi * 10^{-7} N A^{-2}} = 15.92 J m^3\n",
    "$$"
   ]
  },
  {
   "cell_type": "code",
   "execution_count": 36,
   "id": "8034b5b4-07e4-4391-b75d-01d498999749",
   "metadata": {},
   "outputs": [
    {
     "data": {
      "text/plain": [
       "15.915494309189537"
      ]
     },
     "execution_count": 36,
     "metadata": {},
     "output_type": "execute_result"
    }
   ],
   "source": [
    "E = 10**27\n",
    "B = 0.02\n",
    "permeability = 4 * math.pi * 10.0E-7\n",
    "\n",
    "u_m = (B**2) / (2*permeability)\n",
    "u_m"
   ]
  },
  {
   "cell_type": "markdown",
   "id": "cf4435a7-8391-4d0d-b307-05a081d47434",
   "metadata": {},
   "source": [
    "**b) What minimum volume would be required to supply the magnetic energy necessary to fuel the flare?**\n",
    "\n",
    "We know: \n",
    "- Energy of flare ($E$)\n",
    "- Energy density of flare ($u_m$)\n",
    "\n",
    "So:\n",
    "\n",
    "$$\n",
    "v = \\frac{E}{u_m} = \\frac{10^{27}J}{1.32*10^{12} J m^3} = 6.28*10^{25}m^3\n",
    "$$"
   ]
  },
  {
   "cell_type": "code",
   "execution_count": 37,
   "id": "0108999d-90b4-47f1-8e6d-8dfb38a23cf9",
   "metadata": {},
   "outputs": [
    {
     "data": {
      "text/plain": [
       "6.283185307179585e+25"
      ]
     },
     "execution_count": 37,
     "metadata": {},
     "output_type": "execute_result"
    }
   ],
   "source": [
    "v = E / u_m\n",
    "v"
   ]
  },
  {
   "cell_type": "markdown",
   "id": "a7f6698b-a09d-463c-a35b-efbb473fb0e4",
   "metadata": {},
   "source": [
    "**c) Assuming for simplicity that the volume involved in supplying the energy for the flare eruption was a cube, compare the length of one side of the cube with the typical size of a large flare.**\n",
    "\n",
    "Length of side is cube root of volume:\n",
    "\n",
    "$$L = \\sqrt[3]{v} = \\sqrt[3]{7.53*10^{14}m^3} = 3.98 * 10^8m$$\n",
    "\n",
    "Or approx 400,000km!\n",
    "\n",
    "Large flares are said to extend up to 100,000km, so this flare would be around four times greater than a 'large' flare (this might also be considered conservative, as the cube approximation may be a poor representation if solar flares are more elongated in shape than a cube)."
   ]
  },
  {
   "cell_type": "code",
   "execution_count": 38,
   "id": "bca1eb4e-3567-4bed-85ba-f86116272184",
   "metadata": {},
   "outputs": [
    {
     "data": {
      "text/plain": [
       "397551402.0718981"
      ]
     },
     "execution_count": 38,
     "metadata": {},
     "output_type": "execute_result"
    }
   ],
   "source": [
    "L = v ** (1. / 3)\n",
    "L"
   ]
  },
  {
   "cell_type": "markdown",
   "id": "42b836f2-032f-41b9-8dd7-704f104b5146",
   "metadata": {},
   "source": [
    "# Question A1-P05-3 - 1 mark\n",
    "Describe in your own words (less than a page) the `main observational features` of the cyclic solar magnetic dynamo and briefly describe how the dynamo is thought to operate inside the Sun.\n",
    "\n",
    "_Hint: Feel free to use further information from other sources for this answer, but remember it must be in your own words, and reference where you got the information from._\n",
    "\n",
    "The main observational features which suggest the Sun has a cyclic, internal magnetic dynamo are:\n",
    "\n",
    "- The 11 year cycle of sunspots (number of sunspots increases and decreases over approx 11 year cycle)\n",
    "- The latitudes of sunspots changes with the 11 year cycle. At maxima, sunspots are located near the equator, while sunspots are located at higher latitudes towards the minima\n",
    "- The polarities of sunspots are also cyclic. The polarity of leading sunspots in one hemisphere is inverse to those in the opposing hemisphere, and these polarities 'flip' each cycle.\n",
    "- This 11 year cycle is half of the 22 year Hale cycle (REF NASA/Marshall Solar Physics n.d.), which corresponds to oscillations in the toroidal and poloidal solar magnetic fields (and susequent magnetic ropes)\n",
    "\n",
    "How does it work?\n",
    "\n",
    "It is not yet known _exactly_ how the solar dynamo works, however in principal - it is thought to be powered by the hydrodynamic processes of turbulant convective motion and differential rotation in the Sun's plasma."
   ]
  },
  {
   "cell_type": "markdown",
   "id": "72339145-788a-4d66-b1cb-4cb11b1050a6",
   "metadata": {},
   "source": [
    "# Question A1-P05-4 - 1 mark\n",
    "The magnetic field strength of sunspots is often given in Gauss. Given a large sunspot with a magnetic\n",
    "field strength of 3000 Gauss, what is the magnetic pressure in the centre of the umbra of the sunspot?\n",
    "\n",
    "**Answer**\n",
    "\n",
    "B = 0.3T\n",
    "\n",
    "$$\n",
    "P_m = \\frac{B^2}{2\\mu_0} = \\frac{0.03^2}{2* 4\\pi * 10^{-7} N A^{-2}} = 3.58*10^3 J m^3\n",
    "$$"
   ]
  },
  {
   "cell_type": "code",
   "execution_count": 39,
   "id": "793a33b2-ba91-4b25-ad0c-b36731382517",
   "metadata": {},
   "outputs": [
    {
     "data": {
      "text/plain": [
       "3580.986219567645"
      ]
     },
     "execution_count": 39,
     "metadata": {},
     "output_type": "execute_result"
    }
   ],
   "source": [
    "B = 0.3\n",
    "permeability = 4 * math.pi * 10.0E-7\n",
    "P_m = (B**2) / (2*permeability)\n",
    "P_m"
   ]
  },
  {
   "cell_type": "markdown",
   "id": "b67fab12-0b8f-4d1d-8729-04bea188fada",
   "metadata": {},
   "source": [
    "# Question A1-P06-1 - 1 mark\n",
    "If a spherical dust grain was orbiting the Sun at the outer edge of the Kuiper Belt, what would the\n",
    "temperature of this dust grain be?\n",
    "\n",
    "_Hint: Assume the Kuiper Belt extends from 30 to 50 AU and that the dust grain is a perfect blackbody in thermal equilibrium (i.e. the rate at which it absorbs energy from the Sun is the same as the rate it radiates energy). You will need to use formulas from Chapter 3 of the textbook to answer this question._\n",
    "\n",
    "$r = 50AU = 7.48 * 10^{12}m$\n",
    "\n",
    "Effective temperature of grain:\n",
    "\n",
    "$$\n",
    "T_e = (\\frac{L_{\\odot}}{4\\pi r^2 \\sigma})^{1/4} = (\\frac{3.839*10^{26}W}{4\\pi (7.48*10^{12}m)^2 * 5.670400*10^{-8} W m^{-2} K^{-4} })^{1/4} = 56K\n",
    "$$"
   ]
  },
  {
   "cell_type": "code",
   "execution_count": 40,
   "id": "eca1c49d-452b-4d36-b898-c0cd05e6891c",
   "metadata": {},
   "outputs": [
    {
     "data": {
      "text/plain": [
       "55.70546952526584"
      ]
     },
     "execution_count": 40,
     "metadata": {},
     "output_type": "execute_result"
    }
   ],
   "source": [
    "r = 7.48e+12\n",
    "T = ( L_sun / (4 * math.pi * (r**2) * sigma) ) ** (1/4)\n",
    "T"
   ]
  },
  {
   "cell_type": "markdown",
   "id": "43a4b2a3-a839-4701-8932-6c76526870dd",
   "metadata": {},
   "source": [
    "# Question A1-P06-2 - 2 marks\n",
    "The interstellar extinction towards the 30 Doradus nebula in the Large Magellanic Cloud (lying at a distance of `51.4 kpc`) was determined by Guido De Marchi et al. (2013) to be $R_B = 6.52$ (in the B band). \n",
    "\n",
    "Now the level of extinction ($A_B$) varies across the nebula, but given that: \n",
    "\n",
    "$$R_{\\lambda} = \\frac{A{\\lambda}} {E(B-V)}$$ \n",
    "\n",
    "and using an average `E(B-V)` value of the nebula of `0.38` calculate the following:\n",
    "\n",
    "_Hint: Assume that all the interstellar extinction in the direction of `30 Doradus` is caused by the nebula and that the depth of the nebula is negligible. A solar twin is a main-sequence solar mass star, so use the data for the Sun from Appendix G: Stellar Data, in the textbook, to answer this question._\n",
    "\n",
    "**a) The apparent blue magnitude of a solar twin if it was lying just in front of the nebula.**\n",
    "\n",
    "$R_B = 6.52$\n",
    "\n",
    "$E(B-V) = 0.38$\n",
    "\n",
    "$A_B = E(B-V) R_B = 2.47$\n",
    "\n",
    "$d = 51.4 kpc = 51400pc$\n",
    "\n",
    "$$\n",
    "m_{\\lambda} = M_{\\lambda} + 5log_{10}d - 5 + A_{\\lambda}\n",
    "$$\n",
    "\n",
    "\n",
    "We assume no extinction between observer and star while it is in _front_ of nebula, so:\n",
    "\n",
    "$A_B = 0$\n",
    "\n",
    "$$\n",
    "m_B = M_B + 5log_{10}d - 5 + A_B = 5.47 + 5log_{10}(51400pc) - 5 = 24.02\n",
    "$$\n",
    "\n",
    "Absolute blue magnitude of solar twin:\n",
    "\n",
    "$V = 4.82$\n",
    "\n",
    "$B - V = 0.65$\n",
    "\n",
    "$B = V + (B - V) = 4.82 + 0.65 = 5.47$\n"
   ]
  },
  {
   "cell_type": "code",
   "execution_count": 41,
   "id": "ffd6600d-63e0-43f6-9509-58bd61597543",
   "metadata": {},
   "outputs": [],
   "source": [
    "R_B = 6.52 \n",
    "E_BV = 0.38\n",
    "A_B = R_B * E_BV"
   ]
  },
  {
   "cell_type": "code",
   "execution_count": 42,
   "id": "91683c24-dc30-41c4-b250-5ba30ae8d21d",
   "metadata": {},
   "outputs": [
    {
     "data": {
      "text/plain": [
       "24.024815594976374"
      ]
     },
     "execution_count": 42,
     "metadata": {},
     "output_type": "execute_result"
    }
   ],
   "source": [
    "M_B = 5.47\n",
    "d = 51400\n",
    "m_B = M_B + 5 * math.log10(d) - 5\n",
    "m_B"
   ]
  },
  {
   "cell_type": "markdown",
   "id": "298ffb10-d73f-4be5-87a5-816ba1554d32",
   "metadata": {},
   "source": [
    "**b) The apparent blue magnitude of a solar twin lying just behind the nebula.**\n",
    "\n",
    "$A_B = 2.47$\n",
    "\n",
    "$M_B = 5.44$\n",
    "\n",
    "$$\n",
    "m_B = M_B + 5log_{10}d - 5 + A_B = 5.47 + 5log_{10}(51400pc) - 5 + 2.47 = 26.50\n",
    "$$"
   ]
  },
  {
   "cell_type": "code",
   "execution_count": 43,
   "id": "577d7866-9aaa-4abc-b871-2a3f546f033a",
   "metadata": {},
   "outputs": [
    {
     "data": {
      "text/plain": [
       "26.502415594976373"
      ]
     },
     "execution_count": 43,
     "metadata": {},
     "output_type": "execute_result"
    }
   ],
   "source": [
    "m_B = M_B + 5 * math.log10(d) - 5 + A_B\n",
    "m_B"
   ]
  },
  {
   "cell_type": "markdown",
   "id": "03903ce4-95ca-421f-83b5-3c767e1c02bf",
   "metadata": {},
   "source": [
    "**c) What distance to the star would we calculate if we ignored interstellar extinction?**\n",
    "\n",
    "Assuming we are talking about the star _behind_ the nebula.\n",
    "\n",
    "$A_{\\lambda} = 0$\n",
    "\n",
    "$m_B = 30.5$\n",
    "\n",
    "$M_B = 5.47$\n",
    "\n",
    "$$\n",
    "d = 10^{\\frac{(m_B - M_B + 5)}{5}} = 10^{\\frac{(26.50 - 5.47 + 5)}{5}} = 160.9kpc\n",
    "$$\n"
   ]
  },
  {
   "cell_type": "code",
   "execution_count": 44,
   "id": "5f84a3ae-4648-4733-aa49-a5357d093c9a",
   "metadata": {},
   "outputs": [
    {
     "data": {
      "text/plain": [
       "160872.98454250977"
      ]
     },
     "execution_count": 44,
     "metadata": {},
     "output_type": "execute_result"
    }
   ],
   "source": [
    "d = 10**( (m_B - M_B + 5) / 5 )\n",
    "d"
   ]
  },
  {
   "cell_type": "markdown",
   "id": "a2616f8b-899b-4129-a3a8-f20c439c5074",
   "metadata": {},
   "source": [
    "# Question A1-P06-3 - 1 mark\n",
    "If a massive O star has a mass loss rate of 5 × 10−7 M⊙ yr−1 through its stellar wind and given a wind velocity of 30 km s−1, if a planet lies 300 AU from the star, calculate the mass density of the wind at the planet.\n",
    "\n",
    "**Answer**\n",
    "\n",
    "$\\frac{M}{t} = \\frac{5 * 10^{-7}M_{\\odot}}{year} = \\frac{9.9455*10^{23}kg}{year} = 3.15*10^{16}kg/s^{-1}$\n",
    "\n",
    "$v = 3000m/s^{-1}$\n",
    "\n",
    "$r = 300AU = 4.488*10^{13}m$\n",
    "\n",
    "$$\n",
    "\\rho = \\frac{M}{4\\pi v r^2} = \\frac{3.15*10^{16}kg s^{-1}}{4\\pi * 3000m s^{-1} * (4.488*10^{13}m)^2} = 5.66 * 10^{-32}kg/m^3\n",
    "$$"
   ]
  },
  {
   "cell_type": "code",
   "execution_count": 45,
   "id": "6fb32ff5-0af9-4481-a912-347d658358a6",
   "metadata": {},
   "outputs": [
    {
     "data": {
      "text/plain": [
       "5.662805436660153e-32"
      ]
     },
     "execution_count": 45,
     "metadata": {},
     "output_type": "execute_result"
    }
   ],
   "source": [
    "M_s = (5.0E-7 * M_sun) / 365.25 / 24 / 60 / 60\n",
    "v = 3000\n",
    "r = 4.488E+13\n",
    "density = M / (4 * math.pi * v * (r**2))\n",
    "density"
   ]
  },
  {
   "cell_type": "markdown",
   "id": "01f87d8b-7da6-4625-8bd1-8552bff97449",
   "metadata": {},
   "source": [
    "# Question A1-P06-4 - 1 mark\n",
    "The CO molecule is rather common in giant molecular clouds, but astronomers usually use the isotopomers $^{13}CO$ and $C^{18}O$ to probe into the depths of these clouds. Explain why. \n",
    "\n",
    "_Hint: Think about optical depth._\n",
    "\n",
    "**Answer**\n",
    "\n",
    "Opacity or the ability to 'see' into GMC's is directly proportional to the mean free path ($L$), which in turn is directly related to column density ($n$):\n",
    "\n",
    "$$L = \\frac{1}{n\\sigma}$$\n",
    "\n",
    "(where $\\sigma$ is the collisonal cross-section).\n",
    "\n",
    "In dense or compact areas of GMC's, the column density ($n$) of CO (number of particles along line of sight) may become quite high, prohibitively increasing opacity (we can't see in!).\n",
    "\n",
    "Isotopomers such as $^{13}CO$ and $C^{18}O$ are less abundant (making them lower column density and less opaque), so allow us to see deeper into some of these  otherwise opaque areas. \n",
    "\n",
    "\n"
   ]
  },
  {
   "cell_type": "markdown",
   "id": "db1d535e-75c0-4a6e-a114-6d688ec4d79d",
   "metadata": {},
   "source": [
    "# References\n",
    "\n",
    "Carroll, B.W., and Ostlie, D.A., 2017. _An Introduction to Modern Astrophysics._ 2nd ed.\n",
    "Cambridge UK, Cambridge University Press.\n",
    "\n",
    "NASA/Marshall Solar Physics., n.d., _The Solar Dynamo_, viewed 20 August 2022 \\<https://solarscience.msfc.nasa.gov/dynamo.shtml>.\n",
    "\n",
    "The KATRIN Collaboration, 2022. _Direct neutrino-mass measurement with sub-electronvolt sensitivity_. Nat. Phys. 18, 160–166., viewed 23rd August 2022, \\<https://doi.org/10.1038/s41567-021-01463-1>."
   ]
  }
 ],
 "metadata": {
  "kernelspec": {
   "display_name": "Python 3 (ipykernel)",
   "language": "python",
   "name": "python3"
  },
  "language_info": {
   "codemirror_mode": {
    "name": "ipython",
    "version": 3
   },
   "file_extension": ".py",
   "mimetype": "text/x-python",
   "name": "python",
   "nbconvert_exporter": "python",
   "pygments_lexer": "ipython3",
   "version": "3.8.8"
  }
 },
 "nbformat": 4,
 "nbformat_minor": 5
}
