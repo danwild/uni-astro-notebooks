{
 "cells": [
  {
   "cell_type": "code",
   "execution_count": 1,
   "id": "a0526c4e-eb71-4dbb-b6fd-6016d1881d7a",
   "metadata": {},
   "outputs": [],
   "source": [
    "import math"
   ]
  },
  {
   "cell_type": "markdown",
   "id": "1afe9b33-c68c-493e-bcc4-daaf00f5ed73",
   "metadata": {
    "tags": []
   },
   "source": [
    "# Assignment 1\n",
    "\n",
    "PHY8004 - Assignment 1 Part 1 - Questions \n",
    "\n",
    "# Question A1-P01-1 - 2 marks \n",
    "\n",
    "Using spectroscopy the velocities of an eclipsing binary star system were measured. The velocity of the secondary of the system was found to vary from -24.0 km/s up to +108.0 km/s, while the velocity of the primary varied from +9.0 km/s to +75.0 km/s. The period of the system was found to be 30 days. Assuming the observed velocity curves are sinusoidal, and that the inclination angle of the system is 90◦, find:\n",
    "\n",
    "$$P=30days=>30*24*60*60=2592000s$$\n",
    "$$i=90º$$\n",
    "\n",
    "## a) the radial velocity of the centre of mass of the system\n",
    "\n",
    "Find $v_{cm}$\n",
    "\n",
    "Sinusoidal velocity curves imply circular orbit: $e \\approx 0$, and a circular orbit implies the velocity of each star should be constant.\n",
    "\n",
    "_Note:_ negative radial velocity => travelling towards observer\n",
    "\n",
    "**Primary** (larger object => lower orbital velocity): \n",
    "\n",
    "$$v_{1,min} = +9km s, v_{1,max} = +75km s$$\n",
    "\n",
    "$$v_{1r} = \\frac{9km s + 75km s}{2} = 42km s$$"
   ]
  },
  {
   "cell_type": "code",
   "execution_count": 2,
   "id": "f75246e1-db28-457b-afc0-23b9a7e4b499",
   "metadata": {},
   "outputs": [
    {
     "data": {
      "text/plain": [
       "42.0"
      ]
     },
     "execution_count": 2,
     "metadata": {},
     "output_type": "execute_result"
    }
   ],
   "source": [
    "v_1_min = 9\n",
    "v_1_max = 75\n",
    "v_1r = (v_1_min+v_1_max)/2\n",
    "v_1r"
   ]
  },
  {
   "cell_type": "markdown",
   "id": "d3ba0ced-7e17-412b-a71e-5ca5955379ee",
   "metadata": {},
   "source": [
    "**Secondary** (smaller object => greater orbital velocity): \n",
    "\n",
    "$$v_{2,min} = -24km s^{-1}, v_{2,max} = +108km s^{-1}$$\n",
    "\n",
    "$$v_{2r} = \\frac{abs(-24km s^{-1}) + 108km s^{-1}}{2} = 66km s^{-1}$$"
   ]
  },
  {
   "cell_type": "code",
   "execution_count": 3,
   "id": "3f34e9f1-08d5-4402-9c61-e72bcadb4b2f",
   "metadata": {},
   "outputs": [
    {
     "data": {
      "text/plain": [
       "66.0"
      ]
     },
     "execution_count": 3,
     "metadata": {},
     "output_type": "execute_result"
    }
   ],
   "source": [
    "v_2_min = -24\n",
    "v_2_max = 108\n",
    "v_2r = (abs(v_2_min)+v_2_max)/2\n",
    "v_2r"
   ]
  },
  {
   "cell_type": "markdown",
   "id": "aab8b55a-5ae3-4409-b5f8-edb3a0fb009c",
   "metadata": {},
   "source": [
    "**Mass Ratio**\n",
    "\n",
    "$$\\frac{m_1}{m_2} = \\frac{v_{2r}}{v_{1r}} = \\frac{66km s}{42km s} = 1.57$$"
   ]
  },
  {
   "cell_type": "code",
   "execution_count": 4,
   "id": "e640ac8f-652d-4555-9fc7-bed1c724df37",
   "metadata": {},
   "outputs": [
    {
     "data": {
      "text/plain": [
       "1.5714285714285714"
      ]
     },
     "execution_count": 4,
     "metadata": {},
     "output_type": "execute_result"
    }
   ],
   "source": [
    "v_2r/v_1r"
   ]
  },
  {
   "cell_type": "code",
   "execution_count": 5,
   "id": "1bdca172-c079-40bd-baea-69d13a097926",
   "metadata": {},
   "outputs": [
    {
     "data": {
      "text/plain": [
       "-0.6133333333333333"
      ]
     },
     "execution_count": 5,
     "metadata": {},
     "output_type": "execute_result"
    }
   ],
   "source": [
    "((v_2_max/v_1_max) + (v_2_min/v_1_min))/ 2"
   ]
  },
  {
   "cell_type": "markdown",
   "id": "7ec496f3-c992-421f-950c-256b90e8707f",
   "metadata": {},
   "source": [
    "Combined velocity\n",
    "\n",
    "$$\n",
    "v_{r,cm} = \\frac{(m_1 v_1) + (m_2 v_2)}{m_1 + m_2} = \\frac{(1 * 42) + ((66/42) * 66)}{1 + (66/42)}\n",
    "$$"
   ]
  },
  {
   "cell_type": "code",
   "execution_count": null,
   "id": "d51d95df-bebc-4120-b800-352ee951c2e6",
   "metadata": {},
   "outputs": [],
   "source": []
  },
  {
   "cell_type": "markdown",
   "id": "309966f9-5ccf-40fd-984d-787089514250",
   "metadata": {},
   "source": [
    "## b) the individual masses of the two stars in the system (in terms of solar masses)\n",
    "\n",
    "Combined mass:\n",
    "$$\n",
    "m_1 + m_2 = \\frac{P}{2\\pi G} \\frac{(v_{1r} + v_{2r})^3}{sin^3 i}\n",
    "$$"
   ]
  },
  {
   "cell_type": "code",
   "execution_count": null,
   "id": "7eb726fc-ec9e-4673-92c3-0d75faa38159",
   "metadata": {},
   "outputs": [],
   "source": []
  },
  {
   "cell_type": "markdown",
   "id": "182969c8-aa28-43ae-928e-b722e823eb0e",
   "metadata": {},
   "source": [
    "Semimajor axes:\n",
    "\n",
    "$$\n",
    "a = \\frac{vP}{2\\pi}\n",
    "$$"
   ]
  },
  {
   "cell_type": "code",
   "execution_count": null,
   "id": "9784c6af-2128-4701-9f70-9d12793623d0",
   "metadata": {},
   "outputs": [],
   "source": []
  },
  {
   "cell_type": "markdown",
   "id": "574cfb5c-ab0d-4df5-985c-fefdb52989b0",
   "metadata": {},
   "source": [
    "Individual masses:\n",
    "\n",
    "$$\n",
    "m_1 = \\frac{m_1+m_2}{1 + (a_1/a_1)}\n",
    "$$"
   ]
  },
  {
   "cell_type": "code",
   "execution_count": null,
   "id": "eb5fa033-9139-4ab6-adfb-546e7f84f0b8",
   "metadata": {},
   "outputs": [],
   "source": []
  },
  {
   "cell_type": "code",
   "execution_count": null,
   "id": "ab548e4a-53b2-4bd9-bfe0-59ba41682608",
   "metadata": {},
   "outputs": [],
   "source": []
  },
  {
   "cell_type": "markdown",
   "id": "d691390e-8005-46ef-9fba-ae5a4d929eaf",
   "metadata": {
    "tags": []
   },
   "source": [
    "# Question A1-P01-2 - 2 marks\n",
    "\n",
    "For the eclipsing binary system in Question A1-P01-1 a photometric lightcurve showed that $t_a$ occurred at a modified Julian date of `57905.1728`, $t_b$ at `57905.3358`, $t_c$ at `57905.4648` and $t_d$ at `57905.6278`. The maximum apparent bolometric magnitude of the system was found to be `6.80`, while the magnitude at the primary eclipse was found to be `10.05` and at the secondary eclipse `7.11`. Given the data in Question A1-P01-1, find:\n",
    "\n",
    "_Hint: Look at Examples 7.3.1 and 7.3.2, in the textbook. You will need to use an equation from Chapter 3 of the textbook._\n",
    "\n",
    "## a) the individual radii of the stars (in solar radii)\n",
    "\n",
    "Radius of smaller star:\n",
    "\n",
    "$$\n",
    "r = \\frac{v}{2}(t_b - t_a)\n",
    "$$\n",
    "\n",
    "Radius of larger star:\n",
    "\n",
    "$$\n",
    "r = \\frac{v}{2}(t_c - t_a)\n",
    "$$\n",
    "\n",
    "where $v$ is the relative velocity of the two stars, $v = v1 + v2$\n",
    "\n",
    "Caroll and Ostlie, p191"
   ]
  },
  {
   "cell_type": "code",
   "execution_count": 6,
   "id": "a9ab9df8-95cc-4c5d-a452-a0d33d6ea49d",
   "metadata": {},
   "outputs": [],
   "source": [
    "t_a = 57905.1728\n",
    "t_b = 57905.3358\n",
    "t_c = 57905.4648\n",
    "t_d = 57905.6278\n",
    "\n",
    "m_bol_0 = 6.80\n",
    "m_bol_p = 10.05\n",
    "m_bol_s = 7.11"
   ]
  },
  {
   "cell_type": "markdown",
   "id": "a02a2416-ca88-40c5-aaa0-efa1574e902e",
   "metadata": {
    "tags": []
   },
   "source": [
    "## b) the ratio of their effective temperatures\n",
    "\n",
    "$$\n",
    "\\frac{B_p}{B_0} = 100^(m_{bol,0} - m_{bol,p})/5 = 0.050\n",
    "$$\n",
    "\n",
    "$$\n",
    "\\frac{B_s}{B_0} = 100^(m_{bol,0} - m_{bol,s})/5 = 0.75\n",
    "$$\n",
    "\n",
    "$$\n",
    "\\frac{F_s}{F_p} = \\frac{1 - B_p/B_0}{1 - B_s/B_0} = 3.82\n",
    "$$\n",
    "\n",
    "$$\n",
    "\\frac{T_s}{T_p} = (\\frac{F_s}{F_p})^(1/4) = 1.40\n",
    "$$"
   ]
  },
  {
   "cell_type": "code",
   "execution_count": null,
   "id": "717425d5-b915-4ab5-b7b8-fb6b7823a70e",
   "metadata": {},
   "outputs": [],
   "source": [
    "B_p_B_0 = 100**((m_bol_0 - m_bol_p)/5)\n",
    "B_s_B_0 = 100**((m_bol_0 - m_bol_s)/5)\n",
    "F_s_F_p = (1 - B_p_B_0) / (1 - B_s_B_0)\n",
    "T_s_T_p = F_s_F_p**(1/4)\n",
    "\n",
    "print(' B_p/B_0: %s\\n B_s/B_0: %s\\n F_s/F_p: %s\\n T_s/T_p: %s' % (B_p_B_0, B_s_B_0, F_s_F_p, T_s_T_p))"
   ]
  },
  {
   "cell_type": "markdown",
   "id": "5023e85e-f55b-4dc9-ac2f-bd26fcad2feb",
   "metadata": {
    "tags": []
   },
   "source": [
    "# Question A1-P01-3 - 1 mark\n",
    "Why does the radial velocity technique for detecting exoplanets around other stars favour the detection of “Hot Jupiters”? \n",
    "\n",
    "What is your definition of a “Hot Jupiter”?\n",
    "\n",
    "**Answer:**\n",
    "\n",
    "The term \"Hot Jupiter\" is used to describe an exoplanet that is physically similar to Jupiter (i.e. a large, gassy planet or \"gas giant\"), which orbits close to its host star, such that it has a hot atmosphere and an orbital period $P$ of around 10 days or less.\n",
    "\n",
    "When attempting to detect exoplanets, the radial velocity technique focusses on indentifying changes in the velocity of the host star. The presence of a gas giant within close proximity (i.e. a Hot Jupiter) has a relatively strong gravitational pull which in turn creates a relatively strong variation in the stars radial velocity. \n",
    "\n",
    "Strong variations in a stars radial velocity means exoplanets are easier to detect, so this method tends to favor the detection of Hot Jupiters."
   ]
  },
  {
   "cell_type": "markdown",
   "id": "e3a847c5-b8a7-466b-b09f-0d0122ecb117",
   "metadata": {},
   "source": [
    "# Question A1-P02-1 - 1 mark\n",
    "Rigel Kentaurus (alpha Cen) is one of the “pointers” in the southern sky. \n",
    "\n",
    "It is actually a multiple star system. The primary star in the system has an apparent visual magnitude of `-0.01`. Use the H-R diagram in Figure 8.16 (Page 227) of the textbook to determine the distance to this star.\n",
    "\n",
    "_Hint: You will need to use a formula from Chapter 3 of the textbook to solve this problem._\n",
    "\n",
    "**Answer:**\n",
    "\n",
    "Apparent magnitude $m$ is `-0.01`\n",
    "\n",
    "Absolute magnitude $M$ on Figure 8.16 is appox. `4.3`\n",
    "\n",
    "From distance modulus:\n",
    "\n",
    "$$\n",
    "d = 10^{\\frac{(m_v - M_v + 5)}{5}} = 10^{\\frac{((-0.01) - 4.3 + 5)}{5}} = 1.37pc\n",
    "$$\n"
   ]
  },
  {
   "cell_type": "code",
   "execution_count": null,
   "id": "cf6b6382-304c-43e2-ab52-58146846dc2a",
   "metadata": {},
   "outputs": [],
   "source": [
    "m = -0.01\n",
    "M = 4.3\n",
    "d = 10**((m - M + 5) / 5)\n",
    "d"
   ]
  },
  {
   "cell_type": "markdown",
   "id": "dc352f4f-1b2b-4af0-9d83-6d5f64fd5970",
   "metadata": {},
   "source": [
    "# Question A1-P02-2 - 2 marks\n",
    "\n",
    "If we have a gas of `neutral hydrogen` atoms, at what temperature of the gas will the number of atoms in the first excited state be `50%` of the number of atoms in the ground state? \n",
    "\n",
    "At what gas temperature will the number of atoms in the first excited state be only `5%` of the number of atoms in the ground state?\n",
    "\n",
    "\n",
    "_Hint:You will need to use the Boltzmann equation and Example 8.1.2 in the textbook, may also give some hints along with the values for E1 and E2. Note: $gn = 2(n)^2$_\n",
    "\n",
    "\n",
    "**Answer:**\n",
    "\n",
    "Boltzmann equation:\n",
    "\n",
    "$$\n",
    "\\frac{N_2}{N_1} = \\frac{g_2 e^{-E_2/kT}}{g_1 e^{-E_1/kT}} = \\frac{g_2}{g_1} e^{-(E_2-E_1)/kT}\n",
    "$$\n",
    "\n",
    "Number of degenerate states, hydrogen:\n",
    "\n",
    "$$g_n = 2(n)^2$$\n",
    "\n",
    "Find $T$, where $\\frac{N_2}{N_1} = 0.5$ and $\\frac{N_2}{N_1} = 0.05$"
   ]
  },
  {
   "cell_type": "code",
   "execution_count": null,
   "id": "c9e2e4a6-b4bf-45c0-bcc3-31512977ad9f",
   "metadata": {},
   "outputs": [],
   "source": [
    "k = 8.617343E-5\n",
    "\n",
    "E_1 = -13.6 \n",
    "E_2 = -3.40\n",
    "g_1 = 2*(1**2)\n",
    "g_2 = 2*(2**2)\n",
    "ratio_50 = 0.5\n",
    "ratio_5 = 0.05\n",
    "\n",
    "E_1,E_2,g_1,g_2"
   ]
  },
  {
   "cell_type": "markdown",
   "id": "85d53429-43f2-4279-a6fa-8d38851dbbdb",
   "metadata": {},
   "source": [
    "Solve Boltzmann equation for $T$:\n",
    "\n",
    "$$ratio = \\frac{g_2}{g_1} e^{-(E_2-E_1)/kT}$$\n",
    "\n",
    "$$\\frac{ratio}{g_2/g_1} = e^{-(E_2-E_1)/kT}$$\n",
    "\n",
    "$$ln{\\frac{ratio}{g_2/g_1}} = \\frac{-(E_2-E_1)}{kT}$$\n",
    "\n",
    "$$T = \\frac{-(E_2-E_1)}{k ln{\\frac{ratio}{g_2/g_1}}}$$\n",
    "\n",
    "So, for `50%`:\n",
    "\n",
    "$$T = \\frac{-((-3.40eV) - (-13.6eV))}{8.617343 *10^{-5}eV * ln{\\frac{0.5}{8/2}}} = 5.69*10^4K$$\n",
    "\n",
    "And for `5%`:\n",
    "\n",
    "$$T = \\frac{-((-3.40eV) - (-13.6eV))}{8.617343 *10^{-5}eV * ln{\\frac{0.05}{8/2}}} = 2.70*10^4K$$\n"
   ]
  },
  {
   "cell_type": "code",
   "execution_count": null,
   "id": "2695bd83-e3d4-4bed-bc7f-9fbc42324d20",
   "metadata": {},
   "outputs": [],
   "source": [
    "T_50 = -(E_2 - E_1) / (k * math.log( ratio_50/(g_2/g_1) ))\n",
    "T_5 = -(E_2 - E_1) / (k * math.log( ratio_5/(g_2/g_1) ))\n",
    "\n",
    "T_50, T_5"
   ]
  },
  {
   "cell_type": "markdown",
   "id": "205d6e53-26eb-4b93-8aa5-04ad4fb7258d",
   "metadata": {},
   "source": [
    "# Question A1-P02-3 - 1 mark\n",
    "\n",
    "An optical spectrum for a star is shown in Figure 1 (next page). Compare this to the stellar spectra shown in Figures 8.4 and 8.5 (Pages 208 and 210) of the textbook, and estimate the spectral type of the star (do not worry about the luminosity class). \n",
    "\n",
    "Write a brief paragraph outlining your reasoning for the spectral classification.\n",
    "\n",
    "_Hint: You may need to use the following, Table 8.1, Figures 8.4, 8.5 and 8.11 and possibly Appendix G: Stellar Data, from the textbook, along with any online material you require to help answer this question, just make sure you reference any material you use._\n",
    "\n",
    "**Answer:**\n",
    "\n",
    "As shown the below figures, I annotated some key lines in the supplied spectrum and then compared these with known spectral classification lines."
   ]
  },
  {
   "cell_type": "code",
   "execution_count": null,
   "id": "606f9e00-002d-4ea5-b9d6-94278f29213c",
   "metadata": {
    "tags": []
   },
   "outputs": [],
   "source": [
    "%%HTML\n",
    "<img src=\"../figures/spectra.png\" />\n",
    "<h4>Figure 1</h4>\n",
    "<img src=\"../figures/spectral-class.jpeg\" />\n",
    "<h4>Figure 2</h4>\n",
    "<em>Image credit: https://sites.ualberta.ca/~pogosyan/teaching/ASTRO_122/lect12/lecture12.html</em>"
   ]
  },
  {
   "cell_type": "markdown",
   "id": "645c3601-ab73-4f2e-86fc-78438ecd5649",
   "metadata": {},
   "source": [
    "Looking at the line placement on Figure 2, it appears that I have a systematic error - under-estimaing wavelengths when reading from Figure 1.\n",
    "\n",
    "In any case, I estimate it as an `O` star.\n",
    "- The flux in figure 8.4 (Caroll and Ostlie, p208) drops away for cooler stars for wavelengths around 380nm.\n",
    "- The plot includes data to 370nm and no significant drop visible.\n",
    "- The width of lines appear narrow, and the amplitude is less than shown for coolers stars (e.g. B3-B6 in Figure 8.4"
   ]
  },
  {
   "cell_type": "markdown",
   "id": "7818b569-3dbf-4293-9524-d5981486cbd9",
   "metadata": {},
   "source": [
    "# Question A1-P03-1 - 2 marks\n",
    "\n",
    "a) The general curve of growth for the Sun is given in Figure 1 (next page). Given the data for two sodium lines in Table 1 (below) calculate the **number of absorbing** sodium atoms per unit area of the photosphere (Na) for these lines.\n"
   ]
  },
  {
   "cell_type": "code",
   "execution_count": null,
   "id": "6bbc0087-cbef-4b1b-ac3a-bd1a53bad4d2",
   "metadata": {},
   "outputs": [],
   "source": [
    "λ_1 = 330.298E-6\n",
    "W_1 = 0.0067E-6\n",
    "f_1 = 0.0049\n",
    "\n",
    "λ_2 = 589.594E-6\n",
    "W_2 = 0.056E-6\n",
    "f_2 = 0.325"
   ]
  },
  {
   "cell_type": "code",
   "execution_count": null,
   "id": "00eb0cf0-766a-498f-94b6-bf2e85be316d",
   "metadata": {},
   "outputs": [],
   "source": [
    "y_1 = math.log10(W_1/λ_1)\n",
    "y_2 = math.log10(W_2/λ_2)\n",
    "y_1, y_2"
   ]
  },
  {
   "cell_type": "code",
   "execution_count": null,
   "id": "0a822f8d-137d-4aee-a5b5-0ad9fef34c1b",
   "metadata": {},
   "outputs": [],
   "source": [
    "# we use these y axes values to read x axes values from the Figure:\n",
    "x_1 = 16.5\n",
    "x_2 = 18.55"
   ]
  },
  {
   "cell_type": "markdown",
   "id": "dc018084-9e7c-406f-a12d-b70661e829ee",
   "metadata": {},
   "source": [
    "#### For the 330.298nm line:\n",
    "    \n",
    "$$\n",
    "log_{10}N_a = log_{10}(\\frac{f N_a \\lambda}{500nm}) - log_{10}(\\frac{f \\lambda}{500nm})\n",
    "$$\n",
    "\n",
    "Let:\n",
    "\n",
    "$$\n",
    "log_{10}(\\frac{f N_a \\lambda}{500nm}) = 16.5\n",
    "$$\n",
    "\n",
    "So:\n",
    "\n",
    "$$\n",
    "log_{10}N_a = 16.5 - log_{10}(\\frac{f \\lambda}{500nm}) = 16.5 - (-2.49) = 18.99\n",
    "$$\n",
    "\n",
    "#### For the 589.594nm line:\n",
    "    \n",
    "$$\n",
    "log_{10}N_a = log_{10}(\\frac{f N_a \\lambda}{500nm}) - log_{10}(\\frac{f \\lambda}{500nm})\n",
    "$$\n",
    "\n",
    "Let:\n",
    "\n",
    "$$\n",
    "log_{10}(\\frac{f N_a \\lambda}{500nm}) = 18.55\n",
    "$$\n",
    "\n",
    "So:\n",
    "\n",
    "$$\n",
    "log_{10}N_a = 16.5 - log_{10}(\\frac{f \\lambda}{500nm}) = 18.55 - (-0.42) = 18.97\n",
    "$$\n",
    "\n",
    "#### Average\n",
    "\n",
    "$$\n",
    "log_{10}N_{a,avg} \\frac{log_{10}18.99 + log_{10}18.97}{2} = 18.98\n",
    "$$\n",
    "\n",
    "Or\n",
    "\n",
    "$$10^{18.98} = 9.510 * 10^{18} m^2$$"
   ]
  },
  {
   "cell_type": "code",
   "execution_count": null,
   "id": "c0319367-14a5-42be-9450-efe8174f1820",
   "metadata": {},
   "outputs": [],
   "source": [
    "log10_na_1 = x_1 - math.log10( (f_1 * λ_1) / 500.0E-6 )\n",
    "log10_na_2 = x_2 - math.log10( (f_2 * λ_2) / 500.0E-6 )\n",
    "log10_na_avg = (log10_na_1 + log10_na_2) / 2\n",
    "\n",
    "log10_na_1, log10_na_2"
   ]
  },
  {
   "cell_type": "markdown",
   "id": "31cea2f0-c1dc-4e6b-9557-66475ebebce5",
   "metadata": {},
   "source": [
    "#### Use the Saha equation to get ratio of N2/N1, where:\n",
    "\n",
    "- $Z_1$ = 2.4\n",
    "- $Z_2$ = 1\n",
    "- $\\chi_1$ = 5.14eV\n",
    "- $T$ = 5800K\n",
    "- $P_e$ = 1 N m-2\n",
    "\n",
    "$$\n",
    "\\frac{N_{i+1}}{N_i} = \\frac{2kT Z_{i+1}}{P_e Z_i} (\\frac{2\\pi m_e kT}{h^2})^{3/2} e^{-\\chi_i/kT} = 2434\n",
    "$$"
   ]
  },
  {
   "cell_type": "code",
   "execution_count": 16,
   "id": "6e29d30e-2027-4f85-b56c-76d1b69d6215",
   "metadata": {},
   "outputs": [],
   "source": [
    "m_e = 9.10938215E-31 # electron mass kg\n",
    "h = 6.62606896E-34   # plank constant J\n",
    "k = 1.3806504E-23    # boltzman constant J \n",
    "c = 299792458\n",
    "\n",
    "T = 5800\n",
    "P_e = 1\n",
    "Z_1 = 2.4\n",
    "Z_2 = 1\n",
    "ev_factor = 6.242E+18\n",
    "chi_1 = 5.14 / ev_factor"
   ]
  },
  {
   "cell_type": "code",
   "execution_count": 17,
   "id": "5938c7a7-95fe-4a63-b890-47a8b7f3627f",
   "metadata": {},
   "outputs": [],
   "source": [
    "def saha_equation_pressure(Z_1, Z_2, k, T, P_e, m_e, chi_i, h):\n",
    "    return \\\n",
    "    ((2 * k * T * Z_2) / (P_e * Z_1)) * \\\n",
    "    ((2 * math.pi * m_e * k * T) / h**2)**(3/2) * \\\n",
    "    math.e ** -(chi_i / (k*T))"
   ]
  },
  {
   "cell_type": "code",
   "execution_count": 18,
   "id": "4b2a694f-ac85-45d5-a09d-5e11dfa12abd",
   "metadata": {},
   "outputs": [
    {
     "data": {
      "text/plain": [
       "2434.461931156807"
      ]
     },
     "execution_count": 18,
     "metadata": {},
     "output_type": "execute_result"
    }
   ],
   "source": [
    "N2_N1 = saha_equation_pressure(Z_1, Z_2, k, T, P_e, m_e, chi_1, h)\n",
    "N2_N1"
   ]
  },
  {
   "cell_type": "markdown",
   "id": "01e78a06-ea12-4613-8887-c48237dcd17e",
   "metadata": {},
   "source": [
    "#### Combine ratio with number of ground state Na\n",
    "\n",
    "i.e. total number of sodium atoms per unit area:\n",
    "\n",
    "$$\n",
    "\\frac{N_{i+1}}{N_i} * 10^{18.98} = 2.31 * 10^{22} m^{-2}\n",
    "$$"
   ]
  },
  {
   "cell_type": "code",
   "execution_count": 19,
   "id": "26870309-cb37-4d1d-be25-bfab911af5f1",
   "metadata": {},
   "outputs": [
    {
     "data": {
      "text/plain": [
       "2.315281341467781e+22"
      ]
     },
     "execution_count": 19,
     "metadata": {},
     "output_type": "execute_result"
    }
   ],
   "source": [
    "math.pow(10, log10_na_avg) * N2_N1"
   ]
  },
  {
   "cell_type": "markdown",
   "id": "67aed5b8-fcf2-4274-8f4f-5b2b6fec96c2",
   "metadata": {},
   "source": [
    "## b) Using the results from Example 9.5.5 in the textbook, calculate an average value of Na. Hint: Follow the same process as given in Example 9.5.5, in the textbook."
   ]
  },
  {
   "cell_type": "markdown",
   "id": "6c753f91-9cdd-449e-8e86-eacdd54ae7df",
   "metadata": {},
   "source": [
    "Hi,\n",
    "\n",
    "I'm fnding question A1-P03-2 part B a little ambigous - \"calculate an average value of Na\". \n",
    "\n",
    "Is this referring to log10Na? The average of log10Na is given at top of p276, and is then used to calculate the total number and mass, not sure what is left to do here.\n",
    "\n",
    "---\n",
    "\n",
    "The results from texbook are:\n",
    "\n",
    "-  \n",
    "- \n",
    "\n",
    "$$\n",
    "log_{10}N_a,_{avg} = (18.99 + 18.97) / 2 = 18.98\n",
    "$$"
   ]
  },
  {
   "cell_type": "code",
   "execution_count": 20,
   "id": "7fc0c60a-6f9d-4047-a2b3-7b661a34264b",
   "metadata": {},
   "outputs": [
    {
     "data": {
      "text/plain": [
       "18.97820078420009"
      ]
     },
     "execution_count": 20,
     "metadata": {},
     "output_type": "execute_result"
    }
   ],
   "source": [
    "(log10_na_1 + log10_na_2) / 2"
   ]
  },
  {
   "cell_type": "markdown",
   "id": "75bb70c5-91a7-4568-b9ae-ef8b63cefef0",
   "metadata": {},
   "source": [
    "# Question A1-P03-2 - 1 mark\n",
    "Assuming a wavelength of 5000 ̊A, how far could you see through the Earth’s atmosphere assuming it had the opacity and density of the solar photosphere?\n",
    "\n",
    "_Hint: See Example 9.2.2, in the textbook._"
   ]
  },
  {
   "cell_type": "markdown",
   "id": "9d28c862-5288-45b1-af2b-5177470c9e09",
   "metadata": {},
   "source": [
    "## Answer\n",
    "\n",
    "- wavelength $\\lambda$ is 500nm\n",
    "- approx density $\\rho$ of solar atmosphere is $2.1*10^{-4}$kg m-3\n",
    "- the opacity $\\kappa_{500}$ is $0.03m^2 kg^{-1}$\n",
    "\n",
    "Distance light may travel before being absorbed in photosphere:\n",
    "\n",
    "$$\n",
    "L = \\frac{1}{\\kappa_{500} \\rho} = \\frac{1}{0.03m^2 kg^{-1} * 2.1*10^{-4}kg m^{-3}} = 157km\n",
    "$$"
   ]
  },
  {
   "cell_type": "code",
   "execution_count": 21,
   "id": "3a5b39b3-5c7b-4908-b3af-94b5631b20d2",
   "metadata": {},
   "outputs": [
    {
     "data": {
      "text/plain": [
       "158.73015873015873"
      ]
     },
     "execution_count": 21,
     "metadata": {},
     "output_type": "execute_result"
    }
   ],
   "source": [
    "λ = 5000.0E-7 # 500nm\n",
    "rho = 2.1E-4\n",
    "kappa_500 = 0.03\n",
    "L = 1 / (kappa_500 * rho)\n",
    "L / 1000"
   ]
  },
  {
   "cell_type": "markdown",
   "id": "6b1ad009-c243-4a6b-8e57-21f131630b21",
   "metadata": {},
   "source": [
    "# Question A1-P03-3 - 1 mark\n",
    "A planetary nebula can sometime appear as a ring around a star. Assuming that the nebula is a hollow spherical shell of gas surrounding the star, explain how it can appear as a glowing ring. \n",
    "\n",
    "What can you say about the optical thickness of the nebula if this is the case?\n",
    "\n",
    "_Hint: Provide a diagram in your answer._"
   ]
  },
  {
   "cell_type": "markdown",
   "id": "ee79e4ea-7299-4634-9dc8-6db27643275e",
   "metadata": {},
   "source": [
    "## Answer\n",
    "\n",
    "If we look at the center of a spherical planetary nebula we see the least amount of light because of the shallow path taken through the radiative shell (Path A in below Figure).\n",
    "\n",
    "Inversly, if we look at the edges of a spherical planetary nebula we see the greatest amount of light because of the deeper path taken through the radiative shell (Path B in below Figure).\n",
    "\n",
    "\n",
    "\n",
    "This suggests that spherical planetary nebula are optically _thin_ (if they were optically thick, they would appear more like a glowing disk)."
   ]
  },
  {
   "cell_type": "code",
   "execution_count": 22,
   "id": "8d6ba01e-fe61-4187-901d-aa786fb6f361",
   "metadata": {},
   "outputs": [
    {
     "data": {
      "text/html": [
       "<img src=\"../figures/glowing-ring.png\" />\n",
       "<h4>Figure: observing the center and edges of a spherical planetary nebula</h4>\n"
      ],
      "text/plain": [
       "<IPython.core.display.HTML object>"
      ]
     },
     "metadata": {},
     "output_type": "display_data"
    }
   ],
   "source": [
    "%%HTML\n",
    "<img src=\"../figures/glowing-ring.png\" />\n",
    "<h4>Figure: observing the center and edges of a spherical planetary nebula</h4>"
   ]
  },
  {
   "cell_type": "markdown",
   "id": "66658775-c087-47c9-94d6-ae52efb9f8d0",
   "metadata": {},
   "source": [
    "# Question A1-P04-1 - 1 mark\n",
    "The Q value of a reaction is the amount of energy released (or absorbed) during the reaction. Calculate the Q value for each step in the first branch of the **CNO cycle** given below. Express your answers in MeV.\n",
    "\n",
    "_Hint: The atomic mass of Hydrogen and Helium are given in the hints for A1-P04-3. The atomic mass of others are: Carbon-12 = 12.0000, Carbon-13 = 13.0034, Nitrogen-13 = 13.0057, Nitrogen-14 = 14.0031, Nitrogen-15 = 15.0001, and Oxygen-15 = 15.0031._\n",
    "\n",
    "Atomic mass of Hydrogen: 1.0079u, Helium: 4.0026u\n",
    "\n",
    "## Answer\n",
    "\n",
    "Subtract products from reactants.\n",
    "\n",
    "Convert atomic mass units to MeV, $mev = 931.5$\n",
    "\n",
    "#### Stage 1\n",
    "\n",
    "$$\n",
    "Q = ( (12.0000 + 1.0079) - (13.0057) ) * mev = 2.05MeV\n",
    "$$\n",
    "\n",
    "Photon mass/energy ignored.\n",
    "\n",
    "#### Stage 2\n",
    "\n",
    "Let positron and neutrino mass be: $0.511$ MeV, and $1.0*10^{-7}$ MeV respectively.\n",
    "\n",
    "$$\n",
    "Q = ( (13.0057) - (13.0034 + \\frac{0.511 + 1.0*10^{-7}}{mev} ) ) * mev = 1.63MeV\n",
    "$$\n",
    "\n",
    "Or, ignoring leptons (wasn't clear to me whether to include them):\n",
    "\n",
    "$$\n",
    "Q = ( 13.0057 - 13.0034 ) * mev = 2.14MeV\n",
    "$$\n",
    "\n",
    "#### Stage 3\n",
    "\n",
    "$$\n",
    "Q = ( (13.0034 + 1.0079) - (14.0031) ) * mev = 7.64MeV\n",
    "$$\n",
    "\n",
    "Photon mass/energy ignored.\n",
    "\n",
    "\n",
    "#### Stage 4\n",
    "\n",
    "$$\n",
    "Q = ( (14.0031 + 1.0079) - (15.0031) ) * mev = 7.36MeV\n",
    "$$\n",
    "\n",
    "Photon mass/energy ignored.\n",
    "\n",
    "\n",
    "#### Stage 5\n",
    "\n",
    "Let positron and neutrino mass be: $0.511$ MeV, and $1.0*10^{-7}$ MeV respectively.\n",
    "\n",
    "$$\n",
    "Q = ( (15.0031) - (15.0001 + \\frac{0.511 + 1.0*10^{-7}}{mev} ) ) * mev = 2.28MeV\n",
    "$$\n",
    "\n",
    "Or, ignoring leptons (wasn't clear to me whether to include them):\n",
    "\n",
    "$$\n",
    "Q = ( 15.0031 - 15.0001 ) * mev = 2.79MeV\n",
    "$$\n",
    "\n",
    "#### Stage 6\n",
    "\n",
    "$$\n",
    "Q = ( (15.0001 + 1.0079) - (12.0000 + 4.0026) ) * mev = 5.03MeV\n",
    "$$\n",
    "\n",
    "Photon mass/energy ignored."
   ]
  },
  {
   "cell_type": "code",
   "execution_count": 87,
   "id": "c657e770-d3e7-43d0-bec3-862272e7cfad",
   "metadata": {},
   "outputs": [
    {
     "data": {
      "text/plain": [
       "(2.049300000000585,\n",
       " 1.631449900000007,\n",
       " 7.638299999998708,\n",
       " 7.35885000000053,\n",
       " 2.2834998999987874,\n",
       " 5.030099999999948)"
      ]
     },
     "execution_count": 87,
     "metadata": {},
     "output_type": "execute_result"
    }
   ],
   "source": [
    "# AMU to MeV\n",
    "mev = 931.5\n",
    "\n",
    "# provided in amu\n",
    "H = 1.0079 * mev\n",
    "He = 4.0026 * mev\n",
    "C_12 = 12.0000 * mev\n",
    "C_13 = 13.0034 * mev \n",
    "N_13 = 13.0057 * mev \n",
    "N_14 = 14.0031 * mev\n",
    "N_15 = 15.0001 * mev\n",
    "O_15 = 15.0031 * mev\n",
    "\n",
    "# in MeV\n",
    "electron = 0.511\n",
    "neutrino = 0.1E-6\n",
    "\n",
    "s1 = (C_12 + H) - (N_13)\n",
    "s2 = (N_13) - (C_13 + electron + neutrino)\n",
    "s3 = (C_13 + H) - (N_14)\n",
    "s4 = (N_14 + H) - (O_15)\n",
    "s5 = (O_15) - (N_15 + electron + neutrino)\n",
    "s6 = (N_15 + H) - (C_12 + He)\n",
    "s1,s2,s3,s4,s5,s6"
   ]
  },
  {
   "cell_type": "markdown",
   "id": "ba0841a0-b92f-494c-ae66-4440a4c05684",
   "metadata": {},
   "source": [
    "# Question A1-P04-2 - 1 mark\n",
    "Neon burning is a short-lived phase in a massive star’s life (M > 8M⊙) occurring after Carbon burning. \n",
    "Two Neon burning steps are given below. \n",
    "\n",
    "Calculate the energy released or absorbed by each reaction in MeV. Are the reactions exothermic or endothermic?\n",
    "\n",
    "_Hint: The atomic mass of Helium is given in the hints for A1-P04-3. The atomic mass of others are: Oxygen-16 = 15.9949, Neon-20 = 19.9924 and Magnesium- 24 = 23.9850._\n",
    "\n",
    "\n",
    "## Answer\n",
    "\n",
    "Subtract products from reactants.\n",
    "\n",
    "Convert atomic mass units to MeV, $mev = 931.5$\n",
    "\n",
    "#### Reaction 1\n",
    "\n",
    "$$\n",
    "Q = ( (19.9924) - (15.9949 + 4.0026) ) * mev = -4.75MeV\n",
    "$$\n",
    "\n",
    "This reaction produces a negative Q-value, it is endothermic.\n",
    "\n",
    "#### Reaction 2\n",
    "\n",
    "$$\n",
    "Q = ( (19.9924 + 4.0026) - (23.9850) ) * mev = 9.32MeV\n",
    "$$\n",
    "\n",
    "This reaction produces a positive Q-value, it is exothermic.\n",
    "\n",
    "Photon mass/energy ignored.\n"
   ]
  },
  {
   "cell_type": "code",
   "execution_count": 92,
   "id": "7692eb85-8675-4d56-8aac-1029435abc46",
   "metadata": {},
   "outputs": [
    {
     "data": {
      "text/plain": [
       "(-4.7506499999981315, 9.315000000002328)"
      ]
     },
     "execution_count": 92,
     "metadata": {},
     "output_type": "execute_result"
    }
   ],
   "source": [
    "# AMU to MeV\n",
    "mev = 931.5\n",
    "\n",
    "# provided in amu\n",
    "He = 4.0026 * mev\n",
    "O_16 = 15.9949 * mev\n",
    "Ne_20 = 19.9924 * mev\n",
    "Mg_24 = 23.9850 * mev\n",
    "\n",
    "# reaction 1\n",
    "r1 = (Ne_20) - (O_16 + He)\n",
    "\n",
    "# reaction 2\n",
    "r2 = (Ne_20 + He) - (Mg_24)\n",
    "\n",
    "r1,r2"
   ]
  },
  {
   "cell_type": "markdown",
   "id": "461cef93-d185-42b6-b6a6-d48cd28b700b",
   "metadata": {},
   "source": [
    "# Question A1-P04-3 - 1 mark\n",
    "\n",
    "In the Sun the first proton-proton chain (PPI) converts four Hydrogen atoms into a helium atom. \n",
    "Given that the mass of a helium atom is less than that of four hydrogen atoms, use Einstein’s famous equation (E = mc2) to estimate the Sun’s main sequence lifetime.\n",
    "\n",
    "\n",
    "_Hint: Assume that the the fusion only occurs in the Sun’s core which is 10% of its current mass and that both stay the same during its main-sequence life. Also assume that the solar luminosity stays the same during the Sun’s main-sequence lifetime. Use the atomic mass of Hydrogen to be 1.0079u and Helium to be 4.0026u. Assume the core is initially completely comprised of Hydrogen._\n",
    "\n",
    "## Answer\n",
    "\n",
    "Calculate percent of mass for energy:\n",
    "\n",
    "$$\n",
    "E_{percent} = \\frac{4H}{He} - 1 = 0.007 = 0.7%\n",
    "$$\n",
    "\n",
    "Using $E = mc^2$, where mass is multiplied by 10% (size of core), and 0.7% (nuclear energy available):\n",
    "\n",
    "$$\n",
    "E_{nuclear} = 0.1 * 0.007 * M_{\\odot} c^2 = 1.3 * 10^{44}J\n",
    "$$\n",
    "\n",
    "Now with contant luminosity for Sun's main sequence lifetime, we get:\n",
    "\n",
    "$$\n",
    "\\frac{E_{nuclear}}{L_{\\odot}} = 3.37 * 10^{17} seconds = 10^{10} years\n",
    "$$"
   ]
  },
  {
   "cell_type": "code",
   "execution_count": 116,
   "id": "dd3ae9b6-ab8e-4709-9afe-f419bd4babd1",
   "metadata": {},
   "outputs": [
    {
     "data": {
      "text/plain": [
       "0.00724529056113532"
      ]
     },
     "execution_count": 116,
     "metadata": {},
     "output_type": "execute_result"
    }
   ],
   "source": [
    "H = 1.0079\n",
    "He = 4.0026\n",
    "M_sun = 1.9891E+30\n",
    "L_sun = 3.839E+26\n",
    "\n",
    "E_percent = ((4*H) / He) - 1\n",
    "E_percent"
   ]
  },
  {
   "cell_type": "code",
   "execution_count": 117,
   "id": "2e59ed9f-8b06-4076-b1e2-5724538056cb",
   "metadata": {},
   "outputs": [
    {
     "data": {
      "text/plain": [
       "1.2952506834242024e+44"
      ]
     },
     "execution_count": 117,
     "metadata": {},
     "output_type": "execute_result"
    }
   ],
   "source": [
    "E_nuclear = 0.1 * E_percent * M_sun * c**2\n",
    "E_nuclear"
   ]
  },
  {
   "cell_type": "code",
   "execution_count": 118,
   "id": "bbcbea01-882b-43b7-8ad6-7dc5071d91af",
   "metadata": {},
   "outputs": [
    {
     "data": {
      "text/plain": [
       "(3.373927281646789e+17, 10691330397.897144)"
      ]
     },
     "execution_count": 118,
     "metadata": {},
     "output_type": "execute_result"
    }
   ],
   "source": [
    "t_sec = E_nuclear / L_sun\n",
    "t_yr = t_sec / 60 / 60 / 24 / 365.25\n",
    "\n",
    "t_sec, t_yr"
   ]
  },
  {
   "cell_type": "markdown",
   "id": "719d459e-75f9-4649-93ea-dc43020cc0e9",
   "metadata": {},
   "source": [
    "# Question A1-P05-1 - 1 mark\n",
    "\n",
    "You are trying to observe through the solar photosphere with using two different wavelengths. \n",
    "\n",
    "The opacity at one wavelength is `0.022 m2 kg−1` and the other is `0.028 m2 kg−1`. \n",
    "\n",
    "Calculate the depth into the photosphere where the optical depth equals two-thirds at each wavelength. \n",
    "At `what wavelength` would you see further into the photosphere? How much further?\n",
    "\n",
    "\n",
    "_Hint: Assume that the temperature and density of the photosphere are 5,777 K and 2.2 × 10−4 kg m−3, respectively. Assume that κλ and ρ are constant over the volume you are looking at._"
   ]
  },
  {
   "cell_type": "code",
   "execution_count": null,
   "id": "c0ae63a4-8396-4ad1-9d74-60f825fc3613",
   "metadata": {},
   "outputs": [],
   "source": []
  },
  {
   "cell_type": "code",
   "execution_count": null,
   "id": "50b682bb-7a0a-494e-9cc4-38d34fbe9489",
   "metadata": {},
   "outputs": [],
   "source": []
  },
  {
   "cell_type": "code",
   "execution_count": null,
   "id": "f4f8d9ed-f673-49b1-ac4c-ecc0b0bd447c",
   "metadata": {},
   "outputs": [],
   "source": []
  },
  {
   "cell_type": "code",
   "execution_count": null,
   "id": "73a37b32-3e3d-4604-901b-df51892a6320",
   "metadata": {},
   "outputs": [],
   "source": []
  },
  {
   "cell_type": "code",
   "execution_count": 119,
   "id": "a3f6b34e-15a6-4e82-ad25-964c4c684116",
   "metadata": {},
   "outputs": [
    {
     "data": {
      "text/plain": [
       "0.48"
      ]
     },
     "execution_count": 119,
     "metadata": {},
     "output_type": "execute_result"
    }
   ],
   "source": [
    "12/25"
   ]
  },
  {
   "cell_type": "code",
   "execution_count": null,
   "id": "2c4ada66-602f-44db-b802-97b82d740833",
   "metadata": {},
   "outputs": [],
   "source": []
  }
 ],
 "metadata": {
  "kernelspec": {
   "display_name": "Python 3 (ipykernel)",
   "language": "python",
   "name": "python3"
  },
  "language_info": {
   "codemirror_mode": {
    "name": "ipython",
    "version": 3
   },
   "file_extension": ".py",
   "mimetype": "text/x-python",
   "name": "python",
   "nbconvert_exporter": "python",
   "pygments_lexer": "ipython3",
   "version": "3.7.11"
  }
 },
 "nbformat": 4,
 "nbformat_minor": 5
}
