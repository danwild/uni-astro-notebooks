{
 "cells": [
  {
   "cell_type": "code",
   "execution_count": 37,
   "id": "a0526c4e-eb71-4dbb-b6fd-6016d1881d7a",
   "metadata": {},
   "outputs": [],
   "source": [
    "import math"
   ]
  },
  {
   "cell_type": "markdown",
   "id": "1afe9b33-c68c-493e-bcc4-daaf00f5ed73",
   "metadata": {
    "tags": []
   },
   "source": [
    "# Assignment 1\n",
    "\n",
    "PHY8004 - Assignment 1 Part 1 - Questions \n",
    "\n",
    "# Question A1-P01-1 - 2 marks \n",
    "\n",
    "Using spectroscopy the velocities of an eclipsing binary star system were measured. The velocity of the secondary of the system was found to vary from -24.0 km/s up to +108.0 km/s, while the velocity of the primary varied from +9.0 km/s to +75.0 km/s. The period of the system was found to be 30 days. Assuming the observed velocity curves are sinusoidal, and that the inclination angle of the system is 90◦, find:\n",
    "\n",
    "$$P=30days=>30*24*60*60=2592000s$$\n",
    "$$i=90º$$\n",
    "\n",
    "## a) the radial velocity of the centre of mass of the system\n",
    "\n",
    "Find $v_{cm}$\n",
    "\n",
    "Sinusoidal velocity curves imply circular orbit: $e \\approx 0$, and a circular orbit implies the velocity of each star should be constant.\n",
    "\n",
    "_Note:_ negative radial velocity => travelling towards observer\n",
    "\n",
    "**Primary** (larger object => lower orbital velocity): \n",
    "\n",
    "$$v_{1,min} = +9km s, v_{1,max} = +75km s$$\n",
    "\n",
    "$$v_{1r} = \\frac{9km s + 75km s}{2} = 42km s$$"
   ]
  },
  {
   "cell_type": "code",
   "execution_count": 38,
   "id": "f75246e1-db28-457b-afc0-23b9a7e4b499",
   "metadata": {},
   "outputs": [
    {
     "data": {
      "text/plain": [
       "42.0"
      ]
     },
     "execution_count": 38,
     "metadata": {},
     "output_type": "execute_result"
    }
   ],
   "source": [
    "v_1_min = 9\n",
    "v_1_max = 75\n",
    "v_1r = (v_1_min+v_1_max)/2\n",
    "v_1r"
   ]
  },
  {
   "cell_type": "markdown",
   "id": "d3ba0ced-7e17-412b-a71e-5ca5955379ee",
   "metadata": {},
   "source": [
    "**Secondary** (smaller object => greater orbital velocity): \n",
    "\n",
    "$$v_{2,min} = -24km s^{-1}, v_{2,max} = +108km s^{-1}$$\n",
    "\n",
    "$$v_{2r} = \\frac{abs(-24km s^{-1}) + 108km s^{-1}}{2} = 66km s^{-1}$$"
   ]
  },
  {
   "cell_type": "code",
   "execution_count": 39,
   "id": "3f34e9f1-08d5-4402-9c61-e72bcadb4b2f",
   "metadata": {},
   "outputs": [
    {
     "data": {
      "text/plain": [
       "66.0"
      ]
     },
     "execution_count": 39,
     "metadata": {},
     "output_type": "execute_result"
    }
   ],
   "source": [
    "v_2_min = -24\n",
    "v_2_max = 108\n",
    "v_2r = (abs(v_2_min)+v_2_max)/2\n",
    "v_2r"
   ]
  },
  {
   "cell_type": "markdown",
   "id": "aab8b55a-5ae3-4409-b5f8-edb3a0fb009c",
   "metadata": {},
   "source": [
    "**Mass Ratio**\n",
    "\n",
    "$$\\frac{m_1}{m_2} = \\frac{v_{2r}}{v_{1r}} = \\frac{66km s}{42km s} = 1.57$$"
   ]
  },
  {
   "cell_type": "code",
   "execution_count": 40,
   "id": "e640ac8f-652d-4555-9fc7-bed1c724df37",
   "metadata": {},
   "outputs": [
    {
     "data": {
      "text/plain": [
       "1.5714285714285714"
      ]
     },
     "execution_count": 40,
     "metadata": {},
     "output_type": "execute_result"
    }
   ],
   "source": [
    "v_2r/v_1r"
   ]
  },
  {
   "cell_type": "code",
   "execution_count": 41,
   "id": "1bdca172-c079-40bd-baea-69d13a097926",
   "metadata": {},
   "outputs": [
    {
     "data": {
      "text/plain": [
       "-0.6133333333333333"
      ]
     },
     "execution_count": 41,
     "metadata": {},
     "output_type": "execute_result"
    }
   ],
   "source": [
    "((v_2_max/v_1_max) + (v_2_min/v_1_min))/ 2"
   ]
  },
  {
   "cell_type": "markdown",
   "id": "7ec496f3-c992-421f-950c-256b90e8707f",
   "metadata": {},
   "source": [
    "Combined velocity\n",
    "\n",
    "$$\n",
    "v_{r,cm} = \\frac{(m_1 v_1) + (m_2 v_2)}{m_1 + m_2} = \\frac{(1 * 42) + ((66/42) * 66)}{1 + (66/42)}\n",
    "$$"
   ]
  },
  {
   "cell_type": "code",
   "execution_count": null,
   "id": "d51d95df-bebc-4120-b800-352ee951c2e6",
   "metadata": {},
   "outputs": [],
   "source": []
  },
  {
   "cell_type": "markdown",
   "id": "309966f9-5ccf-40fd-984d-787089514250",
   "metadata": {},
   "source": [
    "## b) the individual masses of the two stars in the system (in terms of solar masses)\n",
    "\n",
    "Combined mass:\n",
    "$$\n",
    "m_1 + m_2 = \\frac{P}{2\\pi G} \\frac{(v_{1r} + v_{2r})^3}{sin^3 i}\n",
    "$$"
   ]
  },
  {
   "cell_type": "code",
   "execution_count": null,
   "id": "7eb726fc-ec9e-4673-92c3-0d75faa38159",
   "metadata": {},
   "outputs": [],
   "source": []
  },
  {
   "cell_type": "markdown",
   "id": "182969c8-aa28-43ae-928e-b722e823eb0e",
   "metadata": {},
   "source": [
    "Semimajor axes:\n",
    "\n",
    "$$\n",
    "a = \\frac{vP}{2\\pi}\n",
    "$$"
   ]
  },
  {
   "cell_type": "code",
   "execution_count": null,
   "id": "9784c6af-2128-4701-9f70-9d12793623d0",
   "metadata": {},
   "outputs": [],
   "source": []
  },
  {
   "cell_type": "markdown",
   "id": "574cfb5c-ab0d-4df5-985c-fefdb52989b0",
   "metadata": {},
   "source": [
    "Individual masses:\n",
    "\n",
    "$$\n",
    "m_1 = \\frac{m_1+m_2}{1 + (a_1/a_1)}\n",
    "$$"
   ]
  },
  {
   "cell_type": "code",
   "execution_count": null,
   "id": "ab548e4a-53b2-4bd9-bfe0-59ba41682608",
   "metadata": {},
   "outputs": [],
   "source": []
  },
  {
   "cell_type": "markdown",
   "id": "d691390e-8005-46ef-9fba-ae5a4d929eaf",
   "metadata": {
    "tags": []
   },
   "source": [
    "# Question A1-P01-2 - 2 marks\n",
    "\n",
    "For the eclipsing binary system in Question A1-P01-1 a photometric lightcurve showed that $t_a$ occurred at a modified Julian date of `57905.1728`, $t_b$ at `57905.3358`, $t_c$ at `57905.4648` and $t_d$ at `57905.6278`. The maximum apparent bolometric magnitude of the system was found to be `6.80`, while the magnitude at the primary eclipse was found to be `10.05` and at the secondary eclipse `7.11`. Given the data in Question A1-P01-1, find:\n",
    "\n",
    "_Hint: Look at Examples 7.3.1 and 7.3.2, in the textbook. You will need to use an equation from Chapter 3 of the textbook._\n",
    "\n",
    "## a) the individual radii of the stars (in solar radii)\n",
    "\n",
    "Radius of smaller star:\n",
    "\n",
    "$$\n",
    "r = \\frac{v}{2}(t_b - t_a)\n",
    "$$\n",
    "\n",
    "Radius of larger star:\n",
    "\n",
    "$$\n",
    "r = \\frac{v}{2}(t_c - t_a)\n",
    "$$\n",
    "\n",
    "where $v$ is the relative velocity of the two stars, $v = v1 + v2$\n",
    "\n",
    "Caroll and Ostlie, p191"
   ]
  },
  {
   "cell_type": "code",
   "execution_count": 42,
   "id": "a9ab9df8-95cc-4c5d-a452-a0d33d6ea49d",
   "metadata": {},
   "outputs": [],
   "source": [
    "t_a = 57905.1728\n",
    "t_b = 57905.3358\n",
    "t_c = 57905.4648\n",
    "t_d = 57905.6278\n",
    "\n",
    "m_bol_0 = 6.80\n",
    "m_bol_p = 10.05\n",
    "m_bol_s = 7.11"
   ]
  },
  {
   "cell_type": "markdown",
   "id": "a02a2416-ca88-40c5-aaa0-efa1574e902e",
   "metadata": {
    "tags": []
   },
   "source": [
    "## b) the ratio of their effective temperatures\n",
    "\n",
    "$$\n",
    "\\frac{B_p}{B_0} = 100^(m_{bol,0} - m_{bol,p})/5 = 0.050\n",
    "$$\n",
    "\n",
    "$$\n",
    "\\frac{B_s}{B_0} = 100^(m_{bol,0} - m_{bol,s})/5 = 0.75\n",
    "$$\n",
    "\n",
    "$$\n",
    "\\frac{F_s}{F_p} = \\frac{1 - B_p/B_0}{1 - B_s/B_0} = 3.82\n",
    "$$\n",
    "\n",
    "$$\n",
    "\\frac{T_s}{T_p} = (\\frac{F_s}{F_p})^(1/4) = 1.40\n",
    "$$"
   ]
  },
  {
   "cell_type": "code",
   "execution_count": 43,
   "id": "717425d5-b915-4ab5-b7b8-fb6b7823a70e",
   "metadata": {},
   "outputs": [
    {
     "name": "stdout",
     "output_type": "stream",
     "text": [
      " B_p/B_0: 0.0501187233627272\n",
      " B_s/B_0: 0.7516228940182051\n",
      " F_s/F_p: 3.824351173118571\n",
      " T_s/T_p: 1.3984258431150163\n"
     ]
    }
   ],
   "source": [
    "B_p_B_0 = 100**((m_bol_0 - m_bol_p)/5)\n",
    "B_s_B_0 = 100**((m_bol_0 - m_bol_s)/5)\n",
    "F_s_F_p = (1 - B_p_B_0) / (1 - B_s_B_0)\n",
    "T_s_T_p = F_s_F_p**(1/4)\n",
    "\n",
    "print(' B_p/B_0: %s\\n B_s/B_0: %s\\n F_s/F_p: %s\\n T_s/T_p: %s' % (B_p_B_0, B_s_B_0, F_s_F_p, T_s_T_p))"
   ]
  },
  {
   "cell_type": "markdown",
   "id": "5023e85e-f55b-4dc9-ac2f-bd26fcad2feb",
   "metadata": {
    "tags": []
   },
   "source": [
    "# Question A1-P01-3 - 1 mark\n",
    "Why does the radial velocity technique for detecting exoplanets around other stars favour the detection of “Hot Jupiters”? \n",
    "\n",
    "What is your definition of a “Hot Jupiter”?\n",
    "\n",
    "**Answer:**\n",
    "\n",
    "The term \"Hot Jupiter\" is used to describe an exoplanet that is physically similar to Jupiter (i.e. a large, gassy planet or \"gas giant\"), which orbits close to its host star, such that it has a hot atmosphere and an orbital period $P$ of around 10 days or less.\n",
    "\n",
    "When attempting to detect exoplanets, the radial velocity technique focusses on indentifying changes in the velocity of the host star. The presence of a gas giant within close proximity (i.e. a Hot Jupiter) has a relatively strong gravitational pull which in turn creates a relatively strong variation in the stars radial velocity. \n",
    "\n",
    "Strong variations in a stars radial velocity means exoplanets are easier to detect, so this method tends to favor the detection of Hot Jupiters."
   ]
  },
  {
   "cell_type": "markdown",
   "id": "e3a847c5-b8a7-466b-b09f-0d0122ecb117",
   "metadata": {},
   "source": [
    "# Question A1-P02-1 - 1 mark\n",
    "Rigel Kentaurus (alpha Cen) is one of the “pointers” in the southern sky. \n",
    "\n",
    "It is actually a multiple star system. The primary star in the system has an apparent visual magnitude of `-0.01`. Use the H-R diagram in Figure 8.16 (Page 227) of the textbook to determine the distance to this star.\n",
    "\n",
    "_Hint: You will need to use a formula from Chapter 3 of the textbook to solve this problem._\n",
    "\n",
    "**Answer:**\n",
    "\n",
    "Apparent magnitude $m$ is `-0.01`\n",
    "\n",
    "Absolute magnitude $M$ on Figure 8.16 is appox. `4.3`\n",
    "\n",
    "From distance modulus:\n",
    "\n",
    "$$\n",
    "d = 10^{\\frac{(m_v - M_v + 5)}{5}} = 10^{\\frac{((-0.01) - 4.3 + 5)}{5}} = 1.37pc\n",
    "$$\n"
   ]
  },
  {
   "cell_type": "code",
   "execution_count": 44,
   "id": "cf6b6382-304c-43e2-ab52-58146846dc2a",
   "metadata": {},
   "outputs": [
    {
     "data": {
      "text/plain": [
       "1.3740419750125155"
      ]
     },
     "execution_count": 44,
     "metadata": {},
     "output_type": "execute_result"
    }
   ],
   "source": [
    "m = -0.01\n",
    "M = 4.3\n",
    "d = 10**((m - M + 5) / 5)\n",
    "d"
   ]
  },
  {
   "cell_type": "markdown",
   "id": "dc352f4f-1b2b-4af0-9d83-6d5f64fd5970",
   "metadata": {},
   "source": [
    "# Question A1-P02-2 - 2 marks\n",
    "\n",
    "If we have a gas of `neutral hydrogen` atoms, at what temperature of the gas will the number of atoms in the first excited state be `50%` of the number of atoms in the ground state? \n",
    "\n",
    "At what gas temperature will the number of atoms in the first excited state be only `5%` of the number of atoms in the ground state?\n",
    "\n",
    "\n",
    "_Hint:You will need to use the Boltzmann equation and Example 8.1.2 in the textbook, may also give some hints along with the values for E1 and E2. Note: $gn = 2(n)^2$_\n",
    "\n",
    "\n",
    "**Answer:**\n",
    "\n",
    "Boltzmann equation:\n",
    "\n",
    "$$\n",
    "\\frac{N_2}{N_1} = \\frac{g_2 e^{-E_2/kT}}{g_1 e^{-E_1/kT}} = \\frac{g_2}{g_1} e^{-(E_2-E_1)/kT}\n",
    "$$\n",
    "\n",
    "Number of degenerate states, hydrogen:\n",
    "\n",
    "$$g_n = 2(n)^2$$\n",
    "\n",
    "Find $T$, where $\\frac{N_2}{N_1} = 0.5$ and $\\frac{N_2}{N_1} = 0.05$"
   ]
  },
  {
   "cell_type": "code",
   "execution_count": 45,
   "id": "c9e2e4a6-b4bf-45c0-bcc3-31512977ad9f",
   "metadata": {},
   "outputs": [
    {
     "data": {
      "text/plain": [
       "(-13.6, -3.4, 2, 8)"
      ]
     },
     "execution_count": 45,
     "metadata": {},
     "output_type": "execute_result"
    }
   ],
   "source": [
    "k = 8.617343E-5\n",
    "\n",
    "E_1 = -13.6 \n",
    "E_2 = -3.40\n",
    "g_1 = 2*(1**2)\n",
    "g_2 = 2*(2**2)\n",
    "ratio_50 = 0.5\n",
    "ratio_5 = 0.05\n",
    "\n",
    "E_1,E_2,g_1,g_2"
   ]
  },
  {
   "cell_type": "markdown",
   "id": "85d53429-43f2-4279-a6fa-8d38851dbbdb",
   "metadata": {},
   "source": [
    "Solve Boltzmann equation for $T$:\n",
    "\n",
    "$$ratio = \\frac{g_2}{g_1} e^{-(E_2-E_1)/kT}$$\n",
    "\n",
    "$$\\frac{ratio}{g_2/g_1} = e^{-(E_2-E_1)/kT}$$\n",
    "\n",
    "$$ln{\\frac{ratio}{g_2/g_1}} = \\frac{-(E_2-E_1)}{kT}$$\n",
    "\n",
    "$$T = \\frac{-(E_2-E_1)}{k ln{\\frac{ratio}{g_2/g_1}}}$$\n",
    "\n",
    "So, for `50%`:\n",
    "\n",
    "$$T = \\frac{-((-3.40eV) - (-13.6eV))}{8.617343 *10^{-5}eV * ln{\\frac{0.5}{8/2}}} = 5.69*10^4K$$\n",
    "\n",
    "And for `5%`:\n",
    "\n",
    "$$T = \\frac{-((-3.40eV) - (-13.6eV))}{8.617343 *10^{-5}eV * ln{\\frac{0.05}{8/2}}} = 2.70*10^4K$$\n"
   ]
  },
  {
   "cell_type": "code",
   "execution_count": 46,
   "id": "2695bd83-e3d4-4bed-bc7f-9fbc42324d20",
   "metadata": {},
   "outputs": [
    {
     "data": {
      "text/plain": [
       "(56921.99021232502, 27011.69138179159)"
      ]
     },
     "execution_count": 46,
     "metadata": {},
     "output_type": "execute_result"
    }
   ],
   "source": [
    "T_50 = -(E_2 - E_1) / (k * math.log( ratio_50/(g_2/g_1) ))\n",
    "T_5 = -(E_2 - E_1) / (k * math.log( ratio_5/(g_2/g_1) ))\n",
    "\n",
    "T_50, T_5"
   ]
  },
  {
   "cell_type": "markdown",
   "id": "205d6e53-26eb-4b93-8aa5-04ad4fb7258d",
   "metadata": {},
   "source": [
    "# Question A1-P02-3 - 1 mark\n",
    "\n",
    "An optical spectrum for a star is shown in Figure 1 (next page). Compare this to the stellar spectra shown in Figures 8.4 and 8.5 (Pages 208 and 210) of the textbook, and estimate the spectral type of the star (do not worry about the luminosity class). \n",
    "\n",
    "Write a brief paragraph outlining your reasoning for the spectral classification.\n",
    "\n",
    "_Hint: You may need to use the following, Table 8.1, Figures 8.4, 8.5 and 8.11 and possibly Appendix G: Stellar Data, from the textbook, along with any online material you require to help answer this question, just make sure you reference any material you use._\n",
    "\n",
    "**Answer:**\n",
    "\n",
    "As shown the below figures, I annotated some key lines in the supplied spectrum and then compared these with known spectral classification lines."
   ]
  },
  {
   "cell_type": "code",
   "execution_count": 47,
   "id": "606f9e00-002d-4ea5-b9d6-94278f29213c",
   "metadata": {
    "tags": []
   },
   "outputs": [
    {
     "data": {
      "text/html": [
       "<img src=\"../figures/spectra.png\" />\n",
       "<h4>Figure 1</h4>\n",
       "<img src=\"../figures/spectral-class.jpeg\" />\n",
       "<h4>Figure 2</h4>\n",
       "<em>Image credit: https://sites.ualberta.ca/~pogosyan/teaching/ASTRO_122/lect12/lecture12.html</em>\n"
      ],
      "text/plain": [
       "<IPython.core.display.HTML object>"
      ]
     },
     "metadata": {},
     "output_type": "display_data"
    }
   ],
   "source": [
    "%%HTML\n",
    "<img src=\"../figures/spectra.png\" />\n",
    "<h4>Figure 1</h4>\n",
    "<img src=\"../figures/spectral-class.jpeg\" />\n",
    "<h4>Figure 2</h4>\n",
    "<em>Image credit: https://sites.ualberta.ca/~pogosyan/teaching/ASTRO_122/lect12/lecture12.html</em>"
   ]
  },
  {
   "cell_type": "markdown",
   "id": "645c3601-ab73-4f2e-86fc-78438ecd5649",
   "metadata": {},
   "source": [
    "Looking at the line placement on Figure 2, it appears that I have a systematic error - under-estimaing wavelengths when reading from Figure 1.\n",
    "\n",
    "In any case, I estimate it as an `O` star.\n",
    "- The flux in figure 8.4 (Caroll and Ostlie, p208) drops away for cooler stars for wavelengths around 380nm.\n",
    "- The plot includes data to 370nm and no significant drop visible.\n",
    "- The width of lines appear narrow, and the amplitude is less than shown for coolers stars (e.g. B3-B6 in Figure 8.4"
   ]
  },
  {
   "cell_type": "markdown",
   "id": "7818b569-3dbf-4293-9524-d5981486cbd9",
   "metadata": {},
   "source": [
    "# Question A1-P03-1 - 2 marks\n",
    "\n",
    "a) The general curve of growth for the Sun is given in Figure 1 (next page). Given the data for two sodium lines in Table 1 (below) calculate the `number of absorbing sodium atoms per unit area` of the photosphere (Na) for these lines.\n"
   ]
  },
  {
   "cell_type": "code",
   "execution_count": 88,
   "id": "6bbc0087-cbef-4b1b-ac3a-bd1a53bad4d2",
   "metadata": {},
   "outputs": [],
   "source": [
    "λ_1 = 330.298E-9\n",
    "W_1 = 0.0067E-9\n",
    "f_1 = 0.0049\n",
    "\n",
    "λ_2 = 589.594E-9\n",
    "W_2 = 0.056E-9\n",
    "f_2 = 0.325"
   ]
  },
  {
   "cell_type": "code",
   "execution_count": 89,
   "id": "00eb0cf0-766a-498f-94b6-bf2e85be316d",
   "metadata": {},
   "outputs": [
    {
     "data": {
      "text/plain": [
       "(-4.692831141285491, -4.022365028271948)"
      ]
     },
     "execution_count": 89,
     "metadata": {},
     "output_type": "execute_result"
    }
   ],
   "source": [
    "y_1 = math.log10(W_1/λ_1)\n",
    "y_2 = math.log10(W_2/λ_2)\n",
    "y_1, y_2"
   ]
  },
  {
   "cell_type": "code",
   "execution_count": 90,
   "id": "0a822f8d-137d-4aee-a5b5-0ad9fef34c1b",
   "metadata": {},
   "outputs": [],
   "source": [
    "# these x axes values were read from provided\n",
    "# figure using calculated y axes values - log10(W/λ) \n",
    "x_1 = 17.1\n",
    "x_2 = 18.6"
   ]
  },
  {
   "cell_type": "markdown",
   "id": "dc018084-9e7c-406f-a12d-b70661e829ee",
   "metadata": {},
   "source": [
    "#### For the 330.298nm line:\n",
    "    \n",
    "$$\n",
    "log_{10}N_a = log_{10}(\\frac{f N_a \\lambda}{500nm}) - log_{10}(\\frac{f \\lambda}{500nm})\n",
    "$$\n",
    "\n",
    "Let:\n",
    "\n",
    "$$\n",
    "log_{10}(\\frac{f N_a \\lambda}{500nm}) = 17.1\n",
    "$$\n",
    "\n",
    "So:\n",
    "\n",
    "$$\n",
    "log_{10}N_a = log_{10}(\\frac{f N_a \\lambda}{500nm}) - log_{10}(\\frac{f \\lambda}{500nm}) = 17.1 - (-2.49) = 19.59\n",
    "$$\n",
    "\n"
   ]
  },
  {
   "cell_type": "code",
   "execution_count": 91,
   "id": "0320afd7-406c-4b59-ac08-1204a252e09b",
   "metadata": {},
   "outputs": [
    {
     "data": {
      "text/plain": [
       "19.589867980321188"
      ]
     },
     "execution_count": 91,
     "metadata": {},
     "output_type": "execute_result"
    }
   ],
   "source": [
    "log10_na_1 = x_1 - math.log10( (f_1 * λ_1) / 500.0E-9 )\n",
    "log10_na_1"
   ]
  },
  {
   "cell_type": "markdown",
   "id": "f5c7b6ed-b120-49c7-88e9-f0f539c64ed0",
   "metadata": {},
   "source": [
    "#### For the 589.594nm line:\n",
    "    \n",
    "$$\n",
    "log_{10}N_a = log_{10}(\\frac{f N_a \\lambda}{500nm}) - log_{10}(\\frac{f \\lambda}{500nm})\n",
    "$$\n",
    "\n",
    "Let:\n",
    "\n",
    "$$\n",
    "log_{10}(\\frac{f N_a \\lambda}{500nm}) = 18.55\n",
    "$$\n",
    "\n",
    "So:\n",
    "\n",
    "$$\n",
    "log_{10}N_a = 16.5 - log_{10}(\\frac{f \\lambda}{500nm}) = 18.55 - (-0.42) = 19.02\n",
    "$$"
   ]
  },
  {
   "cell_type": "code",
   "execution_count": 92,
   "id": "b935e841-1532-43b4-813c-8e89b964f7d2",
   "metadata": {},
   "outputs": [
    {
     "data": {
      "text/plain": [
       "19.016533588078996"
      ]
     },
     "execution_count": 92,
     "metadata": {},
     "output_type": "execute_result"
    }
   ],
   "source": [
    "log10_na_2 = x_2 - math.log10( (f_2 * λ_2) / 500.0E-9 )\n",
    "log10_na_2"
   ]
  },
  {
   "cell_type": "markdown",
   "id": "fc8f741d-7f70-4a7b-a7ee-dbbbe642a867",
   "metadata": {},
   "source": [
    "#### Average\n",
    "\n",
    "$$\n",
    "log_{10}N_{a,avg} \\frac{log_{10}18.99 + log_{10}18.97}{2} = 18.98\n",
    "$$\n",
    "\n",
    "Or\n",
    "\n",
    "$$10^{18.98} = 9.510 * 10^{18} m^2$$"
   ]
  },
  {
   "cell_type": "code",
   "execution_count": 93,
   "id": "c0319367-14a5-42be-9450-efe8174f1820",
   "metadata": {},
   "outputs": [
    {
     "data": {
      "text/plain": [
       "19.303200784200094"
      ]
     },
     "execution_count": 93,
     "metadata": {},
     "output_type": "execute_result"
    }
   ],
   "source": [
    "log10_na_avg = (log10_na_1 + log10_na_2) / 2\n",
    "log10_na_avg"
   ]
  },
  {
   "cell_type": "markdown",
   "id": "31cea2f0-c1dc-4e6b-9557-66475ebebce5",
   "metadata": {},
   "source": [
    "#### Going further.. we can use the Saha equation to get ratio of N2/N1, where:\n",
    "\n",
    "- $Z_1$ = 2.4\n",
    "- $Z_2$ = 1\n",
    "- $\\chi_1$ = 5.14eV\n",
    "- $T$ = 5800K\n",
    "- $P_e$ = 1 N m-2\n",
    "\n",
    "$$\n",
    "\\frac{N_{i+1}}{N_i} = \\frac{2kT Z_{i+1}}{P_e Z_i} (\\frac{2\\pi m_e kT}{h^2})^{3/2} e^{-\\chi_i/kT} = 2434\n",
    "$$"
   ]
  },
  {
   "cell_type": "code",
   "execution_count": 94,
   "id": "6e29d30e-2027-4f85-b56c-76d1b69d6215",
   "metadata": {
    "tags": []
   },
   "outputs": [],
   "source": [
    "m_e = 9.10938215E-31 # electron mass kg\n",
    "h = 6.62606896E-34   # plank constant J\n",
    "k = 1.3806504E-23    # boltzman constant J \n",
    "c = 299792458\n",
    "\n",
    "T = 5800\n",
    "P_e = 1\n",
    "Z_1 = 2.4\n",
    "Z_2 = 1\n",
    "ev_factor = 6.242E+18\n",
    "chi_1 = 5.14 / ev_factor"
   ]
  },
  {
   "cell_type": "code",
   "execution_count": 95,
   "id": "5938c7a7-95fe-4a63-b890-47a8b7f3627f",
   "metadata": {
    "tags": []
   },
   "outputs": [],
   "source": [
    "def saha_equation_pressure(Z_1, Z_2, k, T, P_e, m_e, chi_i, h):\n",
    "    return \\\n",
    "    ((2 * k * T * Z_2) / (P_e * Z_1)) * \\\n",
    "    ((2 * math.pi * m_e * k * T) / h**2)**(3/2) * \\\n",
    "    math.e ** -(chi_i / (k*T))"
   ]
  },
  {
   "cell_type": "code",
   "execution_count": 96,
   "id": "4b2a694f-ac85-45d5-a09d-5e11dfa12abd",
   "metadata": {},
   "outputs": [
    {
     "data": {
      "text/plain": [
       "2434.461931156807"
      ]
     },
     "execution_count": 96,
     "metadata": {},
     "output_type": "execute_result"
    }
   ],
   "source": [
    "N2_N1 = saha_equation_pressure(Z_1, Z_2, k, T, P_e, m_e, chi_1, h)\n",
    "N2_N1"
   ]
  },
  {
   "cell_type": "markdown",
   "id": "01e78a06-ea12-4613-8887-c48237dcd17e",
   "metadata": {},
   "source": [
    "#### Combine ratio with number of ground state Na\n",
    "\n",
    "i.e. _total_ number of sodium atoms per unit area:\n",
    "\n",
    "$$\n",
    "\\frac{N_{i+1}}{N_i} * 10^{18.98} = 2.31 * 10^{22} m^{-2}\n",
    "$$"
   ]
  },
  {
   "cell_type": "code",
   "execution_count": 97,
   "id": "26870309-cb37-4d1d-be25-bfab911af5f1",
   "metadata": {},
   "outputs": [
    {
     "data": {
      "text/plain": [
       "4.893321739330477e+22"
      ]
     },
     "execution_count": 97,
     "metadata": {},
     "output_type": "execute_result"
    }
   ],
   "source": [
    "math.pow(10, log10_na_avg) * N2_N1"
   ]
  },
  {
   "cell_type": "markdown",
   "id": "67aed5b8-fcf2-4274-8f4f-5b2b6fec96c2",
   "metadata": {},
   "source": [
    "## b) Using the results from Example 9.5.5 in the textbook, calculate an average value of Na. Hint: Follow the same process as given in Example 9.5.5, in the textbook."
   ]
  },
  {
   "cell_type": "markdown",
   "id": "6c753f91-9cdd-449e-8e86-eacdd54ae7df",
   "metadata": {},
   "source": [
    "See above.."
   ]
  },
  {
   "cell_type": "markdown",
   "id": "75bb70c5-91a7-4568-b9ae-ef8b63cefef0",
   "metadata": {},
   "source": [
    "# Question A1-P03-2 - 1 mark\n",
    "Assuming a wavelength of 5000 ̊A, how far could you see through the Earth’s atmosphere assuming it had the opacity and density of the solar photosphere?\n",
    "\n",
    "_Hint: See Example 9.2.2, in the textbook._"
   ]
  },
  {
   "cell_type": "markdown",
   "id": "9d28c862-5288-45b1-af2b-5177470c9e09",
   "metadata": {},
   "source": [
    "## Answer\n",
    "\n",
    "- wavelength $\\lambda$ is 500nm\n",
    "- approx density $\\rho$ of solar atmosphere is $2.1*10^{-4}$kg m-3\n",
    "- the opacity $\\kappa_{500}$ is $0.03m^2 kg^{-1}$\n",
    "\n",
    "Distance a photon may travel before being removed:\n",
    "\n",
    "$$\n",
    "L = \\frac{1}{\\kappa_{500} \\rho} = \\frac{1}{0.03m^2 kg^{-1} * 2.1*10^{-4}kg m^{-3}} = 159km\n",
    "$$\n",
    "\n",
    "For the solar atmosphere, we typically see to optical depth of $\\tau_{\\lambda} = 2/3$:\n",
    "\n",
    "$$\n",
    "L\\frac 23 = 106km\n",
    "$$"
   ]
  },
  {
   "cell_type": "code",
   "execution_count": 101,
   "id": "3a5b39b3-5c7b-4908-b3af-94b5631b20d2",
   "metadata": {},
   "outputs": [
    {
     "data": {
      "text/plain": [
       "(158.73015873015873, 105.82010582010582)"
      ]
     },
     "execution_count": 101,
     "metadata": {},
     "output_type": "execute_result"
    }
   ],
   "source": [
    "λ = 500.0E-9 # 500nm\n",
    "rho = 2.1E-4\n",
    "kappa_500 = 0.03\n",
    "L = 1 / (kappa_500 * rho)\n",
    "L / 1000, (L / 1000)*2/3 "
   ]
  },
  {
   "cell_type": "markdown",
   "id": "6b1ad009-c243-4a6b-8e57-21f131630b21",
   "metadata": {},
   "source": [
    "# Question A1-P03-3 - 1 mark\n",
    "A planetary nebula can sometime appear as a ring around a star. Assuming that the nebula is a hollow spherical shell of gas surrounding the star, explain how it can appear as a glowing ring. \n",
    "\n",
    "What can you say about the optical thickness of the nebula if this is the case?\n",
    "\n",
    "_Hint: Provide a diagram in your answer._"
   ]
  },
  {
   "cell_type": "markdown",
   "id": "ee79e4ea-7299-4634-9dc8-6db27643275e",
   "metadata": {},
   "source": [
    "## Answer\n",
    "\n",
    "If we look at the center of a spherical planetary nebula we see the least amount of light because of the shallow path taken through the radiative shell (Path A in below Figure).\n",
    "\n",
    "Inversly, if we look at the edges of a spherical planetary nebula we see the greatest amount of light because of the deeper path taken through the radiative shell (Path B in below Figure).\n",
    "\n",
    "\n",
    "\n",
    "This suggests that spherical planetary nebula are optically _thin_ (if they were optically thick, they would appear more like a glowing disk)."
   ]
  },
  {
   "cell_type": "code",
   "execution_count": 22,
   "id": "8d6ba01e-fe61-4187-901d-aa786fb6f361",
   "metadata": {},
   "outputs": [
    {
     "data": {
      "text/html": [
       "<img src=\"../figures/glowing-ring.png\" />\n",
       "<h4>Figure: observing the center and edges of a spherical planetary nebula</h4>\n"
      ],
      "text/plain": [
       "<IPython.core.display.HTML object>"
      ]
     },
     "metadata": {},
     "output_type": "display_data"
    }
   ],
   "source": [
    "%%HTML\n",
    "<img src=\"../figures/glowing-ring.png\" />\n",
    "<h4>Figure: observing the center and edges of a spherical planetary nebula</h4>"
   ]
  },
  {
   "cell_type": "markdown",
   "id": "66658775-c087-47c9-94d6-ae52efb9f8d0",
   "metadata": {},
   "source": [
    "# Question A1-P04-1 - 1 mark\n",
    "The Q value of a reaction is the amount of energy released (or absorbed) during the reaction. Calculate the Q value for each step in the first branch of the **CNO cycle** given below. Express your answers in MeV.\n",
    "\n",
    "_Hint: The atomic mass of Hydrogen and Helium are given in the hints for A1-P04-3. The atomic mass of others are: Carbon-12 = 12.0000, Carbon-13 = 13.0034, Nitrogen-13 = 13.0057, Nitrogen-14 = 14.0031, Nitrogen-15 = 15.0001, and Oxygen-15 = 15.0031._\n",
    "\n",
    "Atomic mass of Hydrogen: 1.0079u, Helium: 4.0026u\n",
    "\n",
    "# TODO - reference where neutrino mass came from.\n",
    "## Answer\n",
    "\n",
    "Subtract products from reactants.\n",
    "\n",
    "Convert atomic mass units to MeV, $mev = 931.5$\n",
    "\n",
    "#### Stage 1\n",
    "\n",
    "$$\n",
    "Q = ( (12.0000 + 1.0079) - (13.0057) ) * mev = 2.05MeV\n",
    "$$\n",
    "\n",
    "Photon mass/energy ignored.\n",
    "\n",
    "#### Stage 2\n",
    "\n",
    "Let positron and neutrino mass be: $0.511$ MeV, and $1.0*10^{-7}$ MeV respectively.\n",
    "\n",
    "$$\n",
    "Q = ( (13.0057) - (13.0034 + \\frac{0.511 + 1.0*10^{-7}}{mev} ) ) * mev = 1.63MeV\n",
    "$$\n",
    "\n",
    "Or, ignoring leptons (wasn't clear to me whether to include them):\n",
    "\n",
    "$$\n",
    "Q = ( 13.0057 - 13.0034 ) * mev = 2.14MeV\n",
    "$$\n",
    "\n",
    "#### Stage 3\n",
    "\n",
    "$$\n",
    "Q = ( (13.0034 + 1.0079) - (14.0031) ) * mev = 7.64MeV\n",
    "$$\n",
    "\n",
    "Photon mass/energy ignored.\n",
    "\n",
    "\n",
    "#### Stage 4\n",
    "\n",
    "$$\n",
    "Q = ( (14.0031 + 1.0079) - (15.0031) ) * mev = 7.36MeV\n",
    "$$\n",
    "\n",
    "Photon mass/energy ignored.\n",
    "\n",
    "\n",
    "#### Stage 5\n",
    "\n",
    "Let positron and neutrino mass be: $0.511$ MeV, and $1.0*10^{-7}$ MeV respectively.\n",
    "\n",
    "$$\n",
    "Q = ( (15.0031) - (15.0001 + \\frac{0.511 + 1.0*10^{-7}}{mev} ) ) * mev = 2.28MeV\n",
    "$$\n",
    "\n",
    "Or, ignoring leptons (wasn't clear to me whether to include them):\n",
    "\n",
    "$$\n",
    "Q = ( 15.0031 - 15.0001 ) * mev = 2.79MeV\n",
    "$$\n",
    "\n",
    "#### Stage 6\n",
    "\n",
    "$$\n",
    "Q = ( (15.0001 + 1.0079) - (12.0000 + 4.0026) ) * mev = 5.03MeV\n",
    "$$\n",
    "\n",
    "Photon mass/energy ignored."
   ]
  },
  {
   "cell_type": "code",
   "execution_count": 23,
   "id": "c657e770-d3e7-43d0-bec3-862272e7cfad",
   "metadata": {},
   "outputs": [
    {
     "data": {
      "text/plain": [
       "(2.049300000000585,\n",
       " 1.631449900000007,\n",
       " 7.638299999998708,\n",
       " 7.35885000000053,\n",
       " 2.2834998999987874,\n",
       " 5.030099999999948)"
      ]
     },
     "execution_count": 23,
     "metadata": {},
     "output_type": "execute_result"
    }
   ],
   "source": [
    "# AMU to MeV\n",
    "mev = 931.5\n",
    "\n",
    "# provided in amu\n",
    "H = 1.0079 * mev\n",
    "He = 4.0026 * mev\n",
    "C_12 = 12.0000 * mev\n",
    "C_13 = 13.0034 * mev \n",
    "N_13 = 13.0057 * mev \n",
    "N_14 = 14.0031 * mev\n",
    "N_15 = 15.0001 * mev\n",
    "O_15 = 15.0031 * mev\n",
    "\n",
    "# in MeV\n",
    "electron = 0.511\n",
    "neutrino = 0.1E-6\n",
    "\n",
    "s1 = (C_12 + H) - (N_13)\n",
    "s2 = (N_13) - (C_13 + electron + neutrino)\n",
    "s3 = (C_13 + H) - (N_14)\n",
    "s4 = (N_14 + H) - (O_15)\n",
    "s5 = (O_15) - (N_15 + electron + neutrino)\n",
    "s6 = (N_15 + H) - (C_12 + He)\n",
    "s1,s2,s3,s4,s5,s6"
   ]
  },
  {
   "cell_type": "markdown",
   "id": "ba0841a0-b92f-494c-ae66-4440a4c05684",
   "metadata": {},
   "source": [
    "# Question A1-P04-2 - 1 mark\n",
    "Neon burning is a short-lived phase in a massive star’s life (M > 8M⊙) occurring after Carbon burning. \n",
    "Two Neon burning steps are given below. \n",
    "\n",
    "Calculate the energy released or absorbed by each reaction in MeV. Are the reactions exothermic or endothermic?\n",
    "\n",
    "_Hint: The atomic mass of Helium is given in the hints for A1-P04-3. The atomic mass of others are: Oxygen-16 = 15.9949, Neon-20 = 19.9924 and Magnesium- 24 = 23.9850._\n",
    "\n",
    "\n",
    "## Answer\n",
    "\n",
    "Subtract products from reactants.\n",
    "\n",
    "Convert atomic mass units to MeV, $mev = 931.5$\n",
    "\n",
    "#### Reaction 1\n",
    "\n",
    "$$\n",
    "Q = ( (19.9924) - (15.9949 + 4.0026) ) * mev = -4.75MeV\n",
    "$$\n",
    "\n",
    "This reaction produces a negative Q-value, it is endothermic.\n",
    "\n",
    "#### Reaction 2\n",
    "\n",
    "$$\n",
    "Q = ( (19.9924 + 4.0026) - (23.9850) ) * mev = 9.32MeV\n",
    "$$\n",
    "\n",
    "This reaction produces a positive Q-value, it is exothermic.\n",
    "\n",
    "Photon mass/energy ignored.\n"
   ]
  },
  {
   "cell_type": "code",
   "execution_count": 24,
   "id": "7692eb85-8675-4d56-8aac-1029435abc46",
   "metadata": {},
   "outputs": [
    {
     "data": {
      "text/plain": [
       "(-4.7506499999981315, 9.315000000002328)"
      ]
     },
     "execution_count": 24,
     "metadata": {},
     "output_type": "execute_result"
    }
   ],
   "source": [
    "# AMU to MeV\n",
    "mev = 931.5\n",
    "\n",
    "# provided in amu\n",
    "He = 4.0026 * mev\n",
    "O_16 = 15.9949 * mev\n",
    "Ne_20 = 19.9924 * mev\n",
    "Mg_24 = 23.9850 * mev\n",
    "\n",
    "# reaction 1\n",
    "r1 = (Ne_20) - (O_16 + He)\n",
    "\n",
    "# reaction 2\n",
    "r2 = (Ne_20 + He) - (Mg_24)\n",
    "\n",
    "r1,r2"
   ]
  },
  {
   "cell_type": "markdown",
   "id": "461cef93-d185-42b6-b6a6-d48cd28b700b",
   "metadata": {},
   "source": [
    "# Question A1-P04-3 - 1 mark\n",
    "\n",
    "In the Sun the first proton-proton chain (PPI) converts four Hydrogen atoms into a helium atom. \n",
    "Given that the mass of a helium atom is less than that of four hydrogen atoms, use Einstein’s famous equation (E = mc2) to estimate the Sun’s main sequence lifetime.\n",
    "\n",
    "\n",
    "_Hint: Assume that the the fusion only occurs in the Sun’s core which is 10% of its current mass and that both stay the same during its main-sequence life. Also assume that the solar luminosity stays the same during the Sun’s main-sequence lifetime. Use the atomic mass of Hydrogen to be 1.0079u and Helium to be 4.0026u. Assume the core is initially completely comprised of Hydrogen._\n",
    "\n",
    "## Answer\n",
    "\n",
    "Calculate percent of mass for energy:\n",
    "\n",
    "$$\n",
    "E_{percent} = \\frac{4H}{He} - 1 = 0.007 = 0.7%\n",
    "$$\n",
    "\n",
    "Using $E = mc^2$, where mass is multiplied by 10% (size of core), and 0.7% (nuclear energy available):\n",
    "\n",
    "$$\n",
    "E_{nuclear} = 0.1 * 0.007 * M_{\\odot} c^2 = 1.3 * 10^{44}J\n",
    "$$\n",
    "\n",
    "Now with contant luminosity for Sun's main sequence lifetime, we get:\n",
    "\n",
    "$$\n",
    "\\frac{E_{nuclear}}{L_{\\odot}} = 3.37 * 10^{17} seconds = 10^{10} years\n",
    "$$"
   ]
  },
  {
   "cell_type": "code",
   "execution_count": 25,
   "id": "dd3ae9b6-ab8e-4709-9afe-f419bd4babd1",
   "metadata": {},
   "outputs": [
    {
     "data": {
      "text/plain": [
       "0.00724529056113532"
      ]
     },
     "execution_count": 25,
     "metadata": {},
     "output_type": "execute_result"
    }
   ],
   "source": [
    "H = 1.0079\n",
    "He = 4.0026\n",
    "M_sun = 1.9891E+30\n",
    "L_sun = 3.839E+26\n",
    "\n",
    "E_percent = ((4*H) / He) - 1\n",
    "E_percent"
   ]
  },
  {
   "cell_type": "code",
   "execution_count": 26,
   "id": "2e59ed9f-8b06-4076-b1e2-5724538056cb",
   "metadata": {},
   "outputs": [
    {
     "data": {
      "text/plain": [
       "1.2952506834242024e+44"
      ]
     },
     "execution_count": 26,
     "metadata": {},
     "output_type": "execute_result"
    }
   ],
   "source": [
    "E_nuclear = 0.1 * E_percent * M_sun * c**2\n",
    "E_nuclear"
   ]
  },
  {
   "cell_type": "code",
   "execution_count": 27,
   "id": "bbcbea01-882b-43b7-8ad6-7dc5071d91af",
   "metadata": {},
   "outputs": [
    {
     "data": {
      "text/plain": [
       "(3.373927281646789e+17, 10691330397.897144)"
      ]
     },
     "execution_count": 27,
     "metadata": {},
     "output_type": "execute_result"
    }
   ],
   "source": [
    "t_sec = E_nuclear / L_sun\n",
    "t_yr = t_sec / 60 / 60 / 24 / 365.25\n",
    "\n",
    "t_sec, t_yr"
   ]
  },
  {
   "cell_type": "markdown",
   "id": "719d459e-75f9-4649-93ea-dc43020cc0e9",
   "metadata": {},
   "source": [
    "# Question A1-P05-1 - 1 mark\n",
    "\n",
    "You are trying to observe through the solar photosphere with using two different wavelengths. \n",
    "\n",
    "The opacity at one wavelength is `0.022 m2 kg−1` and the other is `0.028 m2 kg−1`. \n",
    "\n",
    "Calculate the `depth` into the photosphere where the optical depth equals two-thirds at each wavelength. \n",
    "\n",
    "At what `wavelength` would you see further into the photosphere? How much further?\n",
    "\n",
    "\n",
    "_Hint: Assume that the temperature and density of the photosphere are 5,777 K and 2.2 × 10−4 kg m−3, respectively. Assume that κλ and ρ are constant over the volume you are looking at._\n",
    "\n",
    "## Answer\n",
    "\n",
    "$\\kappa_{\\lambda,1} = 0.022 m^2 kg^{-1}$\n",
    "\n",
    "$\\kappa_{\\lambda,2} = 0.028 m^2 kg^{-1}$\n",
    "\n",
    "$T = 5777K$\n",
    "\n",
    "$\\rho = 10*10^{-4}kg m^{-3}$\n",
    "\n",
    "Mean free paths:\n",
    "\n",
    "$$L_1 = \\frac{1}{\\kappa_{\\lambda, 1}\\rho} = \\frac{1}{0.022 m^2 kg^{-1} * 10*10^{-4}kg m^{-3}} = 2.06 * 10^5 m$$\n",
    "\n",
    "$$L_2 = \\frac{1}{\\kappa_{\\lambda, 2}\\rho} = \\frac{1}{0.028 m^2 kg^{-1} * 10*10^{-4}kg m^{-3}} = 1.62 * 10^5 m$$\n",
    "\n",
    "\n",
    "Optical depth at two-thirds:\n",
    "\n",
    "$$\\tau_{2/3, 1} = 2.06 * 10^5 m * \\frac{2}{3} = 1.37*10^5m$$\n",
    "\n",
    "$$\\tau_{2/3, 2} = 1.62 * 10^5 m * \\frac{2}{3} = 1.08*10^5m$$\n",
    "\n",
    "\n",
    "You can see further at the wavelength where $\\kappa_{\\lambda,1} = 0.022 m^2 kg^{-1}$, by approx:\n",
    "\n",
    "$$1.37*10^5m - 1.08*10^5m = 2.95*10^4m$$"
   ]
  },
  {
   "cell_type": "code",
   "execution_count": 28,
   "id": "c0ae63a4-8396-4ad1-9d74-60f825fc3613",
   "metadata": {},
   "outputs": [
    {
     "data": {
      "text/plain": [
       "(206611.57024793388, 162337.66233766233)"
      ]
     },
     "execution_count": 28,
     "metadata": {},
     "output_type": "execute_result"
    }
   ],
   "source": [
    "k_1 = 0.022\n",
    "k_2 = 0.028\n",
    "T = 5777\n",
    "rho = 2.2E-4\n",
    "\n",
    "# MFP's\n",
    "L_1 = 1 / (k_1 * rho)\n",
    "L_2 = 1 / (k_2 * rho)\n",
    "\n",
    "L_1, L_2"
   ]
  },
  {
   "cell_type": "code",
   "execution_count": 29,
   "id": "f4f8d9ed-f673-49b1-ac4c-ecc0b0bd447c",
   "metadata": {},
   "outputs": [
    {
     "data": {
      "text/plain": [
       "(137741.0468319559, 108225.10822510821, 29515.93860684769)"
      ]
     },
     "execution_count": 29,
     "metadata": {},
     "output_type": "execute_result"
    }
   ],
   "source": [
    "# optical depth at 2/3\n",
    "tau_2_3_1 = L_1 * (2/3)\n",
    "tau_2_3_2 = L_2 * (2/3)\n",
    "\n",
    "tau_2_3_1, tau_2_3_2, (tau_2_3_1 - tau_2_3_2)"
   ]
  },
  {
   "cell_type": "markdown",
   "id": "1423a567-4d38-49e5-a016-81f1af72a8a9",
   "metadata": {},
   "source": [
    "# Question A1-P05-2 - 1 mark\n",
    "One of the largest solar flares ever to erupt from the Sun was the Carrington super flare in 1859. If this flare came from a region with a magnetic field strength of 0.02 T and released $10^{27}$ J in one hour.\n",
    "\n",
    "_Hint: Assume that the magnetic energy density is constant throughout the volume of the flare. A large solar flare can reach a length of 100,000 km._\n",
    "\n",
    "a) What was the magnetic energy density in that region before the eruption began?\n",
    "\n",
    "### Answer\n",
    "\n",
    "$E = 10^{27} J$\n",
    "\n",
    "$B = 0.02T$\n",
    "\n",
    "$\\mu_0 = 4\\pi * 10^{-7} N A^{-2}$\n",
    "\n",
    "$$\n",
    "u_m = \\frac{B^2}{2\\mu_0} = \\frac{0.02T^2}{2* 4\\pi * 10^{-7} N A^{-2}} = 15.92 J m^3\n",
    "$$\n",
    "\n",
    "http://hyperphysics.phy-astr.gsu.edu/hbase/electric/engfie.html"
   ]
  },
  {
   "cell_type": "code",
   "execution_count": 30,
   "id": "8034b5b4-07e4-4391-b75d-01d498999749",
   "metadata": {},
   "outputs": [
    {
     "data": {
      "text/plain": [
       "15.915494309189537"
      ]
     },
     "execution_count": 30,
     "metadata": {},
     "output_type": "execute_result"
    }
   ],
   "source": [
    "E = 10**27\n",
    "B = 0.02\n",
    "permeability = 4 * math.pi * 10.0E-7\n",
    "\n",
    "u_m = (B**2) / (2*permeability)\n",
    "u_m"
   ]
  },
  {
   "cell_type": "markdown",
   "id": "cf4435a7-8391-4d0d-b307-05a081d47434",
   "metadata": {},
   "source": [
    "b) What minimum volume would be required to supply the magnetic energy necessary to fuel the flare?\n",
    "\n",
    "### Answer\n",
    "\n",
    "We know: \n",
    "- Energy of flare ($E$)\n",
    "- Energy density of flare ($u_m$)\n",
    "\n",
    "So:\n",
    "\n",
    "$$\n",
    "v = \\frac{E}{u_m} = \\frac{10^{27}J}{1.32*10^{12} J m^3} = 6.28*10^{25}m^3\n",
    "$$"
   ]
  },
  {
   "cell_type": "code",
   "execution_count": 31,
   "id": "0108999d-90b4-47f1-8e6d-8dfb38a23cf9",
   "metadata": {},
   "outputs": [
    {
     "data": {
      "text/plain": [
       "6.283185307179585e+25"
      ]
     },
     "execution_count": 31,
     "metadata": {},
     "output_type": "execute_result"
    }
   ],
   "source": [
    "v = E / u_m\n",
    "v"
   ]
  },
  {
   "cell_type": "markdown",
   "id": "a7f6698b-a09d-463c-a35b-efbb473fb0e4",
   "metadata": {},
   "source": [
    "c) Assuming for simplicity that the volume involved in supplying the energy for the flare eruption was a cube, compare the length of one side of the cube with the typical size of a large flare.\n",
    "\n",
    "### Answer\n",
    "\n",
    "Length of side is cube root of volume:\n",
    "\n",
    "$$L = \\sqrt[3]{v} = \\sqrt[3]{7.53*10^{14}m^3} = 3.98 * 10^8m$$\n",
    "\n",
    "Or approx 400,000km!\n",
    "\n",
    "Large flares are said to extend up to 100,000km, so this flare would be around four times greater than a 'large' flare (this might also be considered conservative, as the cube approximation may be a poor representation if solar flares are more elongated in shape than a cube)."
   ]
  },
  {
   "cell_type": "code",
   "execution_count": 32,
   "id": "bca1eb4e-3567-4bed-85ba-f86116272184",
   "metadata": {},
   "outputs": [
    {
     "data": {
      "text/plain": [
       "397551402.0718981"
      ]
     },
     "execution_count": 32,
     "metadata": {},
     "output_type": "execute_result"
    }
   ],
   "source": [
    "L = v ** (1. / 3)\n",
    "L"
   ]
  },
  {
   "cell_type": "markdown",
   "id": "42b836f2-032f-41b9-8dd7-704f104b5146",
   "metadata": {},
   "source": [
    "# Question A1-P05-3 - 1 mark\n",
    "Describe in your own words (less than a page) the `main observational features` of the cyclic solar magnetic dynamo and briefly describe how the dynamo is thought to operate inside the Sun.\n",
    "\n",
    "_Hint: Feel free to use further information from other sources for this answer, but remember it must be in your own words, and reference where you got the information from._\n",
    "\n",
    "The main observational features which suggest the Sun has a cyclic, internal magnetic dynamo are:\n",
    "\n",
    "- The 11 year cycle of sunspots (number of sunspots increases and decreases over approx 11 year cycle)\n",
    "- The latitudes of sunspots changes with the 11 year cycle. At maxima, sunspots are located near the equator, while sunspots are located at higher latitudes towards the minima\n",
    "- The polarities of sunspots are also cyclic. The polarity of leading sunspots in one hemisphere is inverse to those in the opposing hemisphere, and these polarities 'flip' each cycle.\n",
    "- This 11 year cycle is half of the 22 year Hale cycle (REF NASA/Marshall Solar Physics n.d.), which corresponds to oscillations in the toroidal and poloidal solar magnetic fields (and susequent magnetic ropes)\n",
    "\n",
    "How does it work?\n",
    "\n",
    "It is not yet known _exactly_ how the solar dynamo works, however in principal - it is thought to be powered by the hydrodynamic processes of turbulant convective motion and differential rotation in the Sun's plasma."
   ]
  },
  {
   "cell_type": "code",
   "execution_count": null,
   "id": "ec9c36ad-7dd8-4fb5-8229-e6f8dd1bfa89",
   "metadata": {},
   "outputs": [],
   "source": []
  },
  {
   "cell_type": "markdown",
   "id": "72339145-788a-4d66-b1cb-4cb11b1050a6",
   "metadata": {},
   "source": [
    "# Question A1-P05-4 - 1 mark\n",
    "The magnetic field strength of sunspots is often given in Gauss. Given a large sunspot with a magnetic\n",
    "field strength of 3000 Gauss, what is the magnetic pressure in the centre of the umbra of the sunspot?\n",
    "\n",
    "### Answer\n",
    "\n",
    "B = 0.3T\n",
    "\n",
    "$$\n",
    "P_m = \\frac{B^2}{2\\mu_0} = \\frac{0.03^2}{2* 4\\pi * 10^{-7} N A^{-2}} = 3.58*10^3 J m^3\n",
    "$$"
   ]
  },
  {
   "cell_type": "code",
   "execution_count": 33,
   "id": "793a33b2-ba91-4b25-ad0c-b36731382517",
   "metadata": {},
   "outputs": [
    {
     "data": {
      "text/plain": [
       "3580.986219567645"
      ]
     },
     "execution_count": 33,
     "metadata": {},
     "output_type": "execute_result"
    }
   ],
   "source": [
    "B = 0.3\n",
    "permeability = 4 * math.pi * 10.0E-7\n",
    "P_m = (B**2) / (2*permeability)\n",
    "P_m"
   ]
  },
  {
   "cell_type": "markdown",
   "id": "b67fab12-0b8f-4d1d-8729-04bea188fada",
   "metadata": {},
   "source": [
    "# Question A1-P06-1 - 1 mark\n",
    "If a spherical dust grain was orbiting the Sun at the outer edge of the Kuiper Belt, what would the\n",
    "temperature of this dust grain be?\n",
    "\n",
    "_Hint: Assume the Kuiper Belt extends from 30 to 50 AU and that the dust grain is a perfect blackbody in thermal equilibrium (i.e. the rate at which it absorbs energy from the Sun is the same as the rate it radiates energy). You will need to use formulas from Chapter 3 of the textbook to answer this question._"
   ]
  },
  {
   "cell_type": "code",
   "execution_count": null,
   "id": "eca1c49d-452b-4d36-b898-c0cd05e6891c",
   "metadata": {},
   "outputs": [],
   "source": []
  },
  {
   "cell_type": "markdown",
   "id": "43a4b2a3-a839-4701-8932-6c76526870dd",
   "metadata": {},
   "source": [
    "# Question A1-P06-2 - 2 marks\n",
    "The interstellar extinction towards the 30 Doradus nebula in the Large Magellanic Cloud (lying at a distance of `51.4 kpc`) was determined by Guido De Marchi et al. (2013) to be `RB = 6.52 (in the B band)`. \n",
    "\n",
    "Now the level of extinction (AB) varies across the nebula, but given that `Rλ = Aλ/E(B-V)` and using an average `E(B-V)` value of the nebula of `0.38` calculate the following:\n",
    "\n",
    "_Hint: Assume that all the interstellar extinction in the direction of `30 Doradus` is caused by the nebula and that the depth of the nebula is negligible. A solar twin is a main-sequence solar mass star, so use the data for the Sun from Appendix G: Stellar Data, in the textbook, to answer this question._\n",
    "\n",
    "\n",
    "a) The apparent blue magnitude of a solar twin if it was lying just in front of the nebula. \n"
   ]
  },
  {
   "cell_type": "code",
   "execution_count": null,
   "id": "91683c24-dc30-41c4-b250-5ba30ae8d21d",
   "metadata": {},
   "outputs": [],
   "source": []
  },
  {
   "cell_type": "markdown",
   "id": "298ffb10-d73f-4be5-87a5-816ba1554d32",
   "metadata": {},
   "source": [
    "b) The apparent blue magnitude of a solar twin lying just behind the nebula."
   ]
  },
  {
   "cell_type": "code",
   "execution_count": null,
   "id": "577d7866-9aaa-4abc-b871-2a3f546f033a",
   "metadata": {},
   "outputs": [],
   "source": []
  },
  {
   "cell_type": "markdown",
   "id": "03903ce4-95ca-421f-83b5-3c767e1c02bf",
   "metadata": {},
   "source": [
    "c) What distance to the star would we calculate if we ignored interstellar extinction?"
   ]
  },
  {
   "cell_type": "code",
   "execution_count": null,
   "id": "5f84a3ae-4648-4733-aa49-a5357d093c9a",
   "metadata": {},
   "outputs": [],
   "source": []
  },
  {
   "cell_type": "markdown",
   "id": "a2616f8b-899b-4129-a3a8-f20c439c5074",
   "metadata": {},
   "source": [
    "# Question A1-P06-3 - 1 mark\n",
    "If a massive O star has a mass loss rate of 5 × 10−7 M⊙ yr−1 through its stellar wind and given a wind velocity of 30 km s−1, if a planet lies 300 AU from the star, calculate the mass density of the wind at the planet."
   ]
  },
  {
   "cell_type": "code",
   "execution_count": null,
   "id": "6fb32ff5-0af9-4481-a912-347d658358a6",
   "metadata": {},
   "outputs": [],
   "source": []
  },
  {
   "cell_type": "code",
   "execution_count": null,
   "id": "53c0a9bb-eb3f-4bb2-9c02-aaeefe93c4df",
   "metadata": {},
   "outputs": [],
   "source": []
  },
  {
   "cell_type": "code",
   "execution_count": null,
   "id": "25138ea0-b1ac-44c8-ba34-3200bcb89336",
   "metadata": {},
   "outputs": [],
   "source": []
  },
  {
   "cell_type": "markdown",
   "id": "db1d535e-75c0-4a6e-a114-6d688ec4d79d",
   "metadata": {},
   "source": [
    "# Reference\n",
    "\n",
    "NASA/Marshall Solar Physics., n.d., _The Solar Dynamo_, viewed 20 August 2022 \\<https://solarscience.msfc.nasa.gov/dynamo.shtml>."
   ]
  },
  {
   "cell_type": "code",
   "execution_count": 35,
   "id": "a3f6b34e-15a6-4e82-ad25-964c4c684116",
   "metadata": {},
   "outputs": [
    {
     "data": {
      "text/plain": [
       "0.85"
      ]
     },
     "execution_count": 35,
     "metadata": {},
     "output_type": "execute_result"
    }
   ],
   "source": [
    "17/20"
   ]
  },
  {
   "cell_type": "code",
   "execution_count": null,
   "id": "1476e139-216b-411a-93c4-b4eb642d9e0d",
   "metadata": {},
   "outputs": [],
   "source": []
  }
 ],
 "metadata": {
  "kernelspec": {
   "display_name": "Python 3 (ipykernel)",
   "language": "python",
   "name": "python3"
  },
  "language_info": {
   "codemirror_mode": {
    "name": "ipython",
    "version": 3
   },
   "file_extension": ".py",
   "mimetype": "text/x-python",
   "name": "python",
   "nbconvert_exporter": "python",
   "pygments_lexer": "ipython3",
   "version": "3.7.11"
  }
 },
 "nbformat": 4,
 "nbformat_minor": 5
}
