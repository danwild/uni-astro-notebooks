{
 "cells": [
  {
   "cell_type": "markdown",
   "id": "19977a65-e446-4228-b67c-b045b6a097c4",
   "metadata": {},
   "source": [
    "# Saha Equation (with number density of free electrons $n_e$)\n",
    "\n",
    "Chapter 8, Caroll and Ostlie.\n",
    "\n",
    "$$\n",
    "\\frac{N_{i+1}}{N_i} = \\frac{2Z_{i+1}}{n_e Z_i} (\\frac{2\\pi m_e kT}{h^2})^{3/2} e^{-\\chi_i/kT}\n",
    "$$\n",
    "\n",
    "# Saha Equation (with electron pressure $P_e$)\n",
    "\n",
    "$$\n",
    "\\frac{N_{i+1}}{N_i} = \\frac{2kT Z_{i+1}}{P_e Z_i} (\\frac{2\\pi m_e kT}{h^2})^{3/2} e^{-\\chi_i/kT}\n",
    "$$\n",
    "\n",
    "## Partition function (Z)\n",
    "\n",
    "$$\n",
    "Z = \\sum^{\\infty}_{j=1} g_j e^{-(E_j-E_1)/kT}\n",
    "$$\n",
    "\n",
    "$h$ is plank contant\n",
    "\n",
    "$m_e$ is electron mass\n",
    "\n",
    "$\\chi_i$ is the ionization energy needed to remove electron from atom \n",
    "\n",
    "$k$ = Boltzman constant\n",
    "\n",
    "$E_a,E_b$ are energies (typically eV)\n",
    "\n",
    "$g_a,g_b$ are number of degenerate states (i.e. how many different quantum states are there which have the same energy) , e.g.  for hydrogen:\n",
    "\n",
    "> $g_b = 2n^2$\n"
   ]
  },
  {
   "cell_type": "code",
   "execution_count": 1,
   "id": "c6d88b1a-b084-4e81-8526-7e1f1e0a373c",
   "metadata": {},
   "outputs": [],
   "source": [
    "import math\n",
    "import pandas as pd\n",
    "import matplotlib.pyplot as plt"
   ]
  },
  {
   "cell_type": "code",
   "execution_count": 2,
   "id": "bd116a1f-b028-4d04-9800-51a615ac8d16",
   "metadata": {},
   "outputs": [],
   "source": [
    "def saha_equation_pressure(Z_1, Z_2, k, T, P_e, m_e, chi_i, h):\n",
    "    return \\\n",
    "    ((2 * k * T * Z_2) / (P_e * Z_1)) * \\\n",
    "    ((2 * math.pi * m_e * k * T) / h**2)**(3/2) * \\\n",
    "    math.e ** -(chi_i / (k*T))"
   ]
  },
  {
   "cell_type": "code",
   "execution_count": 3,
   "id": "82115ac5-3328-4709-b857-b22ba18ce541",
   "metadata": {},
   "outputs": [],
   "source": [
    "def partition_function_j(j, E_j, E_1, k, T):\n",
    "    \"\"\"\n",
    "    Calculate the value for one partition (j), of the partition function Z.\n",
    "    Eq (8.7), Caroll and Ostlie p214.\n",
    "    \"\"\"\n",
    "    return 2*(j**2) * math.e ** (-(E_j - E_1) / (k*T)) "
   ]
  },
  {
   "cell_type": "markdown",
   "id": "7bb9f3b1-db4d-4144-aa50-43806763b54d",
   "metadata": {},
   "source": [
    "# Problem 8.7"
   ]
  },
  {
   "cell_type": "code",
   "execution_count": 4,
   "id": "e15c82aa-82f3-4084-8eaa-ef2f281c3fc1",
   "metadata": {},
   "outputs": [
    {
     "name": "stdout",
     "output_type": "stream",
     "text": [
      "Z_1: 2.0\n"
     ]
    }
   ],
   "source": [
    "j = 1\n",
    "E_j = -13.6\n",
    "E_1 = -13.6\n",
    "k = 8.6173E-16\n",
    "T = 10000\n",
    "\n",
    "# j = 1\n",
    "Z_1 = partition_function_j(j, E_j, E_1, k, T)\n",
    "\n",
    "# j = 2\n",
    "# E_j = -3.4\n",
    "# Z_2 = partition_function(j, E_j, E_1, k, T)\n",
    "\n",
    "print('Z_1: %s' % Z_1)\n",
    "# print('Z_2: %s' % Z_2)"
   ]
  },
  {
   "cell_type": "code",
   "execution_count": 5,
   "id": "a0bc9221-13d3-44b1-a686-04fa8b0b346a",
   "metadata": {},
   "outputs": [
    {
     "data": {
      "text/plain": [
       "-0.0"
      ]
     },
     "execution_count": 5,
     "metadata": {},
     "output_type": "execute_result"
    }
   ],
   "source": [
    "-(E_j - E_1)"
   ]
  },
  {
   "cell_type": "code",
   "execution_count": 6,
   "id": "447ca949-73cc-4a73-8d88-2bba2e343f55",
   "metadata": {},
   "outputs": [
    {
     "data": {
      "text/plain": [
       "-0.0"
      ]
     },
     "execution_count": 6,
     "metadata": {},
     "output_type": "execute_result"
    }
   ],
   "source": [
    "(-(E_j - E_1) / (k*T)) "
   ]
  },
  {
   "cell_type": "code",
   "execution_count": 7,
   "id": "940c8937-3508-4c55-84b1-6bdf97e8bd06",
   "metadata": {},
   "outputs": [
    {
     "data": {
      "text/plain": [
       "1.0"
      ]
     },
     "execution_count": 7,
     "metadata": {},
     "output_type": "execute_result"
    }
   ],
   "source": [
    " math.e ** (-(E_j - E_1) / (k*T)) "
   ]
  },
  {
   "cell_type": "markdown",
   "id": "b3ce566c-f270-485a-b359-3fea60fc1872",
   "metadata": {},
   "source": [
    "# Problem 8.10\n",
    "\n",
    "In this problem, you will follow a procedure similar to that of Example 8.1.4 for the case of a\n",
    "stellar atmosphere composed of pure helium to find the temperature at the middle of the He I\n",
    "partial ionization zone, where half of the He I atoms have been ionized. (Such an atmosphere would be found on a white dwarf of spectral type DB; see Section 16.1) \n",
    "\n",
    "The ionization energies of neutral helium and singly ionized helium are $\\chi_I = 24.6 eV$ and $\\chi_{II} = 54.4 eV$, respectively.\n",
    "\n",
    "The partition functions are $Z_I = 1, Z_{II} = 2, Z_{III} = 1$ (as expected for any completely ionized atom). \n",
    "\n",
    "Use $P_e = 20 N m^{-2}$ for the electron pressure.\n",
    "\n",
    "(a) Use Eq. (8.9) to find $N_{II}/N_I$ and $N_{III}/N_{II}$ for temperatures of 5000 K, 15,000 K, and 25,000K\n",
    "How do they compare?\n",
    "\n",
    "### Answer\n",
    "\n",
    "$N_{II}/N_I$ - climbs rapidly from 10000K to 20000K, 50% at ~15000K, nears 100% ionization at 20000K)\n",
    "\n",
    "$N_{III}/N_{II}$ - climbs less rapidly from 25000K to 40000K, 50% at ~32500K, nears 100% ionization at 41000K)"
   ]
  },
  {
   "cell_type": "markdown",
   "id": "320fbc3e-7df8-41e8-872a-097d1b2e6c6b",
   "metadata": {},
   "source": [
    "## REPLICATING EXAMPLE 8.1.4 p215"
   ]
  },
  {
   "cell_type": "code",
   "execution_count": 8,
   "id": "4b30f12a-9b89-4b9b-b756-e230dffed611",
   "metadata": {
    "collapsed": true,
    "jupyter": {
     "outputs_hidden": true,
     "source_hidden": true
    },
    "tags": []
   },
   "outputs": [
    {
     "name": "stdout",
     "output_type": "stream",
     "text": [
      "5000: 5.769709890712015e-08, 10000: 0.6999249846969674, 15000: 0.9991929471110168\n"
     ]
    },
    {
     "data": {
      "text/plain": [
       "<AxesSubplot:xlabel='Temp'>"
      ]
     },
     "execution_count": 8,
     "metadata": {},
     "output_type": "execute_result"
    },
    {
     "data": {
      "image/png": "[encoded data removed]",
      "text/plain": [
       "<Figure size 720x720 with 1 Axes>"
      ]
     },
     "metadata": {
      "needs_background": "light"
     },
     "output_type": "display_data"
    }
   ],
   "source": [
    "m_e = 9.10938215E-31 # electron mass kg\n",
    "h = 6.62606896E-34   # plank constant J\n",
    "k = 1.38065E-23      # boltzman constant J \n",
    "\n",
    "Z_1 = 2\n",
    "Z_2 = 1\n",
    "P_e = 20\n",
    "\n",
    "chi_1_ev = 13.6\n",
    "chi_1 = 2.17896e-18\n",
    "\n",
    "# equation gives ratio of N_2/N_1\n",
    "ratio1 = saha_equation_pressure(Z_1, Z_2, k, 5000, P_e, m_e, chi_1, h)\n",
    "ratio2 = saha_equation_pressure(Z_1, Z_2, k, 10000, P_e, m_e, chi_1, h)\n",
    "ratio3 = saha_equation_pressure(Z_1, Z_2, k, 15000, P_e, m_e, chi_1, h)\n",
    "\n",
    "# convert ratio to fraction (i.e. 0-1)\n",
    "frac1 = ratio1 / (1 + ratio1)\n",
    "frac2 = ratio2 / (1 + ratio2)\n",
    "frac3 = ratio3 / (1 + ratio3)\n",
    "\n",
    "print('5000: %s, 10000: %s, 15000: %a' % (frac1,frac2,frac3))\n",
    "\n",
    "df = pd.DataFrame({\n",
    "    'Temp': [5000, 10000, 15000], \n",
    "    'N_2/N_1': [frac1, frac2, frac3]\n",
    "})\n",
    "\n",
    "df.plot(kind='line', x='Temp', figsize=(10,10), fontsize=12)"
   ]
  },
  {
   "cell_type": "markdown",
   "id": "8fefcf60-15b8-4877-b041-e35e16e297a9",
   "metadata": {},
   "source": [
    "## Working for part A"
   ]
  },
  {
   "cell_type": "code",
   "execution_count": 59,
   "id": "ace6740e-3623-4cae-93f0-23c5b8452004",
   "metadata": {
    "tags": []
   },
   "outputs": [
    {
     "name": "stdout",
     "output_type": "stream",
     "text": [
      "T=1000 -> 3.5337767883346955e-270\n",
      "T=2000 -> 2.441361265906274e-132\n",
      "T=3000 -> 3.337845110818585e-86\n",
      "T=4000 -> 4.826318876646053e-63\n",
      "T=5000 -> 4.310948550337179e-49\n",
      "T=6000 -> 9.368005807918376e-40\n",
      "T=7000 -> 4.644701806224678e-33\n",
      "T=8000 -> 5.103821633546967e-28\n",
      "T=9000 -> 4.402952089469668e-24\n",
      "T=10000 -> 6.375458428980402e-21\n",
      "T=11000 -> 2.5146684338875714e-18\n",
      "T=12000 -> 3.7327175756073216e-16\n",
      "T=13000 -> 2.6088776023716944e-14\n",
      "T=14000 -> 1.0077758841916619e-12\n",
      "T=15000 -> 2.4202529735693083e-11\n",
      "T=16000 -> 3.947505290937685e-10\n",
      "T=17000 -> 4.67882039310066e-09\n",
      "T=18000 -> 4.248030157480291e-08\n",
      "T=19000 -> 3.0801191256632386e-07\n",
      "T=20000 -> 1.8440275334863545e-06\n",
      "T=21000 -> 9.365516936709338e-06\n",
      "T=22000 -> 4.125492457062098e-05\n",
      "T=23000 -> 0.00016052105808938327\n",
      "T=24000 -> 0.0005600906257906541\n",
      "T=25000 -> 0.001774223689574305\n",
      "T=26000 -> 0.005151403009330251\n",
      "T=27000 -> 0.01379345903880731\n",
      "T=28000 -> 0.03410245015370983\n",
      "T=29000 -> 0.07738013727990603\n",
      "T=30000 -> 0.1586787610021083\n",
      "T=31000 -> 0.2875544463728498\n",
      "T=32000 -> 0.45226576722237216\n",
      "T=33000 -> 0.6185123325336948\n",
      "T=34000 -> 0.7540877971576136\n",
      "T=35000 -> 0.8485809214748768\n",
      "T=36000 -> 0.9084603882261256\n",
      "T=37000 -> 0.9446653779095653\n",
      "T=38000 -> 0.9662066155611733\n",
      "T=39000 -> 0.979041613058692\n",
      "T=40000 -> 0.9867708415182372\n",
      "T=41000 -> 0.9914960986929984\n",
      "T=42000 -> 0.9944342773130371\n",
      "T=43000 -> 0.9962934301639644\n",
      "T=44000 -> 0.9974903047892755\n",
      "T=45000 -> 0.998273801059457\n",
      "T=46000 -> 0.9987949552201975\n",
      "T=47000 -> 0.9991469169463322\n",
      "T=48000 -> 0.9993880628712882\n",
      "T=49000 -> 0.9995555508787047\n",
      "T=50000 -> 0.9996733889823368\n"
     ]
    }
   ],
   "source": [
    "# Part A, T = 5000K\n",
    "k = 1.3806E-23\n",
    "Z_1 = 1\n",
    "Z_2 = 2\n",
    "Z_3 = 1\n",
    "P_e = 20\n",
    "\n",
    "chi_1_ev = 24.6\n",
    "chi_1 = 3.94135e-18\n",
    "\n",
    "chi_2_ev = 54.4\n",
    "chi_2 = 8.71584e-18\n",
    "\n",
    "# make a range of temps to plot\n",
    "temps = list(range(1000, 51000, 1000))\n",
    "\n",
    "# ratio of N2/N1\n",
    "n2_n1_ratios = {}\n",
    "for t in temps:\n",
    "    n2_n1_ratios[t] = saha_equation_pressure(Z_1, Z_2, k, t, P_e, m_e, chi_1, h)\n",
    "\n",
    "# convert ratio to fraction (i.e. 0-1)\n",
    "n2_n1_fracs = {}\n",
    "for t in temps:\n",
    "    n2_n1_fracs[t] = n2_n1_ratios[t] / (1 + n2_n1_ratios[t])\n",
    "\n",
    "# print('n2_n1_ratios: %s' % n2_n1_ratios) \n",
    "# print('n2_n1_fracs: %s' % n2_n1_fracs)\n",
    "# for t in temps:\n",
    "#     print('T=%s -> %s' % (t, n2_n1_fracs[t]))\n",
    "\n",
    "# ratio of N3/N2\n",
    "n3_n2_ratios = {}\n",
    "for t in temps:\n",
    "    n3_n2_ratios[t] = saha_equation_pressure(Z_2, Z_3, k, t, P_e, m_e, chi_2, h)\n",
    "\n",
    "# convert ratio to fraction (i.e. 0-1)\n",
    "n3_n2_fracs = {}\n",
    "for t in temps:\n",
    "    n3_n2_fracs[t] = n3_n2_ratios[t] / (1 + n3_n2_ratios[t])\n",
    "    \n",
    "# print('n3_n2_ratios: %s' % n3_n2_ratios)\n",
    "# print('n3_n2_fracs: %s' % n3_n3_fracs)\n",
    "for t in temps:\n",
    "    print('T=%s -> %s' % (t, n3_n2_fracs[t]))"
   ]
  },
  {
   "cell_type": "code",
   "execution_count": 50,
   "id": "e3442b09-86b1-4213-a4fb-bf696cef4146",
   "metadata": {
    "tags": []
   },
   "outputs": [
    {
     "data": {
      "text/plain": [
       "<AxesSubplot:xlabel='Temp'>"
      ]
     },
     "execution_count": 50,
     "metadata": {},
     "output_type": "execute_result"
    },
    {
     "data": {
      "image/png": "[encoded data removed]",
      "text/plain": [
       "<Figure size 720x720 with 1 Axes>"
      ]
     },
     "metadata": {
      "needs_background": "light"
     },
     "output_type": "display_data"
    },
    {
     "data": {
      "image/png": "[encoded data removed]",
      "text/plain": [
       "<Figure size 720x720 with 1 Axes>"
      ]
     },
     "metadata": {
      "needs_background": "light"
     },
     "output_type": "display_data"
    },
    {
     "data": {
      "image/png": "[encoded data removed]",
      "text/plain": [
       "<Figure size 720x720 with 1 Axes>"
      ]
     },
     "metadata": {
      "needs_background": "light"
     },
     "output_type": "display_data"
    }
   ],
   "source": [
    "df = pd.DataFrame({\n",
    "    'Temp': temps, \n",
    "    'N_2/N_1': list(n2_n1_fracs.values()),\n",
    "    'N_3/N_2': list(n3_n2_fracs.values())\n",
    "})\n",
    "\n",
    "df.plot(title='BOTH', kind='line', x='Temp', figsize=(10,10), fontsize=12)\n",
    "\n",
    "df.plot(kind='line', x='Temp', y='N_2/N_1', figsize=(10,10), fontsize=12)\n",
    "df.plot(kind='line', x='Temp', y='N_3/N_2', figsize=(10,10), fontsize=12)"
   ]
  },
  {
   "cell_type": "markdown",
   "id": "4839429d-b150-492d-b883-dbed26dde97e",
   "metadata": {},
   "source": [
    "(b) Show that:\n",
    "\n",
    "$$\\frac{N_{II}}{N_{total}} = \\frac{N_{II}}{(N_I+N_{II}+N_{III})}$$ \n",
    "\n",
    "can be expressed in terms of the ratios: $N_{II}/N_I$ and $N_{III}/N_{II}$\n",
    "\n",
    "### Answer:\n",
    "\n",
    "$$\\frac{N_{II}}{N_{total}} = \\frac{N_{II}}{(N_I+N_{II}+N_{III})} = \\frac{N_2/N_1}{1 + N_2/N_1 + (N_3/N_2)(N_2/N_1)}$$ \n",
    "\n",
    "See also: http://dslavsk.sites.luc.edu/courses/phys380/homework/phys380-2011hw6s.pdf\n",
    "\n",
    "(c) Make a graph of $\\frac{N_{II}}{N_{total}}$ similar to Fig. 8.8 for a range of temperatures from 5000 K\n",
    "to 25,000 K. \n",
    "\n",
    "What is the temperature at the middle of the He I partial ionization zone?\n",
    "Because the temperatures of the middle of the hydrogen and He I partial ionization zones\n",
    "are so similar, they are sometimes considered to be a single partial ionization zone with a\n",
    "characteristic temperature of $1-1.5 *10^4K$."
   ]
  },
  {
   "cell_type": "markdown",
   "id": "54324334-26fc-472d-832a-003853e4a188",
   "metadata": {},
   "source": [
    "## Answer\n",
    "\n",
    "From the plot below we see temperature at the middle of the He I partial ionization zone is `25000K`"
   ]
  },
  {
   "cell_type": "code",
   "execution_count": 51,
   "id": "21e0319c-8a68-4894-88d0-bda44db05763",
   "metadata": {},
   "outputs": [],
   "source": [
    "def nii_2_total(n2_n1, n3_n2):\n",
    "    '''\n",
    "    Implements $$N_2/N_{total}$$ as per answer part (b) above\n",
    "    '''\n",
    "    return n2_n1 / (1 + n2_n1 + n3_n2*n2_n1)"
   ]
  },
  {
   "cell_type": "code",
   "execution_count": 52,
   "id": "13b378f4-77d1-46e4-a245-076b0647c10f",
   "metadata": {},
   "outputs": [],
   "source": [
    "n_totals = []\n",
    "\n",
    "for t in temps:\n",
    "    ratio = nii_2_total(n2_n1_ratios[t], n3_n2_ratios[t])\n",
    "    frac = ratio / (1+ratio)\n",
    "    n_totals.append(frac)"
   ]
  },
  {
   "cell_type": "code",
   "execution_count": 53,
   "id": "6c896a3c-cc81-47f5-ac09-a00d0d335279",
   "metadata": {
    "tags": []
   },
   "outputs": [
    {
     "data": {
      "text/plain": [
       "<AxesSubplot:xlabel='Temp'>"
      ]
     },
     "execution_count": 53,
     "metadata": {},
     "output_type": "execute_result"
    },
    {
     "data": {
      "image/png": "[encoded data removed]",
      "text/plain": [
       "<Figure size 720x720 with 1 Axes>"
      ]
     },
     "metadata": {
      "needs_background": "light"
     },
     "output_type": "display_data"
    }
   ],
   "source": [
    "df = pd.DataFrame({\n",
    "    'Temp': temps, \n",
    "    'N_2/N_total': n_totals\n",
    "})\n",
    "df.plot(kind='line', x='Temp', figsize=(10,10), fontsize=12)"
   ]
  },
  {
   "cell_type": "markdown",
   "id": "f63c65ac-517e-4870-8846-6f024723fc6d",
   "metadata": {},
   "source": [
    "# 8.13\n",
    "\n",
    "Use the information in Example 8.1.5 to **calculate the ratio of doubly to singly ionized calcium\n",
    "atoms (Ca III/Ca II)** in the Sun's photosphere. \n",
    "\n",
    "The ionization energy of Ca Il is $\\chi_{II} = 11.9 eV$.\n",
    "\n",
    "Use $Z_{III} = 1$ for the partition function of Ca III. \n",
    "\n",
    "Is your result consistent with the statement in Example 8.1.5 that in the solar photosphere?\n",
    "\n",
    "\n",
    "> nearly all of the calcium atoms are available for forming the H and K lines of calcium"
   ]
  },
  {
   "cell_type": "code",
   "execution_count": 54,
   "id": "63fde3d8-7514-4992-995c-a83423077d97",
   "metadata": {},
   "outputs": [
    {
     "data": {
      "text/plain": [
       "(0.002340453867446017, 0.002334988933566009)"
      ]
     },
     "execution_count": 54,
     "metadata": {},
     "output_type": "execute_result"
    }
   ],
   "source": [
    "# We need to find ca3/ca2\n",
    "\n",
    "chi_2_ev = 11.9 # eV\n",
    "chi_2 = 1.90659e-18\n",
    "\n",
    "z_2 = 2.3 # p218\n",
    "Z_3 = 1 \n",
    "T = 5777\n",
    "Pe = 1.5\n",
    "\n",
    "ca_ratio = saha_equation_pressure(Z_2, Z_3, k, T, Pe, m_e, chi_2, h)\n",
    "\n",
    "# convert ratio to fraction (i.e. 0-1)\n",
    "ca_frac = ca_ratio / (1 + ca_ratio)\n",
    "\n",
    "ca_ratio, ca_frac"
   ]
  },
  {
   "cell_type": "markdown",
   "id": "e4e75e8d-5725-4587-8924-bf069094b5de",
   "metadata": {},
   "source": [
    "## Answer\n",
    "\n",
    "$\\frac{Ca_3}{Ca_2} = 0.0023$\n",
    "\n",
    "This implies there are very few _doubly_ ionized calcium atoms.\n",
    "\n",
    "If most Ca atoms are singly ionized, they are available for forming H and K lines (these lines are known to come from Ca_2)."
   ]
  },
  {
   "cell_type": "markdown",
   "id": "cbaedc90-a7e1-4012-a6f1-316e47c629fa",
   "metadata": {},
   "source": [
    "# 8.14\n",
    "\n",
    "Consider a giant star and a main-sequence star of the same spectral type. \n",
    "\n",
    "Appendix G shows that the giant star, which has a lower atmospheric density, has a slightly lower temperature than the main-sequence star. \n",
    "\n",
    "Use the Saha equation to explain why this is so. Note that this means that there is not a perfect correspondence between temperature and spectral type!\n",
    "\n",
    "---\n",
    "\n",
    "Giant = lower density and temp\n",
    "\n",
    "Main = higher density and temp\n",
    "\n",
    "Saha = relationship between the observed spectra of stars and their temperatures.\n",
    "\n",
    "> The spectrum of a star is directly related to the relative numbers of atoms and ions it contains because each atom or ion can absorb or emit radiation of a particular set of wavelengths. (https://www.britannica.com/science/Saha-equation)\n",
    "\n",
    "So, the Giant star may have lower density/pressure and temp, but this is offset by the greater number of atoms/ions available to create spectra."
   ]
  },
  {
   "cell_type": "code",
   "execution_count": null,
   "id": "665e3f7a-1fc6-45d9-b23c-45034a7752eb",
   "metadata": {},
   "outputs": [],
   "source": []
  }
 ],
 "metadata": {
  "kernelspec": {
   "display_name": "Python 3 (ipykernel)",
   "language": "python",
   "name": "python3"
  },
  "language_info": {
   "codemirror_mode": {
    "name": "ipython",
    "version": 3
   },
   "file_extension": ".py",
   "mimetype": "text/x-python",
   "name": "python",
   "nbconvert_exporter": "python",
   "pygments_lexer": "ipython3",
   "version": "3.7.11"
  }
 },
 "nbformat": 4,
 "nbformat_minor": 5
}
