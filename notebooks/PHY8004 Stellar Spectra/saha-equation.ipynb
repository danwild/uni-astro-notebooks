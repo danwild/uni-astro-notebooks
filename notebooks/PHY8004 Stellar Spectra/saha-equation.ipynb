{
 "cells": [
  {
   "cell_type": "markdown",
   "id": "19977a65-e446-4228-b67c-b045b6a097c4",
   "metadata": {},
   "source": [
    "# Saha Equation (with number density of free electrons $n_e$)\n",
    "\n",
    "Chapter 8, Caroll and Ostlie.\n",
    "\n",
    "$$\n",
    "\\frac{N_{i+1}}{N_i} = \\frac{2Z_{i+1}}{n_e Z_i} (\\frac{2\\pi m_e kT}{h^2})^{3/2} e^{-\\chi_i/kT}\n",
    "$$\n",
    "\n",
    "# Saha Equation (with electron pressure $P_e$)\n",
    "\n",
    "$$\n",
    "\\frac{N_{i+1}}{N_i} = \\frac{2kT Z_{i+1}}{P_e Z_i} (\\frac{2\\pi m_e kT}{h^2})^{3/2} e^{-\\chi_i/kT}\n",
    "$$\n",
    "\n",
    "## Partition function (Z)\n",
    "\n",
    "$$\n",
    "Z = \\sum^{\\infty}_{j=1} g_j e^{-(E_j-E_1)/kT}\n",
    "$$\n",
    "\n",
    "$h$ is plank contant\n",
    "\n",
    "$m_e$ is electron mass\n",
    "\n",
    "$\\chi_i$ is the ionization energy needed to remove electron from atom \n",
    "\n",
    "$k$ = Boltzman constant\n",
    "\n",
    "$E_a,E_b$ are energies (typically eV)\n",
    "\n",
    "$g_a,g_b$ are number of degenerate states (i.e. how many different quantum states are there which have the same energy) , e.g.  for hydrogen:\n",
    "\n",
    "> $g_b = 2n^2$\n"
   ]
  },
  {
   "cell_type": "code",
   "execution_count": 10,
   "id": "c6d88b1a-b084-4e81-8526-7e1f1e0a373c",
   "metadata": {},
   "outputs": [],
   "source": [
    "import math\n",
    "import pandas as pd\n",
    "import matplotlib.pyplot as plt"
   ]
  },
  {
   "cell_type": "code",
   "execution_count": 11,
   "id": "bd116a1f-b028-4d04-9800-51a615ac8d16",
   "metadata": {},
   "outputs": [],
   "source": [
    "def saha_equation_pressure(Z_1, Z_2, k, T, P_e, m_e, chi_i, h):\n",
    "    return \\\n",
    "    ((2 * k * T * Z_2) / (P_e * Z_1)) * \\\n",
    "    ((2 * math.pi * m_e * k * T) / h**2)**(3/2) * \\\n",
    "    math.e ** -(chi_i / (k*T))"
   ]
  },
  {
   "cell_type": "code",
   "execution_count": 12,
   "id": "82115ac5-3328-4709-b857-b22ba18ce541",
   "metadata": {},
   "outputs": [],
   "source": [
    "def partition_function_j(g_j, E_j, E_1, k, T):\n",
    "    \"\"\"\n",
    "    Calculate the value for one partition (j), of the partition function Z.\n",
    "    Eq (8.7), Caroll and Ostlie p214.\n",
    "    \"\"\"\n",
    "    return g_j * (math.e**(-(E_j - E_1) / (k*T)))"
   ]
  },
  {
   "cell_type": "markdown",
   "id": "7bb9f3b1-db4d-4144-aa50-43806763b54d",
   "metadata": {},
   "source": [
    "# Problem 8.7\n",
    "\n",
    "In Example 8.1.4 (p215), the statement was made that:\n",
    "\n",
    "\n",
    "> nearly all of the H I atoms are in the ground state, so Eq. (8.7) for the partition function simplifies to $Z_1 \\simeq g_1 = 2(1)^2 = 2$\n",
    "\n",
    "Verify that this statement is correct for a temperature of 10,000 K by evaluating the first three terms in Eq. (8.7) for the partition function.\n",
    "\n",
    "$T = 10000K$\n",
    "\n",
    "$k = 8.6173*10^{-16}eV s$\n",
    "\n",
    "**So - we need to eval the Partition Function for j=[1-3]**\n",
    "\n",
    "$$\n",
    "Z = \\sum^{\\infty}_{j=1} g_j e^{-(E_j-E_1)/kT}\n",
    "$$\n",
    "\n",
    "$$g_n = 2n^2$$"
   ]
  },
  {
   "cell_type": "code",
   "execution_count": 13,
   "id": "5044cb62-9617-4150-b9ef-d9823b6e30c7",
   "metadata": {},
   "outputs": [
    {
     "data": {
      "text/plain": [
       "(2, 8, 18)"
      ]
     },
     "execution_count": 13,
     "metadata": {},
     "output_type": "execute_result"
    }
   ],
   "source": [
    "g_1 = 2 * 1**2\n",
    "g_2 = 2 * 2**2\n",
    "g_3 = 2 * 3**2\n",
    "g_1, g_2, g_3"
   ]
  },
  {
   "cell_type": "markdown",
   "id": "d4869b5b-ec2b-40b8-8891-ceb9bbbf652e",
   "metadata": {},
   "source": [
    "#### EQ 5.13, p124\n",
    "$E_n = -13.6eV \\frac{1}{n^2}$"
   ]
  },
  {
   "cell_type": "code",
   "execution_count": 28,
   "id": "0e433bcc-8511-4e48-a9e0-fb1e39eba32c",
   "metadata": {},
   "outputs": [],
   "source": [
    "# ENERGY STATES\n",
    "# first 2 given in Table 8.2, p212\n",
    "E_1_ev = -13.6\n",
    "E_2_ev = -3.4\n",
    "\n",
    "# EQ 5.13, p124\n",
    "E_3_ev = -1.51 "
   ]
  },
  {
   "cell_type": "code",
   "execution_count": 32,
   "id": "e15c82aa-82f3-4084-8eaa-ef2f281c3fc1",
   "metadata": {},
   "outputs": [
    {
     "name": "stdout",
     "output_type": "stream",
     "text": [
      "Z_1: 2.0, Z_2: 5.7875718512000796e-05, Z_3: 1.4526371950019856e-05\n",
      "TOTAL Z: 2.000072402090462\n"
     ]
    }
   ],
   "source": [
    "k_ev = 8.6173E-5\n",
    "k = 1.3806e-23\n",
    "\n",
    "T = 10000\n",
    "\n",
    "Z_1 = partition_function_j(g_1, E_1_ev, E_1_ev, k_ev, T)\n",
    "Z_2 = partition_function_j(g_2, E_2_ev, E_1_ev, k_ev, T)\n",
    "Z_3 = partition_function_j(g_3, E_3_ev, E_1_ev, k_ev, T)\n",
    "\n",
    "print('Z_1: %s, Z_2: %s, Z_3: %s' % (Z_1, Z_2, Z_3))\n",
    "\n",
    "# Result is ~2, as expected.\n",
    "print('TOTAL Z: %s' % (Z_1 + Z_2 + Z_3))"
   ]
  },
  {
   "cell_type": "markdown",
   "id": "b3ce566c-f270-485a-b359-3fea60fc1872",
   "metadata": {
    "tags": []
   },
   "source": [
    "# Problem 8.10\n",
    "\n",
    "In this problem, you will follow a procedure similar to that of Example 8.1.4 for the case of a\n",
    "stellar atmosphere composed of pure helium to find the temperature at the middle of the He I\n",
    "partial ionization zone, where half of the He I atoms have been ionized. (Such an atmosphere would be found on a white dwarf of spectral type DB; see Section 16.1) \n",
    "\n",
    "The ionization energies of neutral helium and singly ionized helium are $\\chi_I = 24.6 eV$ and $\\chi_{II} = 54.4 eV$, respectively.\n",
    "\n",
    "The partition functions are $Z_I = 1, Z_{II} = 2, Z_{III} = 1$ (as expected for any completely ionized atom). \n",
    "\n",
    "Use $P_e = 20 N m^{-2}$ for the electron pressure.\n",
    "\n",
    "(a) Use Eq. (8.9) to find $N_{II}/N_I$ and $N_{III}/N_{II}$ for temperatures of 5000 K, 15,000 K, and 25,000K\n",
    "How do they compare?\n",
    "\n",
    "### Answer\n",
    "\n",
    "$N_{II}/N_I$ - climbs rapidly from 10000K to 20000K, 50% at ~15000K, nears 100% ionization at 20000K)\n",
    "\n",
    "$N_{III}/N_{II}$ - climbs less rapidly from 25000K to 40000K, 50% at ~32500K, nears 100% ionization at 41000K)"
   ]
  },
  {
   "cell_type": "markdown",
   "id": "320fbc3e-7df8-41e8-872a-097d1b2e6c6b",
   "metadata": {},
   "source": [
    "## REPLICATING EXAMPLE 8.1.4 p215"
   ]
  },
  {
   "cell_type": "code",
   "execution_count": 36,
   "id": "4b30f12a-9b89-4b9b-b756-e230dffed611",
   "metadata": {
    "tags": []
   },
   "outputs": [
    {
     "data": {
      "text/plain": [
       "<AxesSubplot:xlabel='Temp'>"
      ]
     },
     "execution_count": 36,
     "metadata": {},
     "output_type": "execute_result"
    },
    {
     "data": {
      "image/png": "[encoded data removed]",
      "text/plain": [
       "<Figure size 720x720 with 1 Axes>"
      ]
     },
     "metadata": {
      "needs_background": "light"
     },
     "output_type": "display_data"
    }
   ],
   "source": [
    "m_e = 9.10938215E-31 # electron mass kg\n",
    "h = 6.62606896E-34   # plank constant J\n",
    "k = 1.38065E-23      # boltzman constant J \n",
    "\n",
    "Z_1 = 2\n",
    "Z_2 = 1\n",
    "P_e = 20\n",
    "\n",
    "chi_1_ev = 13.6\n",
    "chi_1 = 2.17896e-18\n",
    "\n",
    "# make a range of temps to plot\n",
    "temps = list(range(1000, 20000, 1000))\n",
    "\n",
    " # equation gives ratio of N_2/N_1\n",
    "eg_ratios = {}\n",
    "for t in temps:\n",
    "    eg_ratios[t] = saha_equation_pressure(Z_1, Z_2, k, t, P_e, m_e, chi_1, h)\n",
    "\n",
    " # convert ratio to fraction (i.e. 0-1)\n",
    "eg_fracs = {}\n",
    "for t in temps:\n",
    "   eg_fracs[t] =  eg_ratios[t] / (1 + eg_ratios[t])\n",
    "\n",
    "\n",
    "# print('5000: %s, 10000: %s, 15000: %a' % (frac1,frac2,frac3))\n",
    "\n",
    "df = pd.DataFrame({\n",
    "    'Temp': temps, \n",
    "    'N_2/N_1': list(eg_fracs.values())\n",
    "})\n",
    "\n",
    "df.plot(kind='line', x='Temp', figsize=(10,10), fontsize=12)"
   ]
  },
  {
   "cell_type": "markdown",
   "id": "8fefcf60-15b8-4877-b041-e35e16e297a9",
   "metadata": {},
   "source": [
    "## Working for part A"
   ]
  },
  {
   "cell_type": "code",
   "execution_count": 43,
   "id": "ace6740e-3623-4cae-93f0-23c5b8452004",
   "metadata": {
    "tags": []
   },
   "outputs": [],
   "source": [
    "# Part A, T = 5000K\n",
    "k = 1.3806E-23\n",
    "Z_1 = 1\n",
    "Z_2 = 2\n",
    "Z_3 = 1\n",
    "P_e = 20\n",
    "\n",
    "chi_1_ev = 24.6\n",
    "chi_1 = 3.94135e-18\n",
    "\n",
    "chi_2_ev = 54.4\n",
    "chi_2 = 8.71584e-18\n",
    "\n",
    "# make a range of temps to plot\n",
    "temps = list(range(1000, 51000, 1000))\n",
    "\n",
    "# ratio of N2/N1\n",
    "n2_n1_ratios = {}\n",
    "for t in temps:\n",
    "    n2_n1_ratios[t] = saha_equation_pressure(Z_1, Z_2, k, t, P_e, m_e, chi_1, h)\n",
    "\n",
    "# convert ratio to fraction (i.e. 0-1)\n",
    "n2_n1_fracs = {}\n",
    "for t in temps:\n",
    "    n2_n1_fracs[t] = n2_n1_ratios[t] / (1 + n2_n1_ratios[t])\n",
    "\n",
    "# print('n2_n1_ratios: %s' % n2_n1_ratios) \n",
    "# print('n2_n1_fracs: %s' % n2_n1_fracs)\n",
    "# for t in temps:\n",
    "#     print('T=%s -> %s' % (t, n2_n1_ratios[t]))\n",
    "\n",
    "# ratio of N3/N2\n",
    "n3_n2_ratios = {}\n",
    "for t in temps:\n",
    "    n3_n2_ratios[t] = saha_equation_pressure(Z_2, Z_3, k, t, P_e, m_e, chi_2, h)\n",
    "\n",
    "# convert ratio to fraction (i.e. 0-1)\n",
    "n3_n2_fracs = {}\n",
    "for t in temps:\n",
    "    n3_n2_fracs[t] = n3_n2_ratios[t] / (1 + n3_n2_ratios[t])\n",
    "    \n",
    "# print('n3_n2_ratios: %s' % n3_n2_ratios)\n",
    "# print('n3_n2_fracs: %s' % n3_n3_fracs)\n",
    "# for t in temps:\n",
    "#     print('T=%s -> %s' % (t, n3_n2_fracs[t]))"
   ]
  },
  {
   "cell_type": "code",
   "execution_count": 47,
   "id": "6286a779-b77b-4d93-9599-1f8349b18b3a",
   "metadata": {},
   "outputs": [
    {
     "name": "stdout",
     "output_type": "stream",
     "text": [
      "\n",
      "N2/N1: 5000K: 1.8827806579506554e-18, 15000K: 0.996880389568512, 25000K: 7235.573580460026\n",
      "\n",
      "N3/N2: 5000K: 4.310948550337179e-49, 15000K: 2.420252973627885e-11, 25000K: 0.001777377154226642\n"
     ]
    }
   ],
   "source": [
    "print('\\nN2/N1: 5000K: %s, 15000K: %s, 25000K: %s' % (n2_n1_ratios[5000],n2_n1_ratios[15000],n2_n1_ratios[25000]))\n",
    "print('\\nN3/N2: 5000K: %s, 15000K: %s, 25000K: %s' % (n3_n2_ratios[5000],n3_n2_ratios[15000],n3_n2_ratios[25000]))"
   ]
  },
  {
   "cell_type": "code",
   "execution_count": 49,
   "id": "e3442b09-86b1-4213-a4fb-bf696cef4146",
   "metadata": {
    "tags": []
   },
   "outputs": [
    {
     "data": {
      "text/plain": [
       "<AxesSubplot:xlabel='Temp'>"
      ]
     },
     "execution_count": 49,
     "metadata": {},
     "output_type": "execute_result"
    },
    {
     "data": {
      "image/png": "[encoded data removed]",
      "text/plain": [
       "<Figure size 720x720 with 1 Axes>"
      ]
     },
     "metadata": {
      "needs_background": "light"
     },
     "output_type": "display_data"
    },
    {
     "data": {
      "image/png": "[encoded data removed]",
      "text/plain": [
       "<Figure size 720x720 with 1 Axes>"
      ]
     },
     "metadata": {
      "needs_background": "light"
     },
     "output_type": "display_data"
    },
    {
     "data": {
      "image/png": "[encoded data removed]",
      "text/plain": [
       "<Figure size 720x720 with 1 Axes>"
      ]
     },
     "metadata": {
      "needs_background": "light"
     },
     "output_type": "display_data"
    }
   ],
   "source": [
    "df = pd.DataFrame({\n",
    "    'Temp': temps, \n",
    "    'N_2/N_1': list(n2_n1_fracs.values()),\n",
    "    'N_3/N_2': list(n3_n2_fracs.values())\n",
    "})\n",
    "\n",
    "df.plot(title='BOTH', kind='line', x='Temp', figsize=(10,10), fontsize=12)\n",
    "\n",
    "df.plot(kind='line', x='Temp', y='N_2/N_1', figsize=(10,10), fontsize=12)\n",
    "df.plot(kind='line', x='Temp', y='N_3/N_2', figsize=(10,10), fontsize=12)"
   ]
  },
  {
   "cell_type": "markdown",
   "id": "4839429d-b150-492d-b883-dbed26dde97e",
   "metadata": {},
   "source": [
    "(b) Show that:\n",
    "\n",
    "$$\\frac{N_{II}}{N_{total}} = \\frac{N_{II}}{(N_I+N_{II}+N_{III})}$$ \n",
    "\n",
    "can be expressed in terms of the ratios: $N_{II}/N_I$ and $N_{III}/N_{II}$\n",
    "\n",
    "### Answer:\n",
    "\n",
    "$$\\frac{N_{II}}{N_{total}} = \\frac{N_{II}}{(N_I+N_{II}+N_{III})} = \\frac{N_2/N_1}{1 + N_2/N_1 + (N_3/N_2)(N_2/N_1)}$$ \n",
    "\n",
    "See also: http://dslavsk.sites.luc.edu/courses/phys380/homework/phys380-2011hw6s.pdf\n",
    "\n",
    "(c) Make a graph of $\\frac{N_{II}}{N_{total}}$ similar to Fig. 8.8 for a range of temperatures from 5000 K\n",
    "to 25,000 K. \n",
    "\n",
    "What is the temperature at the middle of the He I partial ionization zone?\n",
    "Because the temperatures of the middle of the hydrogen and He I partial ionization zones\n",
    "are so similar, they are sometimes considered to be a single partial ionization zone with a\n",
    "characteristic temperature of $1-1.5 *10^4K$."
   ]
  },
  {
   "cell_type": "markdown",
   "id": "54324334-26fc-472d-832a-003853e4a188",
   "metadata": {},
   "source": [
    "## Answer\n",
    "\n",
    "From the plot below we see temperature at the middle of the He I partial ionization zone is `15000K`"
   ]
  },
  {
   "cell_type": "code",
   "execution_count": 53,
   "id": "21e0319c-8a68-4894-88d0-bda44db05763",
   "metadata": {},
   "outputs": [],
   "source": [
    "def nii_2_total(n2_n1, n3_n2):\n",
    "    '''\n",
    "    Implements $$N_2/N_{total}$$ as per answer part (b) above\n",
    "    '''\n",
    "    return n2_n1 / (1 + n2_n1 + n3_n2*n2_n1)"
   ]
  },
  {
   "cell_type": "code",
   "execution_count": 61,
   "id": "13b378f4-77d1-46e4-a245-076b0647c10f",
   "metadata": {},
   "outputs": [],
   "source": [
    "n_totals = []\n",
    "\n",
    "# make a range of temps to plot\n",
    "temps = list(range(5000, 26000, 1000))\n",
    "\n",
    "for t in temps:\n",
    "    ratio = nii_2_total(n2_n1_ratios[t], n3_n2_ratios[t])\n",
    "    n_totals.append(ratio)"
   ]
  },
  {
   "cell_type": "code",
   "execution_count": 62,
   "id": "6c896a3c-cc81-47f5-ac09-a00d0d335279",
   "metadata": {
    "tags": []
   },
   "outputs": [
    {
     "data": {
      "text/plain": [
       "<AxesSubplot:xlabel='Temp'>"
      ]
     },
     "execution_count": 62,
     "metadata": {},
     "output_type": "execute_result"
    },
    {
     "data": {
      "image/png": "[encoded data removed]",
      "text/plain": [
       "<Figure size 720x720 with 1 Axes>"
      ]
     },
     "metadata": {
      "needs_background": "light"
     },
     "output_type": "display_data"
    }
   ],
   "source": [
    "df = pd.DataFrame({\n",
    "    'Temp': temps, \n",
    "    'N_2/N_total': n_totals\n",
    "})\n",
    "df.plot(kind='line', x='Temp', figsize=(10,10), fontsize=12)"
   ]
  },
  {
   "cell_type": "code",
   "execution_count": 63,
   "id": "d4b78d77-ef9a-443e-a18a-985b2ccd3cb9",
   "metadata": {},
   "outputs": [],
   "source": [
    "# i = 0\n",
    "# for t in temps:\n",
    "#     print('T=%s -> %s' % (t, n_totals[i]))\n",
    "#     i+=1"
   ]
  },
  {
   "cell_type": "markdown",
   "id": "f63c65ac-517e-4870-8846-6f024723fc6d",
   "metadata": {},
   "source": [
    "# 8.13\n",
    "\n",
    "Use the information in Example 8.1.5 to **calculate the ratio of doubly to singly ionized calcium\n",
    "atoms (Ca III/Ca II)** in the Sun's photosphere. \n",
    "\n",
    "The ionization energy of Ca Il is $\\chi_{II} = 11.9 eV$.\n",
    "\n",
    "Use $Z_{III} = 1$ for the partition function of Ca III. \n",
    "\n",
    "Is your result consistent with the statement in Example 8.1.5 that in the solar photosphere?\n",
    "\n",
    "\n",
    "> nearly all of the calcium atoms are available for forming the H and K lines of calcium"
   ]
  },
  {
   "cell_type": "code",
   "execution_count": 15,
   "id": "63fde3d8-7514-4992-995c-a83423077d97",
   "metadata": {},
   "outputs": [
    {
     "data": {
      "text/plain": [
       "(0.002340453867446017, 0.002334988933566009)"
      ]
     },
     "execution_count": 15,
     "metadata": {},
     "output_type": "execute_result"
    }
   ],
   "source": [
    "# We need to find ca3/ca2\n",
    "\n",
    "chi_2_ev = 11.9 # eV\n",
    "chi_2 = 1.90659e-18\n",
    "\n",
    "z_2 = 2.3 # p218\n",
    "Z_3 = 1 \n",
    "T = 5777\n",
    "Pe = 1.5\n",
    "\n",
    "# N3/N2\n",
    "ca_ratio = saha_equation_pressure(Z_2, Z_3, k, T, Pe, m_e, chi_2, h)\n",
    "\n",
    "# convert ratio to fraction (i.e. 0-1)\n",
    "ca_frac = ca_ratio / (1 + ca_ratio)\n",
    "\n",
    "ca_ratio, ca_frac"
   ]
  },
  {
   "cell_type": "markdown",
   "id": "e4e75e8d-5725-4587-8924-bf069094b5de",
   "metadata": {},
   "source": [
    "## Answer\n",
    "\n",
    "$\\frac{Ca_3}{Ca_2} = 0.0023$\n",
    "\n",
    "This implies there are very few _doubly_ ionized calcium atoms (compared to $N2/N1$, which is 918 - as shown in example 8.1.5).\n",
    "\n",
    "If most Ca atoms are singly ionized, they are available for forming H and K lines (these lines are known to come from Ca_2)."
   ]
  },
  {
   "cell_type": "markdown",
   "id": "cbaedc90-a7e1-4012-a6f1-316e47c629fa",
   "metadata": {},
   "source": [
    "# 8.14\n",
    "\n",
    "Consider a giant star and a main-sequence star of the same spectral type. \n",
    "\n",
    "Appendix G shows that the giant star, which has a lower atmospheric density, has a slightly lower temperature than the main-sequence star. \n",
    "\n",
    "Use the Saha equation to explain why this is so. Note that this means that there is not a perfect correspondence between temperature and spectral type!\n",
    "\n",
    "---\n",
    "\n",
    "Giant = lower density and temp\n",
    "\n",
    "Main = higher density and temp\n",
    "\n",
    "The stars are the same SPECTRAL type, so by definition they have the same ratio of atoms in their atmosphere in specific ionisation state.\n",
    "\n",
    "This ratio is what SAHA tells us:\n",
    "\n",
    "$$\n",
    "\\frac{N_{i+1}}{N_i} = \\frac{2Z_{i+1}}{n_e Z_i} (\\frac{2\\pi m_e kT}{h^2})^{3/2} e^{-\\chi_i/kT}\n",
    "$$\n",
    "\n",
    "We can see that density ($n_e$) and Temp ($T$) are accounted for in SAHA eq. \n",
    "\n",
    "So when $n_e$ is lower in a giant, $T$ must also be reduced too, to maintain the same ratio of ionization.\n"
   ]
  },
  {
   "cell_type": "code",
   "execution_count": null,
   "id": "637c20d0-8a4e-49be-ac9f-713e368b1031",
   "metadata": {},
   "outputs": [],
   "source": []
  }
 ],
 "metadata": {
  "kernelspec": {
   "display_name": "Python 3 (ipykernel)",
   "language": "python",
   "name": "python3"
  },
  "language_info": {
   "codemirror_mode": {
    "name": "ipython",
    "version": 3
   },
   "file_extension": ".py",
   "mimetype": "text/x-python",
   "name": "python",
   "nbconvert_exporter": "python",
   "pygments_lexer": "ipython3",
   "version": "3.7.11"
  }
 },
 "nbformat": 4,
 "nbformat_minor": 5
}
