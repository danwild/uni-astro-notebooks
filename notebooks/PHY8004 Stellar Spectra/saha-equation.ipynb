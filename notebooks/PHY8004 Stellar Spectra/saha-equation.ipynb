{
 "cells": [
  {
   "cell_type": "markdown",
   "id": "19977a65-e446-4228-b67c-b045b6a097c4",
   "metadata": {},
   "source": [
    "# Saha Equation (with number density of free electrons $n_e$)\n",
    "\n",
    "Chapter 8, Caroll and Ostlie.\n",
    "\n",
    "$$\n",
    "\\frac{N_{i+1}}{N_i} = \\frac{2Z_{i+1}}{n_e Z_i} (\\frac{2\\pi m_e kT}{h^2})^{3/2} e^{-\\chi_i/kT}\n",
    "$$\n",
    "\n",
    "# Saha Equation (with electron pressure $P_e$)\n",
    "\n",
    "$$\n",
    "\\frac{N_{i+1}}{N_i} = \\frac{2kT Z_{i+1}}{P_e Z_i} (\\frac{2\\pi m_e kT}{h^2})^{3/2} e^{-\\chi_i/kT}\n",
    "$$\n",
    "\n",
    "## Partition function (Z)\n",
    "\n",
    "$$\n",
    "Z = \\sum^{\\infty}_{j=1} g_j e^{-(E_j-E_1)/kT}\n",
    "$$\n",
    "\n",
    "$h$ is plank contant\n",
    "\n",
    "$m_e$ is electron mass\n",
    "\n",
    "$\\chi_i$ is the ionization energy needed to remove electron from atom \n",
    "\n",
    "$k$ = Boltzman constant\n",
    "\n",
    "$E_a,E_b$ are energies (typically eV)\n",
    "\n",
    "$g_a,g_b$ are number of degenerate states (i.e. how many different quantum states are there which have the same energy) , e.g.  for hydrogen:\n",
    "\n",
    "> $g_b = 2n^2$\n"
   ]
  },
  {
   "cell_type": "code",
   "execution_count": 47,
   "id": "c6d88b1a-b084-4e81-8526-7e1f1e0a373c",
   "metadata": {},
   "outputs": [],
   "source": [
    "import math\n",
    "import pandas as pd\n",
    "import matplotlib.pyplot as plt"
   ]
  },
  {
   "cell_type": "code",
   "execution_count": 31,
   "id": "bd116a1f-b028-4d04-9800-51a615ac8d16",
   "metadata": {},
   "outputs": [],
   "source": [
    "def saha_equation_pressure(Z_1, Z_2, k, T, P_e, m_e, chi_i, h):\n",
    "    return \\\n",
    "    ((2 * k * T * Z_2) / (P_e * Z_1)) * \\\n",
    "    ((2 * math.pi * m_e * k * T) / h**2)**(3/2) * \\\n",
    "    math.e ** -(chi_i / (k*T))"
   ]
  },
  {
   "cell_type": "code",
   "execution_count": 32,
   "id": "82115ac5-3328-4709-b857-b22ba18ce541",
   "metadata": {},
   "outputs": [],
   "source": [
    "def partition_function_j(j, E_j, E_1, k, T):\n",
    "    \"\"\"\n",
    "    Calculate the value for one partition (j), of the partition function Z.\n",
    "    Eq (8.7), Caroll and Ostlie p214.\n",
    "    \"\"\"\n",
    "    return 2*(j**2) * math.e ** (-(E_j - E_1) / (k*T)) "
   ]
  },
  {
   "cell_type": "markdown",
   "id": "7bb9f3b1-db4d-4144-aa50-43806763b54d",
   "metadata": {},
   "source": [
    "# Problem 8.7"
   ]
  },
  {
   "cell_type": "code",
   "execution_count": 33,
   "id": "e15c82aa-82f3-4084-8eaa-ef2f281c3fc1",
   "metadata": {},
   "outputs": [
    {
     "name": "stdout",
     "output_type": "stream",
     "text": [
      "Z_1: 2.0\n"
     ]
    }
   ],
   "source": [
    "j = 1\n",
    "E_j = -13.6\n",
    "E_1 = -13.6\n",
    "k = 8.6173E-16\n",
    "T = 10000\n",
    "\n",
    "# j = 1\n",
    "Z_1 = partition_function_j(j, E_j, E_1, k, T)\n",
    "\n",
    "# j = 2\n",
    "# E_j = -3.4\n",
    "# Z_2 = partition_function(j, E_j, E_1, k, T)\n",
    "\n",
    "print('Z_1: %s' % Z_1)\n",
    "# print('Z_2: %s' % Z_2)"
   ]
  },
  {
   "cell_type": "code",
   "execution_count": 34,
   "id": "a0bc9221-13d3-44b1-a686-04fa8b0b346a",
   "metadata": {},
   "outputs": [
    {
     "data": {
      "text/plain": [
       "-0.0"
      ]
     },
     "execution_count": 34,
     "metadata": {},
     "output_type": "execute_result"
    }
   ],
   "source": [
    "-(E_j - E_1)"
   ]
  },
  {
   "cell_type": "code",
   "execution_count": 35,
   "id": "447ca949-73cc-4a73-8d88-2bba2e343f55",
   "metadata": {},
   "outputs": [
    {
     "data": {
      "text/plain": [
       "-0.0"
      ]
     },
     "execution_count": 35,
     "metadata": {},
     "output_type": "execute_result"
    }
   ],
   "source": [
    "(-(E_j - E_1) / (k*T)) "
   ]
  },
  {
   "cell_type": "code",
   "execution_count": 36,
   "id": "940c8937-3508-4c55-84b1-6bdf97e8bd06",
   "metadata": {},
   "outputs": [
    {
     "data": {
      "text/plain": [
       "1.0"
      ]
     },
     "execution_count": 36,
     "metadata": {},
     "output_type": "execute_result"
    }
   ],
   "source": [
    " math.e ** (-(E_j - E_1) / (k*T)) "
   ]
  },
  {
   "cell_type": "markdown",
   "id": "b3ce566c-f270-485a-b359-3fea60fc1872",
   "metadata": {},
   "source": [
    "# Problem 8.10\n",
    "\n",
    "In this problem, you will follow a procedure similar to that of Example 8.1.4 for the case of a\n",
    "stellar atmosphere composed of pure helium to find the temperature at the middle of the He I\n",
    "partial ionization zone, where half of the He I atoms have been ionized. (Such an atmosphere would be found on a white dwarf of spectral type DB; see Section 16.1) \n",
    "\n",
    "The ionization energies of neutral helium and singly ionized helium are $\\chi_I = 24.6 eV$ and $\\chi_{II} = 54.4 eV$, respectively.\n",
    "\n",
    "The partition functions are $Z_I = 1, Z_{II} = 2, Z_{III} = 1$ (as expected for any completely ionized atom). \n",
    "\n",
    "Use $P_e = 20 N m^{-2}$ for the electron pressure.\n",
    "\n",
    "(a) Use Eq. (8.9) to find $N_{II}/N_I$ and $N_{III}/N_{II}$ for temperatures of 5000 K, 15,000 K, and 25,000K\n",
    "How do they compare?\n",
    "\n",
    "### Answer\n",
    "\n",
    "$N_{II}/N_I$ - the ratio climbs constantly from 5000K to 25000K (almost 100% ionization at 25000K)\n",
    "\n",
    "$N_{III}/N_{II}$ - the ratio climbs from 15000K to 25000K, however the change in ionization is miminmal."
   ]
  },
  {
   "cell_type": "code",
   "execution_count": 44,
   "id": "4b30f12a-9b89-4b9b-b756-e230dffed611",
   "metadata": {
    "tags": []
   },
   "outputs": [
    {
     "name": "stdout",
     "output_type": "stream",
     "text": [
      "5000: 5.769709890712015e-08, 10000: 0.6999249846969674, 15000: 0.9991929471110168\n"
     ]
    }
   ],
   "source": [
    "m_e = 9.10938215E-31 # electron mass kg\n",
    "h = 6.62606896E-34   # plank constant J\n",
    "k = 1.38065E-23      # boltzman constant J \n",
    "\n",
    "# REPLICATING EXAMPLE 8.1.4 p215\n",
    "\n",
    "Z_1 = 2\n",
    "Z_2 = 1\n",
    "P_e = 20\n",
    "\n",
    "chi_1_ev = 13.6\n",
    "chi_1 = 2.17896e-18\n",
    "\n",
    "# equation gives ratio of N_2/N_1\n",
    "ratio1 = saha_equation_pressure(Z_1, Z_2, k, 5000, P_e, m_e, chi_1, h)\n",
    "ratio2 = saha_equation_pressure(Z_1, Z_2, k, 10000, P_e, m_e, chi_1, h)\n",
    "ratio3 = saha_equation_pressure(Z_1, Z_2, k, 15000, P_e, m_e, chi_1, h)\n",
    "\n",
    "# convert ratio to fraction (i.e. 0-1)\n",
    "frac1 = ratio1 / (1 + ratio1)\n",
    "frac2 = ratio2 / (1 + ratio2)\n",
    "frac3 = ratio3 / (1 + ratio3)\n",
    "\n",
    "print('5000: %s, 10000: %s, 15000: %a' % (frac1,frac2,frac3))"
   ]
  },
  {
   "cell_type": "code",
   "execution_count": 70,
   "id": "ace6740e-3623-4cae-93f0-23c5b8452004",
   "metadata": {},
   "outputs": [
    {
     "name": "stdout",
     "output_type": "stream",
     "text": [
      "S1 ratio - 5000: 1.8827806579506554e-18, 15000: 0.996880389568512, 25000: 7235.573580460026\n",
      "S1 frac - 5000: 1.8827806579506554e-18, 15000: 0.49921887899551104, 25000: 0.9998618130543576\n",
      "S2 ratio - 5000: 1.7243794201348717e-48, 15000: 9.68101189451154e-11, 25000: 0.007109508616906568\n",
      "S2 frac - 5000: 1.7243794201348717e-48, 15000: 9.68101189357432e-11, 25000: 0.007059320318274293\n"
     ]
    }
   ],
   "source": [
    "# Part A, T = 5000K\n",
    "k = 1.3806E-23\n",
    "Z_1 = 1\n",
    "Z_2 = 2\n",
    "Z_3 = 1\n",
    "P_e = 20\n",
    "\n",
    "chi_1_ev = 24.6\n",
    "chi_1 = 3.94135e-18\n",
    "\n",
    "chi_2_ev = 54.4\n",
    "chi_2 = 8.71584e-18\n",
    "\n",
    "# ratio of N2/N1\n",
    "s1_5000 = saha_equation_pressure(Z_1, Z_2, k, 5000, P_e, m_e, chi_1, h)\n",
    "s1_15000 = saha_equation_pressure(Z_1, Z_2, k, 15000, P_e, m_e, chi_1, h)\n",
    "s1_25000 = saha_equation_pressure(Z_1, Z_2, k, 25000, P_e, m_e, chi_1, h)\n",
    "\n",
    "# convert ratio to fraction (i.e. 0-1)\n",
    "s1_frac1 = s1_5000 / (1 + s1_5000)\n",
    "s1_frac2 = s1_15000 / (1 + s1_15000)\n",
    "s1_frac3 = s1_25000 / (1 + s1_25000)\n",
    "\n",
    "print('S1 ratio - 5000: %s, 15000: %s, 25000: %a' % (s1_5000,s1_15000,s1_25000))\n",
    "print('S1 frac - 5000: %s, 15000: %s, 25000: %a' % (s1_frac1,s1_frac2,s1_frac3))\n",
    "\n",
    "# ratio of N3/N2\n",
    "s2_5000 = saha_equation_pressure(Z_1, Z_2, k, 5000, P_e, m_e, chi_2, h)\n",
    "s2_15000 = saha_equation_pressure(Z_1, Z_2, k, 15000, P_e, m_e, chi_2, h)\n",
    "s2_25000 = saha_equation_pressure(Z_1, Z_2, k, 25000, P_e, m_e, chi_2, h)\n",
    "\n",
    "# convert ratio to fraction (i.e. 0-1)\n",
    "s2_frac1 = s2_5000 / (1 + s2_5000)\n",
    "s2_frac2 = s2_15000 / (1 + s2_15000)\n",
    "s2_frac3 = s2_25000 / (1 + s2_25000)\n",
    "\n",
    "print('S2 ratio - 5000: %s, 15000: %s, 25000: %a' % (s2_5000,s2_15000,s2_25000))\n",
    "print('S2 frac - 5000: %s, 15000: %s, 25000: %a' % (s2_frac1,s2_frac2,s2_frac3))"
   ]
  },
  {
   "cell_type": "code",
   "execution_count": 88,
   "id": "e3442b09-86b1-4213-a4fb-bf696cef4146",
   "metadata": {},
   "outputs": [
    {
     "data": {
      "text/plain": [
       "<AxesSubplot:xlabel='Temp'>"
      ]
     },
     "execution_count": 88,
     "metadata": {},
     "output_type": "execute_result"
    },
    {
     "data": {
      "image/png": "[encoded data removed]",
      "text/plain": [
       "<Figure size 720x720 with 1 Axes>"
      ]
     },
     "metadata": {
      "needs_background": "light"
     },
     "output_type": "display_data"
    },
    {
     "data": {
      "image/png": "[encoded data removed]",
      "text/plain": [
       "<Figure size 720x720 with 1 Axes>"
      ]
     },
     "metadata": {
      "needs_background": "light"
     },
     "output_type": "display_data"
    },
    {
     "data": {
      "image/png": "[encoded data removed]",
      "text/plain": [
       "<Figure size 720x720 with 1 Axes>"
      ]
     },
     "metadata": {
      "needs_background": "light"
     },
     "output_type": "display_data"
    }
   ],
   "source": [
    "df = pd.DataFrame({\n",
    "    'Temp': [5000, 15000, 25000], \n",
    "    'N_2/N_1': [s1_frac1, s1_frac2, s1_frac3],\n",
    "    'N_3/N_2': [s2_frac1, s2_frac2, s2_frac3]\n",
    "})\n",
    "\n",
    "df.plot(title='BOTH', kind='line', x='Temp', figsize=(10,10), fontsize=12)\n",
    "\n",
    "df.plot(kind='line', x='Temp', y='N_2/N_1', figsize=(10,10), fontsize=12)\n",
    "df.plot(kind='line', x='Temp', y='N_3/N_2', figsize=(10,10), fontsize=12)"
   ]
  },
  {
   "cell_type": "code",
   "execution_count": null,
   "id": "8ad91f95-12be-4a81-9a3b-7d3c031a4e52",
   "metadata": {},
   "outputs": [],
   "source": []
  },
  {
   "cell_type": "code",
   "execution_count": null,
   "id": "21e0319c-8a68-4894-88d0-bda44db05763",
   "metadata": {},
   "outputs": [],
   "source": []
  },
  {
   "cell_type": "code",
   "execution_count": null,
   "id": "13b378f4-77d1-46e4-a245-076b0647c10f",
   "metadata": {},
   "outputs": [],
   "source": []
  },
  {
   "cell_type": "code",
   "execution_count": null,
   "id": "6c896a3c-cc81-47f5-ac09-a00d0d335279",
   "metadata": {},
   "outputs": [],
   "source": []
  },
  {
   "cell_type": "code",
   "execution_count": null,
   "id": "46510629-4f35-4492-addc-640931a65149",
   "metadata": {},
   "outputs": [],
   "source": []
  },
  {
   "cell_type": "code",
   "execution_count": null,
   "id": "63fde3d8-7514-4992-995c-a83423077d97",
   "metadata": {},
   "outputs": [],
   "source": []
  }
 ],
 "metadata": {
  "kernelspec": {
   "display_name": "Python 3 (ipykernel)",
   "language": "python",
   "name": "python3"
  },
  "language_info": {
   "codemirror_mode": {
    "name": "ipython",
    "version": 3
   },
   "file_extension": ".py",
   "mimetype": "text/x-python",
   "name": "python",
   "nbconvert_exporter": "python",
   "pygments_lexer": "ipython3",
   "version": "3.7.11"
  }
 },
 "nbformat": 4,
 "nbformat_minor": 5
}
